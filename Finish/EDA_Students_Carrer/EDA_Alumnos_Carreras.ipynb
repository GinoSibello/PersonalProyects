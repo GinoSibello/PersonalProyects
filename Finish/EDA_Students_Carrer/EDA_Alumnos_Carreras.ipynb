{
 "cells": [
  {
   "attachments": {},
   "cell_type": "markdown",
   "metadata": {},
   "source": [
    "# Modulos e Informe"
   ]
  },
  {
   "cell_type": "code",
   "execution_count": 2,
   "metadata": {},
   "outputs": [],
   "source": [
    "import warnings\n",
    "warnings.simplefilter(action='ignore', category=FutureWarning)\n",
    "import numpy as np\n",
    "import pandas as pd\n",
    "import plotly.express as px\n",
    "from sklearn import linear_model"
   ]
  },
  {
   "attachments": {},
   "cell_type": "markdown",
   "metadata": {},
   "source": [
    "Uso pandas y numpy para modificar los data set y dejarlos de una manera que pueda procesarlos para hacer los graficos, luego utilice plotly como libreria para representar gradficamente los datos, al final traje sklearn como libreria para el entrenamiento del modelo de ML."
   ]
  },
  {
   "attachments": {},
   "cell_type": "markdown",
   "metadata": {},
   "source": [
    "# Creacion Data Frames"
   ]
  },
  {
   "cell_type": "code",
   "execution_count": 4,
   "metadata": {},
   "outputs": [],
   "source": [
    "#Importo y creo todos los Data sets\n",
    "df_ALUCarrera = pd.read_csv('Data/Alu_Carrera.csv', sep=';')\n",
    "df_AluMateria = pd.read_csv('Data/Alu_Materia.csv', sep=';')\n",
    "df_Carreras = pd.read_csv('Data/Carreras.csv', sep=';')\n",
    "df_Finales = pd.read_csv('Data/Finales.csv', sep=';')\n",
    "df_Materias = pd.read_csv('Data/Materias.csv', sep=';')"
   ]
  },
  {
   "attachments": {},
   "cell_type": "markdown",
   "metadata": {},
   "source": [
    "# LIMPIEZA"
   ]
  },
  {
   "attachments": {},
   "cell_type": "markdown",
   "metadata": {},
   "source": [
    "### Transformo el tipo de dato tiempo en los DF"
   ]
  },
  {
   "cell_type": "code",
   "execution_count": 3,
   "metadata": {},
   "outputs": [],
   "source": [
    "#Arreglo el problema de que los datos de tipo tiempo estan como si fueran tipo: objeto en vez de tipo: DataTime\n",
    "df_ALUCarrera[['Fecha_Ingreso','Fecha_Nac']] = df_ALUCarrera[['Fecha_Ingreso','Fecha_Nac']].apply(pd.to_datetime)\n",
    "df_AluMateria[['Fecha_Inscrip','Fecha_1p','Fecha_2p','Fecha_TP','Fecha_Recup']] = df_AluMateria[['Fecha_Inscrip','Fecha_1p','Fecha_2p','Fecha_TP','Fecha_Recup']].apply(pd.to_datetime)\n",
    "df_Finales[['Fecha_Examen','Fecha_Inscrip_Examen']] = df_Finales[['Fecha_Examen','Fecha_Inscrip_Examen']].apply(pd.to_datetime)"
   ]
  },
  {
   "attachments": {},
   "cell_type": "markdown",
   "metadata": {},
   "source": [
    "### Eliminacion de Carreras"
   ]
  },
  {
   "cell_type": "code",
   "execution_count": 4,
   "metadata": {},
   "outputs": [
    {
     "data": {
      "text/plain": [
       "5     963\n",
       "6     687\n",
       "7     676\n",
       "2     641\n",
       "4     616\n",
       "1     582\n",
       "3     506\n",
       "9     494\n",
       "13    334\n",
       "10    270\n",
       "8     204\n",
       "17    127\n",
       "14     57\n",
       "60     37\n",
       "16     14\n",
       "39      8\n",
       "18      3\n",
       "11      2\n",
       "12      2\n",
       "40      2\n",
       "41      1\n",
       "59      1\n",
       "Name: Id_Carrera, dtype: int64"
      ]
     },
     "execution_count": 4,
     "metadata": {},
     "output_type": "execute_result"
    }
   ],
   "source": [
    "# veo cuales carreras no tienen datos suficientes para merecer su analisis.\n",
    "df_ALUCarrera['Id_Carrera'].value_counts()"
   ]
  },
  {
   "cell_type": "code",
   "execution_count": 5,
   "metadata": {},
   "outputs": [
    {
     "data": {
      "text/html": [
       "<div>\n",
       "<style scoped>\n",
       "    .dataframe tbody tr th:only-of-type {\n",
       "        vertical-align: middle;\n",
       "    }\n",
       "\n",
       "    .dataframe tbody tr th {\n",
       "        vertical-align: top;\n",
       "    }\n",
       "\n",
       "    .dataframe thead th {\n",
       "        text-align: right;\n",
       "    }\n",
       "</style>\n",
       "<table border=\"1\" class=\"dataframe\">\n",
       "  <thead>\n",
       "    <tr style=\"text-align: right;\">\n",
       "      <th></th>\n",
       "      <th>Id_Carrera</th>\n",
       "      <th>Nombre_Largo</th>\n",
       "      <th>Nombre_Corto</th>\n",
       "      <th>Abreviatura</th>\n",
       "      <th>Cuatrimestres</th>\n",
       "    </tr>\n",
       "  </thead>\n",
       "  <tbody>\n",
       "    <tr>\n",
       "      <th>2</th>\n",
       "      <td>12</td>\n",
       "      <td>ANALISTA EN GESTION DE VENTAS</td>\n",
       "      <td>VENTAS</td>\n",
       "      <td>VTA</td>\n",
       "      <td>4</td>\n",
       "    </tr>\n",
       "    <tr>\n",
       "      <th>6</th>\n",
       "      <td>18</td>\n",
       "      <td>TECNICO SUPERIOR EN LOGISTICA</td>\n",
       "      <td>LOGÍSTICA</td>\n",
       "      <td>LOG</td>\n",
       "      <td>6</td>\n",
       "    </tr>\n",
       "    <tr>\n",
       "      <th>8</th>\n",
       "      <td>41</td>\n",
       "      <td>AGENTE DE TRANSPORTE ADUANERO Y DESPACHANTE DE...</td>\n",
       "      <td>AGENTE DE TRANSP. ADUANERO Y DESP. DE ADUANA</td>\n",
       "      <td>ATA</td>\n",
       "      <td>4</td>\n",
       "    </tr>\n",
       "    <tr>\n",
       "      <th>12</th>\n",
       "      <td>59</td>\n",
       "      <td>TÉCNICO SUPERIOR EN SERVICIOS DE PAISAJISMO</td>\n",
       "      <td>SERVICIOS DE PAISAJISMO</td>\n",
       "      <td>SERPAI</td>\n",
       "      <td>2</td>\n",
       "    </tr>\n",
       "    <tr>\n",
       "      <th>13</th>\n",
       "      <td>39</td>\n",
       "      <td>ADMINISTRADOR DE REDES</td>\n",
       "      <td>ADMINISTRADOR DE REDES</td>\n",
       "      <td>AR</td>\n",
       "      <td>4</td>\n",
       "    </tr>\n",
       "    <tr>\n",
       "      <th>14</th>\n",
       "      <td>16</td>\n",
       "      <td>TECNICO SUPERIOR EN GESTION JURIDICA</td>\n",
       "      <td>GESTIÓN JURíDICA</td>\n",
       "      <td>GJ</td>\n",
       "      <td>6</td>\n",
       "    </tr>\n",
       "    <tr>\n",
       "      <th>17</th>\n",
       "      <td>60</td>\n",
       "      <td>TÉC. SUP. EN DES. DE SIMULACIONES VIRTUALES Y ...</td>\n",
       "      <td>VIDEOJUEGOS</td>\n",
       "      <td>SVIRT</td>\n",
       "      <td>6</td>\n",
       "    </tr>\n",
       "    <tr>\n",
       "      <th>18</th>\n",
       "      <td>40</td>\n",
       "      <td>TÉCNICO EN SERVICIOS AGROPECUARIOS</td>\n",
       "      <td>TÉCNICO EN SERVICIOS AGROPECUARIOS</td>\n",
       "      <td>TSAGR</td>\n",
       "      <td>4</td>\n",
       "    </tr>\n",
       "    <tr>\n",
       "      <th>19</th>\n",
       "      <td>11</td>\n",
       "      <td>ASISTENTE GERENCIAL TRILINGÜE</td>\n",
       "      <td>TRILINGÜE</td>\n",
       "      <td>TRI</td>\n",
       "      <td>4</td>\n",
       "    </tr>\n",
       "  </tbody>\n",
       "</table>\n",
       "</div>"
      ],
      "text/plain": [
       "    Id_Carrera                                       Nombre_Largo  \\\n",
       "2           12                      ANALISTA EN GESTION DE VENTAS   \n",
       "6           18                      TECNICO SUPERIOR EN LOGISTICA   \n",
       "8           41  AGENTE DE TRANSPORTE ADUANERO Y DESPACHANTE DE...   \n",
       "12          59        TÉCNICO SUPERIOR EN SERVICIOS DE PAISAJISMO   \n",
       "13          39                             ADMINISTRADOR DE REDES   \n",
       "14          16               TECNICO SUPERIOR EN GESTION JURIDICA   \n",
       "17          60  TÉC. SUP. EN DES. DE SIMULACIONES VIRTUALES Y ...   \n",
       "18          40                 TÉCNICO EN SERVICIOS AGROPECUARIOS   \n",
       "19          11                      ASISTENTE GERENCIAL TRILINGÜE   \n",
       "\n",
       "                                    Nombre_Corto Abreviatura  Cuatrimestres  \n",
       "2                                         VENTAS         VTA              4  \n",
       "6                                      LOGÍSTICA         LOG              6  \n",
       "8   AGENTE DE TRANSP. ADUANERO Y DESP. DE ADUANA         ATA              4  \n",
       "12                       SERVICIOS DE PAISAJISMO      SERPAI              2  \n",
       "13                        ADMINISTRADOR DE REDES          AR              4  \n",
       "14                              GESTIÓN JURíDICA          GJ              6  \n",
       "17                                   VIDEOJUEGOS       SVIRT              6  \n",
       "18            TÉCNICO EN SERVICIOS AGROPECUARIOS       TSAGR              4  \n",
       "19                                     TRILINGÜE         TRI              4  "
      ]
     },
     "execution_count": 5,
     "metadata": {},
     "output_type": "execute_result"
    }
   ],
   "source": [
    "listaDeCarreras = [11,60,18,39,59,40,41,16,12]\n",
    "df_Carreras[df_Carreras['Id_Carrera'].isin(listaDeCarreras)]"
   ]
  },
  {
   "cell_type": "code",
   "execution_count": 6,
   "metadata": {},
   "outputs": [
    {
     "data": {
      "text/plain": [
       "Id_Alumno           70\n",
       "Id_Carrera          70\n",
       "Semestre_Ingreso    70\n",
       "Año_Ingreso         70\n",
       "Id_Ctro_Ext         70\n",
       "Id_Modalidad        70\n",
       "Fecha_Ingreso       70\n",
       "Activo              70\n",
       "Sexo                70\n",
       "Fecha_Nac           70\n",
       "dtype: int64"
      ]
     },
     "execution_count": 6,
     "metadata": {},
     "output_type": "execute_result"
    }
   ],
   "source": [
    "#Averiguo los alumnos que estan en cada carrera y en total son solo 70 datos los que voy a eliminar, lo cual me parece irrelevante.\n",
    "df_ALUCarrera.loc[df_ALUCarrera['Id_Carrera'].isin(listaDeCarreras)].count()\n",
    "#al mismo tiempo creo que tener 9 carreras mas, que no me aportarian valor a mi analisis si es molesto."
   ]
  },
  {
   "cell_type": "code",
   "execution_count": 7,
   "metadata": {},
   "outputs": [],
   "source": [
    "#Elimino todo registro de las carreras que tienen datos ignorables\n",
    "df_Carreras = df_Carreras[~df_Carreras['Id_Carrera'].isin(listaDeCarreras)]\n",
    "df_Finales = df_Finales[~df_Finales['Id_Carrera'].isin(listaDeCarreras)]\n",
    "df_ALUCarrera = df_ALUCarrera[~df_ALUCarrera['Id_Carrera'].isin(listaDeCarreras)]\n",
    "df_AluMateria = df_AluMateria[~df_AluMateria['Id_Carrera'].isin(listaDeCarreras)]"
   ]
  },
  {
   "attachments": {},
   "cell_type": "markdown",
   "metadata": {},
   "source": [
    "### Elimino Años que no me interesan de el DF AluMateria"
   ]
  },
  {
   "cell_type": "code",
   "execution_count": 8,
   "metadata": {},
   "outputs": [
    {
     "data": {
      "text/plain": [
       "count    130673.000000\n",
       "mean       2007.038654\n",
       "std           3.238610\n",
       "min        1982.000000\n",
       "25%        2005.000000\n",
       "50%        2007.000000\n",
       "75%        2009.000000\n",
       "max        2021.000000\n",
       "Name: Año, dtype: float64"
      ]
     },
     "execution_count": 8,
     "metadata": {},
     "output_type": "execute_result"
    }
   ],
   "source": [
    "df_AluMateria['Año'].describe()"
   ]
  },
  {
   "cell_type": "code",
   "execution_count": 9,
   "metadata": {},
   "outputs": [],
   "source": [
    "# Elimino los datos que no esten entre 2001 y 2010 ya que si los graficamos hay un monton de datos faltantes en varias carreras. \n",
    "df_AluMateria.loc[(df_AluMateria['Año']<2001) | (df_AluMateria['Año']>2010),['Fecha_Inscrip','Año']]=np.nan"
   ]
  },
  {
   "cell_type": "code",
   "execution_count": 10,
   "metadata": {},
   "outputs": [
    {
     "data": {
      "text/plain": [
       "array([2006., 2005., 2007., 2001., 2002., 2004., 2003., 2009., 2010.,\n",
       "         nan, 2008.])"
      ]
     },
     "execution_count": 10,
     "metadata": {},
     "output_type": "execute_result"
    }
   ],
   "source": [
    "#Verifico\n",
    "df_AluMateria['Año'].unique()"
   ]
  },
  {
   "attachments": {},
   "cell_type": "markdown",
   "metadata": {},
   "source": [
    "### Columna Edad "
   ]
  },
  {
   "cell_type": "code",
   "execution_count": 11,
   "metadata": {},
   "outputs": [],
   "source": [
    "#Busco Vaciar todos los datos de la fecha de nacimiento que son un error ya que nadie menor a 17 podria estar cursando la carrera \n",
    "df_ALUCarrera.loc[(pd.DatetimeIndex(df_ALUCarrera['Fecha_Ingreso']).year - pd.DatetimeIndex(df_ALUCarrera['Fecha_Nac']).year)<17, 'Fecha_Nac'] = np.nan"
   ]
  },
  {
   "cell_type": "code",
   "execution_count": 12,
   "metadata": {},
   "outputs": [],
   "source": [
    "#Creo una columna llamada edad \n",
    "df_ALUCarrera['Edad'] = pd.DatetimeIndex(df_ALUCarrera['Fecha_Ingreso']).year - pd.DatetimeIndex(df_ALUCarrera['Fecha_Nac']).year "
   ]
  },
  {
   "cell_type": "code",
   "execution_count": 13,
   "metadata": {},
   "outputs": [
    {
     "data": {
      "text/plain": [
       "array([19., 52., 48., 43., 20., 21., 38., 39., 37., 34., 35., 36., 23.,\n",
       "       22., 26., 25., 18., 33., 41., 32., 31., 40., 30., 29., 28., 27.,\n",
       "       24., nan, 17., 53.])"
      ]
     },
     "execution_count": 13,
     "metadata": {},
     "output_type": "execute_result"
    }
   ],
   "source": [
    "#Verifico que los cambios se hayan hecho bien\n",
    "df_ALUCarrera['Edad'].unique()"
   ]
  },
  {
   "attachments": {},
   "cell_type": "markdown",
   "metadata": {},
   "source": [
    "### Sucursal Cordoba"
   ]
  },
  {
   "cell_type": "code",
   "execution_count": 14,
   "metadata": {},
   "outputs": [
    {
     "data": {
      "text/plain": [
       "CO    6146\n",
       "SF       4\n",
       "VA       2\n",
       "VM       2\n",
       "JM       2\n",
       "AR       1\n",
       "Name: Id_Ctro_Ext, dtype: int64"
      ]
     },
     "execution_count": 14,
     "metadata": {},
     "output_type": "execute_result"
    }
   ],
   "source": [
    "#Cuento los datos que tengo de cada sucursal\n",
    "df_ALUCarrera['Id_Ctro_Ext'].value_counts()"
   ]
  },
  {
   "cell_type": "code",
   "execution_count": 15,
   "metadata": {},
   "outputs": [
    {
     "data": {
      "text/plain": [
       "CO    129165\n",
       "JM       851\n",
       "VM       206\n",
       "VA       139\n",
       "SF       100\n",
       "CP        90\n",
       "RC        69\n",
       "AR        32\n",
       "HE        13\n",
       "VD         8\n",
       "Name: Ctro_Ext, dtype: int64"
      ]
     },
     "execution_count": 15,
     "metadata": {},
     "output_type": "execute_result"
    }
   ],
   "source": [
    "#Veo cuantos datos hay de cordoba\n",
    "df_AluMateria['Ctro_Ext'].value_counts()"
   ]
  },
  {
   "cell_type": "code",
   "execution_count": 16,
   "metadata": {},
   "outputs": [],
   "source": [
    "#Elimino todo lo que no sea de cordoba\n",
    "df_AluMateria = df_AluMateria[df_AluMateria['Ctro_Ext']=='CO']\n",
    "df_ALUCarrera = df_ALUCarrera[df_ALUCarrera['Id_Ctro_Ext']=='CO']"
   ]
  },
  {
   "attachments": {},
   "cell_type": "markdown",
   "metadata": {},
   "source": [
    "# Manipulacion y modificacion de datos"
   ]
  },
  {
   "attachments": {},
   "cell_type": "markdown",
   "metadata": {},
   "source": [
    "### Estado de alumno en la materia"
   ]
  },
  {
   "attachments": {},
   "cell_type": "markdown",
   "metadata": {},
   "source": [
    "Estado del alumno en la materia: vasicamente quiero revisar en que condicion se encuentra el alumno en cada fila de la materia de la cual tengo un dato sobre el quiero saber si es regular, promociono la materia o esta libre en la misma."
   ]
  },
  {
   "cell_type": "code",
   "execution_count": 17,
   "metadata": {},
   "outputs": [],
   "source": [
    "#Creo la columna y la lleno con un string arbitrario para poder modificarla luego\n",
    "df_AluMateria['Condicion'] = 'Estado'"
   ]
  },
  {
   "cell_type": "code",
   "execution_count": 18,
   "metadata": {},
   "outputs": [],
   "source": [
    "#Creo la condicion de promocionado.\n",
    "df_AluMateria.loc[  (df_AluMateria['Nota_1p'] >= 7 ) & (df_AluMateria['Nota_1p'] != 11) \n",
    "                    & (df_AluMateria['Nota_2p'] >= 7 ) & (df_AluMateria['Nota_2p'] != 11)\n",
    "                    & (df_AluMateria['Nota_TP'] >= 7 ) & (df_AluMateria['Nota_TP'] != 11)\n",
    "                    , 'Condicion'] = 'Promocionado'\n",
    "#Creo la condicion de Regular basandome en la de Promocionado y agregando algunas condiciones mas.\n",
    "df_AluMateria.loc[  (df_AluMateria['Condicion'] !='Promocionado')\n",
    "                    & ((df_AluMateria['Nota_TP'] >= 4) & (df_AluMateria['Nota_2p'] >= 4) & (df_AluMateria['Nota_1p'] >= 4) \n",
    "                        & (df_AluMateria['Nota_TP'] !=11) & (df_AluMateria['Nota_2p'] !=11) & (df_AluMateria['Nota_1p'] !=11)) \n",
    "                    | ((df_AluMateria['Nota_Recup']!= 11 ) & (df_AluMateria['Nota_Recup']>= 4 ))\n",
    "                    , 'Condicion'] = \"Regular\"\n",
    "#Creo la condicion de libre por descarte de la de Regular y Promocionado.\n",
    "df_AluMateria.loc[  (df_AluMateria['Condicion'] != \"Promocionado\") & (df_AluMateria['Condicion'] !='Regular')\n",
    "                    , 'Condicion'] = 'Libre'"
   ]
  },
  {
   "attachments": {},
   "cell_type": "markdown",
   "metadata": {},
   "source": [
    "### Recursante"
   ]
  },
  {
   "attachments": {},
   "cell_type": "markdown",
   "metadata": {},
   "source": [
    "Busco encontrar una relacion entre la taza de desercion de los alumnos y la cantidad de recursantes\n",
    "spoiler: no encontre nada"
   ]
  },
  {
   "cell_type": "code",
   "execution_count": 19,
   "metadata": {},
   "outputs": [],
   "source": [
    "#Uso shift para usar el dato de la fila anterior y lo comparo con el de la fila actual.\n",
    "#Si son iguales es porque el alumno esta recursando esa materia.\n",
    "df_AluMateria['Tipo']=np.where(   ((df_AluMateria['Id_Materia'].shift() == df_AluMateria['Id_Materia']))\n",
    "                                & ((df_AluMateria['Id_Carrera'].shift() == df_AluMateria['Id_Carrera']))\n",
    "                                & ((df_AluMateria['Id_Alumno'].shift() == df_AluMateria['Id_Alumno']))\n",
    "                                    ,'Recursante', np.nan)"
   ]
  },
  {
   "attachments": {},
   "cell_type": "markdown",
   "metadata": {},
   "source": [
    "### Egresado, Cursante, Desertor\n",
    "intento crear una nueva columna en la que se determine si un alumno ya se egreso de la carrera, si la abandono o si continua cursando la misma"
   ]
  },
  {
   "cell_type": "code",
   "execution_count": 20,
   "metadata": {},
   "outputs": [],
   "source": [
    "df_AluMateria['Estado'] = 'Estado'"
   ]
  },
  {
   "cell_type": "code",
   "execution_count": 21,
   "metadata": {},
   "outputs": [],
   "source": [
    "df_AluMateria = pd.merge(df_AluMateria,\n",
    "                        df_Carreras[['Id_Carrera','Cuatrimestres']],\n",
    "                        how='inner',\n",
    "                        on=['Id_Carrera'])"
   ]
  },
  {
   "cell_type": "code",
   "execution_count": 22,
   "metadata": {},
   "outputs": [],
   "source": [
    "#Creo la condicion de Egresado\n",
    "df_AluMateria.loc[ (df_AluMateria['Cuatrimestre'] == df_AluMateria['Cuatrimestres']), 'Estado'] = 'Egresado' \n",
    "#Creo la condicion de Cursando\n",
    "df_AluMateria.loc[ (df_AluMateria['Estado'] != 'Egresado') &\n",
    "                    (df_AluMateria['Cuatrimestre'] != df_AluMateria['Cuatrimestres']) &\n",
    "                    (df_AluMateria['Año'] == 2010) &\n",
    "                    (df_AluMateria['Semestre']==2), 'Estado'] = 'Cursando'\n",
    "#Creo la condicion de Desertor\n",
    "df_AluMateria.loc[(df_AluMateria['Estado']!='Egresado') &\n",
    "                    (df_AluMateria['Estado']!='Cursando') &\n",
    "                    (df_AluMateria['Cuatrimestre']!=df_AluMateria['Cuatrimestres'])&\n",
    "                    (((df_AluMateria['Año']==2010)&(df_AluMateria['Semestre']==1))|\n",
    "                    ((df_AluMateria['Año']!=2010))),'Estado']='Desertor'"
   ]
  },
  {
   "attachments": {},
   "cell_type": "markdown",
   "metadata": {},
   "source": [
    "# Graficas"
   ]
  },
  {
   "attachments": {},
   "cell_type": "markdown",
   "metadata": {},
   "source": [
    "### Cantidad de Alumnos de cada carrera x Año y semestre"
   ]
  },
  {
   "cell_type": "code",
   "execution_count": 23,
   "metadata": {},
   "outputs": [
    {
     "data": {
      "application/vnd.plotly.v1+json": {
       "config": {
        "plotlyServerURL": "https://plot.ly"
       },
       "data": [
        {
         "hovertemplate": "Nombre_Corto=ANALISTA DE SISTEMAS<br>Semestre_Ingreso=1<br>Año_Ingreso=%{x}<br>Cantidad=%{y}<extra></extra>",
         "legendgroup": "ANALISTA DE SISTEMAS",
         "line": {
          "color": "#636efa",
          "dash": "solid"
         },
         "marker": {
          "symbol": "circle"
         },
         "mode": "lines",
         "name": "ANALISTA DE SISTEMAS",
         "orientation": "v",
         "showlegend": true,
         "type": "scatter",
         "x": [
          2001,
          2002,
          2003,
          2004,
          2005,
          2006,
          2007,
          2008,
          2009,
          2010
         ],
         "xaxis": "x",
         "y": [
          44,
          30,
          29,
          19,
          38,
          46,
          57,
          54,
          45,
          111
         ],
         "yaxis": "y"
        },
        {
         "hovertemplate": "Nombre_Corto=ANALISTA DE SISTEMAS<br>Semestre_Ingreso=2<br>Año_Ingreso=%{x}<br>Cantidad=%{y}<extra></extra>",
         "legendgroup": "ANALISTA DE SISTEMAS",
         "line": {
          "color": "#636efa",
          "dash": "solid"
         },
         "marker": {
          "symbol": "circle"
         },
         "mode": "lines",
         "name": "ANALISTA DE SISTEMAS",
         "orientation": "v",
         "showlegend": false,
         "type": "scatter",
         "x": [
          2001,
          2002,
          2003,
          2004,
          2005,
          2006,
          2008,
          2009,
          2010
         ],
         "xaxis": "x2",
         "y": [
          5,
          12,
          7,
          15,
          15,
          6,
          10,
          11,
          28
         ],
         "yaxis": "y2"
        },
        {
         "hovertemplate": "Nombre_Corto=MARKETING<br>Semestre_Ingreso=1<br>Año_Ingreso=%{x}<br>Cantidad=%{y}<extra></extra>",
         "legendgroup": "MARKETING",
         "line": {
          "color": "#EF553B",
          "dash": "solid"
         },
         "marker": {
          "symbol": "circle"
         },
         "mode": "lines",
         "name": "MARKETING",
         "orientation": "v",
         "showlegend": true,
         "type": "scatter",
         "x": [
          2001,
          2002,
          2003,
          2004,
          2005,
          2006,
          2007,
          2008,
          2009,
          2010
         ],
         "xaxis": "x",
         "y": [
          91,
          69,
          45,
          55,
          60,
          62,
          53,
          43,
          46,
          39
         ],
         "yaxis": "y"
        },
        {
         "hovertemplate": "Nombre_Corto=MARKETING<br>Semestre_Ingreso=2<br>Año_Ingreso=%{x}<br>Cantidad=%{y}<extra></extra>",
         "legendgroup": "MARKETING",
         "line": {
          "color": "#EF553B",
          "dash": "solid"
         },
         "marker": {
          "symbol": "circle"
         },
         "mode": "lines",
         "name": "MARKETING",
         "orientation": "v",
         "showlegend": false,
         "type": "scatter",
         "x": [
          2001,
          2002,
          2003,
          2004,
          2005,
          2006,
          2007,
          2009,
          2010
         ],
         "xaxis": "x2",
         "y": [
          15,
          13,
          13,
          13,
          11,
          1,
          10,
          1,
          1
         ],
         "yaxis": "y2"
        },
        {
         "hovertemplate": "Nombre_Corto=PUBLICIDAD<br>Semestre_Ingreso=1<br>Año_Ingreso=%{x}<br>Cantidad=%{y}<extra></extra>",
         "legendgroup": "PUBLICIDAD",
         "line": {
          "color": "#00cc96",
          "dash": "solid"
         },
         "marker": {
          "symbol": "circle"
         },
         "mode": "lines",
         "name": "PUBLICIDAD",
         "orientation": "v",
         "showlegend": true,
         "type": "scatter",
         "x": [
          2001,
          2002,
          2003,
          2004,
          2005,
          2006,
          2007,
          2008,
          2009,
          2010
         ],
         "xaxis": "x",
         "y": [
          37,
          32,
          39,
          34,
          43,
          51,
          48,
          46,
          48,
          54
         ],
         "yaxis": "y"
        },
        {
         "hovertemplate": "Nombre_Corto=PUBLICIDAD<br>Semestre_Ingreso=2<br>Año_Ingreso=%{x}<br>Cantidad=%{y}<extra></extra>",
         "legendgroup": "PUBLICIDAD",
         "line": {
          "color": "#00cc96",
          "dash": "solid"
         },
         "marker": {
          "symbol": "circle"
         },
         "mode": "lines",
         "name": "PUBLICIDAD",
         "orientation": "v",
         "showlegend": false,
         "type": "scatter",
         "x": [
          2001,
          2002,
          2003,
          2004,
          2005,
          2006,
          2009,
          2010
         ],
         "xaxis": "x2",
         "y": [
          15,
          9,
          4,
          11,
          5,
          22,
          5,
          3
         ],
         "yaxis": "y2"
        },
        {
         "hovertemplate": "Nombre_Corto=ADMINISTRACIÓN DE EMPRESAS<br>Semestre_Ingreso=1<br>Año_Ingreso=%{x}<br>Cantidad=%{y}<extra></extra>",
         "legendgroup": "ADMINISTRACIÓN DE EMPRESAS",
         "line": {
          "color": "#ab63fa",
          "dash": "solid"
         },
         "marker": {
          "symbol": "circle"
         },
         "mode": "lines",
         "name": "ADMINISTRACIÓN DE EMPRESAS",
         "orientation": "v",
         "showlegend": true,
         "type": "scatter",
         "x": [
          2001,
          2002,
          2003,
          2004,
          2005,
          2006,
          2007,
          2008,
          2009,
          2010
         ],
         "xaxis": "x",
         "y": [
          84,
          51,
          37,
          46,
          57,
          51,
          39,
          56,
          42,
          36
         ],
         "yaxis": "y"
        },
        {
         "hovertemplate": "Nombre_Corto=ADMINISTRACIÓN DE EMPRESAS<br>Semestre_Ingreso=2<br>Año_Ingreso=%{x}<br>Cantidad=%{y}<extra></extra>",
         "legendgroup": "ADMINISTRACIÓN DE EMPRESAS",
         "line": {
          "color": "#ab63fa",
          "dash": "solid"
         },
         "marker": {
          "symbol": "circle"
         },
         "mode": "lines",
         "name": "ADMINISTRACIÓN DE EMPRESAS",
         "orientation": "v",
         "showlegend": false,
         "type": "scatter",
         "x": [
          2001,
          2002,
          2003,
          2004,
          2005,
          2006,
          2007,
          2008,
          2010
         ],
         "xaxis": "x2",
         "y": [
          13,
          19,
          9,
          15,
          13,
          11,
          11,
          11,
          7
         ],
         "yaxis": "y2"
        },
        {
         "hovertemplate": "Nombre_Corto=DISEÑO GRÁFICO<br>Semestre_Ingreso=1<br>Año_Ingreso=%{x}<br>Cantidad=%{y}<extra></extra>",
         "legendgroup": "DISEÑO GRÁFICO",
         "line": {
          "color": "#FFA15A",
          "dash": "solid"
         },
         "marker": {
          "symbol": "circle"
         },
         "mode": "lines",
         "name": "DISEÑO GRÁFICO",
         "orientation": "v",
         "showlegend": true,
         "type": "scatter",
         "x": [
          2001,
          2002,
          2003,
          2004,
          2005,
          2006,
          2007,
          2008,
          2009,
          2010
         ],
         "xaxis": "x",
         "y": [
          78,
          63,
          37,
          86,
          85,
          83,
          100,
          105,
          119,
          70
         ],
         "yaxis": "y"
        },
        {
         "hovertemplate": "Nombre_Corto=DISEÑO GRÁFICO<br>Semestre_Ingreso=2<br>Año_Ingreso=%{x}<br>Cantidad=%{y}<extra></extra>",
         "legendgroup": "DISEÑO GRÁFICO",
         "line": {
          "color": "#FFA15A",
          "dash": "solid"
         },
         "marker": {
          "symbol": "circle"
         },
         "mode": "lines",
         "name": "DISEÑO GRÁFICO",
         "orientation": "v",
         "showlegend": false,
         "type": "scatter",
         "x": [
          2001,
          2002,
          2003,
          2004,
          2005,
          2006,
          2007,
          2008,
          2009,
          2010
         ],
         "xaxis": "x2",
         "y": [
          11,
          11,
          7,
          24,
          19,
          28,
          8,
          10,
          8,
          10
         ],
         "yaxis": "y2"
        },
        {
         "hovertemplate": "Nombre_Corto=RELACIONES PÚBLICAS<br>Semestre_Ingreso=1<br>Año_Ingreso=%{x}<br>Cantidad=%{y}<extra></extra>",
         "legendgroup": "RELACIONES PÚBLICAS",
         "line": {
          "color": "#19d3f3",
          "dash": "solid"
         },
         "marker": {
          "symbol": "circle"
         },
         "mode": "lines",
         "name": "RELACIONES PÚBLICAS",
         "orientation": "v",
         "showlegend": true,
         "type": "scatter",
         "x": [
          2001,
          2002,
          2003,
          2004,
          2005,
          2006,
          2007,
          2008,
          2009,
          2010
         ],
         "xaxis": "x",
         "y": [
          67,
          55,
          33,
          64,
          64,
          82,
          71,
          66,
          68,
          36
         ],
         "yaxis": "y"
        },
        {
         "hovertemplate": "Nombre_Corto=RELACIONES PÚBLICAS<br>Semestre_Ingreso=2<br>Año_Ingreso=%{x}<br>Cantidad=%{y}<extra></extra>",
         "legendgroup": "RELACIONES PÚBLICAS",
         "line": {
          "color": "#19d3f3",
          "dash": "solid"
         },
         "marker": {
          "symbol": "circle"
         },
         "mode": "lines",
         "name": "RELACIONES PÚBLICAS",
         "orientation": "v",
         "showlegend": false,
         "type": "scatter",
         "x": [
          2001,
          2002,
          2003,
          2004,
          2005,
          2007,
          2009,
          2010
         ],
         "xaxis": "x2",
         "y": [
          15,
          6,
          1,
          18,
          17,
          14,
          1,
          9
         ],
         "yaxis": "y2"
        },
        {
         "hovertemplate": "Nombre_Corto=RECURSOS HUMANOS<br>Semestre_Ingreso=1<br>Año_Ingreso=%{x}<br>Cantidad=%{y}<extra></extra>",
         "legendgroup": "RECURSOS HUMANOS",
         "line": {
          "color": "#FF6692",
          "dash": "solid"
         },
         "marker": {
          "symbol": "circle"
         },
         "mode": "lines",
         "name": "RECURSOS HUMANOS",
         "orientation": "v",
         "showlegend": true,
         "type": "scatter",
         "x": [
          2001,
          2002,
          2003,
          2004,
          2005,
          2006,
          2007,
          2008,
          2009,
          2010
         ],
         "xaxis": "x",
         "y": [
          52,
          41,
          30,
          40,
          53,
          59,
          92,
          82,
          76,
          43
         ],
         "yaxis": "y"
        },
        {
         "hovertemplate": "Nombre_Corto=RECURSOS HUMANOS<br>Semestre_Ingreso=2<br>Año_Ingreso=%{x}<br>Cantidad=%{y}<extra></extra>",
         "legendgroup": "RECURSOS HUMANOS",
         "line": {
          "color": "#FF6692",
          "dash": "solid"
         },
         "marker": {
          "symbol": "circle"
         },
         "mode": "lines",
         "name": "RECURSOS HUMANOS",
         "orientation": "v",
         "showlegend": false,
         "type": "scatter",
         "x": [
          2001,
          2002,
          2003,
          2004,
          2005,
          2006,
          2007,
          2008,
          2009
         ],
         "xaxis": "x2",
         "y": [
          13,
          13,
          9,
          3,
          23,
          11,
          18,
          8,
          9
         ],
         "yaxis": "y2"
        },
        {
         "hovertemplate": "Nombre_Corto=COMERCIO INTERNACIONAL<br>Semestre_Ingreso=1<br>Año_Ingreso=%{x}<br>Cantidad=%{y}<extra></extra>",
         "legendgroup": "COMERCIO INTERNACIONAL",
         "line": {
          "color": "#B6E880",
          "dash": "solid"
         },
         "marker": {
          "symbol": "circle"
         },
         "mode": "lines",
         "name": "COMERCIO INTERNACIONAL",
         "orientation": "v",
         "showlegend": true,
         "type": "scatter",
         "x": [
          2001,
          2002,
          2003,
          2004,
          2005,
          2006,
          2007,
          2008,
          2009,
          2010
         ],
         "xaxis": "x",
         "y": [
          16,
          3,
          17,
          18,
          20,
          31,
          18,
          27,
          18,
          21
         ],
         "yaxis": "y"
        },
        {
         "hovertemplate": "Nombre_Corto=COMERCIO INTERNACIONAL<br>Semestre_Ingreso=2<br>Año_Ingreso=%{x}<br>Cantidad=%{y}<extra></extra>",
         "legendgroup": "COMERCIO INTERNACIONAL",
         "line": {
          "color": "#B6E880",
          "dash": "solid"
         },
         "marker": {
          "symbol": "circle"
         },
         "mode": "lines",
         "name": "COMERCIO INTERNACIONAL",
         "orientation": "v",
         "showlegend": false,
         "type": "scatter",
         "x": [
          2001,
          2002,
          2004,
          2005,
          2006,
          2010
         ],
         "xaxis": "x2",
         "y": [
          4,
          4,
          2,
          2,
          1,
          2
         ],
         "yaxis": "y2"
        },
        {
         "hovertemplate": "Nombre_Corto=AGRONEGOCIOS<br>Semestre_Ingreso=1<br>Año_Ingreso=%{x}<br>Cantidad=%{y}<extra></extra>",
         "legendgroup": "AGRONEGOCIOS",
         "line": {
          "color": "#FF97FF",
          "dash": "solid"
         },
         "marker": {
          "symbol": "circle"
         },
         "mode": "lines",
         "name": "AGRONEGOCIOS",
         "orientation": "v",
         "showlegend": true,
         "type": "scatter",
         "x": [
          2001,
          2002,
          2003,
          2004,
          2005,
          2006,
          2007,
          2008,
          2009,
          2010
         ],
         "xaxis": "x",
         "y": [
          24,
          28,
          34,
          47,
          59,
          40,
          30,
          44,
          37,
          82
         ],
         "yaxis": "y"
        },
        {
         "hovertemplate": "Nombre_Corto=AGRONEGOCIOS<br>Semestre_Ingreso=2<br>Año_Ingreso=%{x}<br>Cantidad=%{y}<extra></extra>",
         "legendgroup": "AGRONEGOCIOS",
         "line": {
          "color": "#FF97FF",
          "dash": "solid"
         },
         "marker": {
          "symbol": "circle"
         },
         "mode": "lines",
         "name": "AGRONEGOCIOS",
         "orientation": "v",
         "showlegend": false,
         "type": "scatter",
         "x": [
          2001,
          2002,
          2003,
          2004,
          2005,
          2006,
          2007,
          2008,
          2010
         ],
         "xaxis": "x2",
         "y": [
          14,
          5,
          10,
          1,
          13,
          7,
          1,
          2,
          16
         ],
         "yaxis": "y2"
        },
        {
         "hovertemplate": "Nombre_Corto=TURISMO<br>Semestre_Ingreso=1<br>Año_Ingreso=%{x}<br>Cantidad=%{y}<extra></extra>",
         "legendgroup": "TURISMO",
         "line": {
          "color": "#FECB52",
          "dash": "solid"
         },
         "marker": {
          "symbol": "circle"
         },
         "mode": "lines",
         "name": "TURISMO",
         "orientation": "v",
         "showlegend": true,
         "type": "scatter",
         "x": [
          2001,
          2002,
          2003,
          2004,
          2005,
          2006,
          2007,
          2008,
          2009,
          2010
         ],
         "xaxis": "x",
         "y": [
          19,
          12,
          18,
          18,
          17,
          18,
          25,
          35,
          39,
          46
         ],
         "yaxis": "y"
        },
        {
         "hovertemplate": "Nombre_Corto=TURISMO<br>Semestre_Ingreso=2<br>Año_Ingreso=%{x}<br>Cantidad=%{y}<extra></extra>",
         "legendgroup": "TURISMO",
         "line": {
          "color": "#FECB52",
          "dash": "solid"
         },
         "marker": {
          "symbol": "circle"
         },
         "mode": "lines",
         "name": "TURISMO",
         "orientation": "v",
         "showlegend": false,
         "type": "scatter",
         "x": [
          2001,
          2002,
          2005,
          2006,
          2007,
          2008,
          2009,
          2010
         ],
         "xaxis": "x2",
         "y": [
          3,
          4,
          2,
          2,
          1,
          1,
          2,
          8
         ],
         "yaxis": "y2"
        },
        {
         "hovertemplate": "Nombre_Corto=MULTIMEDIOS<br>Semestre_Ingreso=1<br>Año_Ingreso=%{x}<br>Cantidad=%{y}<extra></extra>",
         "legendgroup": "MULTIMEDIOS",
         "line": {
          "color": "#636efa",
          "dash": "solid"
         },
         "marker": {
          "symbol": "circle"
         },
         "mode": "lines",
         "name": "MULTIMEDIOS",
         "orientation": "v",
         "showlegend": true,
         "type": "scatter",
         "x": [
          2001,
          2002,
          2003,
          2004,
          2005,
          2006,
          2007,
          2008,
          2009,
          2010
         ],
         "xaxis": "x",
         "y": [
          41,
          23,
          16,
          29,
          34,
          31,
          36,
          29,
          32,
          22
         ],
         "yaxis": "y"
        },
        {
         "hovertemplate": "Nombre_Corto=MULTIMEDIOS<br>Semestre_Ingreso=2<br>Año_Ingreso=%{x}<br>Cantidad=%{y}<extra></extra>",
         "legendgroup": "MULTIMEDIOS",
         "line": {
          "color": "#636efa",
          "dash": "solid"
         },
         "marker": {
          "symbol": "circle"
         },
         "mode": "lines",
         "name": "MULTIMEDIOS",
         "orientation": "v",
         "showlegend": false,
         "type": "scatter",
         "x": [
          2001,
          2002,
          2003,
          2004,
          2005,
          2006,
          2007,
          2008,
          2009,
          2010
         ],
         "xaxis": "x2",
         "y": [
          6,
          3,
          5,
          1,
          5,
          6,
          2,
          1,
          10,
          2
         ],
         "yaxis": "y2"
        },
        {
         "hovertemplate": "Nombre_Corto=GESTIÓN AMBIENTAL<br>Semestre_Ingreso=1<br>Año_Ingreso=%{x}<br>Cantidad=%{y}<extra></extra>",
         "legendgroup": "GESTIÓN AMBIENTAL",
         "line": {
          "color": "#EF553B",
          "dash": "solid"
         },
         "marker": {
          "symbol": "circle"
         },
         "mode": "lines",
         "name": "GESTIÓN AMBIENTAL",
         "orientation": "v",
         "showlegend": true,
         "type": "scatter",
         "x": [
          2001,
          2006,
          2009,
          2010
         ],
         "xaxis": "x",
         "y": [
          10,
          2,
          13,
          26
         ],
         "yaxis": "y"
        },
        {
         "hovertemplate": "Nombre_Corto=GESTIÓN AMBIENTAL<br>Semestre_Ingreso=2<br>Año_Ingreso=%{x}<br>Cantidad=%{y}<extra></extra>",
         "legendgroup": "GESTIÓN AMBIENTAL",
         "line": {
          "color": "#EF553B",
          "dash": "solid"
         },
         "marker": {
          "symbol": "circle"
         },
         "mode": "lines",
         "name": "GESTIÓN AMBIENTAL",
         "orientation": "v",
         "showlegend": false,
         "type": "scatter",
         "x": [
          2009,
          2010
         ],
         "xaxis": "x2",
         "y": [
          4,
          2
         ],
         "yaxis": "y2"
        },
        {
         "hovertemplate": "Nombre_Corto=GESTIÓN CONTABLE Y FINANCIERA<br>Semestre_Ingreso=1<br>Año_Ingreso=%{x}<br>Cantidad=%{y}<extra></extra>",
         "legendgroup": "GESTIÓN CONTABLE Y FINANCIERA",
         "line": {
          "color": "#00cc96",
          "dash": "solid"
         },
         "marker": {
          "symbol": "circle"
         },
         "mode": "lines",
         "name": "GESTIÓN CONTABLE Y FINANCIERA",
         "orientation": "v",
         "showlegend": true,
         "type": "scatter",
         "x": [
          2001,
          2002,
          2003,
          2004,
          2005,
          2006,
          2007,
          2008,
          2009,
          2010
         ],
         "xaxis": "x",
         "y": [
          11,
          12,
          3,
          1,
          14,
          20,
          8,
          12,
          24,
          11
         ],
         "yaxis": "y"
        },
        {
         "hovertemplate": "Nombre_Corto=GESTIÓN CONTABLE Y FINANCIERA<br>Semestre_Ingreso=2<br>Año_Ingreso=%{x}<br>Cantidad=%{y}<extra></extra>",
         "legendgroup": "GESTIÓN CONTABLE Y FINANCIERA",
         "line": {
          "color": "#00cc96",
          "dash": "solid"
         },
         "marker": {
          "symbol": "circle"
         },
         "mode": "lines",
         "name": "GESTIÓN CONTABLE Y FINANCIERA",
         "orientation": "v",
         "showlegend": false,
         "type": "scatter",
         "x": [
          2004,
          2005,
          2007,
          2010
         ],
         "xaxis": "x2",
         "y": [
          1,
          2,
          1,
          6
         ],
         "yaxis": "y2"
        }
       ],
       "layout": {
        "annotations": [
         {
          "font": {},
          "showarrow": false,
          "text": "Semestre_Ingreso=1",
          "x": 0.245,
          "xanchor": "center",
          "xref": "paper",
          "y": 1,
          "yanchor": "bottom",
          "yref": "paper"
         },
         {
          "font": {},
          "showarrow": false,
          "text": "Semestre_Ingreso=2",
          "x": 0.755,
          "xanchor": "center",
          "xref": "paper",
          "y": 1,
          "yanchor": "bottom",
          "yref": "paper"
         }
        ],
        "legend": {
         "title": {
          "text": "Nombre_Corto"
         },
         "tracegroupgap": 0
        },
        "template": {
         "data": {
          "bar": [
           {
            "error_x": {
             "color": "#2a3f5f"
            },
            "error_y": {
             "color": "#2a3f5f"
            },
            "marker": {
             "line": {
              "color": "#E5ECF6",
              "width": 0.5
             },
             "pattern": {
              "fillmode": "overlay",
              "size": 10,
              "solidity": 0.2
             }
            },
            "type": "bar"
           }
          ],
          "barpolar": [
           {
            "marker": {
             "line": {
              "color": "#E5ECF6",
              "width": 0.5
             },
             "pattern": {
              "fillmode": "overlay",
              "size": 10,
              "solidity": 0.2
             }
            },
            "type": "barpolar"
           }
          ],
          "carpet": [
           {
            "aaxis": {
             "endlinecolor": "#2a3f5f",
             "gridcolor": "white",
             "linecolor": "white",
             "minorgridcolor": "white",
             "startlinecolor": "#2a3f5f"
            },
            "baxis": {
             "endlinecolor": "#2a3f5f",
             "gridcolor": "white",
             "linecolor": "white",
             "minorgridcolor": "white",
             "startlinecolor": "#2a3f5f"
            },
            "type": "carpet"
           }
          ],
          "choropleth": [
           {
            "colorbar": {
             "outlinewidth": 0,
             "ticks": ""
            },
            "type": "choropleth"
           }
          ],
          "contour": [
           {
            "colorbar": {
             "outlinewidth": 0,
             "ticks": ""
            },
            "colorscale": [
             [
              0,
              "#0d0887"
             ],
             [
              0.1111111111111111,
              "#46039f"
             ],
             [
              0.2222222222222222,
              "#7201a8"
             ],
             [
              0.3333333333333333,
              "#9c179e"
             ],
             [
              0.4444444444444444,
              "#bd3786"
             ],
             [
              0.5555555555555556,
              "#d8576b"
             ],
             [
              0.6666666666666666,
              "#ed7953"
             ],
             [
              0.7777777777777778,
              "#fb9f3a"
             ],
             [
              0.8888888888888888,
              "#fdca26"
             ],
             [
              1,
              "#f0f921"
             ]
            ],
            "type": "contour"
           }
          ],
          "contourcarpet": [
           {
            "colorbar": {
             "outlinewidth": 0,
             "ticks": ""
            },
            "type": "contourcarpet"
           }
          ],
          "heatmap": [
           {
            "colorbar": {
             "outlinewidth": 0,
             "ticks": ""
            },
            "colorscale": [
             [
              0,
              "#0d0887"
             ],
             [
              0.1111111111111111,
              "#46039f"
             ],
             [
              0.2222222222222222,
              "#7201a8"
             ],
             [
              0.3333333333333333,
              "#9c179e"
             ],
             [
              0.4444444444444444,
              "#bd3786"
             ],
             [
              0.5555555555555556,
              "#d8576b"
             ],
             [
              0.6666666666666666,
              "#ed7953"
             ],
             [
              0.7777777777777778,
              "#fb9f3a"
             ],
             [
              0.8888888888888888,
              "#fdca26"
             ],
             [
              1,
              "#f0f921"
             ]
            ],
            "type": "heatmap"
           }
          ],
          "heatmapgl": [
           {
            "colorbar": {
             "outlinewidth": 0,
             "ticks": ""
            },
            "colorscale": [
             [
              0,
              "#0d0887"
             ],
             [
              0.1111111111111111,
              "#46039f"
             ],
             [
              0.2222222222222222,
              "#7201a8"
             ],
             [
              0.3333333333333333,
              "#9c179e"
             ],
             [
              0.4444444444444444,
              "#bd3786"
             ],
             [
              0.5555555555555556,
              "#d8576b"
             ],
             [
              0.6666666666666666,
              "#ed7953"
             ],
             [
              0.7777777777777778,
              "#fb9f3a"
             ],
             [
              0.8888888888888888,
              "#fdca26"
             ],
             [
              1,
              "#f0f921"
             ]
            ],
            "type": "heatmapgl"
           }
          ],
          "histogram": [
           {
            "marker": {
             "pattern": {
              "fillmode": "overlay",
              "size": 10,
              "solidity": 0.2
             }
            },
            "type": "histogram"
           }
          ],
          "histogram2d": [
           {
            "colorbar": {
             "outlinewidth": 0,
             "ticks": ""
            },
            "colorscale": [
             [
              0,
              "#0d0887"
             ],
             [
              0.1111111111111111,
              "#46039f"
             ],
             [
              0.2222222222222222,
              "#7201a8"
             ],
             [
              0.3333333333333333,
              "#9c179e"
             ],
             [
              0.4444444444444444,
              "#bd3786"
             ],
             [
              0.5555555555555556,
              "#d8576b"
             ],
             [
              0.6666666666666666,
              "#ed7953"
             ],
             [
              0.7777777777777778,
              "#fb9f3a"
             ],
             [
              0.8888888888888888,
              "#fdca26"
             ],
             [
              1,
              "#f0f921"
             ]
            ],
            "type": "histogram2d"
           }
          ],
          "histogram2dcontour": [
           {
            "colorbar": {
             "outlinewidth": 0,
             "ticks": ""
            },
            "colorscale": [
             [
              0,
              "#0d0887"
             ],
             [
              0.1111111111111111,
              "#46039f"
             ],
             [
              0.2222222222222222,
              "#7201a8"
             ],
             [
              0.3333333333333333,
              "#9c179e"
             ],
             [
              0.4444444444444444,
              "#bd3786"
             ],
             [
              0.5555555555555556,
              "#d8576b"
             ],
             [
              0.6666666666666666,
              "#ed7953"
             ],
             [
              0.7777777777777778,
              "#fb9f3a"
             ],
             [
              0.8888888888888888,
              "#fdca26"
             ],
             [
              1,
              "#f0f921"
             ]
            ],
            "type": "histogram2dcontour"
           }
          ],
          "mesh3d": [
           {
            "colorbar": {
             "outlinewidth": 0,
             "ticks": ""
            },
            "type": "mesh3d"
           }
          ],
          "parcoords": [
           {
            "line": {
             "colorbar": {
              "outlinewidth": 0,
              "ticks": ""
             }
            },
            "type": "parcoords"
           }
          ],
          "pie": [
           {
            "automargin": true,
            "type": "pie"
           }
          ],
          "scatter": [
           {
            "fillpattern": {
             "fillmode": "overlay",
             "size": 10,
             "solidity": 0.2
            },
            "type": "scatter"
           }
          ],
          "scatter3d": [
           {
            "line": {
             "colorbar": {
              "outlinewidth": 0,
              "ticks": ""
             }
            },
            "marker": {
             "colorbar": {
              "outlinewidth": 0,
              "ticks": ""
             }
            },
            "type": "scatter3d"
           }
          ],
          "scattercarpet": [
           {
            "marker": {
             "colorbar": {
              "outlinewidth": 0,
              "ticks": ""
             }
            },
            "type": "scattercarpet"
           }
          ],
          "scattergeo": [
           {
            "marker": {
             "colorbar": {
              "outlinewidth": 0,
              "ticks": ""
             }
            },
            "type": "scattergeo"
           }
          ],
          "scattergl": [
           {
            "marker": {
             "colorbar": {
              "outlinewidth": 0,
              "ticks": ""
             }
            },
            "type": "scattergl"
           }
          ],
          "scattermapbox": [
           {
            "marker": {
             "colorbar": {
              "outlinewidth": 0,
              "ticks": ""
             }
            },
            "type": "scattermapbox"
           }
          ],
          "scatterpolar": [
           {
            "marker": {
             "colorbar": {
              "outlinewidth": 0,
              "ticks": ""
             }
            },
            "type": "scatterpolar"
           }
          ],
          "scatterpolargl": [
           {
            "marker": {
             "colorbar": {
              "outlinewidth": 0,
              "ticks": ""
             }
            },
            "type": "scatterpolargl"
           }
          ],
          "scatterternary": [
           {
            "marker": {
             "colorbar": {
              "outlinewidth": 0,
              "ticks": ""
             }
            },
            "type": "scatterternary"
           }
          ],
          "surface": [
           {
            "colorbar": {
             "outlinewidth": 0,
             "ticks": ""
            },
            "colorscale": [
             [
              0,
              "#0d0887"
             ],
             [
              0.1111111111111111,
              "#46039f"
             ],
             [
              0.2222222222222222,
              "#7201a8"
             ],
             [
              0.3333333333333333,
              "#9c179e"
             ],
             [
              0.4444444444444444,
              "#bd3786"
             ],
             [
              0.5555555555555556,
              "#d8576b"
             ],
             [
              0.6666666666666666,
              "#ed7953"
             ],
             [
              0.7777777777777778,
              "#fb9f3a"
             ],
             [
              0.8888888888888888,
              "#fdca26"
             ],
             [
              1,
              "#f0f921"
             ]
            ],
            "type": "surface"
           }
          ],
          "table": [
           {
            "cells": {
             "fill": {
              "color": "#EBF0F8"
             },
             "line": {
              "color": "white"
             }
            },
            "header": {
             "fill": {
              "color": "#C8D4E3"
             },
             "line": {
              "color": "white"
             }
            },
            "type": "table"
           }
          ]
         },
         "layout": {
          "annotationdefaults": {
           "arrowcolor": "#2a3f5f",
           "arrowhead": 0,
           "arrowwidth": 1
          },
          "autotypenumbers": "strict",
          "coloraxis": {
           "colorbar": {
            "outlinewidth": 0,
            "ticks": ""
           }
          },
          "colorscale": {
           "diverging": [
            [
             0,
             "#8e0152"
            ],
            [
             0.1,
             "#c51b7d"
            ],
            [
             0.2,
             "#de77ae"
            ],
            [
             0.3,
             "#f1b6da"
            ],
            [
             0.4,
             "#fde0ef"
            ],
            [
             0.5,
             "#f7f7f7"
            ],
            [
             0.6,
             "#e6f5d0"
            ],
            [
             0.7,
             "#b8e186"
            ],
            [
             0.8,
             "#7fbc41"
            ],
            [
             0.9,
             "#4d9221"
            ],
            [
             1,
             "#276419"
            ]
           ],
           "sequential": [
            [
             0,
             "#0d0887"
            ],
            [
             0.1111111111111111,
             "#46039f"
            ],
            [
             0.2222222222222222,
             "#7201a8"
            ],
            [
             0.3333333333333333,
             "#9c179e"
            ],
            [
             0.4444444444444444,
             "#bd3786"
            ],
            [
             0.5555555555555556,
             "#d8576b"
            ],
            [
             0.6666666666666666,
             "#ed7953"
            ],
            [
             0.7777777777777778,
             "#fb9f3a"
            ],
            [
             0.8888888888888888,
             "#fdca26"
            ],
            [
             1,
             "#f0f921"
            ]
           ],
           "sequentialminus": [
            [
             0,
             "#0d0887"
            ],
            [
             0.1111111111111111,
             "#46039f"
            ],
            [
             0.2222222222222222,
             "#7201a8"
            ],
            [
             0.3333333333333333,
             "#9c179e"
            ],
            [
             0.4444444444444444,
             "#bd3786"
            ],
            [
             0.5555555555555556,
             "#d8576b"
            ],
            [
             0.6666666666666666,
             "#ed7953"
            ],
            [
             0.7777777777777778,
             "#fb9f3a"
            ],
            [
             0.8888888888888888,
             "#fdca26"
            ],
            [
             1,
             "#f0f921"
            ]
           ]
          },
          "colorway": [
           "#636efa",
           "#EF553B",
           "#00cc96",
           "#ab63fa",
           "#FFA15A",
           "#19d3f3",
           "#FF6692",
           "#B6E880",
           "#FF97FF",
           "#FECB52"
          ],
          "font": {
           "color": "#2a3f5f"
          },
          "geo": {
           "bgcolor": "white",
           "lakecolor": "white",
           "landcolor": "#E5ECF6",
           "showlakes": true,
           "showland": true,
           "subunitcolor": "white"
          },
          "hoverlabel": {
           "align": "left"
          },
          "hovermode": "closest",
          "mapbox": {
           "style": "light"
          },
          "paper_bgcolor": "white",
          "plot_bgcolor": "#E5ECF6",
          "polar": {
           "angularaxis": {
            "gridcolor": "white",
            "linecolor": "white",
            "ticks": ""
           },
           "bgcolor": "#E5ECF6",
           "radialaxis": {
            "gridcolor": "white",
            "linecolor": "white",
            "ticks": ""
           }
          },
          "scene": {
           "xaxis": {
            "backgroundcolor": "#E5ECF6",
            "gridcolor": "white",
            "gridwidth": 2,
            "linecolor": "white",
            "showbackground": true,
            "ticks": "",
            "zerolinecolor": "white"
           },
           "yaxis": {
            "backgroundcolor": "#E5ECF6",
            "gridcolor": "white",
            "gridwidth": 2,
            "linecolor": "white",
            "showbackground": true,
            "ticks": "",
            "zerolinecolor": "white"
           },
           "zaxis": {
            "backgroundcolor": "#E5ECF6",
            "gridcolor": "white",
            "gridwidth": 2,
            "linecolor": "white",
            "showbackground": true,
            "ticks": "",
            "zerolinecolor": "white"
           }
          },
          "shapedefaults": {
           "line": {
            "color": "#2a3f5f"
           }
          },
          "ternary": {
           "aaxis": {
            "gridcolor": "white",
            "linecolor": "white",
            "ticks": ""
           },
           "baxis": {
            "gridcolor": "white",
            "linecolor": "white",
            "ticks": ""
           },
           "bgcolor": "#E5ECF6",
           "caxis": {
            "gridcolor": "white",
            "linecolor": "white",
            "ticks": ""
           }
          },
          "title": {
           "x": 0.05
          },
          "xaxis": {
           "automargin": true,
           "gridcolor": "white",
           "linecolor": "white",
           "ticks": "",
           "title": {
            "standoff": 15
           },
           "zerolinecolor": "white",
           "zerolinewidth": 2
          },
          "yaxis": {
           "automargin": true,
           "gridcolor": "white",
           "linecolor": "white",
           "ticks": "",
           "title": {
            "standoff": 15
           },
           "zerolinecolor": "white",
           "zerolinewidth": 2
          }
         }
        },
        "title": {
         "text": "Cantidad de Alumnos de cada carrera x Año y semestre"
        },
        "xaxis": {
         "anchor": "y",
         "domain": [
          0,
          0.49
         ],
         "title": {
          "text": "Año_Ingreso"
         }
        },
        "xaxis2": {
         "anchor": "y2",
         "domain": [
          0.51,
          1
         ],
         "matches": "x",
         "title": {
          "text": "Año_Ingreso"
         }
        },
        "yaxis": {
         "anchor": "x",
         "domain": [
          0,
          1
         ],
         "title": {
          "text": "Cantidad"
         }
        },
        "yaxis2": {
         "anchor": "x2",
         "domain": [
          0,
          1
         ],
         "matches": "y",
         "showticklabels": false
        }
       }
      }
     },
     "metadata": {},
     "output_type": "display_data"
    }
   ],
   "source": [
    "df_Cantidad_Alumnos_Año = df_ALUCarrera.groupby(['Id_Carrera','Año_Ingreso','Semestre_Ingreso'])['Id_Alumno'].count().reset_index(name='Cantidad')\n",
    "df_Cantidad_Alumnos_Año = pd.merge(df_Cantidad_Alumnos_Año,\n",
    "                        df_Carreras[['Id_Carrera','Nombre_Corto']],\n",
    "                        how='inner',\n",
    "                        on=['Id_Carrera'])\n",
    "px.line(df_Cantidad_Alumnos_Año, x=\"Año_Ingreso\",y='Cantidad', color=\"Nombre_Corto\", title='Cantidad de Alumnos de cada carrera x Año y semestre', facet_col='Semestre_Ingreso')"
   ]
  },
  {
   "attachments": {},
   "cell_type": "markdown",
   "metadata": {},
   "source": [
    "### Total de Alumnos X Año de la institucion separado en mujeres y varones"
   ]
  },
  {
   "cell_type": "code",
   "execution_count": 24,
   "metadata": {},
   "outputs": [
    {
     "data": {
      "application/vnd.plotly.v1+json": {
       "config": {
        "plotlyServerURL": "https://plot.ly"
       },
       "data": [
        {
         "alignmentgroup": "True",
         "bingroup": "x",
         "hovertemplate": "Sexo=M<br>animation_frame=2001<br>Edad=%{x}<br>count=%{y}<extra></extra>",
         "legendgroup": "M",
         "marker": {
          "color": "#636efa",
          "pattern": {
           "shape": ""
          }
         },
         "name": "M",
         "offsetgroup": "M",
         "orientation": "v",
         "showlegend": true,
         "type": "histogram",
         "x": [
          19,
          52,
          43,
          20,
          21,
          20,
          38,
          37,
          38,
          39,
          35,
          36,
          23,
          26,
          26,
          18,
          33,
          41,
          32,
          32,
          32,
          36,
          33,
          31,
          31,
          30,
          32,
          34,
          33,
          34,
          30,
          30,
          30,
          30,
          30,
          31,
          28,
          38,
          29,
          34,
          29,
          33,
          37,
          27,
          29,
          29,
          37,
          28,
          28,
          28,
          30,
          28,
          31,
          29,
          35,
          28,
          27,
          30,
          28,
          29,
          27,
          27,
          28,
          27,
          27,
          27,
          29,
          29,
          27,
          28,
          31,
          28,
          29,
          27,
          27,
          27,
          29,
          26,
          26,
          26,
          26,
          26,
          31,
          28,
          35,
          26,
          26,
          26,
          30,
          29,
          35,
          26,
          26,
          26,
          31,
          28,
          25,
          29,
          26,
          26,
          35,
          28,
          26,
          26,
          25,
          26,
          26,
          26,
          30,
          31,
          25,
          34,
          34,
          25,
          28,
          27,
          29,
          25,
          30,
          25,
          28,
          26,
          25,
          25,
          25,
          25,
          18,
          29,
          25,
          24,
          30,
          28,
          29,
          26,
          25,
          25,
          27,
          28,
          26,
          24,
          26,
          25,
          25,
          25,
          25,
          26,
          30,
          28,
          27,
          25,
          26,
          30,
          25,
          25,
          26,
          26,
          28,
          27,
          26,
          24,
          27,
          32,
          25,
          24,
          34,
          25,
          24,
          24,
          25,
          24,
          24,
          24,
          25,
          25,
          33,
          33,
          26,
          25,
          24,
          25,
          24,
          27,
          24,
          25,
          25,
          28,
          24,
          24,
          24,
          26,
          27,
          27,
          24,
          25,
          24,
          29,
          25,
          24,
          25,
          32,
          24,
          24,
          27,
          24,
          25,
          24,
          29,
          24,
          24,
          25,
          25,
          24,
          24,
          24,
          29,
          23,
          27,
          24,
          25,
          25,
          20,
          26,
          23,
          24,
          23,
          23,
          25,
          26,
          24,
          23,
          24,
          25,
          27,
          24,
          32,
          28,
          26,
          23,
          25,
          23,
          24,
          25,
          24,
          23,
          23,
          25,
          28,
          31,
          23,
          23,
          32,
          32,
          27,
          27,
          27,
          24,
          31,
          32,
          23,
          25,
          23,
          23,
          23,
          32,
          25,
          24,
          24,
          26,
          26,
          23,
          23,
          23,
          25,
          24,
          24,
          24,
          25,
          24,
          25,
          24,
          31,
          25,
          26,
          23,
          23,
          24,
          25,
          24,
          24,
          26,
          23,
          23,
          23,
          24,
          23,
          24,
          24,
          23,
          28,
          27,
          25,
          23,
          25,
          23,
          26,
          22,
          22,
          23,
          27,
          24,
          27,
          23,
          23,
          23,
          26,
          23,
          24,
          27,
          22,
          23,
          24,
          25,
          22,
          22,
          25,
          23,
          22,
          22,
          22,
          22,
          22,
          26,
          23,
          22,
          22,
          25,
          22,
          26,
          22,
          26,
          23,
          27,
          23,
          23,
          31,
          23,
          29,
          22,
          30,
          23,
          22,
          28,
          27,
          22,
          31,
          27,
          30,
          26,
          30,
          22,
          22,
          24,
          22,
          23,
          22,
          26,
          22,
          23,
          22,
          24,
          31,
          29,
          24,
          22,
          23,
          22,
          23,
          28,
          26,
          21,
          23,
          22,
          23,
          23,
          22,
          24,
          23,
          22,
          28,
          25,
          24,
          25,
          24,
          22,
          23,
          29,
          22,
          22,
          22,
          26,
          24,
          24,
          24,
          22,
          28,
          22,
          23,
          29,
          22,
          25,
          29,
          22,
          22,
          22,
          22,
          29,
          28,
          22,
          30,
          26,
          22,
          24,
          25,
          24,
          23,
          22,
          27,
          25,
          24,
          31,
          22
         ],
         "xaxis": "x",
         "yaxis": "y"
        },
        {
         "alignmentgroup": "True",
         "bingroup": "x",
         "hovertemplate": "Sexo=F<br>animation_frame=2001<br>Edad=%{x}<br>count=%{y}<extra></extra>",
         "legendgroup": "F",
         "marker": {
          "color": "#EF553B",
          "pattern": {
           "shape": ""
          }
         },
         "name": "F",
         "offsetgroup": "F",
         "orientation": "v",
         "showlegend": true,
         "type": "histogram",
         "x": [
          48,
          38,
          39,
          38,
          21,
          19,
          38,
          34,
          38,
          22,
          22,
          22,
          19,
          25,
          39,
          23,
          32,
          40,
          31,
          31,
          33,
          30,
          35,
          30,
          31,
          30,
          26,
          29,
          30,
          32,
          29,
          31,
          26,
          31,
          28,
          29,
          27,
          27,
          28,
          27,
          27,
          27,
          26,
          27,
          26,
          30,
          32,
          27,
          35,
          28,
          36,
          27,
          26,
          29,
          29,
          27,
          26,
          27,
          26,
          35,
          29,
          29,
          28,
          26,
          27,
          26,
          26,
          30,
          25,
          31,
          28,
          29,
          25,
          25,
          28,
          25,
          25,
          25,
          25,
          26,
          33,
          25,
          25,
          25,
          25,
          25,
          25,
          29,
          25,
          25,
          30,
          24,
          25,
          26,
          28,
          25,
          29,
          24,
          24,
          33,
          28,
          24,
          24,
          24,
          24,
          25,
          24,
          26,
          25,
          24,
          null,
          25,
          26,
          32,
          24,
          28,
          24,
          32,
          24,
          24,
          24,
          27,
          33,
          24,
          27,
          24,
          25,
          25,
          27,
          24,
          33,
          24,
          25,
          26,
          27,
          23,
          32,
          23,
          24,
          24,
          24,
          27,
          24,
          24,
          23,
          23,
          22,
          23,
          23,
          23,
          23,
          23,
          23,
          23,
          23,
          23,
          24,
          27,
          29,
          23,
          23,
          24,
          27,
          23,
          24,
          27,
          26,
          23,
          24,
          23,
          23,
          23,
          25,
          23,
          23,
          29,
          24,
          22,
          23,
          22,
          26,
          25,
          27,
          23,
          27,
          23,
          22,
          26,
          21,
          23,
          23,
          24,
          23,
          24,
          22,
          null,
          24,
          22,
          22,
          22,
          22,
          23,
          23,
          22,
          31,
          21,
          26,
          22,
          22,
          23,
          22,
          22,
          24,
          23,
          22,
          26,
          28,
          26,
          24,
          22,
          21,
          23,
          26,
          22,
          23,
          27,
          22,
          24,
          23,
          27,
          23,
          26,
          22,
          23,
          24,
          23,
          24,
          23,
          23,
          25,
          23,
          26,
          25,
          26,
          23,
          26,
          26,
          23,
          25,
          25,
          24,
          22,
          24,
          27,
          22,
          22,
          22
         ],
         "xaxis": "x",
         "yaxis": "y"
        }
       ],
       "frames": [
        {
         "data": [
          {
           "alignmentgroup": "True",
           "bingroup": "x",
           "hovertemplate": "Sexo=M<br>animation_frame=2001<br>Edad=%{x}<br>count=%{y}<extra></extra>",
           "legendgroup": "M",
           "marker": {
            "color": "#636efa",
            "pattern": {
             "shape": ""
            }
           },
           "name": "M",
           "offsetgroup": "M",
           "orientation": "v",
           "showlegend": true,
           "type": "histogram",
           "x": [
            19,
            52,
            43,
            20,
            21,
            20,
            38,
            37,
            38,
            39,
            35,
            36,
            23,
            26,
            26,
            18,
            33,
            41,
            32,
            32,
            32,
            36,
            33,
            31,
            31,
            30,
            32,
            34,
            33,
            34,
            30,
            30,
            30,
            30,
            30,
            31,
            28,
            38,
            29,
            34,
            29,
            33,
            37,
            27,
            29,
            29,
            37,
            28,
            28,
            28,
            30,
            28,
            31,
            29,
            35,
            28,
            27,
            30,
            28,
            29,
            27,
            27,
            28,
            27,
            27,
            27,
            29,
            29,
            27,
            28,
            31,
            28,
            29,
            27,
            27,
            27,
            29,
            26,
            26,
            26,
            26,
            26,
            31,
            28,
            35,
            26,
            26,
            26,
            30,
            29,
            35,
            26,
            26,
            26,
            31,
            28,
            25,
            29,
            26,
            26,
            35,
            28,
            26,
            26,
            25,
            26,
            26,
            26,
            30,
            31,
            25,
            34,
            34,
            25,
            28,
            27,
            29,
            25,
            30,
            25,
            28,
            26,
            25,
            25,
            25,
            25,
            18,
            29,
            25,
            24,
            30,
            28,
            29,
            26,
            25,
            25,
            27,
            28,
            26,
            24,
            26,
            25,
            25,
            25,
            25,
            26,
            30,
            28,
            27,
            25,
            26,
            30,
            25,
            25,
            26,
            26,
            28,
            27,
            26,
            24,
            27,
            32,
            25,
            24,
            34,
            25,
            24,
            24,
            25,
            24,
            24,
            24,
            25,
            25,
            33,
            33,
            26,
            25,
            24,
            25,
            24,
            27,
            24,
            25,
            25,
            28,
            24,
            24,
            24,
            26,
            27,
            27,
            24,
            25,
            24,
            29,
            25,
            24,
            25,
            32,
            24,
            24,
            27,
            24,
            25,
            24,
            29,
            24,
            24,
            25,
            25,
            24,
            24,
            24,
            29,
            23,
            27,
            24,
            25,
            25,
            20,
            26,
            23,
            24,
            23,
            23,
            25,
            26,
            24,
            23,
            24,
            25,
            27,
            24,
            32,
            28,
            26,
            23,
            25,
            23,
            24,
            25,
            24,
            23,
            23,
            25,
            28,
            31,
            23,
            23,
            32,
            32,
            27,
            27,
            27,
            24,
            31,
            32,
            23,
            25,
            23,
            23,
            23,
            32,
            25,
            24,
            24,
            26,
            26,
            23,
            23,
            23,
            25,
            24,
            24,
            24,
            25,
            24,
            25,
            24,
            31,
            25,
            26,
            23,
            23,
            24,
            25,
            24,
            24,
            26,
            23,
            23,
            23,
            24,
            23,
            24,
            24,
            23,
            28,
            27,
            25,
            23,
            25,
            23,
            26,
            22,
            22,
            23,
            27,
            24,
            27,
            23,
            23,
            23,
            26,
            23,
            24,
            27,
            22,
            23,
            24,
            25,
            22,
            22,
            25,
            23,
            22,
            22,
            22,
            22,
            22,
            26,
            23,
            22,
            22,
            25,
            22,
            26,
            22,
            26,
            23,
            27,
            23,
            23,
            31,
            23,
            29,
            22,
            30,
            23,
            22,
            28,
            27,
            22,
            31,
            27,
            30,
            26,
            30,
            22,
            22,
            24,
            22,
            23,
            22,
            26,
            22,
            23,
            22,
            24,
            31,
            29,
            24,
            22,
            23,
            22,
            23,
            28,
            26,
            21,
            23,
            22,
            23,
            23,
            22,
            24,
            23,
            22,
            28,
            25,
            24,
            25,
            24,
            22,
            23,
            29,
            22,
            22,
            22,
            26,
            24,
            24,
            24,
            22,
            28,
            22,
            23,
            29,
            22,
            25,
            29,
            22,
            22,
            22,
            22,
            29,
            28,
            22,
            30,
            26,
            22,
            24,
            25,
            24,
            23,
            22,
            27,
            25,
            24,
            31,
            22
           ],
           "xaxis": "x",
           "yaxis": "y"
          },
          {
           "alignmentgroup": "True",
           "bingroup": "x",
           "hovertemplate": "Sexo=F<br>animation_frame=2001<br>Edad=%{x}<br>count=%{y}<extra></extra>",
           "legendgroup": "F",
           "marker": {
            "color": "#EF553B",
            "pattern": {
             "shape": ""
            }
           },
           "name": "F",
           "offsetgroup": "F",
           "orientation": "v",
           "showlegend": true,
           "type": "histogram",
           "x": [
            48,
            38,
            39,
            38,
            21,
            19,
            38,
            34,
            38,
            22,
            22,
            22,
            19,
            25,
            39,
            23,
            32,
            40,
            31,
            31,
            33,
            30,
            35,
            30,
            31,
            30,
            26,
            29,
            30,
            32,
            29,
            31,
            26,
            31,
            28,
            29,
            27,
            27,
            28,
            27,
            27,
            27,
            26,
            27,
            26,
            30,
            32,
            27,
            35,
            28,
            36,
            27,
            26,
            29,
            29,
            27,
            26,
            27,
            26,
            35,
            29,
            29,
            28,
            26,
            27,
            26,
            26,
            30,
            25,
            31,
            28,
            29,
            25,
            25,
            28,
            25,
            25,
            25,
            25,
            26,
            33,
            25,
            25,
            25,
            25,
            25,
            25,
            29,
            25,
            25,
            30,
            24,
            25,
            26,
            28,
            25,
            29,
            24,
            24,
            33,
            28,
            24,
            24,
            24,
            24,
            25,
            24,
            26,
            25,
            24,
            null,
            25,
            26,
            32,
            24,
            28,
            24,
            32,
            24,
            24,
            24,
            27,
            33,
            24,
            27,
            24,
            25,
            25,
            27,
            24,
            33,
            24,
            25,
            26,
            27,
            23,
            32,
            23,
            24,
            24,
            24,
            27,
            24,
            24,
            23,
            23,
            22,
            23,
            23,
            23,
            23,
            23,
            23,
            23,
            23,
            23,
            24,
            27,
            29,
            23,
            23,
            24,
            27,
            23,
            24,
            27,
            26,
            23,
            24,
            23,
            23,
            23,
            25,
            23,
            23,
            29,
            24,
            22,
            23,
            22,
            26,
            25,
            27,
            23,
            27,
            23,
            22,
            26,
            21,
            23,
            23,
            24,
            23,
            24,
            22,
            null,
            24,
            22,
            22,
            22,
            22,
            23,
            23,
            22,
            31,
            21,
            26,
            22,
            22,
            23,
            22,
            22,
            24,
            23,
            22,
            26,
            28,
            26,
            24,
            22,
            21,
            23,
            26,
            22,
            23,
            27,
            22,
            24,
            23,
            27,
            23,
            26,
            22,
            23,
            24,
            23,
            24,
            23,
            23,
            25,
            23,
            26,
            25,
            26,
            23,
            26,
            26,
            23,
            25,
            25,
            24,
            22,
            24,
            27,
            22,
            22,
            22
           ],
           "xaxis": "x",
           "yaxis": "y"
          }
         ],
         "name": "2001"
        },
        {
         "data": [
          {
           "alignmentgroup": "True",
           "bingroup": "x",
           "hovertemplate": "Sexo=M<br>animation_frame=2002<br>Edad=%{x}<br>count=%{y}<extra></extra>",
           "legendgroup": "M",
           "marker": {
            "color": "#636efa",
            "pattern": {
             "shape": ""
            }
           },
           "name": "M",
           "offsetgroup": "M",
           "orientation": "v",
           "showlegend": true,
           "type": "histogram",
           "x": [
            27,
            25,
            26,
            22,
            24,
            25,
            22,
            23,
            24,
            22,
            23,
            27,
            30,
            21,
            22,
            21,
            25,
            23,
            22,
            22,
            25,
            30,
            21,
            28,
            21,
            26,
            22,
            21,
            21,
            21,
            25,
            21,
            24,
            23,
            26,
            26,
            24,
            21,
            24,
            26,
            23,
            23,
            22,
            21,
            22,
            18,
            21,
            28,
            22,
            21,
            26,
            21,
            22,
            21,
            22,
            24,
            23,
            21,
            21,
            28,
            29,
            25,
            25,
            23,
            27,
            21,
            27,
            25,
            21,
            22,
            22,
            21,
            30,
            21,
            22,
            24,
            21,
            22,
            30,
            21,
            29,
            23,
            28,
            23,
            26,
            20,
            24,
            21,
            24,
            22,
            22,
            23,
            24,
            27,
            21,
            23,
            23,
            21,
            21,
            21,
            21,
            22,
            21,
            21,
            21,
            24,
            26,
            23,
            22,
            21,
            26,
            21,
            21,
            25,
            21,
            30,
            21,
            21,
            21,
            28,
            21,
            23,
            25,
            22,
            30,
            21,
            21,
            21,
            21,
            21,
            24,
            21,
            24,
            29,
            23,
            22,
            21,
            26,
            21,
            25,
            21,
            21,
            25,
            23,
            21,
            21,
            21,
            22,
            21,
            23,
            24,
            21,
            23,
            23,
            21,
            21,
            21,
            23,
            26,
            21,
            21,
            22,
            21,
            21,
            21,
            22,
            24,
            21,
            21,
            20,
            21,
            21,
            21,
            21,
            29,
            23,
            25,
            22,
            22,
            28,
            21,
            21,
            23,
            25,
            21,
            24,
            20,
            20,
            20,
            20,
            29,
            20,
            25,
            20,
            23,
            20,
            21,
            24,
            22,
            20,
            22,
            25,
            23,
            22,
            27,
            20,
            23,
            25,
            24,
            23,
            20,
            26,
            25,
            24,
            21,
            26,
            21,
            22,
            20,
            21,
            22,
            20,
            22,
            21,
            21,
            23,
            21,
            20,
            21,
            22,
            21,
            24,
            20,
            20,
            28,
            21,
            21,
            20,
            23,
            20,
            20,
            22,
            20,
            22,
            25,
            24,
            25,
            20,
            27,
            20,
            20,
            27,
            21,
            23,
            19,
            20,
            20,
            26,
            24,
            22,
            21,
            20,
            22,
            22,
            21,
            21,
            20,
            24,
            21,
            24,
            22,
            18,
            21,
            20,
            27,
            26,
            20,
            22,
            20,
            20,
            21,
            21,
            21,
            25,
            20,
            21,
            21,
            20,
            25,
            20,
            23,
            20,
            20,
            27,
            20,
            20,
            20,
            23,
            22,
            20,
            22,
            19,
            20,
            20,
            27,
            21,
            29
           ],
           "xaxis": "x",
           "yaxis": "y"
          },
          {
           "alignmentgroup": "True",
           "bingroup": "x",
           "hovertemplate": "Sexo=F<br>animation_frame=2002<br>Edad=%{x}<br>count=%{y}<extra></extra>",
           "legendgroup": "F",
           "marker": {
            "color": "#EF553B",
            "pattern": {
             "shape": ""
            }
           },
           "name": "F",
           "offsetgroup": "F",
           "orientation": "v",
           "showlegend": true,
           "type": "histogram",
           "x": [
            22,
            25,
            23,
            23,
            25,
            22,
            23,
            23,
            23,
            22,
            22,
            22,
            22,
            25,
            21,
            24,
            24,
            23,
            24,
            23,
            21,
            23,
            21,
            21,
            22,
            22,
            21,
            21,
            17,
            25,
            21,
            22,
            22,
            21,
            26,
            25,
            26,
            22,
            27,
            21,
            23,
            22,
            30,
            21,
            23,
            21,
            22,
            25,
            20,
            23,
            22,
            22,
            26,
            21,
            21,
            21,
            22,
            20,
            25,
            23,
            22,
            21,
            21,
            21,
            24,
            21,
            22,
            24,
            25,
            21,
            21,
            22,
            21,
            23,
            22,
            22,
            21,
            21,
            21,
            21,
            29,
            24,
            21,
            21,
            21,
            22,
            23,
            21,
            21,
            21,
            25,
            22,
            26,
            21,
            21,
            23,
            23,
            22,
            25,
            22,
            28,
            21,
            21,
            24,
            20,
            23,
            22,
            20,
            25,
            21,
            22,
            21,
            24,
            21,
            23,
            21,
            30,
            22,
            22,
            24,
            30,
            24,
            21,
            21,
            24,
            24,
            22,
            21,
            23,
            23,
            20,
            20,
            21,
            21,
            28,
            24,
            29,
            23,
            30,
            23,
            20,
            21,
            20,
            22,
            20,
            29,
            20,
            21,
            28,
            20,
            26,
            22,
            22,
            21,
            20,
            24,
            22,
            23,
            26,
            20,
            24,
            26,
            19,
            20,
            19,
            26,
            21,
            27,
            22,
            23,
            20,
            20,
            21,
            20,
            21,
            27,
            24,
            20,
            22,
            20,
            23,
            20,
            24,
            24,
            23,
            22,
            24,
            22,
            20,
            20,
            25,
            20,
            20,
            22,
            23,
            21,
            20,
            24,
            20,
            25,
            20,
            24,
            21,
            21,
            23,
            20,
            23,
            21,
            21,
            21,
            20
           ],
           "xaxis": "x",
           "yaxis": "y"
          }
         ],
         "name": "2002"
        },
        {
         "data": [
          {
           "alignmentgroup": "True",
           "bingroup": "x",
           "hovertemplate": "Sexo=M<br>animation_frame=2003<br>Edad=%{x}<br>count=%{y}<extra></extra>",
           "legendgroup": "M",
           "marker": {
            "color": "#636efa",
            "pattern": {
             "shape": ""
            }
           },
           "name": "M",
           "offsetgroup": "M",
           "orientation": "v",
           "showlegend": true,
           "type": "histogram",
           "x": [
            24,
            23,
            22,
            29,
            20,
            22,
            20,
            23,
            22,
            21,
            20,
            27,
            22,
            25,
            24,
            19,
            25,
            21,
            20,
            23,
            21,
            26,
            21,
            19,
            22,
            24,
            20,
            22,
            22,
            20,
            20,
            24,
            20,
            24,
            27,
            23,
            20,
            20,
            22,
            22,
            21,
            23,
            24,
            22,
            21,
            19,
            21,
            24,
            20,
            20,
            23,
            26,
            22,
            25,
            19,
            27,
            24,
            22,
            20,
            24,
            23,
            22,
            20,
            26,
            20,
            25,
            21,
            20,
            25,
            22,
            20,
            22,
            25,
            26,
            20,
            25,
            27,
            20,
            20,
            21,
            22,
            21,
            21,
            21,
            21,
            22,
            27,
            19,
            19,
            26,
            22,
            22,
            20,
            23,
            19,
            21,
            23,
            21,
            22,
            20,
            25,
            23,
            19,
            19,
            22,
            20,
            20,
            19,
            24,
            25,
            20,
            19,
            25,
            21,
            21,
            23,
            25,
            22,
            20,
            19,
            22,
            19,
            20,
            23,
            19,
            27,
            23,
            20,
            20,
            24,
            21,
            23,
            27,
            22,
            19,
            20,
            23,
            23,
            21,
            24,
            19,
            20,
            26,
            22,
            19,
            22,
            22,
            19,
            21,
            23,
            20,
            25,
            21,
            21,
            19,
            19,
            20,
            22,
            19,
            21,
            24,
            19,
            28,
            24,
            21,
            19,
            19,
            26,
            23,
            23,
            23,
            22,
            19,
            19,
            23,
            19,
            19,
            25,
            19,
            21,
            21,
            21,
            20,
            19,
            25,
            19,
            22,
            19,
            19,
            25,
            23,
            21,
            19,
            21,
            19,
            22,
            23,
            25,
            22,
            26,
            19,
            28,
            28,
            20,
            24,
            19,
            27,
            19,
            26,
            19,
            23,
            19,
            23,
            19,
            17,
            22,
            19,
            24,
            22,
            22,
            20,
            19,
            23,
            25,
            19,
            20,
            22,
            19,
            23,
            22,
            26,
            19,
            19,
            24,
            23,
            22
           ],
           "xaxis": "x",
           "yaxis": "y"
          },
          {
           "alignmentgroup": "True",
           "bingroup": "x",
           "hovertemplate": "Sexo=F<br>animation_frame=2003<br>Edad=%{x}<br>count=%{y}<extra></extra>",
           "legendgroup": "F",
           "marker": {
            "color": "#EF553B",
            "pattern": {
             "shape": ""
            }
           },
           "name": "F",
           "offsetgroup": "F",
           "orientation": "v",
           "showlegend": true,
           "type": "histogram",
           "x": [
            20,
            22,
            23,
            20,
            21,
            19,
            26,
            19,
            21,
            23,
            20,
            23,
            23,
            24,
            20,
            20,
            20,
            18,
            20,
            20,
            20,
            22,
            24,
            21,
            22,
            20,
            21,
            20,
            23,
            20,
            23,
            26,
            21,
            19,
            20,
            21,
            19,
            22,
            26,
            21,
            21,
            19,
            20,
            23,
            21,
            22,
            20,
            20,
            25,
            22,
            24,
            23,
            24,
            22,
            25,
            21,
            22,
            23,
            19,
            19,
            25,
            26,
            28,
            24,
            20,
            22,
            21,
            20,
            21,
            20,
            21,
            20,
            26,
            23,
            21,
            19,
            23,
            19,
            22,
            21,
            19,
            20,
            21,
            21,
            24,
            19,
            19,
            19,
            22,
            21,
            21,
            20,
            20,
            19,
            22,
            20,
            26,
            24,
            25,
            25,
            20,
            24,
            20,
            19,
            21,
            19,
            25,
            22,
            20,
            21,
            19,
            20,
            19,
            20,
            19,
            25,
            20,
            19,
            20,
            19,
            23,
            19,
            23,
            20,
            19,
            24,
            20,
            27,
            19,
            20,
            26,
            19,
            22,
            20,
            21,
            19,
            25,
            22,
            20,
            24,
            19,
            19,
            20,
            24,
            24,
            22,
            19,
            28,
            18,
            23,
            20,
            19,
            20,
            23,
            20,
            19,
            19,
            21,
            20,
            22,
            23,
            19,
            19,
            26,
            24,
            19,
            19
           ],
           "xaxis": "x",
           "yaxis": "y"
          }
         ],
         "name": "2003"
        },
        {
         "data": [
          {
           "alignmentgroup": "True",
           "bingroup": "x",
           "hovertemplate": "Sexo=M<br>animation_frame=2004<br>Edad=%{x}<br>count=%{y}<extra></extra>",
           "legendgroup": "M",
           "marker": {
            "color": "#636efa",
            "pattern": {
             "shape": ""
            }
           },
           "name": "M",
           "offsetgroup": "M",
           "orientation": "v",
           "showlegend": true,
           "type": "histogram",
           "x": [
            20,
            20,
            28,
            21,
            19,
            20,
            21,
            20,
            25,
            22,
            18,
            20,
            22,
            19,
            22,
            24,
            20,
            19,
            28,
            19,
            20,
            24,
            24,
            21,
            20,
            21,
            21,
            25,
            19,
            19,
            24,
            23,
            19,
            20,
            22,
            19,
            20,
            21,
            19,
            22,
            24,
            19,
            20,
            20,
            19,
            20,
            20,
            24,
            22,
            19,
            21,
            19,
            19,
            19,
            22,
            19,
            19,
            19,
            19,
            19,
            22,
            19,
            25,
            19,
            20,
            20,
            20,
            24,
            19,
            22,
            19,
            24,
            21,
            19,
            19,
            20,
            19,
            24,
            19,
            20,
            27,
            18,
            18,
            19,
            25,
            21,
            19,
            18,
            18,
            19,
            21,
            20,
            19,
            23,
            22,
            20,
            21,
            21,
            21,
            18,
            20,
            20,
            18,
            24,
            26,
            24,
            18,
            19,
            22,
            23,
            18,
            18,
            28,
            22,
            20,
            21,
            22,
            20,
            24,
            19,
            23,
            25,
            21,
            18,
            21,
            18,
            19,
            23,
            20,
            19,
            19,
            19,
            22,
            20,
            22,
            20,
            26,
            22,
            20,
            21,
            19,
            20,
            24,
            21,
            19,
            22,
            20,
            23,
            25,
            22,
            23,
            23,
            18,
            23,
            19,
            20,
            26,
            22,
            22,
            26,
            19,
            18,
            18,
            19,
            26,
            23,
            23,
            19,
            27,
            19,
            18,
            20,
            21,
            18,
            22,
            20,
            21,
            19,
            18,
            20,
            null,
            24,
            18,
            22,
            23,
            18,
            19,
            26,
            19,
            18,
            23,
            22,
            20,
            27,
            21,
            19,
            18,
            19,
            18,
            22,
            21,
            19,
            20,
            19,
            18,
            23,
            19,
            22,
            22,
            19,
            18,
            23,
            21,
            19,
            21,
            19,
            19,
            22,
            22,
            22,
            19,
            19,
            20,
            23,
            22,
            19,
            21,
            20,
            19,
            22,
            26,
            19,
            21,
            20,
            23,
            18,
            22,
            23,
            20,
            23,
            19,
            19,
            19,
            21,
            19,
            18,
            20,
            22,
            26,
            23,
            23,
            21,
            21,
            20,
            20,
            21,
            25,
            22,
            25,
            23,
            21,
            18,
            19,
            23,
            20,
            22,
            19,
            22,
            18,
            21,
            18,
            21,
            25,
            20,
            22,
            24,
            21,
            25,
            19,
            22,
            18,
            21,
            27,
            27,
            21,
            23,
            25,
            20,
            18,
            18,
            20,
            18,
            21,
            18,
            21,
            23,
            25,
            20,
            20,
            22,
            25,
            24,
            21,
            21,
            19,
            20,
            23,
            19,
            21,
            19,
            19,
            20,
            23,
            19,
            25,
            24,
            26,
            22,
            27,
            18,
            20
           ],
           "xaxis": "x",
           "yaxis": "y"
          },
          {
           "alignmentgroup": "True",
           "bingroup": "x",
           "hovertemplate": "Sexo=F<br>animation_frame=2004<br>Edad=%{x}<br>count=%{y}<extra></extra>",
           "legendgroup": "F",
           "marker": {
            "color": "#EF553B",
            "pattern": {
             "shape": ""
            }
           },
           "name": "F",
           "offsetgroup": "F",
           "orientation": "v",
           "showlegend": true,
           "type": "histogram",
           "x": [
            19,
            22,
            24,
            19,
            20,
            20,
            26,
            25,
            24,
            19,
            20,
            20,
            19,
            21,
            21,
            19,
            24,
            22,
            19,
            24,
            23,
            22,
            19,
            19,
            21,
            19,
            22,
            19,
            19,
            19,
            24,
            19,
            25,
            19,
            24,
            25,
            25,
            20,
            22,
            27,
            24,
            22,
            23,
            19,
            19,
            22,
            23,
            19,
            19,
            19,
            19,
            24,
            27,
            20,
            23,
            21,
            22,
            22,
            25,
            19,
            18,
            22,
            18,
            20,
            22,
            18,
            19,
            21,
            18,
            22,
            25,
            19,
            19,
            21,
            19,
            18,
            20,
            19,
            19,
            21,
            null,
            19,
            23,
            22,
            20,
            20,
            21,
            18,
            22,
            18,
            18,
            20,
            18,
            19,
            19,
            22,
            22,
            20,
            19,
            25,
            19,
            19,
            21,
            19,
            20,
            19,
            19,
            24,
            19,
            21,
            19,
            19,
            19,
            19,
            23,
            24,
            21,
            19,
            25,
            18,
            27,
            22,
            21,
            21,
            19,
            18,
            19,
            23,
            18,
            19,
            19,
            19,
            25,
            18,
            19,
            22,
            19,
            22,
            21,
            19,
            18,
            22,
            24,
            18,
            19,
            18,
            21,
            18,
            18,
            23,
            19,
            22,
            22,
            18,
            26,
            18,
            18,
            23,
            18,
            21,
            19,
            21,
            27,
            19,
            20,
            22,
            19,
            27,
            23,
            20,
            20,
            18,
            18,
            21,
            24,
            22,
            23,
            19,
            19,
            22,
            18,
            25,
            18,
            19,
            20,
            19,
            22,
            23,
            21,
            21,
            19,
            23,
            22,
            22,
            18,
            21,
            23,
            19,
            18,
            18,
            18,
            22,
            18,
            18,
            18,
            19,
            19,
            18,
            22,
            21,
            21,
            18,
            21,
            19,
            21,
            21,
            19,
            19,
            19,
            19,
            21,
            19,
            19,
            21,
            21,
            18,
            18,
            19,
            19,
            22,
            20,
            18,
            21,
            18,
            19,
            20,
            20,
            18,
            21,
            18
           ],
           "xaxis": "x",
           "yaxis": "y"
          }
         ],
         "name": "2004"
        },
        {
         "data": [
          {
           "alignmentgroup": "True",
           "bingroup": "x",
           "hovertemplate": "Sexo=M<br>animation_frame=2005<br>Edad=%{x}<br>count=%{y}<extra></extra>",
           "legendgroup": "M",
           "marker": {
            "color": "#636efa",
            "pattern": {
             "shape": ""
            }
           },
           "name": "M",
           "offsetgroup": "M",
           "orientation": "v",
           "showlegend": true,
           "type": "histogram",
           "x": [
            19,
            20,
            26,
            19,
            25,
            23,
            27,
            19,
            22,
            20,
            19,
            18,
            23,
            23,
            21,
            22,
            19,
            19,
            21,
            19,
            19,
            19,
            20,
            19,
            21,
            19,
            27,
            22,
            20,
            24,
            23,
            19,
            21,
            22,
            21,
            18,
            19,
            19,
            20,
            22,
            19,
            18,
            27,
            20,
            22,
            20,
            18,
            20,
            23,
            18,
            19,
            26,
            23,
            23,
            19,
            20,
            20,
            21,
            17,
            21,
            19,
            19,
            22,
            20,
            18,
            19,
            24,
            26,
            24,
            22,
            20,
            25,
            19,
            24,
            22,
            18,
            21,
            27,
            18,
            22,
            21,
            18,
            20,
            21,
            18,
            18,
            22,
            21,
            26,
            21,
            21,
            27,
            19,
            19,
            20,
            19,
            19,
            20,
            20,
            21,
            18,
            24,
            23,
            25,
            19,
            20,
            23,
            20,
            19,
            18,
            23,
            20,
            18,
            17,
            23,
            21,
            19,
            18,
            26,
            19,
            22,
            22,
            21,
            22,
            21,
            20,
            26,
            19,
            19,
            22,
            22,
            24,
            21,
            24,
            20,
            26,
            19,
            19,
            20,
            21,
            18,
            19,
            19,
            21,
            19,
            20,
            21,
            17,
            21,
            21,
            25,
            21,
            18,
            24,
            21,
            19,
            20,
            21,
            22,
            18,
            22,
            18,
            21,
            24,
            21,
            18,
            18,
            20,
            25,
            22,
            18,
            17,
            21,
            21,
            20,
            19,
            22,
            21,
            18,
            20,
            20,
            24,
            21,
            19,
            19,
            19,
            22,
            19,
            19,
            20,
            19,
            23,
            18,
            19,
            20,
            18,
            19,
            20,
            19,
            22,
            19,
            23,
            19,
            20,
            21,
            23,
            19,
            20,
            17,
            25,
            23,
            18,
            23,
            21,
            18,
            22,
            22,
            24,
            19,
            24,
            20,
            18,
            22,
            20,
            19,
            22,
            19,
            21,
            19,
            20,
            21,
            20,
            20,
            24,
            22,
            19,
            21,
            24,
            18,
            18,
            20,
            18,
            17,
            21,
            20,
            25,
            25,
            19,
            19,
            22,
            19,
            22,
            20,
            20,
            22,
            20,
            25,
            21,
            21,
            19,
            24,
            19,
            20,
            22,
            20,
            22,
            21,
            22,
            20,
            21,
            21,
            23,
            19,
            20,
            25,
            20,
            21,
            21,
            22,
            22,
            23,
            20,
            25,
            20,
            21,
            20,
            20,
            22,
            20,
            20,
            19,
            22,
            19,
            26,
            19,
            23,
            25,
            21,
            21,
            20,
            21,
            20,
            22,
            26,
            21,
            19,
            21,
            19,
            25,
            23,
            24,
            21,
            20,
            20,
            20,
            23,
            19,
            19,
            22,
            19,
            19,
            19,
            19,
            19,
            23,
            21,
            20,
            22,
            19,
            21,
            19,
            21,
            20,
            26,
            18,
            22,
            22,
            21,
            22,
            18,
            19,
            25,
            18,
            26,
            19,
            21,
            21,
            20,
            19,
            20,
            21,
            20,
            21,
            26,
            20,
            21,
            25,
            20,
            22,
            24,
            21,
            22,
            21,
            20,
            null,
            22,
            22,
            19,
            19,
            24,
            20,
            24,
            21,
            25,
            22,
            19,
            19,
            20,
            18,
            23,
            24,
            19,
            17,
            18,
            19,
            23,
            21,
            20,
            24,
            19,
            18,
            19,
            20,
            20,
            21,
            18,
            23,
            20,
            26
           ],
           "xaxis": "x",
           "yaxis": "y"
          },
          {
           "alignmentgroup": "True",
           "bingroup": "x",
           "hovertemplate": "Sexo=F<br>animation_frame=2005<br>Edad=%{x}<br>count=%{y}<extra></extra>",
           "legendgroup": "F",
           "marker": {
            "color": "#EF553B",
            "pattern": {
             "shape": ""
            }
           },
           "name": "F",
           "offsetgroup": "F",
           "orientation": "v",
           "showlegend": true,
           "type": "histogram",
           "x": [
            21,
            21,
            19,
            25,
            21,
            19,
            23,
            19,
            19,
            21,
            20,
            21,
            23,
            24,
            19,
            22,
            20,
            21,
            21,
            25,
            20,
            22,
            23,
            19,
            19,
            22,
            20,
            19,
            23,
            19,
            24,
            21,
            20,
            22,
            23,
            21,
            23,
            21,
            21,
            21,
            18,
            20,
            19,
            21,
            25,
            18,
            20,
            22,
            19,
            24,
            18,
            19,
            26,
            19,
            18,
            17,
            19,
            18,
            17,
            22,
            20,
            18,
            24,
            20,
            19,
            21,
            19,
            18,
            22,
            21,
            20,
            20,
            18,
            21,
            19,
            21,
            24,
            21,
            18,
            21,
            19,
            21,
            19,
            18,
            20,
            19,
            18,
            20,
            19,
            25,
            21,
            21,
            20,
            20,
            19,
            18,
            17,
            18,
            17,
            20,
            17,
            19,
            19,
            22,
            20,
            19,
            19,
            21,
            21,
            20,
            21,
            18,
            26,
            17,
            18,
            22,
            20,
            21,
            18,
            24,
            18,
            23,
            22,
            21,
            22,
            18,
            18,
            23,
            21,
            20,
            20,
            20,
            17,
            22,
            23,
            18,
            19,
            23,
            17,
            18,
            19,
            18,
            19,
            20,
            21,
            19,
            22,
            20,
            18,
            25,
            18,
            23,
            25,
            23,
            19,
            17,
            19,
            18,
            18,
            24,
            19,
            21,
            21,
            20,
            20,
            21,
            19,
            20,
            22,
            19,
            21,
            19,
            18,
            21,
            21,
            18,
            19,
            23,
            21,
            22,
            22,
            20,
            22,
            20,
            19,
            25,
            18,
            18,
            19,
            18,
            25,
            19,
            21,
            19,
            23,
            21,
            19,
            22,
            20,
            19,
            18,
            20,
            19,
            21,
            19,
            19,
            19,
            25,
            18,
            20,
            19,
            23,
            20,
            18,
            19,
            24,
            19,
            21,
            21,
            18,
            20,
            23,
            25,
            24,
            19,
            23,
            20,
            24,
            20,
            25,
            20,
            20,
            22,
            22,
            22,
            23,
            22,
            20,
            20,
            20,
            21,
            22,
            18,
            18,
            18,
            19,
            19,
            20,
            24,
            18,
            22,
            18,
            25,
            21,
            20,
            29,
            19,
            18,
            19,
            20,
            23,
            19,
            21,
            20,
            23,
            23,
            17,
            18,
            25,
            17,
            18,
            23
           ],
           "xaxis": "x",
           "yaxis": "y"
          }
         ],
         "name": "2005"
        },
        {
         "data": [
          {
           "alignmentgroup": "True",
           "bingroup": "x",
           "hovertemplate": "Sexo=M<br>animation_frame=2006<br>Edad=%{x}<br>count=%{y}<extra></extra>",
           "legendgroup": "M",
           "marker": {
            "color": "#636efa",
            "pattern": {
             "shape": ""
            }
           },
           "name": "M",
           "offsetgroup": "M",
           "orientation": "v",
           "showlegend": true,
           "type": "histogram",
           "x": [
            21,
            21,
            20,
            22,
            22,
            19,
            23,
            19,
            18,
            25,
            18,
            21,
            22,
            18,
            22,
            20,
            18,
            19,
            19,
            19,
            22,
            19,
            20,
            20,
            25,
            20,
            22,
            22,
            19,
            21,
            24,
            17,
            19,
            18,
            19,
            23,
            22,
            19,
            20,
            19,
            21,
            22,
            20,
            20,
            22,
            20,
            20,
            22,
            20,
            19,
            22,
            20,
            19,
            19,
            19,
            21,
            19,
            20,
            19,
            18,
            20,
            19,
            19,
            18,
            23,
            23,
            25,
            18,
            18,
            21,
            19,
            23,
            18,
            21,
            19,
            19,
            19,
            22,
            18,
            20,
            21,
            18,
            24,
            23,
            18,
            24,
            17,
            18,
            21,
            20,
            21,
            18,
            23,
            18,
            18,
            19,
            19,
            20,
            21,
            19,
            20,
            25,
            25,
            22,
            19,
            18,
            19,
            25,
            19,
            20,
            25,
            24,
            23,
            20,
            21,
            20,
            20,
            22,
            24,
            20,
            22,
            23,
            20,
            19,
            18,
            19,
            22,
            25,
            22,
            20,
            25,
            22,
            21,
            22,
            21,
            21,
            20,
            25,
            20,
            23,
            24,
            21,
            21,
            21,
            23,
            25,
            19,
            18,
            20,
            18,
            20,
            19,
            21,
            18,
            20,
            20,
            19,
            23,
            20,
            21,
            19,
            19,
            20,
            22,
            19,
            18,
            20,
            21,
            17,
            19,
            22,
            26,
            21,
            18,
            19,
            20,
            22,
            19,
            25,
            23,
            22,
            19,
            23,
            20,
            18,
            22,
            20,
            18,
            18,
            20,
            18,
            21,
            23,
            20,
            18,
            20,
            19,
            23,
            18,
            20,
            19,
            20,
            21,
            21,
            18,
            19,
            20,
            20,
            18,
            25,
            21,
            24,
            19,
            20,
            21,
            20,
            21,
            20,
            23,
            19,
            19,
            23,
            22,
            25,
            19,
            24,
            23,
            22,
            22,
            23,
            22,
            21,
            20,
            20,
            19,
            20,
            19,
            19,
            20,
            21,
            23,
            20,
            19,
            21,
            22,
            23,
            20,
            24,
            20,
            23,
            21,
            20,
            23,
            21,
            23,
            22,
            22,
            21,
            21,
            18,
            24,
            22,
            24,
            20,
            20,
            20,
            20,
            19,
            22,
            19,
            20,
            20,
            20,
            19,
            20,
            20,
            21,
            22,
            17,
            23,
            23,
            20,
            19,
            22,
            22,
            19,
            22,
            20,
            21,
            21,
            20,
            24,
            24,
            20,
            20,
            23,
            20,
            22,
            21,
            21,
            18,
            20,
            21,
            20,
            20,
            19,
            20,
            21,
            19,
            19,
            19,
            20,
            24,
            18,
            24,
            19,
            19,
            23,
            20,
            19,
            23,
            24,
            20,
            20,
            19,
            23,
            22,
            23,
            23,
            21,
            22,
            17,
            21,
            20,
            19,
            18,
            23,
            21,
            18,
            19,
            23,
            18,
            22,
            20,
            19,
            22,
            19,
            23,
            21,
            19,
            18,
            22,
            21,
            22,
            21,
            20,
            19,
            18,
            22,
            21,
            17,
            19,
            18,
            22,
            20,
            18,
            18,
            18,
            21,
            22,
            19,
            20,
            24,
            23,
            18,
            19,
            20,
            24,
            18,
            19,
            24,
            21,
            20,
            21,
            null,
            20,
            24,
            19,
            19,
            18,
            18,
            24,
            20
           ],
           "xaxis": "x",
           "yaxis": "y"
          },
          {
           "alignmentgroup": "True",
           "bingroup": "x",
           "hovertemplate": "Sexo=F<br>animation_frame=2006<br>Edad=%{x}<br>count=%{y}<extra></extra>",
           "legendgroup": "F",
           "marker": {
            "color": "#EF553B",
            "pattern": {
             "shape": ""
            }
           },
           "name": "F",
           "offsetgroup": "F",
           "orientation": "v",
           "showlegend": true,
           "type": "histogram",
           "x": [
            19,
            22,
            19,
            19,
            25,
            18,
            18,
            18,
            20,
            18,
            19,
            20,
            18,
            20,
            18,
            25,
            23,
            25,
            18,
            22,
            21,
            20,
            19,
            22,
            24,
            22,
            20,
            17,
            25,
            18,
            19,
            19,
            19,
            18,
            19,
            17,
            20,
            20,
            19,
            18,
            18,
            19,
            21,
            18,
            19,
            22,
            21,
            19,
            20,
            21,
            21,
            18,
            21,
            18,
            19,
            18,
            18,
            19,
            18,
            18,
            19,
            18,
            23,
            20,
            19,
            19,
            18,
            24,
            18,
            21,
            22,
            25,
            25,
            19,
            18,
            20,
            21,
            18,
            18,
            21,
            21,
            18,
            17,
            20,
            19,
            23,
            21,
            22,
            22,
            25,
            22,
            20,
            21,
            19,
            20,
            22,
            18,
            21,
            20,
            19,
            20,
            18,
            21,
            19,
            20,
            19,
            19,
            20,
            19,
            19,
            23,
            20,
            19,
            23,
            21,
            21,
            17,
            18,
            20,
            22,
            19,
            22,
            24,
            19,
            20,
            18,
            20,
            21,
            19,
            21,
            21,
            20,
            19,
            20,
            19,
            21,
            22,
            19,
            23,
            18,
            19,
            18,
            17,
            20,
            18,
            19,
            22,
            23,
            null,
            20,
            19,
            23,
            23,
            23,
            19,
            20,
            25,
            18,
            21,
            21,
            24,
            22,
            20,
            19,
            19,
            22,
            20,
            20,
            18,
            21,
            20,
            21,
            19,
            19,
            25,
            23,
            25,
            22,
            19,
            20,
            19,
            20,
            19,
            21,
            24,
            19,
            23,
            19,
            22,
            19,
            20,
            18,
            18,
            18,
            19,
            19,
            24,
            22,
            23,
            25,
            23,
            25,
            19,
            19,
            24,
            18,
            19,
            19,
            21,
            19,
            17,
            21,
            20,
            19,
            24,
            21,
            19,
            18,
            22,
            23,
            19,
            22,
            20,
            20,
            18,
            20,
            null,
            17,
            19,
            18,
            18,
            21,
            21,
            21,
            19,
            19,
            20,
            19,
            23,
            18,
            18,
            24,
            18,
            19,
            18,
            23,
            20,
            19,
            17,
            18,
            18,
            19,
            17,
            18,
            21,
            19,
            18,
            18,
            22,
            19,
            18,
            22,
            18,
            18,
            20,
            18,
            19,
            24,
            18,
            19,
            20,
            23,
            19,
            19,
            23,
            20,
            17,
            17
           ],
           "xaxis": "x",
           "yaxis": "y"
          }
         ],
         "name": "2006"
        },
        {
         "data": [
          {
           "alignmentgroup": "True",
           "bingroup": "x",
           "hovertemplate": "Sexo=M<br>animation_frame=2007<br>Edad=%{x}<br>count=%{y}<extra></extra>",
           "legendgroup": "M",
           "marker": {
            "color": "#636efa",
            "pattern": {
             "shape": ""
            }
           },
           "name": "M",
           "offsetgroup": "M",
           "orientation": "v",
           "showlegend": true,
           "type": "histogram",
           "x": [
            24,
            23,
            19,
            18,
            19,
            20,
            21,
            20,
            21,
            18,
            20,
            17,
            21,
            18,
            18,
            23,
            19,
            21,
            null,
            21,
            20,
            19,
            19,
            21,
            22,
            17,
            20,
            22,
            17,
            19,
            24,
            23,
            21,
            20,
            23,
            21,
            19,
            22,
            23,
            18,
            19,
            18,
            19,
            19,
            19,
            23,
            22,
            19,
            19,
            21,
            22,
            20,
            20,
            20,
            21,
            21,
            24,
            19,
            18,
            20,
            21,
            20,
            20,
            21,
            21,
            20,
            19,
            23,
            18,
            20,
            20,
            18,
            20,
            18,
            21,
            23,
            18,
            22,
            18,
            21,
            23,
            21,
            18,
            20,
            23,
            20,
            22,
            20,
            19,
            18,
            19,
            21,
            19,
            19,
            23,
            19,
            21,
            24,
            20,
            19,
            20,
            20,
            19,
            19,
            20,
            22,
            22,
            20,
            19,
            20,
            22,
            20,
            23,
            20,
            19,
            22,
            23,
            18,
            20,
            23,
            19,
            19,
            22,
            20,
            22,
            20,
            23,
            20,
            21,
            19,
            24,
            22,
            19,
            22,
            18,
            22,
            20,
            19,
            22,
            21,
            24,
            24,
            20,
            21,
            19,
            19,
            22,
            20,
            22,
            20,
            19,
            24,
            20,
            24,
            21,
            19,
            18,
            19,
            24,
            20,
            23,
            19,
            19,
            19,
            21,
            19,
            19,
            20,
            19,
            20,
            20,
            23,
            18,
            21,
            21,
            null,
            21,
            21,
            23,
            23,
            17,
            19,
            19,
            20,
            22,
            23,
            18,
            23,
            19,
            22,
            22,
            22,
            21,
            20,
            20,
            22,
            20,
            19,
            23,
            18,
            21,
            19,
            20,
            18,
            24,
            20,
            20,
            24,
            18,
            18,
            20,
            21,
            23,
            18,
            20,
            21,
            19,
            18,
            21,
            22,
            18,
            18,
            22,
            20,
            19,
            19,
            18,
            18,
            24,
            22,
            20,
            19,
            20,
            18,
            22,
            18,
            20,
            20,
            21,
            23,
            20,
            19,
            19,
            17,
            18,
            17,
            18,
            18,
            18,
            21,
            17,
            20,
            21,
            20,
            19,
            20,
            22,
            20,
            21,
            20,
            20,
            19,
            18,
            18,
            21,
            22,
            19,
            20,
            17,
            19,
            21,
            18,
            17,
            20,
            18,
            20,
            18,
            19,
            18,
            20,
            17,
            17,
            20,
            21,
            20,
            18,
            20,
            21,
            20,
            19,
            19,
            20,
            19,
            17,
            18,
            19,
            22,
            18,
            20,
            17,
            19,
            23,
            19,
            21,
            18,
            18,
            21,
            20,
            19,
            20,
            18,
            18,
            22,
            19,
            21,
            22,
            19,
            19,
            17,
            18,
            18,
            20,
            19,
            20,
            23,
            17,
            19,
            18,
            18
           ],
           "xaxis": "x",
           "yaxis": "y"
          },
          {
           "alignmentgroup": "True",
           "bingroup": "x",
           "hovertemplate": "Sexo=F<br>animation_frame=2007<br>Edad=%{x}<br>count=%{y}<extra></extra>",
           "legendgroup": "F",
           "marker": {
            "color": "#EF553B",
            "pattern": {
             "shape": ""
            }
           },
           "name": "F",
           "offsetgroup": "F",
           "orientation": "v",
           "showlegend": true,
           "type": "histogram",
           "x": [
            20,
            23,
            19,
            22,
            22,
            22,
            18,
            20,
            18,
            17,
            17,
            19,
            19,
            23,
            20,
            24,
            18,
            21,
            20,
            20,
            19,
            18,
            17,
            20,
            23,
            18,
            18,
            21,
            19,
            22,
            18,
            21,
            19,
            21,
            21,
            20,
            19,
            22,
            19,
            17,
            24,
            22,
            20,
            24,
            21,
            20,
            20,
            20,
            19,
            20,
            19,
            20,
            20,
            22,
            19,
            23,
            21,
            19,
            18,
            20,
            19,
            18,
            19,
            21,
            20,
            18,
            20,
            21,
            17,
            20,
            19,
            24,
            20,
            17,
            19,
            18,
            21,
            18,
            20,
            19,
            22,
            18,
            20,
            19,
            21,
            22,
            19,
            18,
            22,
            19,
            20,
            20,
            20,
            21,
            19,
            19,
            24,
            19,
            20,
            19,
            20,
            20,
            20,
            19,
            20,
            20,
            20,
            19,
            20,
            19,
            20,
            21,
            17,
            18,
            19,
            18,
            19,
            19,
            21,
            22,
            19,
            19,
            20,
            22,
            19,
            19,
            23,
            22,
            19,
            19,
            20,
            18,
            20,
            19,
            24,
            20,
            18,
            22,
            20,
            21,
            20,
            23,
            24,
            22,
            19,
            19,
            20,
            20,
            19,
            18,
            18,
            20,
            19,
            19,
            21,
            22,
            17,
            18,
            21,
            18,
            22,
            19,
            18,
            19,
            19,
            23,
            19,
            19,
            19,
            19,
            19,
            21,
            20,
            23,
            18,
            21,
            22,
            19,
            20,
            19,
            19,
            19,
            21,
            22,
            20,
            19,
            22,
            17,
            20,
            20,
            20,
            23,
            21,
            18,
            21,
            24,
            18,
            19,
            22,
            17,
            17,
            18,
            18,
            19,
            22,
            19,
            23,
            18,
            21,
            22,
            18,
            17,
            19,
            18,
            null,
            19,
            20,
            21,
            20,
            23,
            23,
            19,
            19,
            20,
            18,
            19,
            19,
            19,
            20,
            20,
            18,
            19,
            18,
            18,
            20,
            18,
            21,
            18,
            19,
            17,
            20,
            18,
            19,
            20,
            18,
            19,
            20,
            18,
            17,
            19,
            19,
            21,
            19,
            19,
            23,
            19,
            18,
            20,
            18,
            19,
            17,
            17,
            19,
            19,
            20,
            20,
            21,
            20,
            18,
            18,
            20,
            22,
            19,
            17,
            19,
            20,
            null,
            20,
            18,
            21,
            19,
            20,
            21,
            18,
            18,
            17,
            20,
            20,
            18,
            19,
            17,
            19,
            null,
            18,
            18,
            18,
            18,
            17,
            22,
            19,
            18,
            19,
            17,
            17,
            23,
            20,
            22,
            20,
            17,
            18,
            18,
            21,
            18,
            20
           ],
           "xaxis": "x",
           "yaxis": "y"
          }
         ],
         "name": "2007"
        },
        {
         "data": [
          {
           "alignmentgroup": "True",
           "bingroup": "x",
           "hovertemplate": "Sexo=M<br>animation_frame=2008<br>Edad=%{x}<br>count=%{y}<extra></extra>",
           "legendgroup": "M",
           "marker": {
            "color": "#636efa",
            "pattern": {
             "shape": ""
            }
           },
           "name": "M",
           "offsetgroup": "M",
           "orientation": "v",
           "showlegend": true,
           "type": "histogram",
           "x": [
            19,
            19,
            23,
            19,
            22,
            19,
            19,
            22,
            21,
            22,
            17,
            23,
            18,
            21,
            20,
            18,
            19,
            20,
            22,
            19,
            19,
            19,
            19,
            18,
            20,
            19,
            19,
            18,
            18,
            20,
            22,
            19,
            21,
            21,
            18,
            23,
            21,
            20,
            22,
            21,
            21,
            20,
            20,
            19,
            18,
            19,
            20,
            18,
            20,
            21,
            18,
            19,
            22,
            20,
            18,
            18,
            19,
            22,
            18,
            22,
            20,
            20,
            20,
            20,
            23,
            20,
            null,
            20,
            20,
            20,
            19,
            23,
            22,
            20,
            23,
            22,
            22,
            19,
            21,
            19,
            18,
            18,
            19,
            23,
            18,
            23,
            22,
            19,
            22,
            21,
            23,
            23,
            28,
            23,
            19,
            20,
            18,
            18,
            21,
            22,
            22,
            21,
            19,
            21,
            18,
            20,
            19,
            19,
            20,
            19,
            20,
            18,
            22,
            19,
            19,
            19,
            21,
            22,
            21,
            17,
            20,
            20,
            22,
            20,
            20,
            20,
            20,
            19,
            21,
            17,
            21,
            23,
            19,
            20,
            18,
            20,
            22,
            22,
            18,
            18,
            18,
            18,
            19,
            22,
            21,
            19,
            22,
            20,
            22,
            20,
            20,
            19,
            18,
            20,
            18,
            20,
            22,
            17,
            20,
            20,
            19,
            20,
            19,
            20,
            17,
            19,
            22,
            20,
            19,
            23,
            20,
            22,
            18,
            20,
            20,
            19,
            19,
            20,
            21,
            21,
            19,
            20,
            23,
            19,
            19,
            18,
            19,
            19,
            18,
            18,
            22,
            20,
            19,
            18,
            23,
            19,
            19,
            20,
            22,
            23,
            19,
            23,
            21,
            20,
            21,
            18,
            19,
            18,
            19,
            20,
            20,
            21,
            20,
            19,
            19,
            18,
            18,
            19,
            21,
            18,
            21,
            19,
            21,
            18,
            18,
            20,
            18,
            19,
            19,
            22,
            18,
            21,
            19,
            22,
            19,
            20,
            22,
            20,
            20,
            19,
            19,
            18,
            19,
            21,
            19,
            18,
            18,
            21,
            17,
            18,
            18,
            20,
            21,
            19,
            21,
            21,
            22,
            20,
            19,
            18,
            19,
            19,
            22,
            19,
            19,
            19,
            20,
            22,
            21,
            19,
            19,
            18,
            19,
            19,
            20,
            18,
            21,
            19,
            21,
            19,
            22,
            21,
            20,
            18,
            19,
            18,
            20,
            19,
            21,
            22,
            18,
            19,
            18,
            17,
            20,
            18,
            21,
            18,
            19,
            18,
            19,
            20,
            null,
            17,
            19,
            21,
            18,
            22,
            18,
            20,
            19,
            21,
            20,
            18,
            18,
            19,
            18,
            20,
            18,
            20,
            19,
            20,
            19,
            22,
            18,
            19,
            18,
            20,
            19,
            20,
            18,
            19,
            19,
            18,
            22,
            19,
            18,
            null,
            21,
            21,
            20,
            20,
            21,
            21,
            19,
            18,
            19,
            21,
            21,
            18,
            18,
            18,
            20,
            18,
            18,
            18,
            18,
            19,
            20,
            21,
            20,
            22,
            21
           ],
           "xaxis": "x",
           "yaxis": "y"
          },
          {
           "alignmentgroup": "True",
           "bingroup": "x",
           "hovertemplate": "Sexo=F<br>animation_frame=2008<br>Edad=%{x}<br>count=%{y}<extra></extra>",
           "legendgroup": "F",
           "marker": {
            "color": "#EF553B",
            "pattern": {
             "shape": ""
            }
           },
           "name": "F",
           "offsetgroup": "F",
           "orientation": "v",
           "showlegend": true,
           "type": "histogram",
           "x": [
            21,
            19,
            19,
            19,
            18,
            19,
            18,
            19,
            20,
            23,
            19,
            23,
            20,
            20,
            17,
            18,
            19,
            18,
            21,
            18,
            18,
            18,
            21,
            22,
            20,
            19,
            19,
            17,
            18,
            null,
            20,
            20,
            18,
            18,
            18,
            17,
            19,
            18,
            21,
            23,
            22,
            18,
            19,
            23,
            19,
            19,
            19,
            19,
            21,
            19,
            18,
            18,
            21,
            21,
            20,
            23,
            21,
            22,
            21,
            19,
            23,
            20,
            18,
            20,
            19,
            19,
            18,
            20,
            20,
            20,
            19,
            18,
            19,
            19,
            18,
            19,
            18,
            20,
            19,
            19,
            21,
            22,
            18,
            21,
            20,
            19,
            null,
            19,
            20,
            20,
            19,
            18,
            19,
            19,
            21,
            21,
            21,
            19,
            19,
            21,
            22,
            18,
            19,
            18,
            18,
            20,
            20,
            19,
            20,
            19,
            21,
            22,
            18,
            19,
            20,
            19,
            19,
            19,
            19,
            19,
            19,
            21,
            19,
            20,
            17,
            20,
            18,
            18,
            21,
            23,
            22,
            23,
            18,
            20,
            20,
            19,
            19,
            21,
            19,
            20,
            20,
            20,
            18,
            21,
            19,
            21,
            21,
            22,
            17,
            19,
            21,
            18,
            20,
            18,
            20,
            20,
            21,
            19,
            19,
            21,
            19,
            18,
            20,
            19,
            19,
            20,
            19,
            22,
            17,
            21,
            17,
            21,
            22,
            18,
            20,
            19,
            22,
            18,
            19,
            18,
            19,
            25,
            21,
            21,
            21,
            18,
            18,
            20,
            19,
            20,
            18,
            20,
            18,
            19,
            18,
            18,
            20,
            18,
            19,
            18,
            21,
            19,
            22,
            18,
            22,
            19,
            22,
            17,
            22,
            18,
            18,
            null,
            20,
            19,
            22,
            22,
            19,
            19,
            19,
            20,
            19,
            19,
            21,
            19,
            20,
            19,
            19,
            20,
            19,
            20,
            18,
            20,
            20,
            18,
            20,
            17,
            22,
            17,
            18,
            18,
            18,
            19,
            22,
            21,
            20,
            20,
            18,
            18,
            20,
            20,
            18,
            18,
            17,
            20,
            19,
            22,
            21,
            18,
            20,
            18,
            19,
            21,
            18,
            21,
            19,
            33,
            17,
            18,
            18,
            19,
            19,
            21,
            19,
            19,
            22,
            19,
            19,
            19,
            19
           ],
           "xaxis": "x",
           "yaxis": "y"
          }
         ],
         "name": "2008"
        },
        {
         "data": [
          {
           "alignmentgroup": "True",
           "bingroup": "x",
           "hovertemplate": "Sexo=M<br>animation_frame=2009<br>Edad=%{x}<br>count=%{y}<extra></extra>",
           "legendgroup": "M",
           "marker": {
            "color": "#636efa",
            "pattern": {
             "shape": ""
            }
           },
           "name": "M",
           "offsetgroup": "M",
           "orientation": "v",
           "showlegend": true,
           "type": "histogram",
           "x": [
            19,
            22,
            17,
            19,
            21,
            19,
            20,
            21,
            19,
            18,
            18,
            21,
            20,
            21,
            21,
            20,
            19,
            21,
            19,
            20,
            19,
            21,
            22,
            21,
            21,
            19,
            18,
            19,
            20,
            19,
            21,
            19,
            21,
            21,
            21,
            19,
            21,
            21,
            21,
            21,
            18,
            21,
            22,
            19,
            20,
            20,
            21,
            null,
            20,
            19,
            20,
            21,
            20,
            19,
            21,
            20,
            19,
            19,
            21,
            18,
            18,
            19,
            20,
            19,
            18,
            20,
            20,
            19,
            19,
            20,
            20,
            19,
            19,
            19,
            19,
            22,
            19,
            19,
            19,
            20,
            19,
            19,
            19,
            21,
            19,
            21,
            20,
            21,
            19,
            20,
            20,
            21,
            21,
            20,
            21,
            19,
            22,
            21,
            20,
            19,
            20,
            19,
            21,
            19,
            20,
            19,
            20,
            20,
            19,
            22,
            19,
            20,
            19,
            21,
            21,
            19,
            17,
            17,
            20,
            18,
            19,
            19,
            20,
            19,
            19,
            19,
            20,
            18,
            18,
            21,
            20,
            19,
            19,
            18,
            20,
            19,
            19,
            21,
            21,
            18,
            18,
            19,
            20,
            18,
            20,
            20,
            21,
            20,
            20,
            18,
            20,
            18,
            20,
            18,
            18,
            18,
            21,
            20,
            20,
            18,
            20,
            20,
            22,
            19,
            19,
            20,
            20,
            19,
            20,
            21,
            18,
            19,
            17,
            18,
            18,
            22,
            18,
            18,
            18,
            26,
            20,
            18,
            21,
            21,
            19,
            19,
            19,
            19,
            19,
            21,
            17,
            21,
            20,
            18,
            18,
            19,
            19,
            20,
            20,
            17,
            19,
            18,
            19,
            20,
            19,
            19,
            21,
            18,
            19,
            19,
            19,
            19,
            21,
            19,
            19,
            21,
            20,
            21,
            19,
            19,
            21,
            19,
            19,
            20,
            21,
            21,
            18,
            19,
            21,
            18,
            19,
            20,
            20,
            19,
            19,
            18,
            19,
            18,
            21,
            19,
            20,
            19,
            19,
            20,
            18,
            19,
            21,
            20,
            20,
            21,
            20,
            19,
            20,
            19,
            21,
            18,
            21,
            21,
            20,
            18,
            20,
            19,
            21,
            19,
            19,
            18,
            19,
            18,
            20,
            21,
            21,
            20,
            19,
            21,
            20,
            19,
            19,
            18,
            20,
            17,
            20,
            20,
            19,
            19,
            19,
            19,
            19,
            20,
            20,
            21,
            20,
            19,
            19,
            19,
            19,
            19,
            21,
            20,
            19,
            20,
            19,
            19,
            19,
            21,
            20,
            19,
            20,
            18,
            17,
            20,
            18,
            18,
            19,
            18,
            18,
            20,
            19,
            20,
            18,
            18,
            18,
            18,
            18,
            19,
            19,
            20,
            18,
            18,
            19,
            19
           ],
           "xaxis": "x",
           "yaxis": "y"
          },
          {
           "alignmentgroup": "True",
           "bingroup": "x",
           "hovertemplate": "Sexo=F<br>animation_frame=2009<br>Edad=%{x}<br>count=%{y}<extra></extra>",
           "legendgroup": "F",
           "marker": {
            "color": "#EF553B",
            "pattern": {
             "shape": ""
            }
           },
           "name": "F",
           "offsetgroup": "F",
           "orientation": "v",
           "showlegend": true,
           "type": "histogram",
           "x": [
            20,
            19,
            20,
            19,
            19,
            20,
            21,
            20,
            19,
            22,
            18,
            18,
            19,
            18,
            19,
            22,
            20,
            20,
            19,
            18,
            19,
            19,
            19,
            21,
            19,
            20,
            20,
            19,
            21,
            19,
            22,
            19,
            19,
            18,
            20,
            19,
            19,
            18,
            19,
            19,
            18,
            19,
            22,
            20,
            20,
            19,
            21,
            20,
            20,
            19,
            20,
            18,
            19,
            20,
            18,
            21,
            18,
            19,
            20,
            19,
            19,
            20,
            20,
            18,
            18,
            null,
            19,
            20,
            19,
            20,
            18,
            17,
            20,
            20,
            19,
            18,
            18,
            19,
            21,
            19,
            19,
            19,
            19,
            18,
            19,
            18,
            19,
            19,
            19,
            20,
            18,
            21,
            21,
            18,
            18,
            19,
            21,
            20,
            20,
            18,
            19,
            18,
            19,
            21,
            18,
            18,
            21,
            19,
            18,
            22,
            18,
            20,
            18,
            18,
            20,
            18,
            19,
            20,
            20,
            20,
            17,
            19,
            19,
            18,
            20,
            18,
            18,
            17,
            17,
            18,
            19,
            20,
            18,
            18,
            21,
            21,
            19,
            18,
            19,
            21,
            20,
            19,
            19,
            18,
            20,
            18,
            21,
            18,
            17,
            18,
            18,
            21,
            19,
            20,
            19,
            19,
            19,
            18,
            18,
            19,
            17,
            19,
            20,
            19,
            20,
            21,
            18,
            19,
            20,
            18,
            21,
            21,
            17,
            18,
            18,
            19,
            18,
            18,
            20,
            20,
            18,
            19,
            20,
            17,
            18,
            18,
            19,
            17,
            19,
            19,
            20,
            19,
            18,
            21,
            21,
            20,
            18,
            18,
            20,
            19,
            18,
            19,
            19,
            18,
            20,
            20,
            21,
            18,
            19,
            17,
            21,
            19,
            18,
            19,
            19,
            18,
            21,
            19,
            19,
            20,
            19,
            18,
            20,
            20,
            20,
            18,
            19,
            19,
            19,
            19,
            19,
            21,
            21,
            19,
            19,
            20,
            19,
            19,
            21,
            19,
            18,
            19,
            18,
            20,
            19,
            19,
            18,
            19,
            21,
            21,
            20,
            19,
            19,
            19,
            19,
            19,
            19,
            20,
            20,
            18,
            18,
            18,
            18,
            19,
            20,
            19,
            19,
            18,
            17,
            19,
            18,
            18,
            22,
            17,
            19,
            19,
            21,
            20,
            20,
            19,
            19,
            19,
            19,
            19,
            19,
            20,
            21,
            18,
            19,
            20,
            19,
            19,
            19,
            18,
            17,
            17,
            20,
            18,
            20,
            19,
            20,
            20,
            21,
            19,
            21,
            19,
            18,
            18,
            20,
            18,
            17,
            18,
            19,
            18,
            19,
            20,
            18,
            17,
            null,
            18,
            18,
            19,
            18,
            18,
            18,
            17,
            20,
            20
           ],
           "xaxis": "x",
           "yaxis": "y"
          }
         ],
         "name": "2009"
        },
        {
         "data": [
          {
           "alignmentgroup": "True",
           "bingroup": "x",
           "hovertemplate": "Sexo=M<br>animation_frame=2010<br>Edad=%{x}<br>count=%{y}<extra></extra>",
           "legendgroup": "M",
           "marker": {
            "color": "#636efa",
            "pattern": {
             "shape": ""
            }
           },
           "name": "M",
           "offsetgroup": "M",
           "orientation": "v",
           "showlegend": true,
           "type": "histogram",
           "x": [
            20,
            20,
            20,
            20,
            19,
            20,
            20,
            18,
            18,
            20,
            19,
            21,
            20,
            20,
            19,
            19,
            18,
            19,
            19,
            18,
            19,
            20,
            18,
            20,
            20,
            20,
            19,
            20,
            20,
            19,
            18,
            18,
            19,
            19,
            18,
            18,
            19,
            17,
            20,
            20,
            19,
            19,
            17,
            18,
            17,
            18,
            19,
            20,
            20,
            18,
            20,
            19,
            18,
            20,
            19,
            19,
            19,
            20,
            19,
            18,
            18,
            19,
            20,
            17,
            17,
            19,
            20,
            19,
            18,
            19,
            18,
            20,
            19,
            19,
            19,
            20,
            18,
            19,
            19,
            19,
            19,
            19,
            20,
            20,
            19,
            20,
            19,
            18,
            19,
            19,
            18,
            19,
            18,
            20,
            19,
            19,
            20,
            19,
            19,
            19,
            20,
            19,
            19,
            19,
            18,
            17,
            20,
            18,
            19,
            20,
            19,
            19,
            20,
            20,
            19,
            19,
            19,
            20,
            20,
            19,
            19,
            19,
            19,
            18,
            19,
            19,
            20,
            18,
            19,
            19,
            18,
            19,
            19,
            19,
            18,
            19,
            20,
            19,
            19,
            18,
            18,
            19,
            18,
            18,
            19,
            19,
            18,
            17,
            17,
            18,
            19,
            19,
            19,
            18,
            18,
            18,
            18,
            20,
            18,
            18,
            18,
            18,
            18,
            18,
            18,
            18,
            18,
            18,
            18,
            18,
            18,
            19,
            18,
            18,
            18,
            19,
            19,
            19,
            19,
            18,
            18,
            19,
            19,
            18,
            18,
            18,
            20,
            17,
            19,
            18,
            18,
            17,
            17,
            18,
            20,
            19,
            20,
            19,
            18,
            18,
            17,
            18,
            19,
            18,
            18,
            18,
            19,
            19,
            18,
            19,
            18,
            18,
            18,
            19,
            20,
            19,
            19,
            18,
            18,
            19,
            19,
            19,
            18,
            19,
            18,
            18,
            19,
            19,
            18,
            19,
            19,
            19,
            17,
            19,
            17,
            18,
            18,
            17,
            18,
            17,
            18,
            18,
            19,
            19,
            17,
            19,
            18,
            18,
            19,
            19,
            18,
            18,
            18,
            18,
            17,
            17,
            17,
            18,
            18,
            18,
            18,
            19,
            19,
            18,
            18,
            18,
            19,
            18,
            18,
            18,
            18,
            19,
            19,
            19,
            18,
            19,
            18,
            18,
            18,
            17,
            18,
            23,
            18,
            17,
            17,
            18,
            18,
            18,
            17,
            18,
            18,
            17,
            17,
            18,
            17,
            18,
            17,
            18,
            18,
            18,
            18,
            17,
            21,
            21,
            18,
            20,
            29,
            21,
            22,
            19,
            29,
            22,
            18,
            19,
            22,
            24,
            20,
            19,
            20,
            22,
            22,
            19,
            20,
            26,
            19,
            20,
            25,
            24,
            28
           ],
           "xaxis": "x",
           "yaxis": "y"
          },
          {
           "alignmentgroup": "True",
           "bingroup": "x",
           "hovertemplate": "Sexo=F<br>animation_frame=2010<br>Edad=%{x}<br>count=%{y}<extra></extra>",
           "legendgroup": "F",
           "marker": {
            "color": "#EF553B",
            "pattern": {
             "shape": ""
            }
           },
           "name": "F",
           "offsetgroup": "F",
           "orientation": "v",
           "showlegend": true,
           "type": "histogram",
           "x": [
            20,
            17,
            20,
            18,
            20,
            19,
            18,
            18,
            18,
            19,
            20,
            18,
            17,
            19,
            20,
            18,
            18,
            20,
            21,
            18,
            19,
            20,
            18,
            20,
            18,
            19,
            20,
            19,
            18,
            20,
            20,
            20,
            18,
            18,
            19,
            18,
            20,
            18,
            19,
            20,
            19,
            20,
            18,
            18,
            18,
            17,
            18,
            18,
            18,
            19,
            19,
            18,
            19,
            18,
            18,
            19,
            19,
            20,
            19,
            19,
            19,
            18,
            20,
            18,
            19,
            18,
            19,
            18,
            20,
            18,
            19,
            17,
            null,
            18,
            18,
            18,
            20,
            20,
            17,
            17,
            18,
            19,
            19,
            19,
            18,
            25,
            18,
            19,
            18,
            18,
            18,
            17,
            18,
            19,
            19,
            22,
            18,
            19,
            20,
            19,
            18,
            20,
            21,
            18,
            19,
            20,
            20,
            19,
            20,
            18,
            19,
            18,
            19,
            17,
            20,
            22,
            19,
            18,
            19,
            17,
            19,
            18,
            17,
            19,
            17,
            19,
            19,
            19,
            19,
            19,
            18,
            20,
            17,
            18,
            19,
            18,
            19,
            17,
            17,
            19,
            18,
            19,
            19,
            18,
            17,
            19,
            19,
            18,
            17,
            18,
            18,
            17,
            18,
            18,
            17,
            18,
            19,
            18,
            19,
            20,
            19,
            20,
            19,
            17,
            19,
            19,
            19,
            18,
            19,
            17,
            19,
            20,
            18,
            18,
            17,
            19,
            18,
            19,
            18,
            19,
            19,
            18,
            null,
            19,
            19,
            18,
            18,
            18,
            20,
            18,
            18,
            18,
            20,
            20,
            18,
            18,
            19,
            18,
            19,
            18,
            18,
            18,
            19,
            17,
            17,
            18,
            19,
            18,
            19,
            18,
            19,
            19,
            18,
            18,
            18,
            19,
            18,
            19,
            18,
            19,
            19,
            18,
            19,
            17,
            18,
            17,
            null,
            17,
            19,
            17,
            18,
            18,
            18,
            19,
            18,
            19,
            18,
            20,
            19,
            18,
            18,
            18,
            19,
            18,
            17,
            18,
            19,
            18,
            18,
            18,
            19,
            18,
            17,
            18,
            17,
            18,
            18,
            19,
            19,
            19,
            19,
            18,
            17,
            18,
            18,
            18,
            null,
            18,
            19,
            19,
            19,
            18,
            18,
            17,
            17,
            17,
            18,
            18,
            19,
            18,
            null,
            18,
            17,
            17,
            18,
            18,
            18,
            17,
            18,
            null,
            17,
            18,
            18,
            17,
            19,
            19,
            18,
            19,
            18,
            19,
            19,
            18,
            19,
            19,
            18,
            17,
            18,
            17,
            22,
            19,
            18,
            19,
            18,
            18,
            17,
            18,
            17,
            19,
            18,
            17,
            18,
            17,
            18,
            18,
            18,
            18,
            18,
            17,
            18,
            18,
            17,
            18,
            17,
            18,
            17,
            18,
            18,
            18,
            18,
            17,
            20,
            53,
            18,
            21,
            20,
            23,
            23,
            27,
            24,
            22,
            25,
            20,
            21,
            26,
            23,
            20,
            20,
            20,
            27,
            29,
            27,
            22
           ],
           "xaxis": "x",
           "yaxis": "y"
          }
         ],
         "name": "2010"
        }
       ],
       "layout": {
        "barmode": "relative",
        "legend": {
         "title": {
          "text": "Sexo"
         },
         "tracegroupgap": 0
        },
        "sliders": [
         {
          "active": 0,
          "currentvalue": {
           "prefix": "animation_frame="
          },
          "len": 0.9,
          "pad": {
           "b": 10,
           "t": 60
          },
          "steps": [
           {
            "args": [
             [
              "2001"
             ],
             {
              "frame": {
               "duration": 0,
               "redraw": true
              },
              "fromcurrent": true,
              "mode": "immediate",
              "transition": {
               "duration": 0,
               "easing": "linear"
              }
             }
            ],
            "label": "2001",
            "method": "animate"
           },
           {
            "args": [
             [
              "2002"
             ],
             {
              "frame": {
               "duration": 0,
               "redraw": true
              },
              "fromcurrent": true,
              "mode": "immediate",
              "transition": {
               "duration": 0,
               "easing": "linear"
              }
             }
            ],
            "label": "2002",
            "method": "animate"
           },
           {
            "args": [
             [
              "2003"
             ],
             {
              "frame": {
               "duration": 0,
               "redraw": true
              },
              "fromcurrent": true,
              "mode": "immediate",
              "transition": {
               "duration": 0,
               "easing": "linear"
              }
             }
            ],
            "label": "2003",
            "method": "animate"
           },
           {
            "args": [
             [
              "2004"
             ],
             {
              "frame": {
               "duration": 0,
               "redraw": true
              },
              "fromcurrent": true,
              "mode": "immediate",
              "transition": {
               "duration": 0,
               "easing": "linear"
              }
             }
            ],
            "label": "2004",
            "method": "animate"
           },
           {
            "args": [
             [
              "2005"
             ],
             {
              "frame": {
               "duration": 0,
               "redraw": true
              },
              "fromcurrent": true,
              "mode": "immediate",
              "transition": {
               "duration": 0,
               "easing": "linear"
              }
             }
            ],
            "label": "2005",
            "method": "animate"
           },
           {
            "args": [
             [
              "2006"
             ],
             {
              "frame": {
               "duration": 0,
               "redraw": true
              },
              "fromcurrent": true,
              "mode": "immediate",
              "transition": {
               "duration": 0,
               "easing": "linear"
              }
             }
            ],
            "label": "2006",
            "method": "animate"
           },
           {
            "args": [
             [
              "2007"
             ],
             {
              "frame": {
               "duration": 0,
               "redraw": true
              },
              "fromcurrent": true,
              "mode": "immediate",
              "transition": {
               "duration": 0,
               "easing": "linear"
              }
             }
            ],
            "label": "2007",
            "method": "animate"
           },
           {
            "args": [
             [
              "2008"
             ],
             {
              "frame": {
               "duration": 0,
               "redraw": true
              },
              "fromcurrent": true,
              "mode": "immediate",
              "transition": {
               "duration": 0,
               "easing": "linear"
              }
             }
            ],
            "label": "2008",
            "method": "animate"
           },
           {
            "args": [
             [
              "2009"
             ],
             {
              "frame": {
               "duration": 0,
               "redraw": true
              },
              "fromcurrent": true,
              "mode": "immediate",
              "transition": {
               "duration": 0,
               "easing": "linear"
              }
             }
            ],
            "label": "2009",
            "method": "animate"
           },
           {
            "args": [
             [
              "2010"
             ],
             {
              "frame": {
               "duration": 0,
               "redraw": true
              },
              "fromcurrent": true,
              "mode": "immediate",
              "transition": {
               "duration": 0,
               "easing": "linear"
              }
             }
            ],
            "label": "2010",
            "method": "animate"
           }
          ],
          "x": 0.1,
          "xanchor": "left",
          "y": 0,
          "yanchor": "top"
         }
        ],
        "template": {
         "data": {
          "bar": [
           {
            "error_x": {
             "color": "#2a3f5f"
            },
            "error_y": {
             "color": "#2a3f5f"
            },
            "marker": {
             "line": {
              "color": "#E5ECF6",
              "width": 0.5
             },
             "pattern": {
              "fillmode": "overlay",
              "size": 10,
              "solidity": 0.2
             }
            },
            "type": "bar"
           }
          ],
          "barpolar": [
           {
            "marker": {
             "line": {
              "color": "#E5ECF6",
              "width": 0.5
             },
             "pattern": {
              "fillmode": "overlay",
              "size": 10,
              "solidity": 0.2
             }
            },
            "type": "barpolar"
           }
          ],
          "carpet": [
           {
            "aaxis": {
             "endlinecolor": "#2a3f5f",
             "gridcolor": "white",
             "linecolor": "white",
             "minorgridcolor": "white",
             "startlinecolor": "#2a3f5f"
            },
            "baxis": {
             "endlinecolor": "#2a3f5f",
             "gridcolor": "white",
             "linecolor": "white",
             "minorgridcolor": "white",
             "startlinecolor": "#2a3f5f"
            },
            "type": "carpet"
           }
          ],
          "choropleth": [
           {
            "colorbar": {
             "outlinewidth": 0,
             "ticks": ""
            },
            "type": "choropleth"
           }
          ],
          "contour": [
           {
            "colorbar": {
             "outlinewidth": 0,
             "ticks": ""
            },
            "colorscale": [
             [
              0,
              "#0d0887"
             ],
             [
              0.1111111111111111,
              "#46039f"
             ],
             [
              0.2222222222222222,
              "#7201a8"
             ],
             [
              0.3333333333333333,
              "#9c179e"
             ],
             [
              0.4444444444444444,
              "#bd3786"
             ],
             [
              0.5555555555555556,
              "#d8576b"
             ],
             [
              0.6666666666666666,
              "#ed7953"
             ],
             [
              0.7777777777777778,
              "#fb9f3a"
             ],
             [
              0.8888888888888888,
              "#fdca26"
             ],
             [
              1,
              "#f0f921"
             ]
            ],
            "type": "contour"
           }
          ],
          "contourcarpet": [
           {
            "colorbar": {
             "outlinewidth": 0,
             "ticks": ""
            },
            "type": "contourcarpet"
           }
          ],
          "heatmap": [
           {
            "colorbar": {
             "outlinewidth": 0,
             "ticks": ""
            },
            "colorscale": [
             [
              0,
              "#0d0887"
             ],
             [
              0.1111111111111111,
              "#46039f"
             ],
             [
              0.2222222222222222,
              "#7201a8"
             ],
             [
              0.3333333333333333,
              "#9c179e"
             ],
             [
              0.4444444444444444,
              "#bd3786"
             ],
             [
              0.5555555555555556,
              "#d8576b"
             ],
             [
              0.6666666666666666,
              "#ed7953"
             ],
             [
              0.7777777777777778,
              "#fb9f3a"
             ],
             [
              0.8888888888888888,
              "#fdca26"
             ],
             [
              1,
              "#f0f921"
             ]
            ],
            "type": "heatmap"
           }
          ],
          "heatmapgl": [
           {
            "colorbar": {
             "outlinewidth": 0,
             "ticks": ""
            },
            "colorscale": [
             [
              0,
              "#0d0887"
             ],
             [
              0.1111111111111111,
              "#46039f"
             ],
             [
              0.2222222222222222,
              "#7201a8"
             ],
             [
              0.3333333333333333,
              "#9c179e"
             ],
             [
              0.4444444444444444,
              "#bd3786"
             ],
             [
              0.5555555555555556,
              "#d8576b"
             ],
             [
              0.6666666666666666,
              "#ed7953"
             ],
             [
              0.7777777777777778,
              "#fb9f3a"
             ],
             [
              0.8888888888888888,
              "#fdca26"
             ],
             [
              1,
              "#f0f921"
             ]
            ],
            "type": "heatmapgl"
           }
          ],
          "histogram": [
           {
            "marker": {
             "pattern": {
              "fillmode": "overlay",
              "size": 10,
              "solidity": 0.2
             }
            },
            "type": "histogram"
           }
          ],
          "histogram2d": [
           {
            "colorbar": {
             "outlinewidth": 0,
             "ticks": ""
            },
            "colorscale": [
             [
              0,
              "#0d0887"
             ],
             [
              0.1111111111111111,
              "#46039f"
             ],
             [
              0.2222222222222222,
              "#7201a8"
             ],
             [
              0.3333333333333333,
              "#9c179e"
             ],
             [
              0.4444444444444444,
              "#bd3786"
             ],
             [
              0.5555555555555556,
              "#d8576b"
             ],
             [
              0.6666666666666666,
              "#ed7953"
             ],
             [
              0.7777777777777778,
              "#fb9f3a"
             ],
             [
              0.8888888888888888,
              "#fdca26"
             ],
             [
              1,
              "#f0f921"
             ]
            ],
            "type": "histogram2d"
           }
          ],
          "histogram2dcontour": [
           {
            "colorbar": {
             "outlinewidth": 0,
             "ticks": ""
            },
            "colorscale": [
             [
              0,
              "#0d0887"
             ],
             [
              0.1111111111111111,
              "#46039f"
             ],
             [
              0.2222222222222222,
              "#7201a8"
             ],
             [
              0.3333333333333333,
              "#9c179e"
             ],
             [
              0.4444444444444444,
              "#bd3786"
             ],
             [
              0.5555555555555556,
              "#d8576b"
             ],
             [
              0.6666666666666666,
              "#ed7953"
             ],
             [
              0.7777777777777778,
              "#fb9f3a"
             ],
             [
              0.8888888888888888,
              "#fdca26"
             ],
             [
              1,
              "#f0f921"
             ]
            ],
            "type": "histogram2dcontour"
           }
          ],
          "mesh3d": [
           {
            "colorbar": {
             "outlinewidth": 0,
             "ticks": ""
            },
            "type": "mesh3d"
           }
          ],
          "parcoords": [
           {
            "line": {
             "colorbar": {
              "outlinewidth": 0,
              "ticks": ""
             }
            },
            "type": "parcoords"
           }
          ],
          "pie": [
           {
            "automargin": true,
            "type": "pie"
           }
          ],
          "scatter": [
           {
            "fillpattern": {
             "fillmode": "overlay",
             "size": 10,
             "solidity": 0.2
            },
            "type": "scatter"
           }
          ],
          "scatter3d": [
           {
            "line": {
             "colorbar": {
              "outlinewidth": 0,
              "ticks": ""
             }
            },
            "marker": {
             "colorbar": {
              "outlinewidth": 0,
              "ticks": ""
             }
            },
            "type": "scatter3d"
           }
          ],
          "scattercarpet": [
           {
            "marker": {
             "colorbar": {
              "outlinewidth": 0,
              "ticks": ""
             }
            },
            "type": "scattercarpet"
           }
          ],
          "scattergeo": [
           {
            "marker": {
             "colorbar": {
              "outlinewidth": 0,
              "ticks": ""
             }
            },
            "type": "scattergeo"
           }
          ],
          "scattergl": [
           {
            "marker": {
             "colorbar": {
              "outlinewidth": 0,
              "ticks": ""
             }
            },
            "type": "scattergl"
           }
          ],
          "scattermapbox": [
           {
            "marker": {
             "colorbar": {
              "outlinewidth": 0,
              "ticks": ""
             }
            },
            "type": "scattermapbox"
           }
          ],
          "scatterpolar": [
           {
            "marker": {
             "colorbar": {
              "outlinewidth": 0,
              "ticks": ""
             }
            },
            "type": "scatterpolar"
           }
          ],
          "scatterpolargl": [
           {
            "marker": {
             "colorbar": {
              "outlinewidth": 0,
              "ticks": ""
             }
            },
            "type": "scatterpolargl"
           }
          ],
          "scatterternary": [
           {
            "marker": {
             "colorbar": {
              "outlinewidth": 0,
              "ticks": ""
             }
            },
            "type": "scatterternary"
           }
          ],
          "surface": [
           {
            "colorbar": {
             "outlinewidth": 0,
             "ticks": ""
            },
            "colorscale": [
             [
              0,
              "#0d0887"
             ],
             [
              0.1111111111111111,
              "#46039f"
             ],
             [
              0.2222222222222222,
              "#7201a8"
             ],
             [
              0.3333333333333333,
              "#9c179e"
             ],
             [
              0.4444444444444444,
              "#bd3786"
             ],
             [
              0.5555555555555556,
              "#d8576b"
             ],
             [
              0.6666666666666666,
              "#ed7953"
             ],
             [
              0.7777777777777778,
              "#fb9f3a"
             ],
             [
              0.8888888888888888,
              "#fdca26"
             ],
             [
              1,
              "#f0f921"
             ]
            ],
            "type": "surface"
           }
          ],
          "table": [
           {
            "cells": {
             "fill": {
              "color": "#EBF0F8"
             },
             "line": {
              "color": "white"
             }
            },
            "header": {
             "fill": {
              "color": "#C8D4E3"
             },
             "line": {
              "color": "white"
             }
            },
            "type": "table"
           }
          ]
         },
         "layout": {
          "annotationdefaults": {
           "arrowcolor": "#2a3f5f",
           "arrowhead": 0,
           "arrowwidth": 1
          },
          "autotypenumbers": "strict",
          "coloraxis": {
           "colorbar": {
            "outlinewidth": 0,
            "ticks": ""
           }
          },
          "colorscale": {
           "diverging": [
            [
             0,
             "#8e0152"
            ],
            [
             0.1,
             "#c51b7d"
            ],
            [
             0.2,
             "#de77ae"
            ],
            [
             0.3,
             "#f1b6da"
            ],
            [
             0.4,
             "#fde0ef"
            ],
            [
             0.5,
             "#f7f7f7"
            ],
            [
             0.6,
             "#e6f5d0"
            ],
            [
             0.7,
             "#b8e186"
            ],
            [
             0.8,
             "#7fbc41"
            ],
            [
             0.9,
             "#4d9221"
            ],
            [
             1,
             "#276419"
            ]
           ],
           "sequential": [
            [
             0,
             "#0d0887"
            ],
            [
             0.1111111111111111,
             "#46039f"
            ],
            [
             0.2222222222222222,
             "#7201a8"
            ],
            [
             0.3333333333333333,
             "#9c179e"
            ],
            [
             0.4444444444444444,
             "#bd3786"
            ],
            [
             0.5555555555555556,
             "#d8576b"
            ],
            [
             0.6666666666666666,
             "#ed7953"
            ],
            [
             0.7777777777777778,
             "#fb9f3a"
            ],
            [
             0.8888888888888888,
             "#fdca26"
            ],
            [
             1,
             "#f0f921"
            ]
           ],
           "sequentialminus": [
            [
             0,
             "#0d0887"
            ],
            [
             0.1111111111111111,
             "#46039f"
            ],
            [
             0.2222222222222222,
             "#7201a8"
            ],
            [
             0.3333333333333333,
             "#9c179e"
            ],
            [
             0.4444444444444444,
             "#bd3786"
            ],
            [
             0.5555555555555556,
             "#d8576b"
            ],
            [
             0.6666666666666666,
             "#ed7953"
            ],
            [
             0.7777777777777778,
             "#fb9f3a"
            ],
            [
             0.8888888888888888,
             "#fdca26"
            ],
            [
             1,
             "#f0f921"
            ]
           ]
          },
          "colorway": [
           "#636efa",
           "#EF553B",
           "#00cc96",
           "#ab63fa",
           "#FFA15A",
           "#19d3f3",
           "#FF6692",
           "#B6E880",
           "#FF97FF",
           "#FECB52"
          ],
          "font": {
           "color": "#2a3f5f"
          },
          "geo": {
           "bgcolor": "white",
           "lakecolor": "white",
           "landcolor": "#E5ECF6",
           "showlakes": true,
           "showland": true,
           "subunitcolor": "white"
          },
          "hoverlabel": {
           "align": "left"
          },
          "hovermode": "closest",
          "mapbox": {
           "style": "light"
          },
          "paper_bgcolor": "white",
          "plot_bgcolor": "#E5ECF6",
          "polar": {
           "angularaxis": {
            "gridcolor": "white",
            "linecolor": "white",
            "ticks": ""
           },
           "bgcolor": "#E5ECF6",
           "radialaxis": {
            "gridcolor": "white",
            "linecolor": "white",
            "ticks": ""
           }
          },
          "scene": {
           "xaxis": {
            "backgroundcolor": "#E5ECF6",
            "gridcolor": "white",
            "gridwidth": 2,
            "linecolor": "white",
            "showbackground": true,
            "ticks": "",
            "zerolinecolor": "white"
           },
           "yaxis": {
            "backgroundcolor": "#E5ECF6",
            "gridcolor": "white",
            "gridwidth": 2,
            "linecolor": "white",
            "showbackground": true,
            "ticks": "",
            "zerolinecolor": "white"
           },
           "zaxis": {
            "backgroundcolor": "#E5ECF6",
            "gridcolor": "white",
            "gridwidth": 2,
            "linecolor": "white",
            "showbackground": true,
            "ticks": "",
            "zerolinecolor": "white"
           }
          },
          "shapedefaults": {
           "line": {
            "color": "#2a3f5f"
           }
          },
          "ternary": {
           "aaxis": {
            "gridcolor": "white",
            "linecolor": "white",
            "ticks": ""
           },
           "baxis": {
            "gridcolor": "white",
            "linecolor": "white",
            "ticks": ""
           },
           "bgcolor": "#E5ECF6",
           "caxis": {
            "gridcolor": "white",
            "linecolor": "white",
            "ticks": ""
           }
          },
          "title": {
           "x": 0.05
          },
          "xaxis": {
           "automargin": true,
           "gridcolor": "white",
           "linecolor": "white",
           "ticks": "",
           "title": {
            "standoff": 15
           },
           "zerolinecolor": "white",
           "zerolinewidth": 2
          },
          "yaxis": {
           "automargin": true,
           "gridcolor": "white",
           "linecolor": "white",
           "ticks": "",
           "title": {
            "standoff": 15
           },
           "zerolinecolor": "white",
           "zerolinewidth": 2
          }
         }
        },
        "title": {
         "text": "Edad de alumnos"
        },
        "updatemenus": [
         {
          "buttons": [
           {
            "args": [
             null,
             {
              "frame": {
               "duration": 500,
               "redraw": true
              },
              "fromcurrent": true,
              "mode": "immediate",
              "transition": {
               "duration": 500,
               "easing": "linear"
              }
             }
            ],
            "label": "&#9654;",
            "method": "animate"
           },
           {
            "args": [
             [
              null
             ],
             {
              "frame": {
               "duration": 0,
               "redraw": true
              },
              "fromcurrent": true,
              "mode": "immediate",
              "transition": {
               "duration": 0,
               "easing": "linear"
              }
             }
            ],
            "label": "&#9724;",
            "method": "animate"
           }
          ],
          "direction": "left",
          "pad": {
           "r": 10,
           "t": 70
          },
          "showactive": false,
          "type": "buttons",
          "x": 0.1,
          "xanchor": "right",
          "y": 0,
          "yanchor": "top"
         }
        ],
        "xaxis": {
         "anchor": "y",
         "domain": [
          0,
          1
         ],
         "title": {
          "text": "Edad"
         }
        },
        "yaxis": {
         "anchor": "x",
         "domain": [
          0,
          1
         ],
         "title": {
          "text": "count"
         }
        }
       }
      }
     },
     "metadata": {},
     "output_type": "display_data"
    }
   ],
   "source": [
    "px.histogram(df_ALUCarrera, \n",
    "            x=\"Edad\", \n",
    "            title='Edad de alumnos',\n",
    "            color='Sexo',\n",
    "            animation_frame=df_ALUCarrera['Año_Ingreso'].sort_values())"
   ]
  },
  {
   "attachments": {},
   "cell_type": "markdown",
   "metadata": {},
   "source": [
    "#### la tendencia entre 2001 y 2010 es que hubo una disminucion de la media de edad a medida que avanzan los años"
   ]
  },
  {
   "attachments": {},
   "cell_type": "markdown",
   "metadata": {},
   "source": [
    "### Total de Alumnos x Carrera separado entre mujeres y varones"
   ]
  },
  {
   "cell_type": "code",
   "execution_count": 25,
   "metadata": {},
   "outputs": [
    {
     "data": {
      "application/vnd.plotly.v1+json": {
       "config": {
        "plotlyServerURL": "https://plot.ly"
       },
       "data": [
        {
         "alignmentgroup": "True",
         "hovertemplate": "Sexo=F<br>Nombre_Corto=%{x}<br>Cantidad=%{y}<extra></extra>",
         "legendgroup": "F",
         "marker": {
          "color": "#636efa",
          "pattern": {
           "shape": ""
          }
         },
         "name": "F",
         "offsetgroup": "F",
         "orientation": "v",
         "showlegend": true,
         "textposition": "auto",
         "type": "bar",
         "x": [
          "ANALISTA DE SISTEMAS",
          "MARKETING",
          "PUBLICIDAD",
          "ADMINISTRACIÓN DE EMPRESAS",
          "DISEÑO GRÁFICO",
          "RELACIONES PÚBLICAS",
          "RECURSOS HUMANOS",
          "COMERCIO INTERNACIONAL",
          "AGRONEGOCIOS",
          "TURISMO",
          "MULTIMEDIOS",
          "GESTIÓN AMBIENTAL",
          "GESTIÓN CONTABLE Y FINANCIERA"
         ],
         "xaxis": "x",
         "y": [
          92,
          233,
          218,
          220,
          505,
          454,
          473,
          82,
          87,
          175,
          76,
          23,
          70
         ],
         "yaxis": "y"
        },
        {
         "alignmentgroup": "True",
         "hovertemplate": "Sexo=M<br>Nombre_Corto=%{x}<br>Cantidad=%{y}<extra></extra>",
         "legendgroup": "M",
         "marker": {
          "color": "#EF553B",
          "pattern": {
           "shape": ""
          }
         },
         "name": "M",
         "offsetgroup": "M",
         "orientation": "v",
         "showlegend": true,
         "textposition": "auto",
         "type": "bar",
         "x": [
          "ANALISTA DE SISTEMAS",
          "MARKETING",
          "PUBLICIDAD",
          "ADMINISTRACIÓN DE EMPRESAS",
          "DISEÑO GRÁFICO",
          "RELACIONES PÚBLICAS",
          "RECURSOS HUMANOS",
          "COMERCIO INTERNACIONAL",
          "AGRONEGOCIOS",
          "TURISMO",
          "MULTIMEDIOS",
          "GESTIÓN AMBIENTAL",
          "GESTIÓN CONTABLE Y FINANCIERA"
         ],
         "xaxis": "x",
         "y": [
          490,
          408,
          288,
          388,
          457,
          233,
          202,
          122,
          407,
          95,
          258,
          34,
          56
         ],
         "yaxis": "y"
        }
       ],
       "layout": {
        "barmode": "relative",
        "legend": {
         "title": {
          "text": "Sexo"
         },
         "tracegroupgap": 0
        },
        "margin": {
         "t": 60
        },
        "template": {
         "data": {
          "bar": [
           {
            "error_x": {
             "color": "#2a3f5f"
            },
            "error_y": {
             "color": "#2a3f5f"
            },
            "marker": {
             "line": {
              "color": "#E5ECF6",
              "width": 0.5
             },
             "pattern": {
              "fillmode": "overlay",
              "size": 10,
              "solidity": 0.2
             }
            },
            "type": "bar"
           }
          ],
          "barpolar": [
           {
            "marker": {
             "line": {
              "color": "#E5ECF6",
              "width": 0.5
             },
             "pattern": {
              "fillmode": "overlay",
              "size": 10,
              "solidity": 0.2
             }
            },
            "type": "barpolar"
           }
          ],
          "carpet": [
           {
            "aaxis": {
             "endlinecolor": "#2a3f5f",
             "gridcolor": "white",
             "linecolor": "white",
             "minorgridcolor": "white",
             "startlinecolor": "#2a3f5f"
            },
            "baxis": {
             "endlinecolor": "#2a3f5f",
             "gridcolor": "white",
             "linecolor": "white",
             "minorgridcolor": "white",
             "startlinecolor": "#2a3f5f"
            },
            "type": "carpet"
           }
          ],
          "choropleth": [
           {
            "colorbar": {
             "outlinewidth": 0,
             "ticks": ""
            },
            "type": "choropleth"
           }
          ],
          "contour": [
           {
            "colorbar": {
             "outlinewidth": 0,
             "ticks": ""
            },
            "colorscale": [
             [
              0,
              "#0d0887"
             ],
             [
              0.1111111111111111,
              "#46039f"
             ],
             [
              0.2222222222222222,
              "#7201a8"
             ],
             [
              0.3333333333333333,
              "#9c179e"
             ],
             [
              0.4444444444444444,
              "#bd3786"
             ],
             [
              0.5555555555555556,
              "#d8576b"
             ],
             [
              0.6666666666666666,
              "#ed7953"
             ],
             [
              0.7777777777777778,
              "#fb9f3a"
             ],
             [
              0.8888888888888888,
              "#fdca26"
             ],
             [
              1,
              "#f0f921"
             ]
            ],
            "type": "contour"
           }
          ],
          "contourcarpet": [
           {
            "colorbar": {
             "outlinewidth": 0,
             "ticks": ""
            },
            "type": "contourcarpet"
           }
          ],
          "heatmap": [
           {
            "colorbar": {
             "outlinewidth": 0,
             "ticks": ""
            },
            "colorscale": [
             [
              0,
              "#0d0887"
             ],
             [
              0.1111111111111111,
              "#46039f"
             ],
             [
              0.2222222222222222,
              "#7201a8"
             ],
             [
              0.3333333333333333,
              "#9c179e"
             ],
             [
              0.4444444444444444,
              "#bd3786"
             ],
             [
              0.5555555555555556,
              "#d8576b"
             ],
             [
              0.6666666666666666,
              "#ed7953"
             ],
             [
              0.7777777777777778,
              "#fb9f3a"
             ],
             [
              0.8888888888888888,
              "#fdca26"
             ],
             [
              1,
              "#f0f921"
             ]
            ],
            "type": "heatmap"
           }
          ],
          "heatmapgl": [
           {
            "colorbar": {
             "outlinewidth": 0,
             "ticks": ""
            },
            "colorscale": [
             [
              0,
              "#0d0887"
             ],
             [
              0.1111111111111111,
              "#46039f"
             ],
             [
              0.2222222222222222,
              "#7201a8"
             ],
             [
              0.3333333333333333,
              "#9c179e"
             ],
             [
              0.4444444444444444,
              "#bd3786"
             ],
             [
              0.5555555555555556,
              "#d8576b"
             ],
             [
              0.6666666666666666,
              "#ed7953"
             ],
             [
              0.7777777777777778,
              "#fb9f3a"
             ],
             [
              0.8888888888888888,
              "#fdca26"
             ],
             [
              1,
              "#f0f921"
             ]
            ],
            "type": "heatmapgl"
           }
          ],
          "histogram": [
           {
            "marker": {
             "pattern": {
              "fillmode": "overlay",
              "size": 10,
              "solidity": 0.2
             }
            },
            "type": "histogram"
           }
          ],
          "histogram2d": [
           {
            "colorbar": {
             "outlinewidth": 0,
             "ticks": ""
            },
            "colorscale": [
             [
              0,
              "#0d0887"
             ],
             [
              0.1111111111111111,
              "#46039f"
             ],
             [
              0.2222222222222222,
              "#7201a8"
             ],
             [
              0.3333333333333333,
              "#9c179e"
             ],
             [
              0.4444444444444444,
              "#bd3786"
             ],
             [
              0.5555555555555556,
              "#d8576b"
             ],
             [
              0.6666666666666666,
              "#ed7953"
             ],
             [
              0.7777777777777778,
              "#fb9f3a"
             ],
             [
              0.8888888888888888,
              "#fdca26"
             ],
             [
              1,
              "#f0f921"
             ]
            ],
            "type": "histogram2d"
           }
          ],
          "histogram2dcontour": [
           {
            "colorbar": {
             "outlinewidth": 0,
             "ticks": ""
            },
            "colorscale": [
             [
              0,
              "#0d0887"
             ],
             [
              0.1111111111111111,
              "#46039f"
             ],
             [
              0.2222222222222222,
              "#7201a8"
             ],
             [
              0.3333333333333333,
              "#9c179e"
             ],
             [
              0.4444444444444444,
              "#bd3786"
             ],
             [
              0.5555555555555556,
              "#d8576b"
             ],
             [
              0.6666666666666666,
              "#ed7953"
             ],
             [
              0.7777777777777778,
              "#fb9f3a"
             ],
             [
              0.8888888888888888,
              "#fdca26"
             ],
             [
              1,
              "#f0f921"
             ]
            ],
            "type": "histogram2dcontour"
           }
          ],
          "mesh3d": [
           {
            "colorbar": {
             "outlinewidth": 0,
             "ticks": ""
            },
            "type": "mesh3d"
           }
          ],
          "parcoords": [
           {
            "line": {
             "colorbar": {
              "outlinewidth": 0,
              "ticks": ""
             }
            },
            "type": "parcoords"
           }
          ],
          "pie": [
           {
            "automargin": true,
            "type": "pie"
           }
          ],
          "scatter": [
           {
            "fillpattern": {
             "fillmode": "overlay",
             "size": 10,
             "solidity": 0.2
            },
            "type": "scatter"
           }
          ],
          "scatter3d": [
           {
            "line": {
             "colorbar": {
              "outlinewidth": 0,
              "ticks": ""
             }
            },
            "marker": {
             "colorbar": {
              "outlinewidth": 0,
              "ticks": ""
             }
            },
            "type": "scatter3d"
           }
          ],
          "scattercarpet": [
           {
            "marker": {
             "colorbar": {
              "outlinewidth": 0,
              "ticks": ""
             }
            },
            "type": "scattercarpet"
           }
          ],
          "scattergeo": [
           {
            "marker": {
             "colorbar": {
              "outlinewidth": 0,
              "ticks": ""
             }
            },
            "type": "scattergeo"
           }
          ],
          "scattergl": [
           {
            "marker": {
             "colorbar": {
              "outlinewidth": 0,
              "ticks": ""
             }
            },
            "type": "scattergl"
           }
          ],
          "scattermapbox": [
           {
            "marker": {
             "colorbar": {
              "outlinewidth": 0,
              "ticks": ""
             }
            },
            "type": "scattermapbox"
           }
          ],
          "scatterpolar": [
           {
            "marker": {
             "colorbar": {
              "outlinewidth": 0,
              "ticks": ""
             }
            },
            "type": "scatterpolar"
           }
          ],
          "scatterpolargl": [
           {
            "marker": {
             "colorbar": {
              "outlinewidth": 0,
              "ticks": ""
             }
            },
            "type": "scatterpolargl"
           }
          ],
          "scatterternary": [
           {
            "marker": {
             "colorbar": {
              "outlinewidth": 0,
              "ticks": ""
             }
            },
            "type": "scatterternary"
           }
          ],
          "surface": [
           {
            "colorbar": {
             "outlinewidth": 0,
             "ticks": ""
            },
            "colorscale": [
             [
              0,
              "#0d0887"
             ],
             [
              0.1111111111111111,
              "#46039f"
             ],
             [
              0.2222222222222222,
              "#7201a8"
             ],
             [
              0.3333333333333333,
              "#9c179e"
             ],
             [
              0.4444444444444444,
              "#bd3786"
             ],
             [
              0.5555555555555556,
              "#d8576b"
             ],
             [
              0.6666666666666666,
              "#ed7953"
             ],
             [
              0.7777777777777778,
              "#fb9f3a"
             ],
             [
              0.8888888888888888,
              "#fdca26"
             ],
             [
              1,
              "#f0f921"
             ]
            ],
            "type": "surface"
           }
          ],
          "table": [
           {
            "cells": {
             "fill": {
              "color": "#EBF0F8"
             },
             "line": {
              "color": "white"
             }
            },
            "header": {
             "fill": {
              "color": "#C8D4E3"
             },
             "line": {
              "color": "white"
             }
            },
            "type": "table"
           }
          ]
         },
         "layout": {
          "annotationdefaults": {
           "arrowcolor": "#2a3f5f",
           "arrowhead": 0,
           "arrowwidth": 1
          },
          "autotypenumbers": "strict",
          "coloraxis": {
           "colorbar": {
            "outlinewidth": 0,
            "ticks": ""
           }
          },
          "colorscale": {
           "diverging": [
            [
             0,
             "#8e0152"
            ],
            [
             0.1,
             "#c51b7d"
            ],
            [
             0.2,
             "#de77ae"
            ],
            [
             0.3,
             "#f1b6da"
            ],
            [
             0.4,
             "#fde0ef"
            ],
            [
             0.5,
             "#f7f7f7"
            ],
            [
             0.6,
             "#e6f5d0"
            ],
            [
             0.7,
             "#b8e186"
            ],
            [
             0.8,
             "#7fbc41"
            ],
            [
             0.9,
             "#4d9221"
            ],
            [
             1,
             "#276419"
            ]
           ],
           "sequential": [
            [
             0,
             "#0d0887"
            ],
            [
             0.1111111111111111,
             "#46039f"
            ],
            [
             0.2222222222222222,
             "#7201a8"
            ],
            [
             0.3333333333333333,
             "#9c179e"
            ],
            [
             0.4444444444444444,
             "#bd3786"
            ],
            [
             0.5555555555555556,
             "#d8576b"
            ],
            [
             0.6666666666666666,
             "#ed7953"
            ],
            [
             0.7777777777777778,
             "#fb9f3a"
            ],
            [
             0.8888888888888888,
             "#fdca26"
            ],
            [
             1,
             "#f0f921"
            ]
           ],
           "sequentialminus": [
            [
             0,
             "#0d0887"
            ],
            [
             0.1111111111111111,
             "#46039f"
            ],
            [
             0.2222222222222222,
             "#7201a8"
            ],
            [
             0.3333333333333333,
             "#9c179e"
            ],
            [
             0.4444444444444444,
             "#bd3786"
            ],
            [
             0.5555555555555556,
             "#d8576b"
            ],
            [
             0.6666666666666666,
             "#ed7953"
            ],
            [
             0.7777777777777778,
             "#fb9f3a"
            ],
            [
             0.8888888888888888,
             "#fdca26"
            ],
            [
             1,
             "#f0f921"
            ]
           ]
          },
          "colorway": [
           "#636efa",
           "#EF553B",
           "#00cc96",
           "#ab63fa",
           "#FFA15A",
           "#19d3f3",
           "#FF6692",
           "#B6E880",
           "#FF97FF",
           "#FECB52"
          ],
          "font": {
           "color": "#2a3f5f"
          },
          "geo": {
           "bgcolor": "white",
           "lakecolor": "white",
           "landcolor": "#E5ECF6",
           "showlakes": true,
           "showland": true,
           "subunitcolor": "white"
          },
          "hoverlabel": {
           "align": "left"
          },
          "hovermode": "closest",
          "mapbox": {
           "style": "light"
          },
          "paper_bgcolor": "white",
          "plot_bgcolor": "#E5ECF6",
          "polar": {
           "angularaxis": {
            "gridcolor": "white",
            "linecolor": "white",
            "ticks": ""
           },
           "bgcolor": "#E5ECF6",
           "radialaxis": {
            "gridcolor": "white",
            "linecolor": "white",
            "ticks": ""
           }
          },
          "scene": {
           "xaxis": {
            "backgroundcolor": "#E5ECF6",
            "gridcolor": "white",
            "gridwidth": 2,
            "linecolor": "white",
            "showbackground": true,
            "ticks": "",
            "zerolinecolor": "white"
           },
           "yaxis": {
            "backgroundcolor": "#E5ECF6",
            "gridcolor": "white",
            "gridwidth": 2,
            "linecolor": "white",
            "showbackground": true,
            "ticks": "",
            "zerolinecolor": "white"
           },
           "zaxis": {
            "backgroundcolor": "#E5ECF6",
            "gridcolor": "white",
            "gridwidth": 2,
            "linecolor": "white",
            "showbackground": true,
            "ticks": "",
            "zerolinecolor": "white"
           }
          },
          "shapedefaults": {
           "line": {
            "color": "#2a3f5f"
           }
          },
          "ternary": {
           "aaxis": {
            "gridcolor": "white",
            "linecolor": "white",
            "ticks": ""
           },
           "baxis": {
            "gridcolor": "white",
            "linecolor": "white",
            "ticks": ""
           },
           "bgcolor": "#E5ECF6",
           "caxis": {
            "gridcolor": "white",
            "linecolor": "white",
            "ticks": ""
           }
          },
          "title": {
           "x": 0.05
          },
          "xaxis": {
           "automargin": true,
           "gridcolor": "white",
           "linecolor": "white",
           "ticks": "",
           "title": {
            "standoff": 15
           },
           "zerolinecolor": "white",
           "zerolinewidth": 2
          },
          "yaxis": {
           "automargin": true,
           "gridcolor": "white",
           "linecolor": "white",
           "ticks": "",
           "title": {
            "standoff": 15
           },
           "zerolinecolor": "white",
           "zerolinewidth": 2
          }
         }
        },
        "xaxis": {
         "anchor": "y",
         "domain": [
          0,
          1
         ],
         "title": {
          "text": "Nombre_Corto"
         }
        },
        "yaxis": {
         "anchor": "x",
         "domain": [
          0,
          1
         ],
         "title": {
          "text": "Cantidad"
         }
        }
       }
      }
     },
     "metadata": {},
     "output_type": "display_data"
    }
   ],
   "source": [
    "df_Sexo_Alumno_xCarrera = df_ALUCarrera.groupby(['Id_Carrera','Sexo'])['Id_Alumno'].count().reset_index(name='Cantidad')\n",
    "df_Sexo_Alumno_xCarrera = pd.merge(df_Sexo_Alumno_xCarrera,\n",
    "                        df_Carreras[['Id_Carrera','Nombre_Corto']],\n",
    "                        how='inner',\n",
    "                        on=['Id_Carrera'])\n",
    "px.bar(df_Sexo_Alumno_xCarrera, x='Nombre_Corto',y='Cantidad', color='Sexo')"
   ]
  },
  {
   "attachments": {},
   "cell_type": "markdown",
   "metadata": {},
   "source": [
    "#### Aqui buscaba determinar si hay alguna preferencia entre sexos por alguna carrera como en los casos de Analista de sistema y Agronegocios que la tendencia es que mas hombres eligen estas carreras en contraposicion a la carrera de Recursos Humanos y Relaciones Publicas."
   ]
  },
  {
   "attachments": {},
   "cell_type": "markdown",
   "metadata": {},
   "source": [
    "### Total Alumnos x Carrera separado entre Egresado, Desertor y Cursando"
   ]
  },
  {
   "cell_type": "code",
   "execution_count": 34,
   "metadata": {},
   "outputs": [
    {
     "data": {
      "application/vnd.plotly.v1+json": {
       "config": {
        "plotlyServerURL": "https://plot.ly"
       },
       "data": [
        {
         "alignmentgroup": "True",
         "hovertemplate": "Estado=Desertor<br>Año=2001.0<br>Nombre_Corto=%{x}<br>Cantidad=%{y}<extra></extra>",
         "legendgroup": "Desertor",
         "marker": {
          "color": "#636efa",
          "pattern": {
           "shape": ""
          }
         },
         "name": "Desertor",
         "offsetgroup": "Desertor",
         "orientation": "v",
         "showlegend": true,
         "textposition": "auto",
         "type": "bar",
         "x": [
          "ANALISTA DE SISTEMAS",
          "MARKETING",
          "PUBLICIDAD",
          "ADMINISTRACIÓN DE EMPRESAS",
          "DISEÑO GRÁFICO",
          "RELACIONES PÚBLICAS",
          "RECURSOS HUMANOS",
          "COMERCIO INTERNACIONAL",
          "AGRONEGOCIOS",
          "TURISMO",
          "MULTIMEDIOS",
          "GESTIÓN AMBIENTAL",
          "GESTIÓN CONTABLE Y FINANCIERA"
         ],
         "xaxis": "x",
         "y": [
          383,
          817,
          392,
          629,
          592,
          498,
          382,
          165,
          287,
          166,
          279,
          74,
          80
         ],
         "yaxis": "y"
        },
        {
         "alignmentgroup": "True",
         "hovertemplate": "Estado=Egresado<br>Año=2001.0<br>Nombre_Corto=%{x}<br>Cantidad=%{y}<extra></extra>",
         "legendgroup": "Egresado",
         "marker": {
          "color": "#EF553B",
          "pattern": {
           "shape": ""
          }
         },
         "name": "Egresado",
         "offsetgroup": "Egresado",
         "orientation": "v",
         "showlegend": true,
         "textposition": "auto",
         "type": "bar",
         "x": [
          "ANALISTA DE SISTEMAS",
          "MARKETING",
          "PUBLICIDAD",
          "ADMINISTRACIÓN DE EMPRESAS",
          "DISEÑO GRÁFICO",
          "RELACIONES PÚBLICAS",
          "COMERCIO INTERNACIONAL"
         ],
         "xaxis": "x",
         "y": [
          1,
          8,
          7,
          3,
          7,
          5,
          2
         ],
         "yaxis": "y"
        }
       ],
       "frames": [
        {
         "data": [
          {
           "alignmentgroup": "True",
           "hovertemplate": "Estado=Desertor<br>Año=2001.0<br>Nombre_Corto=%{x}<br>Cantidad=%{y}<extra></extra>",
           "legendgroup": "Desertor",
           "marker": {
            "color": "#636efa",
            "pattern": {
             "shape": ""
            }
           },
           "name": "Desertor",
           "offsetgroup": "Desertor",
           "orientation": "v",
           "showlegend": true,
           "textposition": "auto",
           "type": "bar",
           "x": [
            "ANALISTA DE SISTEMAS",
            "MARKETING",
            "PUBLICIDAD",
            "ADMINISTRACIÓN DE EMPRESAS",
            "DISEÑO GRÁFICO",
            "RELACIONES PÚBLICAS",
            "RECURSOS HUMANOS",
            "COMERCIO INTERNACIONAL",
            "AGRONEGOCIOS",
            "TURISMO",
            "MULTIMEDIOS",
            "GESTIÓN AMBIENTAL",
            "GESTIÓN CONTABLE Y FINANCIERA"
           ],
           "xaxis": "x",
           "y": [
            383,
            817,
            392,
            629,
            592,
            498,
            382,
            165,
            287,
            166,
            279,
            74,
            80
           ],
           "yaxis": "y"
          },
          {
           "alignmentgroup": "True",
           "hovertemplate": "Estado=Egresado<br>Año=2001.0<br>Nombre_Corto=%{x}<br>Cantidad=%{y}<extra></extra>",
           "legendgroup": "Egresado",
           "marker": {
            "color": "#EF553B",
            "pattern": {
             "shape": ""
            }
           },
           "name": "Egresado",
           "offsetgroup": "Egresado",
           "orientation": "v",
           "showlegend": true,
           "textposition": "auto",
           "type": "bar",
           "x": [
            "ANALISTA DE SISTEMAS",
            "MARKETING",
            "PUBLICIDAD",
            "ADMINISTRACIÓN DE EMPRESAS",
            "DISEÑO GRÁFICO",
            "RELACIONES PÚBLICAS",
            "COMERCIO INTERNACIONAL"
           ],
           "xaxis": "x",
           "y": [
            1,
            8,
            7,
            3,
            7,
            5,
            2
           ],
           "yaxis": "y"
          }
         ],
         "name": "2001.0"
        },
        {
         "data": [
          {
           "alignmentgroup": "True",
           "hovertemplate": "Estado=Desertor<br>Año=2002.0<br>Nombre_Corto=%{x}<br>Cantidad=%{y}<extra></extra>",
           "legendgroup": "Desertor",
           "marker": {
            "color": "#636efa",
            "pattern": {
             "shape": ""
            }
           },
           "name": "Desertor",
           "offsetgroup": "Desertor",
           "orientation": "v",
           "showlegend": true,
           "textposition": "auto",
           "type": "bar",
           "x": [
            "ANALISTA DE SISTEMAS",
            "MARKETING",
            "PUBLICIDAD",
            "ADMINISTRACIÓN DE EMPRESAS",
            "DISEÑO GRÁFICO",
            "RELACIONES PÚBLICAS",
            "RECURSOS HUMANOS",
            "COMERCIO INTERNACIONAL",
            "AGRONEGOCIOS",
            "TURISMO",
            "MULTIMEDIOS",
            "GESTIÓN AMBIENTAL",
            "GESTIÓN CONTABLE Y FINANCIERA"
           ],
           "xaxis": "x",
           "y": [
            573,
            1212,
            663,
            797,
            989,
            769,
            576,
            150,
            459,
            289,
            407,
            41,
            146
           ],
           "yaxis": "y"
          },
          {
           "alignmentgroup": "True",
           "hovertemplate": "Estado=Egresado<br>Año=2002.0<br>Nombre_Corto=%{x}<br>Cantidad=%{y}<extra></extra>",
           "legendgroup": "Egresado",
           "marker": {
            "color": "#EF553B",
            "pattern": {
             "shape": ""
            }
           },
           "name": "Egresado",
           "offsetgroup": "Egresado",
           "orientation": "v",
           "showlegend": true,
           "textposition": "auto",
           "type": "bar",
           "x": [
            "ANALISTA DE SISTEMAS",
            "MARKETING",
            "PUBLICIDAD",
            "ADMINISTRACIÓN DE EMPRESAS",
            "DISEÑO GRÁFICO",
            "RELACIONES PÚBLICAS",
            "RECURSOS HUMANOS",
            "COMERCIO INTERNACIONAL",
            "AGRONEGOCIOS"
           ],
           "xaxis": "x",
           "y": [
            4,
            11,
            13,
            14,
            17,
            15,
            11,
            6,
            8
           ],
           "yaxis": "y"
          }
         ],
         "name": "2002.0"
        },
        {
         "data": [
          {
           "alignmentgroup": "True",
           "hovertemplate": "Estado=Desertor<br>Año=2003.0<br>Nombre_Corto=%{x}<br>Cantidad=%{y}<extra></extra>",
           "legendgroup": "Desertor",
           "marker": {
            "color": "#636efa",
            "pattern": {
             "shape": ""
            }
           },
           "name": "Desertor",
           "offsetgroup": "Desertor",
           "orientation": "v",
           "showlegend": true,
           "textposition": "auto",
           "type": "bar",
           "x": [
            "ANALISTA DE SISTEMAS",
            "MARKETING",
            "PUBLICIDAD",
            "ADMINISTRACIÓN DE EMPRESAS",
            "DISEÑO GRÁFICO",
            "RELACIONES PÚBLICAS",
            "RECURSOS HUMANOS",
            "COMERCIO INTERNACIONAL",
            "AGRONEGOCIOS",
            "TURISMO",
            "MULTIMEDIOS",
            "GESTIÓN AMBIENTAL",
            "GESTIÓN CONTABLE Y FINANCIERA"
           ],
           "xaxis": "x",
           "y": [
            611,
            1278,
            856,
            862,
            1023,
            762,
            671,
            284,
            652,
            358,
            411,
            15,
            119
           ],
           "yaxis": "y"
          },
          {
           "alignmentgroup": "True",
           "hovertemplate": "Estado=Egresado<br>Año=2003.0<br>Nombre_Corto=%{x}<br>Cantidad=%{y}<extra></extra>",
           "legendgroup": "Egresado",
           "marker": {
            "color": "#EF553B",
            "pattern": {
             "shape": ""
            }
           },
           "name": "Egresado",
           "offsetgroup": "Egresado",
           "orientation": "v",
           "showlegend": true,
           "textposition": "auto",
           "type": "bar",
           "x": [
            "ANALISTA DE SISTEMAS",
            "MARKETING",
            "PUBLICIDAD",
            "ADMINISTRACIÓN DE EMPRESAS",
            "DISEÑO GRÁFICO",
            "RELACIONES PÚBLICAS",
            "RECURSOS HUMANOS",
            "COMERCIO INTERNACIONAL",
            "AGRONEGOCIOS",
            "TURISMO",
            "MULTIMEDIOS",
            "GESTIÓN AMBIENTAL",
            "GESTIÓN CONTABLE Y FINANCIERA"
           ],
           "xaxis": "x",
           "y": [
            52,
            109,
            85,
            66,
            136,
            81,
            53,
            23,
            39,
            53,
            74,
            4,
            28
           ],
           "yaxis": "y"
          }
         ],
         "name": "2003.0"
        },
        {
         "data": [
          {
           "alignmentgroup": "True",
           "hovertemplate": "Estado=Desertor<br>Año=2004.0<br>Nombre_Corto=%{x}<br>Cantidad=%{y}<extra></extra>",
           "legendgroup": "Desertor",
           "marker": {
            "color": "#636efa",
            "pattern": {
             "shape": ""
            }
           },
           "name": "Desertor",
           "offsetgroup": "Desertor",
           "orientation": "v",
           "showlegend": true,
           "textposition": "auto",
           "type": "bar",
           "x": [
            "ANALISTA DE SISTEMAS",
            "MARKETING",
            "PUBLICIDAD",
            "ADMINISTRACIÓN DE EMPRESAS",
            "DISEÑO GRÁFICO",
            "RELACIONES PÚBLICAS",
            "RECURSOS HUMANOS",
            "COMERCIO INTERNACIONAL",
            "AGRONEGOCIOS",
            "TURISMO",
            "MULTIMEDIOS",
            "GESTIÓN AMBIENTAL",
            "GESTIÓN CONTABLE Y FINANCIERA"
           ],
           "xaxis": "x",
           "y": [
            642,
            1285,
            833,
            985,
            1305,
            1011,
            742,
            336,
            836,
            405,
            429,
            7,
            59
           ],
           "yaxis": "y"
          },
          {
           "alignmentgroup": "True",
           "hovertemplate": "Estado=Egresado<br>Año=2004.0<br>Nombre_Corto=%{x}<br>Cantidad=%{y}<extra></extra>",
           "legendgroup": "Egresado",
           "marker": {
            "color": "#EF553B",
            "pattern": {
             "shape": ""
            }
           },
           "name": "Egresado",
           "offsetgroup": "Egresado",
           "orientation": "v",
           "showlegend": true,
           "textposition": "auto",
           "type": "bar",
           "x": [
            "ANALISTA DE SISTEMAS",
            "MARKETING",
            "PUBLICIDAD",
            "ADMINISTRACIÓN DE EMPRESAS",
            "DISEÑO GRÁFICO",
            "RELACIONES PÚBLICAS",
            "RECURSOS HUMANOS",
            "COMERCIO INTERNACIONAL",
            "AGRONEGOCIOS",
            "TURISMO",
            "MULTIMEDIOS",
            "GESTIÓN AMBIENTAL",
            "GESTIÓN CONTABLE Y FINANCIERA"
           ],
           "xaxis": "x",
           "y": [
            49,
            133,
            143,
            126,
            157,
            122,
            87,
            6,
            66,
            39,
            73,
            3,
            24
           ],
           "yaxis": "y"
          }
         ],
         "name": "2004.0"
        },
        {
         "data": [
          {
           "alignmentgroup": "True",
           "hovertemplate": "Estado=Desertor<br>Año=2005.0<br>Nombre_Corto=%{x}<br>Cantidad=%{y}<extra></extra>",
           "legendgroup": "Desertor",
           "marker": {
            "color": "#636efa",
            "pattern": {
             "shape": ""
            }
           },
           "name": "Desertor",
           "offsetgroup": "Desertor",
           "orientation": "v",
           "showlegend": true,
           "textposition": "auto",
           "type": "bar",
           "x": [
            "ANALISTA DE SISTEMAS",
            "MARKETING",
            "PUBLICIDAD",
            "ADMINISTRACIÓN DE EMPRESAS",
            "DISEÑO GRÁFICO",
            "RELACIONES PÚBLICAS",
            "RECURSOS HUMANOS",
            "COMERCIO INTERNACIONAL",
            "AGRONEGOCIOS",
            "TURISMO",
            "MULTIMEDIOS",
            "GESTIÓN AMBIENTAL",
            "GESTIÓN CONTABLE Y FINANCIERA"
           ],
           "xaxis": "x",
           "y": [
            839,
            1401,
            916,
            1243,
            1687,
            1248,
            835,
            404,
            1120,
            381,
            534,
            8,
            139
           ],
           "yaxis": "y"
          },
          {
           "alignmentgroup": "True",
           "hovertemplate": "Estado=Egresado<br>Año=2005.0<br>Nombre_Corto=%{x}<br>Cantidad=%{y}<extra></extra>",
           "legendgroup": "Egresado",
           "marker": {
            "color": "#EF553B",
            "pattern": {
             "shape": ""
            }
           },
           "name": "Egresado",
           "offsetgroup": "Egresado",
           "orientation": "v",
           "showlegend": true,
           "textposition": "auto",
           "type": "bar",
           "x": [
            "ANALISTA DE SISTEMAS",
            "MARKETING",
            "PUBLICIDAD",
            "ADMINISTRACIÓN DE EMPRESAS",
            "DISEÑO GRÁFICO",
            "RELACIONES PÚBLICAS",
            "RECURSOS HUMANOS",
            "COMERCIO INTERNACIONAL",
            "AGRONEGOCIOS",
            "TURISMO",
            "MULTIMEDIOS",
            "GESTIÓN AMBIENTAL",
            "GESTIÓN CONTABLE Y FINANCIERA"
           ],
           "xaxis": "x",
           "y": [
            59,
            134,
            135,
            100,
            163,
            91,
            103,
            47,
            75,
            52,
            37,
            2,
            9
           ],
           "yaxis": "y"
          }
         ],
         "name": "2005.0"
        },
        {
         "data": [
          {
           "alignmentgroup": "True",
           "hovertemplate": "Estado=Desertor<br>Año=2006.0<br>Nombre_Corto=%{x}<br>Cantidad=%{y}<extra></extra>",
           "legendgroup": "Desertor",
           "marker": {
            "color": "#636efa",
            "pattern": {
             "shape": ""
            }
           },
           "name": "Desertor",
           "offsetgroup": "Desertor",
           "orientation": "v",
           "showlegend": true,
           "textposition": "auto",
           "type": "bar",
           "x": [
            "ANALISTA DE SISTEMAS",
            "MARKETING",
            "PUBLICIDAD",
            "ADMINISTRACIÓN DE EMPRESAS",
            "DISEÑO GRÁFICO",
            "RELACIONES PÚBLICAS",
            "RECURSOS HUMANOS",
            "COMERCIO INTERNACIONAL",
            "AGRONEGOCIOS",
            "TURISMO",
            "MULTIMEDIOS",
            "GESTIÓN AMBIENTAL",
            "GESTIÓN CONTABLE Y FINANCIERA"
           ],
           "xaxis": "x",
           "y": [
            940,
            1428,
            1161,
            1355,
            1963,
            1554,
            1014,
            480,
            1027,
            380,
            613,
            20,
            272
           ],
           "yaxis": "y"
          },
          {
           "alignmentgroup": "True",
           "hovertemplate": "Estado=Egresado<br>Año=2006.0<br>Nombre_Corto=%{x}<br>Cantidad=%{y}<extra></extra>",
           "legendgroup": "Egresado",
           "marker": {
            "color": "#EF553B",
            "pattern": {
             "shape": ""
            }
           },
           "name": "Egresado",
           "offsetgroup": "Egresado",
           "orientation": "v",
           "showlegend": true,
           "textposition": "auto",
           "type": "bar",
           "x": [
            "ANALISTA DE SISTEMAS",
            "MARKETING",
            "PUBLICIDAD",
            "ADMINISTRACIÓN DE EMPRESAS",
            "DISEÑO GRÁFICO",
            "RELACIONES PÚBLICAS",
            "RECURSOS HUMANOS",
            "COMERCIO INTERNACIONAL",
            "AGRONEGOCIOS",
            "TURISMO",
            "MULTIMEDIOS",
            "GESTIÓN CONTABLE Y FINANCIERA"
           ],
           "xaxis": "x",
           "y": [
            67,
            114,
            88,
            140,
            179,
            161,
            78,
            32,
            114,
            50,
            68,
            5
           ],
           "yaxis": "y"
          }
         ],
         "name": "2006.0"
        },
        {
         "data": [
          {
           "alignmentgroup": "True",
           "hovertemplate": "Estado=Desertor<br>Año=2007.0<br>Nombre_Corto=%{x}<br>Cantidad=%{y}<extra></extra>",
           "legendgroup": "Desertor",
           "marker": {
            "color": "#636efa",
            "pattern": {
             "shape": ""
            }
           },
           "name": "Desertor",
           "offsetgroup": "Desertor",
           "orientation": "v",
           "showlegend": true,
           "textposition": "auto",
           "type": "bar",
           "x": [
            "ANALISTA DE SISTEMAS",
            "MARKETING",
            "PUBLICIDAD",
            "ADMINISTRACIÓN DE EMPRESAS",
            "DISEÑO GRÁFICO",
            "RELACIONES PÚBLICAS",
            "RECURSOS HUMANOS",
            "COMERCIO INTERNACIONAL",
            "AGRONEGOCIOS",
            "TURISMO",
            "MULTIMEDIOS",
            "GESTIÓN AMBIENTAL",
            "GESTIÓN CONTABLE Y FINANCIERA"
           ],
           "xaxis": "x",
           "y": [
            1027,
            1344,
            1172,
            1225,
            2126,
            1467,
            1382,
            425,
            865,
            405,
            676,
            8,
            242
           ],
           "yaxis": "y"
          },
          {
           "alignmentgroup": "True",
           "hovertemplate": "Estado=Egresado<br>Año=2007.0<br>Nombre_Corto=%{x}<br>Cantidad=%{y}<extra></extra>",
           "legendgroup": "Egresado",
           "marker": {
            "color": "#EF553B",
            "pattern": {
             "shape": ""
            }
           },
           "name": "Egresado",
           "offsetgroup": "Egresado",
           "orientation": "v",
           "showlegend": true,
           "textposition": "auto",
           "type": "bar",
           "x": [
            "ANALISTA DE SISTEMAS",
            "MARKETING",
            "PUBLICIDAD",
            "ADMINISTRACIÓN DE EMPRESAS",
            "DISEÑO GRÁFICO",
            "RELACIONES PÚBLICAS",
            "RECURSOS HUMANOS",
            "COMERCIO INTERNACIONAL",
            "AGRONEGOCIOS",
            "TURISMO",
            "MULTIMEDIOS",
            "GESTIÓN AMBIENTAL",
            "GESTIÓN CONTABLE Y FINANCIERA"
           ],
           "xaxis": "x",
           "y": [
            78,
            89,
            189,
            167,
            236,
            206,
            110,
            12,
            136,
            54,
            108,
            1,
            34
           ],
           "yaxis": "y"
          }
         ],
         "name": "2007.0"
        },
        {
         "data": [
          {
           "alignmentgroup": "True",
           "hovertemplate": "Estado=Desertor<br>Año=2008.0<br>Nombre_Corto=%{x}<br>Cantidad=%{y}<extra></extra>",
           "legendgroup": "Desertor",
           "marker": {
            "color": "#636efa",
            "pattern": {
             "shape": ""
            }
           },
           "name": "Desertor",
           "offsetgroup": "Desertor",
           "orientation": "v",
           "showlegend": true,
           "textposition": "auto",
           "type": "bar",
           "x": [
            "ANALISTA DE SISTEMAS",
            "MARKETING",
            "PUBLICIDAD",
            "ADMINISTRACIÓN DE EMPRESAS",
            "DISEÑO GRÁFICO",
            "RELACIONES PÚBLICAS",
            "RECURSOS HUMANOS",
            "COMERCIO INTERNACIONAL",
            "AGRONEGOCIOS",
            "TURISMO",
            "MULTIMEDIOS",
            "GESTIÓN AMBIENTAL",
            "GESTIÓN CONTABLE Y FINANCIERA"
           ],
           "xaxis": "x",
           "y": [
            990,
            1300,
            1091,
            1360,
            2221,
            1438,
            1515,
            546,
            875,
            547,
            614,
            4,
            228
           ],
           "yaxis": "y"
          },
          {
           "alignmentgroup": "True",
           "hovertemplate": "Estado=Egresado<br>Año=2008.0<br>Nombre_Corto=%{x}<br>Cantidad=%{y}<extra></extra>",
           "legendgroup": "Egresado",
           "marker": {
            "color": "#EF553B",
            "pattern": {
             "shape": ""
            }
           },
           "name": "Egresado",
           "offsetgroup": "Egresado",
           "orientation": "v",
           "showlegend": true,
           "textposition": "auto",
           "type": "bar",
           "x": [
            "ANALISTA DE SISTEMAS",
            "MARKETING",
            "PUBLICIDAD",
            "ADMINISTRACIÓN DE EMPRESAS",
            "DISEÑO GRÁFICO",
            "RELACIONES PÚBLICAS",
            "RECURSOS HUMANOS",
            "COMERCIO INTERNACIONAL",
            "AGRONEGOCIOS",
            "TURISMO",
            "MULTIMEDIOS",
            "GESTIÓN AMBIENTAL",
            "GESTIÓN CONTABLE Y FINANCIERA"
           ],
           "xaxis": "x",
           "y": [
            98,
            159,
            163,
            170,
            320,
            233,
            140,
            46,
            79,
            33,
            86,
            4,
            30
           ],
           "yaxis": "y"
          }
         ],
         "name": "2008.0"
        },
        {
         "data": [
          {
           "alignmentgroup": "True",
           "hovertemplate": "Estado=Desertor<br>Año=2009.0<br>Nombre_Corto=%{x}<br>Cantidad=%{y}<extra></extra>",
           "legendgroup": "Desertor",
           "marker": {
            "color": "#636efa",
            "pattern": {
             "shape": ""
            }
           },
           "name": "Desertor",
           "offsetgroup": "Desertor",
           "orientation": "v",
           "showlegend": true,
           "textposition": "auto",
           "type": "bar",
           "x": [
            "ANALISTA DE SISTEMAS",
            "MARKETING",
            "PUBLICIDAD",
            "ADMINISTRACIÓN DE EMPRESAS",
            "DISEÑO GRÁFICO",
            "RELACIONES PÚBLICAS",
            "RECURSOS HUMANOS",
            "COMERCIO INTERNACIONAL",
            "AGRONEGOCIOS",
            "TURISMO",
            "MULTIMEDIOS",
            "GESTIÓN AMBIENTAL",
            "GESTIÓN CONTABLE Y FINANCIERA"
           ],
           "xaxis": "x",
           "y": [
            1030,
            1047,
            1072,
            1134,
            2395,
            1358,
            1661,
            475,
            737,
            756,
            686,
            98,
            304
           ],
           "yaxis": "y"
          },
          {
           "alignmentgroup": "True",
           "hovertemplate": "Estado=Egresado<br>Año=2009.0<br>Nombre_Corto=%{x}<br>Cantidad=%{y}<extra></extra>",
           "legendgroup": "Egresado",
           "marker": {
            "color": "#EF553B",
            "pattern": {
             "shape": ""
            }
           },
           "name": "Egresado",
           "offsetgroup": "Egresado",
           "orientation": "v",
           "showlegend": true,
           "textposition": "auto",
           "type": "bar",
           "x": [
            "ANALISTA DE SISTEMAS",
            "MARKETING",
            "PUBLICIDAD",
            "ADMINISTRACIÓN DE EMPRESAS",
            "DISEÑO GRÁFICO",
            "RELACIONES PÚBLICAS",
            "RECURSOS HUMANOS",
            "COMERCIO INTERNACIONAL",
            "AGRONEGOCIOS",
            "TURISMO",
            "MULTIMEDIOS",
            "GESTIÓN CONTABLE Y FINANCIERA"
           ],
           "xaxis": "x",
           "y": [
            88,
            174,
            153,
            131,
            332,
            182,
            152,
            30,
            100,
            90,
            97,
            16
           ],
           "yaxis": "y"
          }
         ],
         "name": "2009.0"
        },
        {
         "data": [
          {
           "alignmentgroup": "True",
           "hovertemplate": "Estado=Desertor<br>Año=2010.0<br>Nombre_Corto=%{x}<br>Cantidad=%{y}<extra></extra>",
           "legendgroup": "Desertor",
           "marker": {
            "color": "#636efa",
            "pattern": {
             "shape": ""
            }
           },
           "name": "Desertor",
           "offsetgroup": "Desertor",
           "orientation": "v",
           "showlegend": true,
           "textposition": "auto",
           "type": "bar",
           "x": [
            "ANALISTA DE SISTEMAS",
            "MARKETING",
            "PUBLICIDAD",
            "ADMINISTRACIÓN DE EMPRESAS",
            "DISEÑO GRÁFICO",
            "RELACIONES PÚBLICAS",
            "RECURSOS HUMANOS",
            "COMERCIO INTERNACIONAL",
            "AGRONEGOCIOS",
            "TURISMO",
            "MULTIMEDIOS",
            "GESTIÓN AMBIENTAL",
            "GESTIÓN CONTABLE Y FINANCIERA"
           ],
           "xaxis": "x",
           "y": [
            736,
            543,
            670,
            602,
            1226,
            583,
            764,
            278,
            617,
            498,
            354,
            138,
            128
           ],
           "yaxis": "y"
          },
          {
           "alignmentgroup": "True",
           "hovertemplate": "Estado=Egresado<br>Año=2010.0<br>Nombre_Corto=%{x}<br>Cantidad=%{y}<extra></extra>",
           "legendgroup": "Egresado",
           "marker": {
            "color": "#EF553B",
            "pattern": {
             "shape": ""
            }
           },
           "name": "Egresado",
           "offsetgroup": "Egresado",
           "orientation": "v",
           "showlegend": true,
           "textposition": "auto",
           "type": "bar",
           "x": [
            "ANALISTA DE SISTEMAS",
            "MARKETING",
            "PUBLICIDAD",
            "ADMINISTRACIÓN DE EMPRESAS",
            "DISEÑO GRÁFICO",
            "RELACIONES PÚBLICAS",
            "RECURSOS HUMANOS",
            "COMERCIO INTERNACIONAL",
            "AGRONEGOCIOS",
            "TURISMO",
            "MULTIMEDIOS",
            "GESTIÓN AMBIENTAL",
            "GESTIÓN CONTABLE Y FINANCIERA"
           ],
           "xaxis": "x",
           "y": [
            97,
            118,
            183,
            136,
            329,
            208,
            246,
            44,
            80,
            96,
            90,
            1,
            22
           ],
           "yaxis": "y"
          },
          {
           "alignmentgroup": "True",
           "hovertemplate": "Estado=Cursando<br>Año=2010.0<br>Nombre_Corto=%{x}<br>Cantidad=%{y}<extra></extra>",
           "legendgroup": "Cursando",
           "marker": {
            "color": "#00cc96",
            "pattern": {
             "shape": ""
            }
           },
           "name": "Cursando",
           "offsetgroup": "Cursando",
           "orientation": "v",
           "showlegend": true,
           "textposition": "auto",
           "type": "bar",
           "x": [
            "ANALISTA DE SISTEMAS",
            "MARKETING",
            "PUBLICIDAD",
            "ADMINISTRACIÓN DE EMPRESAS",
            "DISEÑO GRÁFICO",
            "RELACIONES PÚBLICAS",
            "RECURSOS HUMANOS",
            "COMERCIO INTERNACIONAL",
            "AGRONEGOCIOS",
            "TURISMO",
            "MULTIMEDIOS",
            "GESTIÓN AMBIENTAL",
            "GESTIÓN CONTABLE Y FINANCIERA"
           ],
           "xaxis": "x",
           "y": [
            619,
            392,
            502,
            435,
            886,
            481,
            511,
            212,
            453,
            341,
            269,
            114,
            144
           ],
           "yaxis": "y"
          }
         ],
         "name": "2010.0"
        }
       ],
       "layout": {
        "barmode": "group",
        "legend": {
         "title": {
          "text": "Estado"
         },
         "tracegroupgap": 0
        },
        "sliders": [
         {
          "active": 0,
          "currentvalue": {
           "prefix": "Año="
          },
          "len": 0.9,
          "pad": {
           "b": 10,
           "t": 60
          },
          "steps": [
           {
            "args": [
             [
              "2001.0"
             ],
             {
              "frame": {
               "duration": 0,
               "redraw": true
              },
              "fromcurrent": true,
              "mode": "immediate",
              "transition": {
               "duration": 0,
               "easing": "linear"
              }
             }
            ],
            "label": "2001.0",
            "method": "animate"
           },
           {
            "args": [
             [
              "2002.0"
             ],
             {
              "frame": {
               "duration": 0,
               "redraw": true
              },
              "fromcurrent": true,
              "mode": "immediate",
              "transition": {
               "duration": 0,
               "easing": "linear"
              }
             }
            ],
            "label": "2002.0",
            "method": "animate"
           },
           {
            "args": [
             [
              "2003.0"
             ],
             {
              "frame": {
               "duration": 0,
               "redraw": true
              },
              "fromcurrent": true,
              "mode": "immediate",
              "transition": {
               "duration": 0,
               "easing": "linear"
              }
             }
            ],
            "label": "2003.0",
            "method": "animate"
           },
           {
            "args": [
             [
              "2004.0"
             ],
             {
              "frame": {
               "duration": 0,
               "redraw": true
              },
              "fromcurrent": true,
              "mode": "immediate",
              "transition": {
               "duration": 0,
               "easing": "linear"
              }
             }
            ],
            "label": "2004.0",
            "method": "animate"
           },
           {
            "args": [
             [
              "2005.0"
             ],
             {
              "frame": {
               "duration": 0,
               "redraw": true
              },
              "fromcurrent": true,
              "mode": "immediate",
              "transition": {
               "duration": 0,
               "easing": "linear"
              }
             }
            ],
            "label": "2005.0",
            "method": "animate"
           },
           {
            "args": [
             [
              "2006.0"
             ],
             {
              "frame": {
               "duration": 0,
               "redraw": true
              },
              "fromcurrent": true,
              "mode": "immediate",
              "transition": {
               "duration": 0,
               "easing": "linear"
              }
             }
            ],
            "label": "2006.0",
            "method": "animate"
           },
           {
            "args": [
             [
              "2007.0"
             ],
             {
              "frame": {
               "duration": 0,
               "redraw": true
              },
              "fromcurrent": true,
              "mode": "immediate",
              "transition": {
               "duration": 0,
               "easing": "linear"
              }
             }
            ],
            "label": "2007.0",
            "method": "animate"
           },
           {
            "args": [
             [
              "2008.0"
             ],
             {
              "frame": {
               "duration": 0,
               "redraw": true
              },
              "fromcurrent": true,
              "mode": "immediate",
              "transition": {
               "duration": 0,
               "easing": "linear"
              }
             }
            ],
            "label": "2008.0",
            "method": "animate"
           },
           {
            "args": [
             [
              "2009.0"
             ],
             {
              "frame": {
               "duration": 0,
               "redraw": true
              },
              "fromcurrent": true,
              "mode": "immediate",
              "transition": {
               "duration": 0,
               "easing": "linear"
              }
             }
            ],
            "label": "2009.0",
            "method": "animate"
           },
           {
            "args": [
             [
              "2010.0"
             ],
             {
              "frame": {
               "duration": 0,
               "redraw": true
              },
              "fromcurrent": true,
              "mode": "immediate",
              "transition": {
               "duration": 0,
               "easing": "linear"
              }
             }
            ],
            "label": "2010.0",
            "method": "animate"
           }
          ],
          "x": 0.1,
          "xanchor": "left",
          "y": 0,
          "yanchor": "top"
         }
        ],
        "template": {
         "data": {
          "bar": [
           {
            "error_x": {
             "color": "#2a3f5f"
            },
            "error_y": {
             "color": "#2a3f5f"
            },
            "marker": {
             "line": {
              "color": "#E5ECF6",
              "width": 0.5
             },
             "pattern": {
              "fillmode": "overlay",
              "size": 10,
              "solidity": 0.2
             }
            },
            "type": "bar"
           }
          ],
          "barpolar": [
           {
            "marker": {
             "line": {
              "color": "#E5ECF6",
              "width": 0.5
             },
             "pattern": {
              "fillmode": "overlay",
              "size": 10,
              "solidity": 0.2
             }
            },
            "type": "barpolar"
           }
          ],
          "carpet": [
           {
            "aaxis": {
             "endlinecolor": "#2a3f5f",
             "gridcolor": "white",
             "linecolor": "white",
             "minorgridcolor": "white",
             "startlinecolor": "#2a3f5f"
            },
            "baxis": {
             "endlinecolor": "#2a3f5f",
             "gridcolor": "white",
             "linecolor": "white",
             "minorgridcolor": "white",
             "startlinecolor": "#2a3f5f"
            },
            "type": "carpet"
           }
          ],
          "choropleth": [
           {
            "colorbar": {
             "outlinewidth": 0,
             "ticks": ""
            },
            "type": "choropleth"
           }
          ],
          "contour": [
           {
            "colorbar": {
             "outlinewidth": 0,
             "ticks": ""
            },
            "colorscale": [
             [
              0,
              "#0d0887"
             ],
             [
              0.1111111111111111,
              "#46039f"
             ],
             [
              0.2222222222222222,
              "#7201a8"
             ],
             [
              0.3333333333333333,
              "#9c179e"
             ],
             [
              0.4444444444444444,
              "#bd3786"
             ],
             [
              0.5555555555555556,
              "#d8576b"
             ],
             [
              0.6666666666666666,
              "#ed7953"
             ],
             [
              0.7777777777777778,
              "#fb9f3a"
             ],
             [
              0.8888888888888888,
              "#fdca26"
             ],
             [
              1,
              "#f0f921"
             ]
            ],
            "type": "contour"
           }
          ],
          "contourcarpet": [
           {
            "colorbar": {
             "outlinewidth": 0,
             "ticks": ""
            },
            "type": "contourcarpet"
           }
          ],
          "heatmap": [
           {
            "colorbar": {
             "outlinewidth": 0,
             "ticks": ""
            },
            "colorscale": [
             [
              0,
              "#0d0887"
             ],
             [
              0.1111111111111111,
              "#46039f"
             ],
             [
              0.2222222222222222,
              "#7201a8"
             ],
             [
              0.3333333333333333,
              "#9c179e"
             ],
             [
              0.4444444444444444,
              "#bd3786"
             ],
             [
              0.5555555555555556,
              "#d8576b"
             ],
             [
              0.6666666666666666,
              "#ed7953"
             ],
             [
              0.7777777777777778,
              "#fb9f3a"
             ],
             [
              0.8888888888888888,
              "#fdca26"
             ],
             [
              1,
              "#f0f921"
             ]
            ],
            "type": "heatmap"
           }
          ],
          "heatmapgl": [
           {
            "colorbar": {
             "outlinewidth": 0,
             "ticks": ""
            },
            "colorscale": [
             [
              0,
              "#0d0887"
             ],
             [
              0.1111111111111111,
              "#46039f"
             ],
             [
              0.2222222222222222,
              "#7201a8"
             ],
             [
              0.3333333333333333,
              "#9c179e"
             ],
             [
              0.4444444444444444,
              "#bd3786"
             ],
             [
              0.5555555555555556,
              "#d8576b"
             ],
             [
              0.6666666666666666,
              "#ed7953"
             ],
             [
              0.7777777777777778,
              "#fb9f3a"
             ],
             [
              0.8888888888888888,
              "#fdca26"
             ],
             [
              1,
              "#f0f921"
             ]
            ],
            "type": "heatmapgl"
           }
          ],
          "histogram": [
           {
            "marker": {
             "pattern": {
              "fillmode": "overlay",
              "size": 10,
              "solidity": 0.2
             }
            },
            "type": "histogram"
           }
          ],
          "histogram2d": [
           {
            "colorbar": {
             "outlinewidth": 0,
             "ticks": ""
            },
            "colorscale": [
             [
              0,
              "#0d0887"
             ],
             [
              0.1111111111111111,
              "#46039f"
             ],
             [
              0.2222222222222222,
              "#7201a8"
             ],
             [
              0.3333333333333333,
              "#9c179e"
             ],
             [
              0.4444444444444444,
              "#bd3786"
             ],
             [
              0.5555555555555556,
              "#d8576b"
             ],
             [
              0.6666666666666666,
              "#ed7953"
             ],
             [
              0.7777777777777778,
              "#fb9f3a"
             ],
             [
              0.8888888888888888,
              "#fdca26"
             ],
             [
              1,
              "#f0f921"
             ]
            ],
            "type": "histogram2d"
           }
          ],
          "histogram2dcontour": [
           {
            "colorbar": {
             "outlinewidth": 0,
             "ticks": ""
            },
            "colorscale": [
             [
              0,
              "#0d0887"
             ],
             [
              0.1111111111111111,
              "#46039f"
             ],
             [
              0.2222222222222222,
              "#7201a8"
             ],
             [
              0.3333333333333333,
              "#9c179e"
             ],
             [
              0.4444444444444444,
              "#bd3786"
             ],
             [
              0.5555555555555556,
              "#d8576b"
             ],
             [
              0.6666666666666666,
              "#ed7953"
             ],
             [
              0.7777777777777778,
              "#fb9f3a"
             ],
             [
              0.8888888888888888,
              "#fdca26"
             ],
             [
              1,
              "#f0f921"
             ]
            ],
            "type": "histogram2dcontour"
           }
          ],
          "mesh3d": [
           {
            "colorbar": {
             "outlinewidth": 0,
             "ticks": ""
            },
            "type": "mesh3d"
           }
          ],
          "parcoords": [
           {
            "line": {
             "colorbar": {
              "outlinewidth": 0,
              "ticks": ""
             }
            },
            "type": "parcoords"
           }
          ],
          "pie": [
           {
            "automargin": true,
            "type": "pie"
           }
          ],
          "scatter": [
           {
            "fillpattern": {
             "fillmode": "overlay",
             "size": 10,
             "solidity": 0.2
            },
            "type": "scatter"
           }
          ],
          "scatter3d": [
           {
            "line": {
             "colorbar": {
              "outlinewidth": 0,
              "ticks": ""
             }
            },
            "marker": {
             "colorbar": {
              "outlinewidth": 0,
              "ticks": ""
             }
            },
            "type": "scatter3d"
           }
          ],
          "scattercarpet": [
           {
            "marker": {
             "colorbar": {
              "outlinewidth": 0,
              "ticks": ""
             }
            },
            "type": "scattercarpet"
           }
          ],
          "scattergeo": [
           {
            "marker": {
             "colorbar": {
              "outlinewidth": 0,
              "ticks": ""
             }
            },
            "type": "scattergeo"
           }
          ],
          "scattergl": [
           {
            "marker": {
             "colorbar": {
              "outlinewidth": 0,
              "ticks": ""
             }
            },
            "type": "scattergl"
           }
          ],
          "scattermapbox": [
           {
            "marker": {
             "colorbar": {
              "outlinewidth": 0,
              "ticks": ""
             }
            },
            "type": "scattermapbox"
           }
          ],
          "scatterpolar": [
           {
            "marker": {
             "colorbar": {
              "outlinewidth": 0,
              "ticks": ""
             }
            },
            "type": "scatterpolar"
           }
          ],
          "scatterpolargl": [
           {
            "marker": {
             "colorbar": {
              "outlinewidth": 0,
              "ticks": ""
             }
            },
            "type": "scatterpolargl"
           }
          ],
          "scatterternary": [
           {
            "marker": {
             "colorbar": {
              "outlinewidth": 0,
              "ticks": ""
             }
            },
            "type": "scatterternary"
           }
          ],
          "surface": [
           {
            "colorbar": {
             "outlinewidth": 0,
             "ticks": ""
            },
            "colorscale": [
             [
              0,
              "#0d0887"
             ],
             [
              0.1111111111111111,
              "#46039f"
             ],
             [
              0.2222222222222222,
              "#7201a8"
             ],
             [
              0.3333333333333333,
              "#9c179e"
             ],
             [
              0.4444444444444444,
              "#bd3786"
             ],
             [
              0.5555555555555556,
              "#d8576b"
             ],
             [
              0.6666666666666666,
              "#ed7953"
             ],
             [
              0.7777777777777778,
              "#fb9f3a"
             ],
             [
              0.8888888888888888,
              "#fdca26"
             ],
             [
              1,
              "#f0f921"
             ]
            ],
            "type": "surface"
           }
          ],
          "table": [
           {
            "cells": {
             "fill": {
              "color": "#EBF0F8"
             },
             "line": {
              "color": "white"
             }
            },
            "header": {
             "fill": {
              "color": "#C8D4E3"
             },
             "line": {
              "color": "white"
             }
            },
            "type": "table"
           }
          ]
         },
         "layout": {
          "annotationdefaults": {
           "arrowcolor": "#2a3f5f",
           "arrowhead": 0,
           "arrowwidth": 1
          },
          "autotypenumbers": "strict",
          "coloraxis": {
           "colorbar": {
            "outlinewidth": 0,
            "ticks": ""
           }
          },
          "colorscale": {
           "diverging": [
            [
             0,
             "#8e0152"
            ],
            [
             0.1,
             "#c51b7d"
            ],
            [
             0.2,
             "#de77ae"
            ],
            [
             0.3,
             "#f1b6da"
            ],
            [
             0.4,
             "#fde0ef"
            ],
            [
             0.5,
             "#f7f7f7"
            ],
            [
             0.6,
             "#e6f5d0"
            ],
            [
             0.7,
             "#b8e186"
            ],
            [
             0.8,
             "#7fbc41"
            ],
            [
             0.9,
             "#4d9221"
            ],
            [
             1,
             "#276419"
            ]
           ],
           "sequential": [
            [
             0,
             "#0d0887"
            ],
            [
             0.1111111111111111,
             "#46039f"
            ],
            [
             0.2222222222222222,
             "#7201a8"
            ],
            [
             0.3333333333333333,
             "#9c179e"
            ],
            [
             0.4444444444444444,
             "#bd3786"
            ],
            [
             0.5555555555555556,
             "#d8576b"
            ],
            [
             0.6666666666666666,
             "#ed7953"
            ],
            [
             0.7777777777777778,
             "#fb9f3a"
            ],
            [
             0.8888888888888888,
             "#fdca26"
            ],
            [
             1,
             "#f0f921"
            ]
           ],
           "sequentialminus": [
            [
             0,
             "#0d0887"
            ],
            [
             0.1111111111111111,
             "#46039f"
            ],
            [
             0.2222222222222222,
             "#7201a8"
            ],
            [
             0.3333333333333333,
             "#9c179e"
            ],
            [
             0.4444444444444444,
             "#bd3786"
            ],
            [
             0.5555555555555556,
             "#d8576b"
            ],
            [
             0.6666666666666666,
             "#ed7953"
            ],
            [
             0.7777777777777778,
             "#fb9f3a"
            ],
            [
             0.8888888888888888,
             "#fdca26"
            ],
            [
             1,
             "#f0f921"
            ]
           ]
          },
          "colorway": [
           "#636efa",
           "#EF553B",
           "#00cc96",
           "#ab63fa",
           "#FFA15A",
           "#19d3f3",
           "#FF6692",
           "#B6E880",
           "#FF97FF",
           "#FECB52"
          ],
          "font": {
           "color": "#2a3f5f"
          },
          "geo": {
           "bgcolor": "white",
           "lakecolor": "white",
           "landcolor": "#E5ECF6",
           "showlakes": true,
           "showland": true,
           "subunitcolor": "white"
          },
          "hoverlabel": {
           "align": "left"
          },
          "hovermode": "closest",
          "mapbox": {
           "style": "light"
          },
          "paper_bgcolor": "white",
          "plot_bgcolor": "#E5ECF6",
          "polar": {
           "angularaxis": {
            "gridcolor": "white",
            "linecolor": "white",
            "ticks": ""
           },
           "bgcolor": "#E5ECF6",
           "radialaxis": {
            "gridcolor": "white",
            "linecolor": "white",
            "ticks": ""
           }
          },
          "scene": {
           "xaxis": {
            "backgroundcolor": "#E5ECF6",
            "gridcolor": "white",
            "gridwidth": 2,
            "linecolor": "white",
            "showbackground": true,
            "ticks": "",
            "zerolinecolor": "white"
           },
           "yaxis": {
            "backgroundcolor": "#E5ECF6",
            "gridcolor": "white",
            "gridwidth": 2,
            "linecolor": "white",
            "showbackground": true,
            "ticks": "",
            "zerolinecolor": "white"
           },
           "zaxis": {
            "backgroundcolor": "#E5ECF6",
            "gridcolor": "white",
            "gridwidth": 2,
            "linecolor": "white",
            "showbackground": true,
            "ticks": "",
            "zerolinecolor": "white"
           }
          },
          "shapedefaults": {
           "line": {
            "color": "#2a3f5f"
           }
          },
          "ternary": {
           "aaxis": {
            "gridcolor": "white",
            "linecolor": "white",
            "ticks": ""
           },
           "baxis": {
            "gridcolor": "white",
            "linecolor": "white",
            "ticks": ""
           },
           "bgcolor": "#E5ECF6",
           "caxis": {
            "gridcolor": "white",
            "linecolor": "white",
            "ticks": ""
           }
          },
          "title": {
           "x": 0.05
          },
          "xaxis": {
           "automargin": true,
           "gridcolor": "white",
           "linecolor": "white",
           "ticks": "",
           "title": {
            "standoff": 15
           },
           "zerolinecolor": "white",
           "zerolinewidth": 2
          },
          "yaxis": {
           "automargin": true,
           "gridcolor": "white",
           "linecolor": "white",
           "ticks": "",
           "title": {
            "standoff": 15
           },
           "zerolinecolor": "white",
           "zerolinewidth": 2
          }
         }
        },
        "title": {
         "text": "Total Alumnos x Carrera separado entre Egresado y Desertor"
        },
        "updatemenus": [
         {
          "buttons": [
           {
            "args": [
             null,
             {
              "frame": {
               "duration": 500,
               "redraw": true
              },
              "fromcurrent": true,
              "mode": "immediate",
              "transition": {
               "duration": 500,
               "easing": "linear"
              }
             }
            ],
            "label": "&#9654;",
            "method": "animate"
           },
           {
            "args": [
             [
              null
             ],
             {
              "frame": {
               "duration": 0,
               "redraw": true
              },
              "fromcurrent": true,
              "mode": "immediate",
              "transition": {
               "duration": 0,
               "easing": "linear"
              }
             }
            ],
            "label": "&#9724;",
            "method": "animate"
           }
          ],
          "direction": "left",
          "pad": {
           "r": 10,
           "t": 70
          },
          "showactive": false,
          "type": "buttons",
          "x": 0.1,
          "xanchor": "right",
          "y": 0,
          "yanchor": "top"
         }
        ],
        "xaxis": {
         "anchor": "y",
         "domain": [
          0,
          1
         ],
         "title": {
          "text": "Nombre_Corto"
         }
        },
        "yaxis": {
         "anchor": "x",
         "domain": [
          0,
          1
         ],
         "title": {
          "text": "Cantidad"
         }
        }
       }
      }
     },
     "metadata": {},
     "output_type": "display_data"
    }
   ],
   "source": [
    "df_Estado_Alumno_xCarrera = df_AluMateria.groupby(['Id_Carrera','Año','Estado'])['Id_Alumno'].count().reset_index(name='Cantidad')\n",
    "df_Estado_Alumno_xCarrera = pd.merge(df_Estado_Alumno_xCarrera,\n",
    "                        df_Carreras[['Id_Carrera','Nombre_Corto']],\n",
    "                        how='inner',\n",
    "                        on=['Id_Carrera'])\n",
    "px.bar(df_Estado_Alumno_xCarrera, x='Nombre_Corto',y='Cantidad', color='Estado', \n",
    "        title='Total Alumnos x Carrera separado entre Egresado y Desertor', \n",
    "        animation_frame='Año', \n",
    "        barmode='group')"
   ]
  },
  {
   "attachments": {},
   "cell_type": "markdown",
   "metadata": {},
   "source": [
    "#### La taza de desercion a lo largo de los años es demasiado alta en todas la carreras. dentro de todo algo normal para un estudio superior, tendria que comparar con otras instituciones para verificiar si esta taza es demasiado alta o no"
   ]
  },
  {
   "attachments": {},
   "cell_type": "markdown",
   "metadata": {},
   "source": [
    "### Recursantes de Cada Materia x Año "
   ]
  },
  {
   "cell_type": "code",
   "execution_count": 44,
   "metadata": {},
   "outputs": [],
   "source": [
    "df_AluMateria_R = df_AluMateria.drop(['Id_Alumno','Condicion','Cuatrimestres','Estado','Semestre','Id_Carrera','Fecha_Inscrip', 'Ctro_Ext', 'Id_Modalidad', 'Id_Comision', 'Nota_1p',\n",
    "       'Fecha_1p', 'Nota_2p', 'Fecha_2p', 'Nota_TP', 'Fecha_TP', 'Nota_Recup',\n",
    "       'Fecha_Recup', 'Cuatrimestre'],axis=1)"
   ]
  },
  {
   "cell_type": "code",
   "execution_count": 48,
   "metadata": {},
   "outputs": [
    {
     "data": {
      "application/vnd.plotly.v1+json": {
       "config": {
        "plotlyServerURL": "https://plot.ly"
       },
       "data": [
        {
         "alignmentgroup": "True",
         "hovertemplate": "Nombre=HISTORIA DEL DISEÑO<br>Año=%{x}<br>cant=%{y}<extra></extra>",
         "legendgroup": "HISTORIA DEL DISEÑO",
         "marker": {
          "color": "#636efa",
          "pattern": {
           "shape": ""
          }
         },
         "name": "HISTORIA DEL DISEÑO",
         "offsetgroup": "HISTORIA DEL DISEÑO",
         "orientation": "v",
         "showlegend": true,
         "textposition": "auto",
         "type": "bar",
         "x": [
          2001,
          2002,
          2003,
          2004,
          2005,
          2006,
          2007,
          2008,
          2009,
          2010
         ],
         "xaxis": "x",
         "y": [
          86,
          78,
          46,
          119,
          124,
          122,
          133,
          137,
          154,
          93
         ],
         "yaxis": "y"
        },
        {
         "alignmentgroup": "True",
         "hovertemplate": "Nombre=INTRODUCCIÓN A LA PUBLICIDAD<br>Año=%{x}<br>cant=%{y}<extra></extra>",
         "legendgroup": "INTRODUCCIÓN A LA PUBLICIDAD",
         "marker": {
          "color": "#EF553B",
          "pattern": {
           "shape": ""
          }
         },
         "name": "INTRODUCCIÓN A LA PUBLICIDAD",
         "offsetgroup": "INTRODUCCIÓN A LA PUBLICIDAD",
         "orientation": "v",
         "showlegend": true,
         "textposition": "auto",
         "type": "bar",
         "x": [
          2001,
          2002,
          2003,
          2004,
          2005,
          2006,
          2007,
          2008,
          2009,
          2010
         ],
         "xaxis": "x",
         "y": [
          9,
          41,
          49,
          42,
          54,
          70,
          64,
          70,
          80,
          91
         ],
         "yaxis": "y"
        },
        {
         "alignmentgroup": "True",
         "hovertemplate": "Nombre=ELEMENTOS DE DISEÑO I<br>Año=%{x}<br>cant=%{y}<extra></extra>",
         "legendgroup": "ELEMENTOS DE DISEÑO I",
         "marker": {
          "color": "#00cc96",
          "pattern": {
           "shape": ""
          }
         },
         "name": "ELEMENTOS DE DISEÑO I",
         "offsetgroup": "ELEMENTOS DE DISEÑO I",
         "orientation": "v",
         "showlegend": true,
         "textposition": "auto",
         "type": "bar",
         "x": [
          2001,
          2002,
          2003,
          2004,
          2005,
          2006,
          2007,
          2008,
          2009,
          2010
         ],
         "xaxis": "x",
         "y": [
          110,
          100,
          51,
          137,
          134,
          141,
          166,
          148,
          182,
          125
         ],
         "yaxis": "y"
        },
        {
         "alignmentgroup": "True",
         "hovertemplate": "Nombre=DISEÑOMÁTICA I<br>Año=%{x}<br>cant=%{y}<extra></extra>",
         "legendgroup": "DISEÑOMÁTICA I",
         "marker": {
          "color": "#ab63fa",
          "pattern": {
           "shape": ""
          }
         },
         "name": "DISEÑOMÁTICA I",
         "offsetgroup": "DISEÑOMÁTICA I",
         "orientation": "v",
         "showlegend": true,
         "textposition": "auto",
         "type": "bar",
         "x": [
          2001,
          2002,
          2003,
          2004,
          2005,
          2006,
          2007,
          2008,
          2009,
          2010
         ],
         "xaxis": "x",
         "y": [
          129,
          128,
          105,
          142,
          157,
          187,
          213,
          176,
          220,
          159
         ],
         "yaxis": "y"
        },
        {
         "alignmentgroup": "True",
         "hovertemplate": "Nombre=ELEMENTOS DE DISEÑO II<br>Año=%{x}<br>cant=%{y}<extra></extra>",
         "legendgroup": "ELEMENTOS DE DISEÑO II",
         "marker": {
          "color": "#FFA15A",
          "pattern": {
           "shape": ""
          }
         },
         "name": "ELEMENTOS DE DISEÑO II",
         "offsetgroup": "ELEMENTOS DE DISEÑO II",
         "orientation": "v",
         "showlegend": true,
         "textposition": "auto",
         "type": "bar",
         "x": [
          2001,
          2002,
          2003,
          2004,
          2005,
          2006,
          2007,
          2008,
          2009,
          2010
         ],
         "xaxis": "x",
         "y": [
          76,
          87,
          57,
          97,
          118,
          127,
          143,
          136,
          141,
          86
         ],
         "yaxis": "y"
        },
        {
         "alignmentgroup": "True",
         "hovertemplate": "Nombre=TÉCNICAS DE DIBUJO<br>Año=%{x}<br>cant=%{y}<extra></extra>",
         "legendgroup": "TÉCNICAS DE DIBUJO",
         "marker": {
          "color": "#19d3f3",
          "pattern": {
           "shape": ""
          }
         },
         "name": "TÉCNICAS DE DIBUJO",
         "offsetgroup": "TÉCNICAS DE DIBUJO",
         "orientation": "v",
         "showlegend": true,
         "textposition": "auto",
         "type": "bar",
         "x": [
          2001,
          2002,
          2003,
          2004,
          2005,
          2006,
          2007,
          2008,
          2009,
          2010
         ],
         "xaxis": "x",
         "y": [
          70,
          67,
          36,
          104,
          97,
          110,
          122,
          122,
          135,
          73
         ],
         "yaxis": "y"
        },
        {
         "alignmentgroup": "True",
         "hovertemplate": "Nombre=ESTÉTICA<br>Año=%{x}<br>cant=%{y}<extra></extra>",
         "legendgroup": "ESTÉTICA",
         "marker": {
          "color": "#FF6692",
          "pattern": {
           "shape": ""
          }
         },
         "name": "ESTÉTICA",
         "offsetgroup": "ESTÉTICA",
         "orientation": "v",
         "showlegend": true,
         "textposition": "auto",
         "type": "bar",
         "x": [
          2001,
          2002,
          2003,
          2004,
          2005,
          2006,
          2007,
          2008,
          2009,
          2010
         ],
         "xaxis": "x",
         "y": [
          8,
          56,
          54,
          27,
          84,
          75,
          64,
          87,
          85,
          91
         ],
         "yaxis": "y"
        },
        {
         "alignmentgroup": "True",
         "hovertemplate": "Nombre=DISEÑOMÁTICA II<br>Año=%{x}<br>cant=%{y}<extra></extra>",
         "legendgroup": "DISEÑOMÁTICA II",
         "marker": {
          "color": "#B6E880",
          "pattern": {
           "shape": ""
          }
         },
         "name": "DISEÑOMÁTICA II",
         "offsetgroup": "DISEÑOMÁTICA II",
         "orientation": "v",
         "showlegend": true,
         "textposition": "auto",
         "type": "bar",
         "x": [
          2001,
          2002,
          2003,
          2004,
          2005,
          2006,
          2007,
          2008,
          2009,
          2010
         ],
         "xaxis": "x",
         "y": [
          4,
          98,
          109,
          78,
          90,
          122,
          107,
          113,
          120,
          142
         ],
         "yaxis": "y"
        },
        {
         "alignmentgroup": "True",
         "hovertemplate": "Nombre=FOTOGRAFÍA<br>Año=%{x}<br>cant=%{y}<extra></extra>",
         "legendgroup": "FOTOGRAFÍA",
         "marker": {
          "color": "#FF97FF",
          "pattern": {
           "shape": ""
          }
         },
         "name": "FOTOGRAFÍA",
         "offsetgroup": "FOTOGRAFÍA",
         "orientation": "v",
         "showlegend": true,
         "textposition": "auto",
         "type": "bar",
         "x": [
          2001,
          2002,
          2003,
          2004,
          2005,
          2006,
          2007,
          2008,
          2009,
          2010
         ],
         "xaxis": "x",
         "y": [
          37,
          59,
          124,
          140,
          182,
          182,
          232,
          190,
          213,
          156
         ],
         "yaxis": "y"
        },
        {
         "alignmentgroup": "True",
         "hovertemplate": "Nombre=PRODUCCIÓN GRÁFICA<br>Año=%{x}<br>cant=%{y}<extra></extra>",
         "legendgroup": "PRODUCCIÓN GRÁFICA",
         "marker": {
          "color": "#FECB52",
          "pattern": {
           "shape": ""
          }
         },
         "name": "PRODUCCIÓN GRÁFICA",
         "offsetgroup": "PRODUCCIÓN GRÁFICA",
         "orientation": "v",
         "showlegend": true,
         "textposition": "auto",
         "type": "bar",
         "x": [
          2001,
          2002,
          2003,
          2004,
          2005,
          2006,
          2007,
          2008,
          2009,
          2010
         ],
         "xaxis": "x",
         "y": [
          53,
          76,
          81,
          98,
          102,
          127,
          145,
          134,
          153,
          108
         ],
         "yaxis": "y"
        },
        {
         "alignmentgroup": "True",
         "hovertemplate": "Nombre=SEMIÓTICA<br>Año=%{x}<br>cant=%{y}<extra></extra>",
         "legendgroup": "SEMIÓTICA",
         "marker": {
          "color": "#636efa",
          "pattern": {
           "shape": ""
          }
         },
         "name": "SEMIÓTICA",
         "offsetgroup": "SEMIÓTICA",
         "orientation": "v",
         "showlegend": true,
         "textposition": "auto",
         "type": "bar",
         "x": [
          2001,
          2002,
          2003,
          2004,
          2005,
          2006,
          2007,
          2008,
          2009,
          2010
         ],
         "xaxis": "x",
         "y": [
          7,
          39,
          70,
          67,
          81,
          81,
          88,
          99,
          94,
          115
         ],
         "yaxis": "y"
        },
        {
         "alignmentgroup": "True",
         "hovertemplate": "Nombre=CULTURA ORGANIZACIONAL<br>Año=%{x}<br>cant=%{y}<extra></extra>",
         "legendgroup": "CULTURA ORGANIZACIONAL",
         "marker": {
          "color": "#EF553B",
          "pattern": {
           "shape": ""
          }
         },
         "name": "CULTURA ORGANIZACIONAL",
         "offsetgroup": "CULTURA ORGANIZACIONAL",
         "orientation": "v",
         "showlegend": true,
         "textposition": "auto",
         "type": "bar",
         "x": [
          2001,
          2002,
          2003,
          2004,
          2005,
          2006,
          2007,
          2008,
          2009,
          2010
         ],
         "xaxis": "x",
         "y": [
          54,
          74,
          121,
          147,
          160,
          180,
          222,
          241,
          239,
          208
         ],
         "yaxis": "y"
        },
        {
         "alignmentgroup": "True",
         "hovertemplate": "Nombre=CREACIÓN PUBLICITARIA<br>Año=%{x}<br>cant=%{y}<extra></extra>",
         "legendgroup": "CREACIÓN PUBLICITARIA",
         "marker": {
          "color": "#00cc96",
          "pattern": {
           "shape": ""
          }
         },
         "name": "CREACIÓN PUBLICITARIA",
         "offsetgroup": "CREACIÓN PUBLICITARIA",
         "orientation": "v",
         "showlegend": true,
         "textposition": "auto",
         "type": "bar",
         "x": [
          2002,
          2003,
          2004,
          2005,
          2006,
          2007,
          2008,
          2009,
          2010
         ],
         "xaxis": "x",
         "y": [
          5,
          40,
          44,
          35,
          52,
          60,
          55,
          58,
          69
         ],
         "yaxis": "y"
        },
        {
         "alignmentgroup": "True",
         "hovertemplate": "Nombre=DISEÑOMÁTICA IV<br>Año=%{x}<br>cant=%{y}<extra></extra>",
         "legendgroup": "DISEÑOMÁTICA IV",
         "marker": {
          "color": "#ab63fa",
          "pattern": {
           "shape": ""
          }
         },
         "name": "DISEÑOMÁTICA IV",
         "offsetgroup": "DISEÑOMÁTICA IV",
         "orientation": "v",
         "showlegend": true,
         "textposition": "auto",
         "type": "bar",
         "x": [
          2001,
          2002,
          2003,
          2004,
          2005,
          2006,
          2007,
          2008,
          2009,
          2010
         ],
         "xaxis": "x",
         "y": [
          2,
          6,
          60,
          64,
          37,
          64,
          63,
          66,
          65,
          90
         ],
         "yaxis": "y"
        },
        {
         "alignmentgroup": "True",
         "hovertemplate": "Nombre=TECNOLOGÍA DE IMPRESIÓN<br>Año=%{x}<br>cant=%{y}<extra></extra>",
         "legendgroup": "TECNOLOGÍA DE IMPRESIÓN",
         "marker": {
          "color": "#FFA15A",
          "pattern": {
           "shape": ""
          }
         },
         "name": "TECNOLOGÍA DE IMPRESIÓN",
         "offsetgroup": "TECNOLOGÍA DE IMPRESIÓN",
         "orientation": "v",
         "showlegend": true,
         "textposition": "auto",
         "type": "bar",
         "x": [
          2001,
          2002,
          2003,
          2004,
          2005,
          2006,
          2007,
          2008,
          2009,
          2010
         ],
         "xaxis": "x",
         "y": [
          2,
          6,
          38,
          39,
          46,
          47,
          59,
          67,
          72,
          78
         ],
         "yaxis": "y"
        },
        {
         "alignmentgroup": "True",
         "hovertemplate": "Nombre=CAMPAÑAS PUBLICITARIAS Y DISEÑO<br>Año=%{x}<br>cant=%{y}<extra></extra>",
         "legendgroup": "CAMPAÑAS PUBLICITARIAS Y DISEÑO",
         "marker": {
          "color": "#19d3f3",
          "pattern": {
           "shape": ""
          }
         },
         "name": "CAMPAÑAS PUBLICITARIAS Y DISEÑO",
         "offsetgroup": "CAMPAÑAS PUBLICITARIAS Y DISEÑO",
         "orientation": "v",
         "showlegend": true,
         "textposition": "auto",
         "type": "bar",
         "x": [
          2001,
          2002,
          2003,
          2004,
          2005,
          2006
         ],
         "xaxis": "x",
         "y": [
          2,
          4,
          26,
          37,
          28,
          15
         ],
         "yaxis": "y"
        },
        {
         "alignmentgroup": "True",
         "hovertemplate": "Nombre=TALLER DE DISEÑO I<br>Año=%{x}<br>cant=%{y}<extra></extra>",
         "legendgroup": "TALLER DE DISEÑO I",
         "marker": {
          "color": "#FF6692",
          "pattern": {
           "shape": ""
          }
         },
         "name": "TALLER DE DISEÑO I",
         "offsetgroup": "TALLER DE DISEÑO I",
         "orientation": "v",
         "showlegend": true,
         "textposition": "auto",
         "type": "bar",
         "x": [
          2001,
          2002,
          2003,
          2004,
          2005,
          2006,
          2007,
          2008,
          2009,
          2010
         ],
         "xaxis": "x",
         "y": [
          52,
          62,
          53,
          82,
          96,
          97,
          106,
          110,
          129,
          64
         ],
         "yaxis": "y"
        },
        {
         "alignmentgroup": "True",
         "hovertemplate": "Nombre=TALLER DE DISEÑO II<br>Año=%{x}<br>cant=%{y}<extra></extra>",
         "legendgroup": "TALLER DE DISEÑO II",
         "marker": {
          "color": "#B6E880",
          "pattern": {
           "shape": ""
          }
         },
         "name": "TALLER DE DISEÑO II",
         "offsetgroup": "TALLER DE DISEÑO II",
         "orientation": "v",
         "showlegend": true,
         "textposition": "auto",
         "type": "bar",
         "x": [
          2001,
          2002,
          2003,
          2004,
          2005,
          2006,
          2007,
          2008,
          2009,
          2010
         ],
         "xaxis": "x",
         "y": [
          8,
          55,
          53,
          28,
          74,
          77,
          62,
          77,
          83,
          96
         ],
         "yaxis": "y"
        },
        {
         "alignmentgroup": "True",
         "hovertemplate": "Nombre=TIPOGRAFÍA<br>Año=%{x}<br>cant=%{y}<extra></extra>",
         "legendgroup": "TIPOGRAFÍA",
         "marker": {
          "color": "#FF97FF",
          "pattern": {
           "shape": ""
          }
         },
         "name": "TIPOGRAFÍA",
         "offsetgroup": "TIPOGRAFÍA",
         "orientation": "v",
         "showlegend": true,
         "textposition": "auto",
         "type": "bar",
         "x": [
          2001,
          2002,
          2003,
          2004,
          2005,
          2006,
          2007,
          2008,
          2009,
          2010
         ],
         "xaxis": "x",
         "y": [
          9,
          59,
          53,
          29,
          74,
          88,
          88,
          104,
          108,
          120
         ],
         "yaxis": "y"
        },
        {
         "alignmentgroup": "True",
         "hovertemplate": "Nombre=TALLER DE DISEÑO III<br>Año=%{x}<br>cant=%{y}<extra></extra>",
         "legendgroup": "TALLER DE DISEÑO III",
         "marker": {
          "color": "#FECB52",
          "pattern": {
           "shape": ""
          }
         },
         "name": "TALLER DE DISEÑO III",
         "offsetgroup": "TALLER DE DISEÑO III",
         "orientation": "v",
         "showlegend": true,
         "textposition": "auto",
         "type": "bar",
         "x": [
          2001,
          2002,
          2003,
          2004,
          2005,
          2006,
          2007,
          2008,
          2009,
          2010
         ],
         "xaxis": "x",
         "y": [
          7,
          41,
          50,
          40,
          53,
          73,
          69,
          76,
          67,
          108
         ],
         "yaxis": "y"
        },
        {
         "alignmentgroup": "True",
         "hovertemplate": "Nombre=TALLER DE DISEÑO IV<br>Año=%{x}<br>cant=%{y}<extra></extra>",
         "legendgroup": "TALLER DE DISEÑO IV",
         "marker": {
          "color": "#636efa",
          "pattern": {
           "shape": ""
          }
         },
         "name": "TALLER DE DISEÑO IV",
         "offsetgroup": "TALLER DE DISEÑO IV",
         "orientation": "v",
         "showlegend": true,
         "textposition": "auto",
         "type": "bar",
         "x": [
          2001,
          2002,
          2003,
          2004,
          2005,
          2006,
          2007,
          2008,
          2009,
          2010
         ],
         "xaxis": "x",
         "y": [
          4,
          6,
          43,
          43,
          27,
          65,
          81,
          61,
          63,
          83
         ],
         "yaxis": "y"
        },
        {
         "alignmentgroup": "True",
         "hovertemplate": "Nombre=TALLER DE DISEÑO V<br>Año=%{x}<br>cant=%{y}<extra></extra>",
         "legendgroup": "TALLER DE DISEÑO V",
         "marker": {
          "color": "#EF553B",
          "pattern": {
           "shape": ""
          }
         },
         "name": "TALLER DE DISEÑO V",
         "offsetgroup": "TALLER DE DISEÑO V",
         "orientation": "v",
         "showlegend": true,
         "textposition": "auto",
         "type": "bar",
         "x": [
          2001,
          2002,
          2003,
          2004,
          2005,
          2006,
          2007,
          2008,
          2009,
          2010
         ],
         "xaxis": "x",
         "y": [
          2,
          5,
          36,
          41,
          39,
          45,
          47,
          63,
          68,
          61
         ],
         "yaxis": "y"
        },
        {
         "alignmentgroup": "True",
         "hovertemplate": "Nombre=SISTEMAS DE INFORMACIÓN<br>Año=%{x}<br>cant=%{y}<extra></extra>",
         "legendgroup": "SISTEMAS DE INFORMACIÓN",
         "marker": {
          "color": "#00cc96",
          "pattern": {
           "shape": ""
          }
         },
         "name": "SISTEMAS DE INFORMACIÓN",
         "offsetgroup": "SISTEMAS DE INFORMACIÓN",
         "orientation": "v",
         "showlegend": true,
         "textposition": "auto",
         "type": "bar",
         "x": [
          2001,
          2002,
          2003,
          2004,
          2005,
          2006,
          2007,
          2008,
          2009,
          2010
         ],
         "xaxis": "x",
         "y": [
          129,
          131,
          122,
          202,
          258,
          222,
          170,
          219,
          171,
          193
         ],
         "yaxis": "y"
        },
        {
         "alignmentgroup": "True",
         "hovertemplate": "Nombre=RECURSOS INFORMÁTICOS<br>Año=%{x}<br>cant=%{y}<extra></extra>",
         "legendgroup": "RECURSOS INFORMÁTICOS",
         "marker": {
          "color": "#ab63fa",
          "pattern": {
           "shape": ""
          }
         },
         "name": "RECURSOS INFORMÁTICOS",
         "offsetgroup": "RECURSOS INFORMÁTICOS",
         "orientation": "v",
         "showlegend": true,
         "textposition": "auto",
         "type": "bar",
         "x": [
          2001,
          2002,
          2003,
          2004,
          2005,
          2006,
          2007,
          2008,
          2009,
          2010
         ],
         "xaxis": "x",
         "y": [
          269,
          235,
          242,
          312,
          431,
          407,
          426,
          477,
          418,
          367
         ],
         "yaxis": "y"
        },
        {
         "alignmentgroup": "True",
         "hovertemplate": "Nombre=PROBABILIDAD Y ESTADÍSTICA<br>Año=%{x}<br>cant=%{y}<extra></extra>",
         "legendgroup": "PROBABILIDAD Y ESTADÍSTICA",
         "marker": {
          "color": "#FFA15A",
          "pattern": {
           "shape": ""
          }
         },
         "name": "PROBABILIDAD Y ESTADÍSTICA",
         "offsetgroup": "PROBABILIDAD Y ESTADÍSTICA",
         "orientation": "v",
         "showlegend": true,
         "textposition": "auto",
         "type": "bar",
         "x": [
          2001,
          2002,
          2003,
          2004,
          2005,
          2006,
          2007,
          2008,
          2009,
          2010
         ],
         "xaxis": "x",
         "y": [
          7,
          102,
          155,
          195,
          217,
          257,
          248,
          256,
          237,
          239
         ],
         "yaxis": "y"
        },
        {
         "alignmentgroup": "True",
         "hovertemplate": "Nombre=EMPRESA Y PRODUCCIÓN<br>Año=%{x}<br>cant=%{y}<extra></extra>",
         "legendgroup": "EMPRESA Y PRODUCCIÓN",
         "marker": {
          "color": "#19d3f3",
          "pattern": {
           "shape": ""
          }
         },
         "name": "EMPRESA Y PRODUCCIÓN",
         "offsetgroup": "EMPRESA Y PRODUCCIÓN",
         "orientation": "v",
         "showlegend": true,
         "textposition": "auto",
         "type": "bar",
         "x": [
          2001,
          2002,
          2003,
          2004,
          2005,
          2006,
          2007,
          2008,
          2009,
          2010
         ],
         "xaxis": "x",
         "y": [
          64,
          55,
          90,
          52,
          66,
          67,
          53,
          62,
          56,
          41
         ],
         "yaxis": "y"
        },
        {
         "alignmentgroup": "True",
         "hovertemplate": "Nombre=SOCIOLOGÍA EMPRESARIAL<br>Año=%{x}<br>cant=%{y}<extra></extra>",
         "legendgroup": "SOCIOLOGÍA EMPRESARIAL",
         "marker": {
          "color": "#FF6692",
          "pattern": {
           "shape": ""
          }
         },
         "name": "SOCIOLOGÍA EMPRESARIAL",
         "offsetgroup": "SOCIOLOGÍA EMPRESARIAL",
         "orientation": "v",
         "showlegend": true,
         "textposition": "auto",
         "type": "bar",
         "x": [
          2001,
          2002
         ],
         "xaxis": "x",
         "y": [
          60,
          39
         ],
         "yaxis": "y"
        },
        {
         "alignmentgroup": "True",
         "hovertemplate": "Nombre=FUNDAMENTOS DE ECONOMÍA<br>Año=%{x}<br>cant=%{y}<extra></extra>",
         "legendgroup": "FUNDAMENTOS DE ECONOMÍA",
         "marker": {
          "color": "#B6E880",
          "pattern": {
           "shape": ""
          }
         },
         "name": "FUNDAMENTOS DE ECONOMÍA",
         "offsetgroup": "FUNDAMENTOS DE ECONOMÍA",
         "orientation": "v",
         "showlegend": true,
         "textposition": "auto",
         "type": "bar",
         "x": [
          2001,
          2002,
          2003,
          2004,
          2005,
          2006,
          2007,
          2008,
          2009,
          2010
         ],
         "xaxis": "x",
         "y": [
          89,
          120,
          191,
          193,
          220,
          238,
          233,
          218,
          233,
          213
         ],
         "yaxis": "y"
        },
        {
         "alignmentgroup": "True",
         "hovertemplate": "Nombre=PSICOLOGÍA EMPRESARIAL<br>Año=%{x}<br>cant=%{y}<extra></extra>",
         "legendgroup": "PSICOLOGÍA EMPRESARIAL",
         "marker": {
          "color": "#FF97FF",
          "pattern": {
           "shape": ""
          }
         },
         "name": "PSICOLOGÍA EMPRESARIAL",
         "offsetgroup": "PSICOLOGÍA EMPRESARIAL",
         "orientation": "v",
         "showlegend": true,
         "textposition": "auto",
         "type": "bar",
         "x": [
          2001,
          2002,
          2003,
          2005,
          2006,
          2007,
          2008,
          2009,
          2010
         ],
         "xaxis": "x",
         "y": [
          4,
          68,
          57,
          6,
          17,
          80,
          104,
          99,
          106
         ],
         "yaxis": "y"
        },
        {
         "alignmentgroup": "True",
         "hovertemplate": "Nombre=MERCADOTECNIA I<br>Año=%{x}<br>cant=%{y}<extra></extra>",
         "legendgroup": "MERCADOTECNIA I",
         "marker": {
          "color": "#FECB52",
          "pattern": {
           "shape": ""
          }
         },
         "name": "MERCADOTECNIA I",
         "offsetgroup": "MERCADOTECNIA I",
         "orientation": "v",
         "showlegend": true,
         "textposition": "auto",
         "type": "bar",
         "x": [
          2001,
          2002
         ],
         "xaxis": "x",
         "y": [
          4,
          48
         ],
         "yaxis": "y"
        },
        {
         "alignmentgroup": "True",
         "hovertemplate": "Nombre=GESTIÓN FINANCIERA<br>Año=%{x}<br>cant=%{y}<extra></extra>",
         "legendgroup": "GESTIÓN FINANCIERA",
         "marker": {
          "color": "#636efa",
          "pattern": {
           "shape": ""
          }
         },
         "name": "GESTIÓN FINANCIERA",
         "offsetgroup": "GESTIÓN FINANCIERA",
         "orientation": "v",
         "showlegend": true,
         "textposition": "auto",
         "type": "bar",
         "x": [
          2001,
          2002,
          2003,
          2004,
          2005,
          2006,
          2007,
          2008,
          2009,
          2010
         ],
         "xaxis": "x",
         "y": [
          4,
          41,
          36,
          36,
          54,
          53,
          45,
          52,
          44,
          51
         ],
         "yaxis": "y"
        },
        {
         "alignmentgroup": "True",
         "hovertemplate": "Nombre=INVESTIGACIÓN OPERATIVA<br>Año=%{x}<br>cant=%{y}<extra></extra>",
         "legendgroup": "INVESTIGACIÓN OPERATIVA",
         "marker": {
          "color": "#EF553B",
          "pattern": {
           "shape": ""
          }
         },
         "name": "INVESTIGACIÓN OPERATIVA",
         "offsetgroup": "INVESTIGACIÓN OPERATIVA",
         "orientation": "v",
         "showlegend": true,
         "textposition": "auto",
         "type": "bar",
         "x": [
          2001,
          2002,
          2003,
          2004,
          2005,
          2006,
          2007,
          2008,
          2009,
          2010
         ],
         "xaxis": "x",
         "y": [
          3,
          48,
          83,
          66,
          72,
          94,
          107,
          92,
          80,
          83
         ],
         "yaxis": "y"
        },
        {
         "alignmentgroup": "True",
         "hovertemplate": "Nombre=DIRECCIÓN DE EMPRESAS<br>Año=%{x}<br>cant=%{y}<extra></extra>",
         "legendgroup": "DIRECCIÓN DE EMPRESAS",
         "marker": {
          "color": "#00cc96",
          "pattern": {
           "shape": ""
          }
         },
         "name": "DIRECCIÓN DE EMPRESAS",
         "offsetgroup": "DIRECCIÓN DE EMPRESAS",
         "orientation": "v",
         "showlegend": true,
         "textposition": "auto",
         "type": "bar",
         "x": [
          2001,
          2002,
          2003,
          2004,
          2005,
          2006,
          2007,
          2008,
          2009,
          2010
         ],
         "xaxis": "x",
         "y": [
          1,
          7,
          33,
          50,
          52,
          58,
          68,
          57,
          44,
          47
         ],
         "yaxis": "y"
        },
        {
         "alignmentgroup": "True",
         "hovertemplate": "Nombre=ADMINISTRACIÓN DE LA PRODUCCIÓN<br>Año=%{x}<br>cant=%{y}<extra></extra>",
         "legendgroup": "ADMINISTRACIÓN DE LA PRODUCCIÓN",
         "marker": {
          "color": "#ab63fa",
          "pattern": {
           "shape": ""
          }
         },
         "name": "ADMINISTRACIÓN DE LA PRODUCCIÓN",
         "offsetgroup": "ADMINISTRACIÓN DE LA PRODUCCIÓN",
         "orientation": "v",
         "showlegend": true,
         "textposition": "auto",
         "type": "bar",
         "x": [
          2001,
          2002,
          2003,
          2004,
          2005,
          2006,
          2007,
          2008,
          2009,
          2010
         ],
         "xaxis": "x",
         "y": [
          1,
          6,
          41,
          62,
          51,
          65,
          85,
          96,
          107,
          98
         ],
         "yaxis": "y"
        },
        {
         "alignmentgroup": "True",
         "hovertemplate": "Nombre=EVALUACIÓN DE PROYECTOS<br>Año=%{x}<br>cant=%{y}<extra></extra>",
         "legendgroup": "EVALUACIÓN DE PROYECTOS",
         "marker": {
          "color": "#FFA15A",
          "pattern": {
           "shape": ""
          }
         },
         "name": "EVALUACIÓN DE PROYECTOS",
         "offsetgroup": "EVALUACIÓN DE PROYECTOS",
         "orientation": "v",
         "showlegend": true,
         "textposition": "auto",
         "type": "bar",
         "x": [
          2001,
          2002,
          2003,
          2004,
          2005,
          2006,
          2007,
          2008,
          2009,
          2010
         ],
         "xaxis": "x",
         "y": [
          1,
          4,
          21,
          32,
          22,
          30,
          36,
          37,
          27,
          26
         ],
         "yaxis": "y"
        },
        {
         "alignmentgroup": "True",
         "hovertemplate": "Nombre=COMERCIO EXTERIOR<br>Año=%{x}<br>cant=%{y}<extra></extra>",
         "legendgroup": "COMERCIO EXTERIOR",
         "marker": {
          "color": "#19d3f3",
          "pattern": {
           "shape": ""
          }
         },
         "name": "COMERCIO EXTERIOR",
         "offsetgroup": "COMERCIO EXTERIOR",
         "orientation": "v",
         "showlegend": true,
         "textposition": "auto",
         "type": "bar",
         "x": [
          2001,
          2002
         ],
         "xaxis": "x",
         "y": [
          4,
          37
         ],
         "yaxis": "y"
        },
        {
         "alignmentgroup": "True",
         "hovertemplate": "Nombre=DERECHO CIVIL Y COMERCIAL<br>Año=%{x}<br>cant=%{y}<extra></extra>",
         "legendgroup": "DERECHO CIVIL Y COMERCIAL",
         "marker": {
          "color": "#FF6692",
          "pattern": {
           "shape": ""
          }
         },
         "name": "DERECHO CIVIL Y COMERCIAL",
         "offsetgroup": "DERECHO CIVIL Y COMERCIAL",
         "orientation": "v",
         "showlegend": true,
         "textposition": "auto",
         "type": "bar",
         "x": [
          2001,
          2002,
          2003,
          2004,
          2005,
          2006,
          2007,
          2008,
          2009,
          2010
         ],
         "xaxis": "x",
         "y": [
          154,
          196,
          243,
          284,
          340,
          366,
          341,
          337,
          330,
          283
         ],
         "yaxis": "y"
        },
        {
         "alignmentgroup": "True",
         "hovertemplate": "Nombre=PLANIFICACIÓN Y CONTROL DE GESTIÓN<br>Año=%{x}<br>cant=%{y}<extra></extra>",
         "legendgroup": "PLANIFICACIÓN Y CONTROL DE GESTIÓN",
         "marker": {
          "color": "#B6E880",
          "pattern": {
           "shape": ""
          }
         },
         "name": "PLANIFICACIÓN Y CONTROL DE GESTIÓN",
         "offsetgroup": "PLANIFICACIÓN Y CONTROL DE GESTIÓN",
         "orientation": "v",
         "showlegend": true,
         "textposition": "auto",
         "type": "bar",
         "x": [
          2001,
          2002,
          2003,
          2004,
          2005,
          2006,
          2007,
          2008,
          2009,
          2010
         ],
         "xaxis": "x",
         "y": [
          1,
          1,
          6,
          35,
          17,
          31,
          30,
          32,
          44,
          47
         ],
         "yaxis": "y"
        },
        {
         "alignmentgroup": "True",
         "hovertemplate": "Nombre=PSICOLOGÍA SOCIAL<br>Año=%{x}<br>cant=%{y}<extra></extra>",
         "legendgroup": "PSICOLOGÍA SOCIAL",
         "marker": {
          "color": "#FF97FF",
          "pattern": {
           "shape": ""
          }
         },
         "name": "PSICOLOGÍA SOCIAL",
         "offsetgroup": "PSICOLOGÍA SOCIAL",
         "orientation": "v",
         "showlegend": true,
         "textposition": "auto",
         "type": "bar",
         "x": [
          2001,
          2002,
          2003,
          2004,
          2005,
          2006,
          2007,
          2008,
          2009,
          2010
         ],
         "xaxis": "x",
         "y": [
          167,
          136,
          108,
          170,
          216,
          227,
          286,
          256,
          240,
          179
         ],
         "yaxis": "y"
        },
        {
         "alignmentgroup": "True",
         "hovertemplate": "Nombre=PRINCIPIOS DE ORGANIZACIÓN<br>Año=%{x}<br>cant=%{y}<extra></extra>",
         "legendgroup": "PRINCIPIOS DE ORGANIZACIÓN",
         "marker": {
          "color": "#FECB52",
          "pattern": {
           "shape": ""
          }
         },
         "name": "PRINCIPIOS DE ORGANIZACIÓN",
         "offsetgroup": "PRINCIPIOS DE ORGANIZACIÓN",
         "orientation": "v",
         "showlegend": true,
         "textposition": "auto",
         "type": "bar",
         "x": [
          2001,
          2002
         ],
         "xaxis": "x",
         "y": [
          94,
          73
         ],
         "yaxis": "y"
        },
        {
         "alignmentgroup": "True",
         "hovertemplate": "Nombre=INGLÉS<br>Año=%{x}<br>cant=%{y}<extra></extra>",
         "legendgroup": "INGLÉS",
         "marker": {
          "color": "#636efa",
          "pattern": {
           "shape": ""
          }
         },
         "name": "INGLÉS",
         "offsetgroup": "INGLÉS",
         "orientation": "v",
         "showlegend": true,
         "textposition": "auto",
         "type": "bar",
         "x": [
          2001,
          2002,
          2003,
          2004,
          2005,
          2006,
          2007,
          2008,
          2009,
          2010
         ],
         "xaxis": "x",
         "y": [
          179,
          169,
          180,
          134,
          148,
          143,
          110,
          94,
          97,
          50
         ],
         "yaxis": "y"
        },
        {
         "alignmentgroup": "True",
         "hovertemplate": "Nombre=OBLIGACIONES Y CONTRATOS<br>Año=%{x}<br>cant=%{y}<extra></extra>",
         "legendgroup": "OBLIGACIONES Y CONTRATOS",
         "marker": {
          "color": "#EF553B",
          "pattern": {
           "shape": ""
          }
         },
         "name": "OBLIGACIONES Y CONTRATOS",
         "offsetgroup": "OBLIGACIONES Y CONTRATOS",
         "orientation": "v",
         "showlegend": true,
         "textposition": "auto",
         "type": "bar",
         "x": [
          2001,
          2002
         ],
         "xaxis": "x",
         "y": [
          32,
          44
         ],
         "yaxis": "y"
        },
        {
         "alignmentgroup": "True",
         "hovertemplate": "Nombre=REDACCIÓN DE INFORMES<br>Año=%{x}<br>cant=%{y}<extra></extra>",
         "legendgroup": "REDACCIÓN DE INFORMES",
         "marker": {
          "color": "#00cc96",
          "pattern": {
           "shape": ""
          }
         },
         "name": "REDACCIÓN DE INFORMES",
         "offsetgroup": "REDACCIÓN DE INFORMES",
         "orientation": "v",
         "showlegend": true,
         "textposition": "auto",
         "type": "bar",
         "x": [
          2001,
          2002,
          2003
         ],
         "xaxis": "x",
         "y": [
          31,
          36,
          38
         ],
         "yaxis": "y"
        },
        {
         "alignmentgroup": "True",
         "hovertemplate": "Nombre=COMUNICACIONES INSTITUCIONALES<br>Año=%{x}<br>cant=%{y}<extra></extra>",
         "legendgroup": "COMUNICACIONES INSTITUCIONALES",
         "marker": {
          "color": "#ab63fa",
          "pattern": {
           "shape": ""
          }
         },
         "name": "COMUNICACIONES INSTITUCIONALES",
         "offsetgroup": "COMUNICACIONES INSTITUCIONALES",
         "orientation": "v",
         "showlegend": true,
         "textposition": "auto",
         "type": "bar",
         "x": [
          2001,
          2002,
          2003
         ],
         "xaxis": "x",
         "y": [
          5,
          29,
          28
         ],
         "yaxis": "y"
        },
        {
         "alignmentgroup": "True",
         "hovertemplate": "Nombre=TÉCNICAS DE COMUNICACIÓN<br>Año=%{x}<br>cant=%{y}<extra></extra>",
         "legendgroup": "TÉCNICAS DE COMUNICACIÓN",
         "marker": {
          "color": "#FFA15A",
          "pattern": {
           "shape": ""
          }
         },
         "name": "TÉCNICAS DE COMUNICACIÓN",
         "offsetgroup": "TÉCNICAS DE COMUNICACIÓN",
         "orientation": "v",
         "showlegend": true,
         "textposition": "auto",
         "type": "bar",
         "x": [
          2001,
          2002
         ],
         "xaxis": "x",
         "y": [
          46,
          46
         ],
         "yaxis": "y"
        },
        {
         "alignmentgroup": "True",
         "hovertemplate": "Nombre=GRUPO Y LIDERAZGO<br>Año=%{x}<br>cant=%{y}<extra></extra>",
         "legendgroup": "GRUPO Y LIDERAZGO",
         "marker": {
          "color": "#19d3f3",
          "pattern": {
           "shape": ""
          }
         },
         "name": "GRUPO Y LIDERAZGO",
         "offsetgroup": "GRUPO Y LIDERAZGO",
         "orientation": "v",
         "showlegend": true,
         "textposition": "auto",
         "type": "bar",
         "x": [
          2001,
          2002,
          2003,
          2004,
          2005,
          2006,
          2007,
          2008,
          2009,
          2010
         ],
         "xaxis": "x",
         "y": [
          6,
          73,
          171,
          131,
          149,
          200,
          177,
          232,
          208,
          197
         ],
         "yaxis": "y"
        },
        {
         "alignmentgroup": "True",
         "hovertemplate": "Nombre=PROCESOS DE PRODUCCIÓN<br>Año=%{x}<br>cant=%{y}<extra></extra>",
         "legendgroup": "PROCESOS DE PRODUCCIÓN",
         "marker": {
          "color": "#FF6692",
          "pattern": {
           "shape": ""
          }
         },
         "name": "PROCESOS DE PRODUCCIÓN",
         "offsetgroup": "PROCESOS DE PRODUCCIÓN",
         "orientation": "v",
         "showlegend": true,
         "textposition": "auto",
         "type": "bar",
         "x": [
          2001,
          2002
         ],
         "xaxis": "x",
         "y": [
          4,
          16
         ],
         "yaxis": "y"
        },
        {
         "alignmentgroup": "True",
         "hovertemplate": "Nombre=DERECHO LABORAL<br>Año=%{x}<br>cant=%{y}<extra></extra>",
         "legendgroup": "DERECHO LABORAL",
         "marker": {
          "color": "#B6E880",
          "pattern": {
           "shape": ""
          }
         },
         "name": "DERECHO LABORAL",
         "offsetgroup": "DERECHO LABORAL",
         "orientation": "v",
         "showlegend": true,
         "textposition": "auto",
         "type": "bar",
         "x": [
          2001,
          2002,
          2003,
          2004,
          2005,
          2006,
          2007,
          2008,
          2009,
          2010
         ],
         "xaxis": "x",
         "y": [
          3,
          17,
          44,
          47,
          21,
          42,
          65,
          64,
          87,
          87
         ],
         "yaxis": "y"
        },
        {
         "alignmentgroup": "True",
         "hovertemplate": "Nombre=SOCIOLOGÍA DE LAS ORGANIZACIONES<br>Año=%{x}<br>cant=%{y}<extra></extra>",
         "legendgroup": "SOCIOLOGÍA DE LAS ORGANIZACIONES",
         "marker": {
          "color": "#FF97FF",
          "pattern": {
           "shape": ""
          }
         },
         "name": "SOCIOLOGÍA DE LAS ORGANIZACIONES",
         "offsetgroup": "SOCIOLOGÍA DE LAS ORGANIZACIONES",
         "orientation": "v",
         "showlegend": true,
         "textposition": "auto",
         "type": "bar",
         "x": [
          2001,
          2002
         ],
         "xaxis": "x",
         "y": [
          3,
          17
         ],
         "yaxis": "y"
        },
        {
         "alignmentgroup": "True",
         "hovertemplate": "Nombre=DISEÑO Y EVALUACIÓN DE PUESTOS<br>Año=%{x}<br>cant=%{y}<extra></extra>",
         "legendgroup": "DISEÑO Y EVALUACIÓN DE PUESTOS",
         "marker": {
          "color": "#FECB52",
          "pattern": {
           "shape": ""
          }
         },
         "name": "DISEÑO Y EVALUACIÓN DE PUESTOS",
         "offsetgroup": "DISEÑO Y EVALUACIÓN DE PUESTOS",
         "orientation": "v",
         "showlegend": true,
         "textposition": "auto",
         "type": "bar",
         "x": [
          2001,
          2002
         ],
         "xaxis": "x",
         "y": [
          3,
          8
         ],
         "yaxis": "y"
        },
        {
         "alignmentgroup": "True",
         "hovertemplate": "Nombre=TEORÍA Y PRÁCTICA DE LA MOTIVACIÓN Y PROMOCIÓN<br>Año=%{x}<br>cant=%{y}<extra></extra>",
         "legendgroup": "TEORÍA Y PRÁCTICA DE LA MOTIVACIÓN Y PROMOCIÓN",
         "marker": {
          "color": "#636efa",
          "pattern": {
           "shape": ""
          }
         },
         "name": "TEORÍA Y PRÁCTICA DE LA MOTIVACIÓN Y PROMOCIÓN",
         "offsetgroup": "TEORÍA Y PRÁCTICA DE LA MOTIVACIÓN Y PROMOCIÓN",
         "orientation": "v",
         "showlegend": true,
         "textposition": "auto",
         "type": "bar",
         "x": [
          2002,
          2003,
          2004,
          2005,
          2006,
          2007,
          2008,
          2009,
          2010
         ],
         "xaxis": "x",
         "y": [
          6,
          18,
          34,
          26,
          18,
          48,
          29,
          61,
          60
         ],
         "yaxis": "y"
        },
        {
         "alignmentgroup": "True",
         "hovertemplate": "Nombre=RELACIONES SINDICALES<br>Año=%{x}<br>cant=%{y}<extra></extra>",
         "legendgroup": "RELACIONES SINDICALES",
         "marker": {
          "color": "#EF553B",
          "pattern": {
           "shape": ""
          }
         },
         "name": "RELACIONES SINDICALES",
         "offsetgroup": "RELACIONES SINDICALES",
         "orientation": "v",
         "showlegend": true,
         "textposition": "auto",
         "type": "bar",
         "x": [
          2001,
          2002,
          2003,
          2004,
          2005,
          2006,
          2007,
          2008,
          2009,
          2010
         ],
         "xaxis": "x",
         "y": [
          5,
          28,
          38,
          36,
          21,
          64,
          38,
          87,
          79,
          67
         ],
         "yaxis": "y"
        },
        {
         "alignmentgroup": "True",
         "hovertemplate": "Nombre=ESTRATEGIAS Y MÉTODOS DE CAPACITACIÓN<br>Año=%{x}<br>cant=%{y}<extra></extra>",
         "legendgroup": "ESTRATEGIAS Y MÉTODOS DE CAPACITACIÓN",
         "marker": {
          "color": "#00cc96",
          "pattern": {
           "shape": ""
          }
         },
         "name": "ESTRATEGIAS Y MÉTODOS DE CAPACITACIÓN",
         "offsetgroup": "ESTRATEGIAS Y MÉTODOS DE CAPACITACIÓN",
         "orientation": "v",
         "showlegend": true,
         "textposition": "auto",
         "type": "bar",
         "x": [
          2002,
          2003,
          2004,
          2005,
          2006,
          2007,
          2008,
          2009,
          2010
         ],
         "xaxis": "x",
         "y": [
          5,
          16,
          34,
          34,
          19,
          57,
          43,
          79,
          83
         ],
         "yaxis": "y"
        },
        {
         "alignmentgroup": "True",
         "hovertemplate": "Nombre=RELACIONES PÚBLICAS<br>Año=%{x}<br>cant=%{y}<extra></extra>",
         "legendgroup": "RELACIONES PÚBLICAS",
         "marker": {
          "color": "#ab63fa",
          "pattern": {
           "shape": ""
          }
         },
         "name": "RELACIONES PÚBLICAS",
         "offsetgroup": "RELACIONES PÚBLICAS",
         "orientation": "v",
         "showlegend": true,
         "textposition": "auto",
         "type": "bar",
         "x": [
          2002,
          2003,
          2004,
          2005,
          2006,
          2007,
          2008,
          2009,
          2010
         ],
         "xaxis": "x",
         "y": [
          1,
          13,
          21,
          25,
          17,
          26,
          33,
          37,
          60
         ],
         "yaxis": "y"
        },
        {
         "alignmentgroup": "True",
         "hovertemplate": "Nombre=SEMINARIO DE GESTIÓN DE RECURSOS HUMANOS<br>Año=%{x}<br>cant=%{y}<extra></extra>",
         "legendgroup": "SEMINARIO DE GESTIÓN DE RECURSOS HUMANOS",
         "marker": {
          "color": "#FFA15A",
          "pattern": {
           "shape": ""
          }
         },
         "name": "SEMINARIO DE GESTIÓN DE RECURSOS HUMANOS",
         "offsetgroup": "SEMINARIO DE GESTIÓN DE RECURSOS HUMANOS",
         "orientation": "v",
         "showlegend": true,
         "textposition": "auto",
         "type": "bar",
         "x": [
          2002,
          2003,
          2004,
          2005,
          2006,
          2007,
          2008,
          2009,
          2010
         ],
         "xaxis": "x",
         "y": [
          4,
          11,
          22,
          25,
          21,
          30,
          42,
          41,
          64
         ],
         "yaxis": "y"
        },
        {
         "alignmentgroup": "True",
         "hovertemplate": "Nombre=ADMINISTRACIÓN DE PERSONAL<br>Año=%{x}<br>cant=%{y}<extra></extra>",
         "legendgroup": "ADMINISTRACIÓN DE PERSONAL",
         "marker": {
          "color": "#19d3f3",
          "pattern": {
           "shape": ""
          }
         },
         "name": "ADMINISTRACIÓN DE PERSONAL",
         "offsetgroup": "ADMINISTRACIÓN DE PERSONAL",
         "orientation": "v",
         "showlegend": true,
         "textposition": "auto",
         "type": "bar",
         "x": [
          2002,
          2003,
          2004,
          2005,
          2006,
          2007,
          2008,
          2009,
          2010
         ],
         "xaxis": "x",
         "y": [
          7,
          17,
          31,
          31,
          16,
          46,
          40,
          67,
          72
         ],
         "yaxis": "y"
        },
        {
         "alignmentgroup": "True",
         "hovertemplate": "Nombre=TEORÍA DE LA COMUNICACIÓN<br>Año=%{x}<br>cant=%{y}<extra></extra>",
         "legendgroup": "TEORÍA DE LA COMUNICACIÓN",
         "marker": {
          "color": "#FF6692",
          "pattern": {
           "shape": ""
          }
         },
         "name": "TEORÍA DE LA COMUNICACIÓN",
         "offsetgroup": "TEORÍA DE LA COMUNICACIÓN",
         "orientation": "v",
         "showlegend": true,
         "textposition": "auto",
         "type": "bar",
         "x": [
          2001,
          2002
         ],
         "xaxis": "x",
         "y": [
          92,
          68
         ],
         "yaxis": "y"
        },
        {
         "alignmentgroup": "True",
         "hovertemplate": "Nombre=TÉCNICAS PUBLICITARIAS<br>Año=%{x}<br>cant=%{y}<extra></extra>",
         "legendgroup": "TÉCNICAS PUBLICITARIAS",
         "marker": {
          "color": "#B6E880",
          "pattern": {
           "shape": ""
          }
         },
         "name": "TÉCNICAS PUBLICITARIAS",
         "offsetgroup": "TÉCNICAS PUBLICITARIAS",
         "orientation": "v",
         "showlegend": true,
         "textposition": "auto",
         "type": "bar",
         "x": [
          2001,
          2002
         ],
         "xaxis": "x",
         "y": [
          92,
          68
         ],
         "yaxis": "y"
        },
        {
         "alignmentgroup": "True",
         "hovertemplate": "Nombre=SOCIOLOGÍA FUNCIONAL<br>Año=%{x}<br>cant=%{y}<extra></extra>",
         "legendgroup": "SOCIOLOGÍA FUNCIONAL",
         "marker": {
          "color": "#FF97FF",
          "pattern": {
           "shape": ""
          }
         },
         "name": "SOCIOLOGÍA FUNCIONAL",
         "offsetgroup": "SOCIOLOGÍA FUNCIONAL",
         "orientation": "v",
         "showlegend": true,
         "textposition": "auto",
         "type": "bar",
         "x": [
          2001,
          2002,
          2003,
          2004,
          2005,
          2006,
          2007,
          2008,
          2009,
          2010
         ],
         "xaxis": "x",
         "y": [
          110,
          66,
          73,
          91,
          102,
          106,
          105,
          82,
          74,
          75
         ],
         "yaxis": "y"
        },
        {
         "alignmentgroup": "True",
         "hovertemplate": "Nombre=MACROECONOMÍA<br>Año=%{x}<br>cant=%{y}<extra></extra>",
         "legendgroup": "MACROECONOMÍA",
         "marker": {
          "color": "#FECB52",
          "pattern": {
           "shape": ""
          }
         },
         "name": "MACROECONOMÍA",
         "offsetgroup": "MACROECONOMÍA",
         "orientation": "v",
         "showlegend": true,
         "textposition": "auto",
         "type": "bar",
         "x": [
          2001,
          2002
         ],
         "xaxis": "x",
         "y": [
          73,
          30
         ],
         "yaxis": "y"
        },
        {
         "alignmentgroup": "True",
         "hovertemplate": "Nombre=TEORÍA Y PRÁCTICA DE MERCADO I<br>Año=%{x}<br>cant=%{y}<extra></extra>",
         "legendgroup": "TEORÍA Y PRÁCTICA DE MERCADO I",
         "marker": {
          "color": "#636efa",
          "pattern": {
           "shape": ""
          }
         },
         "name": "TEORÍA Y PRÁCTICA DE MERCADO I",
         "offsetgroup": "TEORÍA Y PRÁCTICA DE MERCADO I",
         "orientation": "v",
         "showlegend": true,
         "textposition": "auto",
         "type": "bar",
         "x": [
          2001,
          2002
         ],
         "xaxis": "x",
         "y": [
          69,
          42
         ],
         "yaxis": "y"
        },
        {
         "alignmentgroup": "True",
         "hovertemplate": "Nombre=MATEMÁTICA APLICADA II<br>Año=%{x}<br>cant=%{y}<extra></extra>",
         "legendgroup": "MATEMÁTICA APLICADA II",
         "marker": {
          "color": "#EF553B",
          "pattern": {
           "shape": ""
          }
         },
         "name": "MATEMÁTICA APLICADA II",
         "offsetgroup": "MATEMÁTICA APLICADA II",
         "orientation": "v",
         "showlegend": true,
         "textposition": "auto",
         "type": "bar",
         "x": [
          2001,
          2002
         ],
         "xaxis": "x",
         "y": [
          3,
          35
         ],
         "yaxis": "y"
        },
        {
         "alignmentgroup": "True",
         "hovertemplate": "Nombre=MICROECONOMÍA<br>Año=%{x}<br>cant=%{y}<extra></extra>",
         "legendgroup": "MICROECONOMÍA",
         "marker": {
          "color": "#00cc96",
          "pattern": {
           "shape": ""
          }
         },
         "name": "MICROECONOMÍA",
         "offsetgroup": "MICROECONOMÍA",
         "orientation": "v",
         "showlegend": true,
         "textposition": "auto",
         "type": "bar",
         "x": [
          2001,
          2002
         ],
         "xaxis": "x",
         "y": [
          11,
          40
         ],
         "yaxis": "y"
        },
        {
         "alignmentgroup": "True",
         "hovertemplate": "Nombre=INFORMÁTICA I<br>Año=%{x}<br>cant=%{y}<extra></extra>",
         "legendgroup": "INFORMÁTICA I",
         "marker": {
          "color": "#ab63fa",
          "pattern": {
           "shape": ""
          }
         },
         "name": "INFORMÁTICA I",
         "offsetgroup": "INFORMÁTICA I",
         "orientation": "v",
         "showlegend": true,
         "textposition": "auto",
         "type": "bar",
         "x": [
          2001,
          2002
         ],
         "xaxis": "x",
         "y": [
          2,
          47
         ],
         "yaxis": "y"
        },
        {
         "alignmentgroup": "True",
         "hovertemplate": "Nombre=TEORÍA Y PRÁCTICA DE MERCADO II<br>Año=%{x}<br>cant=%{y}<extra></extra>",
         "legendgroup": "TEORÍA Y PRÁCTICA DE MERCADO II",
         "marker": {
          "color": "#FFA15A",
          "pattern": {
           "shape": ""
          }
         },
         "name": "TEORÍA Y PRÁCTICA DE MERCADO II",
         "offsetgroup": "TEORÍA Y PRÁCTICA DE MERCADO II",
         "orientation": "v",
         "showlegend": true,
         "textposition": "auto",
         "type": "bar",
         "x": [
          2001,
          2002
         ],
         "xaxis": "x",
         "y": [
          4,
          41
         ],
         "yaxis": "y"
        },
        {
         "alignmentgroup": "True",
         "hovertemplate": "Nombre=TÉCNICAS Y ESTRATEGIAS DE COMERC. I<br>Año=%{x}<br>cant=%{y}<extra></extra>",
         "legendgroup": "TÉCNICAS Y ESTRATEGIAS DE COMERC. I",
         "marker": {
          "color": "#19d3f3",
          "pattern": {
           "shape": ""
          }
         },
         "name": "TÉCNICAS Y ESTRATEGIAS DE COMERC. I",
         "offsetgroup": "TÉCNICAS Y ESTRATEGIAS DE COMERC. I",
         "orientation": "v",
         "showlegend": true,
         "textposition": "auto",
         "type": "bar",
         "x": [
          2001,
          2002,
          2003,
          2004,
          2005,
          2006,
          2007,
          2008,
          2009,
          2010
         ],
         "xaxis": "x",
         "y": [
          4,
          52,
          53,
          57,
          60,
          57,
          74,
          58,
          65,
          62
         ],
         "yaxis": "y"
        },
        {
         "alignmentgroup": "True",
         "hovertemplate": "Nombre=RECURSOS REGIONALES<br>Año=%{x}<br>cant=%{y}<extra></extra>",
         "legendgroup": "RECURSOS REGIONALES",
         "marker": {
          "color": "#FF6692",
          "pattern": {
           "shape": ""
          }
         },
         "name": "RECURSOS REGIONALES",
         "offsetgroup": "RECURSOS REGIONALES",
         "orientation": "v",
         "showlegend": true,
         "textposition": "auto",
         "type": "bar",
         "x": [
          2001,
          2002
         ],
         "xaxis": "x",
         "y": [
          3,
          46
         ],
         "yaxis": "y"
        },
        {
         "alignmentgroup": "True",
         "hovertemplate": "Nombre=SEMINARIO DE MERCADOS<br>Año=%{x}<br>cant=%{y}<extra></extra>",
         "legendgroup": "SEMINARIO DE MERCADOS",
         "marker": {
          "color": "#B6E880",
          "pattern": {
           "shape": ""
          }
         },
         "name": "SEMINARIO DE MERCADOS",
         "offsetgroup": "SEMINARIO DE MERCADOS",
         "orientation": "v",
         "showlegend": true,
         "textposition": "auto",
         "type": "bar",
         "x": [
          2001,
          2002,
          2003,
          2004,
          2005,
          2006,
          2007,
          2008,
          2009,
          2010
         ],
         "xaxis": "x",
         "y": [
          2,
          40,
          36,
          39,
          47,
          30,
          40,
          51,
          60,
          36
         ],
         "yaxis": "y"
        },
        {
         "alignmentgroup": "True",
         "hovertemplate": "Nombre=ORGANIZACIÓN Y CONDUCCIÓN EMPRESARIA<br>Año=%{x}<br>cant=%{y}<extra></extra>",
         "legendgroup": "ORGANIZACIÓN Y CONDUCCIÓN EMPRESARIA",
         "marker": {
          "color": "#FF97FF",
          "pattern": {
           "shape": ""
          }
         },
         "name": "ORGANIZACIÓN Y CONDUCCIÓN EMPRESARIA",
         "offsetgroup": "ORGANIZACIÓN Y CONDUCCIÓN EMPRESARIA",
         "orientation": "v",
         "showlegend": true,
         "textposition": "auto",
         "type": "bar",
         "x": [
          2001,
          2002
         ],
         "xaxis": "x",
         "y": [
          1,
          4
         ],
         "yaxis": "y"
        },
        {
         "alignmentgroup": "True",
         "hovertemplate": "Nombre=CONDUCCIÓN DE PERSONAL<br>Año=%{x}<br>cant=%{y}<extra></extra>",
         "legendgroup": "CONDUCCIÓN DE PERSONAL",
         "marker": {
          "color": "#FECB52",
          "pattern": {
           "shape": ""
          }
         },
         "name": "CONDUCCIÓN DE PERSONAL",
         "offsetgroup": "CONDUCCIÓN DE PERSONAL",
         "orientation": "v",
         "showlegend": true,
         "textposition": "auto",
         "type": "bar",
         "x": [
          2001,
          2002
         ],
         "xaxis": "x",
         "y": [
          2,
          6
         ],
         "yaxis": "y"
        },
        {
         "alignmentgroup": "True",
         "hovertemplate": "Nombre=TÉCNICAS Y ESTRATEGIAS DE COMERC. II<br>Año=%{x}<br>cant=%{y}<extra></extra>",
         "legendgroup": "TÉCNICAS Y ESTRATEGIAS DE COMERC. II",
         "marker": {
          "color": "#636efa",
          "pattern": {
           "shape": ""
          }
         },
         "name": "TÉCNICAS Y ESTRATEGIAS DE COMERC. II",
         "offsetgroup": "TÉCNICAS Y ESTRATEGIAS DE COMERC. II",
         "orientation": "v",
         "showlegend": true,
         "textposition": "auto",
         "type": "bar",
         "x": [
          2001,
          2002,
          2003,
          2004,
          2005,
          2006,
          2007,
          2008,
          2009,
          2010
         ],
         "xaxis": "x",
         "y": [
          2,
          7,
          43,
          44,
          40,
          46,
          29,
          56,
          56,
          49
         ],
         "yaxis": "y"
        },
        {
         "alignmentgroup": "True",
         "hovertemplate": "Nombre=MARCAS Y PATENTES<br>Año=%{x}<br>cant=%{y}<extra></extra>",
         "legendgroup": "MARCAS Y PATENTES",
         "marker": {
          "color": "#EF553B",
          "pattern": {
           "shape": ""
          }
         },
         "name": "MARCAS Y PATENTES",
         "offsetgroup": "MARCAS Y PATENTES",
         "orientation": "v",
         "showlegend": true,
         "textposition": "auto",
         "type": "bar",
         "x": [
          2001,
          2002,
          2003,
          2004,
          2005,
          2006,
          2007,
          2008,
          2009,
          2010
         ],
         "xaxis": "x",
         "y": [
          2,
          3,
          31,
          28,
          27,
          22,
          13,
          34,
          31,
          22
         ],
         "yaxis": "y"
        },
        {
         "alignmentgroup": "True",
         "hovertemplate": "Nombre=CANALES DE DISTRIBUCIÓN<br>Año=%{x}<br>cant=%{y}<extra></extra>",
         "legendgroup": "CANALES DE DISTRIBUCIÓN",
         "marker": {
          "color": "#00cc96",
          "pattern": {
           "shape": ""
          }
         },
         "name": "CANALES DE DISTRIBUCIÓN",
         "offsetgroup": "CANALES DE DISTRIBUCIÓN",
         "orientation": "v",
         "showlegend": true,
         "textposition": "auto",
         "type": "bar",
         "x": [
          2001,
          2002,
          2003,
          2004,
          2005,
          2006,
          2007,
          2008,
          2009,
          2010
         ],
         "xaxis": "x",
         "y": [
          2,
          4,
          28,
          29,
          29,
          23,
          20,
          33,
          33,
          21
         ],
         "yaxis": "y"
        },
        {
         "alignmentgroup": "True",
         "hovertemplate": "Nombre=POLÍTICA DE PRECIOS<br>Año=%{x}<br>cant=%{y}<extra></extra>",
         "legendgroup": "POLÍTICA DE PRECIOS",
         "marker": {
          "color": "#ab63fa",
          "pattern": {
           "shape": ""
          }
         },
         "name": "POLÍTICA DE PRECIOS",
         "offsetgroup": "POLÍTICA DE PRECIOS",
         "orientation": "v",
         "showlegend": true,
         "textposition": "auto",
         "type": "bar",
         "x": [
          2001,
          2002,
          2003,
          2004,
          2005,
          2006,
          2007,
          2008,
          2009,
          2010
         ],
         "xaxis": "x",
         "y": [
          2,
          4,
          27,
          33,
          28,
          22,
          16,
          34,
          38,
          23
         ],
         "yaxis": "y"
        },
        {
         "alignmentgroup": "True",
         "hovertemplate": "Nombre=SEMINARIO DE COMERCIALIZACIÓN<br>Año=%{x}<br>cant=%{y}<extra></extra>",
         "legendgroup": "SEMINARIO DE COMERCIALIZACIÓN",
         "marker": {
          "color": "#FFA15A",
          "pattern": {
           "shape": ""
          }
         },
         "name": "SEMINARIO DE COMERCIALIZACIÓN",
         "offsetgroup": "SEMINARIO DE COMERCIALIZACIÓN",
         "orientation": "v",
         "showlegend": true,
         "textposition": "auto",
         "type": "bar",
         "x": [
          2001,
          2003,
          2004,
          2005,
          2006,
          2007,
          2008,
          2009,
          2010
         ],
         "xaxis": "x",
         "y": [
          2,
          13,
          25,
          26,
          28,
          16,
          27,
          35,
          29
         ],
         "yaxis": "y"
        },
        {
         "alignmentgroup": "True",
         "hovertemplate": "Nombre=CONFECCIÓN DE INFORMES<br>Año=%{x}<br>cant=%{y}<extra></extra>",
         "legendgroup": "CONFECCIÓN DE INFORMES",
         "marker": {
          "color": "#19d3f3",
          "pattern": {
           "shape": ""
          }
         },
         "name": "CONFECCIÓN DE INFORMES",
         "offsetgroup": "CONFECCIÓN DE INFORMES",
         "orientation": "v",
         "showlegend": true,
         "textposition": "auto",
         "type": "bar",
         "x": [
          2001,
          2003
         ],
         "xaxis": "x",
         "y": [
          2,
          14
         ],
         "yaxis": "y"
        },
        {
         "alignmentgroup": "True",
         "hovertemplate": "Nombre=PSICOLOGÍA MOTIVACIONAL<br>Año=%{x}<br>cant=%{y}<extra></extra>",
         "legendgroup": "PSICOLOGÍA MOTIVACIONAL",
         "marker": {
          "color": "#FF6692",
          "pattern": {
           "shape": ""
          }
         },
         "name": "PSICOLOGÍA MOTIVACIONAL",
         "offsetgroup": "PSICOLOGÍA MOTIVACIONAL",
         "orientation": "v",
         "showlegend": true,
         "textposition": "auto",
         "type": "bar",
         "x": [
          2001,
          2002,
          2003,
          2004,
          2005,
          2006,
          2007,
          2008,
          2009,
          2010
         ],
         "xaxis": "x",
         "y": [
          120,
          80,
          90,
          99,
          112,
          117,
          109,
          95,
          80,
          70
         ],
         "yaxis": "y"
        },
        {
         "alignmentgroup": "True",
         "hovertemplate": "Nombre=TEORÍA Y PRÁCTICA DE MERCADO III<br>Año=%{x}<br>cant=%{y}<extra></extra>",
         "legendgroup": "TEORÍA Y PRÁCTICA DE MERCADO III",
         "marker": {
          "color": "#B6E880",
          "pattern": {
           "shape": ""
          }
         },
         "name": "TEORÍA Y PRÁCTICA DE MERCADO III",
         "offsetgroup": "TEORÍA Y PRÁCTICA DE MERCADO III",
         "orientation": "v",
         "showlegend": true,
         "textposition": "auto",
         "type": "bar",
         "x": [
          2001,
          2002
         ],
         "xaxis": "x",
         "y": [
          2,
          1
         ],
         "yaxis": "y"
        },
        {
         "alignmentgroup": "True",
         "hovertemplate": "Nombre=ORGANIZACIÓN EMPRESARIA<br>Año=%{x}<br>cant=%{y}<extra></extra>",
         "legendgroup": "ORGANIZACIÓN EMPRESARIA",
         "marker": {
          "color": "#FF97FF",
          "pattern": {
           "shape": ""
          }
         },
         "name": "ORGANIZACIÓN EMPRESARIA",
         "offsetgroup": "ORGANIZACIÓN EMPRESARIA",
         "orientation": "v",
         "showlegend": true,
         "textposition": "auto",
         "type": "bar",
         "x": [
          2001,
          2002,
          2003,
          2004,
          2005,
          2006,
          2007,
          2008,
          2009,
          2010
         ],
         "xaxis": "x",
         "y": [
          125,
          116,
          230,
          274,
          368,
          350,
          315,
          373,
          343,
          298
         ],
         "yaxis": "y"
        },
        {
         "alignmentgroup": "True",
         "hovertemplate": "Nombre=INGLÉS I<br>Año=%{x}<br>cant=%{y}<extra></extra>",
         "legendgroup": "INGLÉS I",
         "marker": {
          "color": "#FECB52",
          "pattern": {
           "shape": ""
          }
         },
         "name": "INGLÉS I",
         "offsetgroup": "INGLÉS I",
         "orientation": "v",
         "showlegend": true,
         "textposition": "auto",
         "type": "bar",
         "x": [
          2001,
          2002,
          2003,
          2004,
          2005,
          2006,
          2007,
          2008,
          2009,
          2010
         ],
         "xaxis": "x",
         "y": [
          145,
          91,
          94,
          198,
          385,
          400,
          439,
          482,
          462,
          414
         ],
         "yaxis": "y"
        },
        {
         "alignmentgroup": "True",
         "hovertemplate": "Nombre=PORTUGUÉS I<br>Año=%{x}<br>cant=%{y}<extra></extra>",
         "legendgroup": "PORTUGUÉS I",
         "marker": {
          "color": "#636efa",
          "pattern": {
           "shape": ""
          }
         },
         "name": "PORTUGUÉS I",
         "offsetgroup": "PORTUGUÉS I",
         "orientation": "v",
         "showlegend": true,
         "textposition": "auto",
         "type": "bar",
         "x": [
          2001,
          2002,
          2003,
          2004,
          2005,
          2006,
          2007,
          2008,
          2009,
          2010
         ],
         "xaxis": "x",
         "y": [
          19,
          15,
          21,
          59,
          98,
          151,
          193,
          241,
          221,
          244
         ],
         "yaxis": "y"
        },
        {
         "alignmentgroup": "True",
         "hovertemplate": "Nombre=COMUNICACIÓN ORGANIZACIONAL<br>Año=%{x}<br>cant=%{y}<extra></extra>",
         "legendgroup": "COMUNICACIÓN ORGANIZACIONAL",
         "marker": {
          "color": "#EF553B",
          "pattern": {
           "shape": ""
          }
         },
         "name": "COMUNICACIÓN ORGANIZACIONAL",
         "offsetgroup": "COMUNICACIÓN ORGANIZACIONAL",
         "orientation": "v",
         "showlegend": true,
         "textposition": "auto",
         "type": "bar",
         "x": [
          2001
         ],
         "xaxis": "x",
         "y": [
          10
         ],
         "yaxis": "y"
        },
        {
         "alignmentgroup": "True",
         "hovertemplate": "Nombre=INGLÉS II<br>Año=%{x}<br>cant=%{y}<extra></extra>",
         "legendgroup": "INGLÉS II",
         "marker": {
          "color": "#00cc96",
          "pattern": {
           "shape": ""
          }
         },
         "name": "INGLÉS II",
         "offsetgroup": "INGLÉS II",
         "orientation": "v",
         "showlegend": true,
         "textposition": "auto",
         "type": "bar",
         "x": [
          2001,
          2002,
          2003,
          2004,
          2005,
          2006,
          2007,
          2008,
          2009,
          2010
         ],
         "xaxis": "x",
         "y": [
          53,
          72,
          87,
          122,
          175,
          219,
          238,
          259,
          264,
          274
         ],
         "yaxis": "y"
        },
        {
         "alignmentgroup": "True",
         "hovertemplate": "Nombre=PORTUGUÉS II<br>Año=%{x}<br>cant=%{y}<extra></extra>",
         "legendgroup": "PORTUGUÉS II",
         "marker": {
          "color": "#ab63fa",
          "pattern": {
           "shape": ""
          }
         },
         "name": "PORTUGUÉS II",
         "offsetgroup": "PORTUGUÉS II",
         "orientation": "v",
         "showlegend": true,
         "textposition": "auto",
         "type": "bar",
         "x": [
          2001,
          2002,
          2003,
          2004,
          2005,
          2006,
          2007,
          2008,
          2009,
          2010
         ],
         "xaxis": "x",
         "y": [
          14,
          14,
          21,
          19,
          58,
          116,
          145,
          194,
          205,
          179
         ],
         "yaxis": "y"
        },
        {
         "alignmentgroup": "True",
         "hovertemplate": "Nombre=CONDUCCIÓN Y LIDERAZGO<br>Año=%{x}<br>cant=%{y}<extra></extra>",
         "legendgroup": "CONDUCCIÓN Y LIDERAZGO",
         "marker": {
          "color": "#FFA15A",
          "pattern": {
           "shape": ""
          }
         },
         "name": "CONDUCCIÓN Y LIDERAZGO",
         "offsetgroup": "CONDUCCIÓN Y LIDERAZGO",
         "orientation": "v",
         "showlegend": true,
         "textposition": "auto",
         "type": "bar",
         "x": [
          2001,
          2002
         ],
         "xaxis": "x",
         "y": [
          2,
          4
         ],
         "yaxis": "y"
        },
        {
         "alignmentgroup": "True",
         "hovertemplate": "Nombre=OPERATORIA BANCARIA, IMPUESTOS Y SERVICIOS<br>Año=%{x}<br>cant=%{y}<extra></extra>",
         "legendgroup": "OPERATORIA BANCARIA, IMPUESTOS Y SERVICIOS",
         "marker": {
          "color": "#19d3f3",
          "pattern": {
           "shape": ""
          }
         },
         "name": "OPERATORIA BANCARIA, IMPUESTOS Y SERVICIOS",
         "offsetgroup": "OPERATORIA BANCARIA, IMPUESTOS Y SERVICIOS",
         "orientation": "v",
         "showlegend": true,
         "textposition": "auto",
         "type": "bar",
         "x": [
          2006
         ],
         "xaxis": "x",
         "y": [
          1
         ],
         "yaxis": "y"
        },
        {
         "alignmentgroup": "True",
         "hovertemplate": "Nombre=INGLÉS IV<br>Año=%{x}<br>cant=%{y}<extra></extra>",
         "legendgroup": "INGLÉS IV",
         "marker": {
          "color": "#FF6692",
          "pattern": {
           "shape": ""
          }
         },
         "name": "INGLÉS IV",
         "offsetgroup": "INGLÉS IV",
         "orientation": "v",
         "showlegend": true,
         "textposition": "auto",
         "type": "bar",
         "x": [
          2002,
          2003,
          2004,
          2005,
          2006,
          2007,
          2008,
          2009,
          2010
         ],
         "xaxis": "x",
         "y": [
          11,
          7,
          15,
          11,
          10,
          10,
          17,
          15,
          29
         ],
         "yaxis": "y"
        },
        {
         "alignmentgroup": "True",
         "hovertemplate": "Nombre=PORTUGUÉS IV<br>Año=%{x}<br>cant=%{y}<extra></extra>",
         "legendgroup": "PORTUGUÉS IV",
         "marker": {
          "color": "#B6E880",
          "pattern": {
           "shape": ""
          }
         },
         "name": "PORTUGUÉS IV",
         "offsetgroup": "PORTUGUÉS IV",
         "orientation": "v",
         "showlegend": true,
         "textposition": "auto",
         "type": "bar",
         "x": [
          2003,
          2004,
          2005,
          2006,
          2007,
          2008,
          2009,
          2010
         ],
         "xaxis": "x",
         "y": [
          10,
          9,
          11,
          29,
          46,
          39,
          41,
          46
         ],
         "yaxis": "y"
        },
        {
         "alignmentgroup": "True",
         "hovertemplate": "Nombre=SEMINARIO DE PRÁCTICA PROFESIONAL<br>Año=%{x}<br>cant=%{y}<extra></extra>",
         "legendgroup": "SEMINARIO DE PRÁCTICA PROFESIONAL",
         "marker": {
          "color": "#FF97FF",
          "pattern": {
           "shape": ""
          }
         },
         "name": "SEMINARIO DE PRÁCTICA PROFESIONAL",
         "offsetgroup": "SEMINARIO DE PRÁCTICA PROFESIONAL",
         "orientation": "v",
         "showlegend": true,
         "textposition": "auto",
         "type": "bar",
         "x": [
          2003,
          2004,
          2005,
          2006,
          2007,
          2008,
          2009,
          2010
         ],
         "xaxis": "x",
         "y": [
          12,
          5,
          23,
          37,
          62,
          81,
          91,
          85
         ],
         "yaxis": "y"
        },
        {
         "alignmentgroup": "True",
         "hovertemplate": "Nombre=INTRODUCCIÓN A LAS RELACIONES PÚBLICAS E INSTUCIONALES<br>Año=%{x}<br>cant=%{y}<extra></extra>",
         "legendgroup": "INTRODUCCIÓN A LAS RELACIONES PÚBLICAS E INSTUCIONALES",
         "marker": {
          "color": "#FECB52",
          "pattern": {
           "shape": ""
          }
         },
         "name": "INTRODUCCIÓN A LAS RELACIONES PÚBLICAS E INSTUCIONALES",
         "offsetgroup": "INTRODUCCIÓN A LAS RELACIONES PÚBLICAS E INSTUCIONALES",
         "orientation": "v",
         "showlegend": true,
         "textposition": "auto",
         "type": "bar",
         "x": [
          2001,
          2002,
          2003,
          2004,
          2005,
          2006,
          2007,
          2008,
          2009,
          2010
         ],
         "xaxis": "x",
         "y": [
          74,
          53,
          38,
          89,
          80,
          88,
          101,
          78,
          82,
          55
         ],
         "yaxis": "y"
        },
        {
         "alignmentgroup": "True",
         "hovertemplate": "Nombre=CONDUCCIÓN Y ORGANIZACIÓN EMPRESARIAL<br>Año=%{x}<br>cant=%{y}<extra></extra>",
         "legendgroup": "CONDUCCIÓN Y ORGANIZACIÓN EMPRESARIAL",
         "marker": {
          "color": "#636efa",
          "pattern": {
           "shape": ""
          }
         },
         "name": "CONDUCCIÓN Y ORGANIZACIÓN EMPRESARIAL",
         "offsetgroup": "CONDUCCIÓN Y ORGANIZACIÓN EMPRESARIAL",
         "orientation": "v",
         "showlegend": true,
         "textposition": "auto",
         "type": "bar",
         "x": [
          2001,
          2002
         ],
         "xaxis": "x",
         "y": [
          42,
          46
         ],
         "yaxis": "y"
        },
        {
         "alignmentgroup": "True",
         "hovertemplate": "Nombre=TÉCNICAS DE COMUNICACIÓN SOCIAL<br>Año=%{x}<br>cant=%{y}<extra></extra>",
         "legendgroup": "TÉCNICAS DE COMUNICACIÓN SOCIAL",
         "marker": {
          "color": "#EF553B",
          "pattern": {
           "shape": ""
          }
         },
         "name": "TÉCNICAS DE COMUNICACIÓN SOCIAL",
         "offsetgroup": "TÉCNICAS DE COMUNICACIÓN SOCIAL",
         "orientation": "v",
         "showlegend": true,
         "textposition": "auto",
         "type": "bar",
         "x": [
          2002
         ],
         "xaxis": "x",
         "y": [
          36
         ],
         "yaxis": "y"
        },
        {
         "alignmentgroup": "True",
         "hovertemplate": "Nombre=EXPRESIÓN ORAL Y ESCRITA I<br>Año=%{x}<br>cant=%{y}<extra></extra>",
         "legendgroup": "EXPRESIÓN ORAL Y ESCRITA I",
         "marker": {
          "color": "#00cc96",
          "pattern": {
           "shape": ""
          }
         },
         "name": "EXPRESIÓN ORAL Y ESCRITA I",
         "offsetgroup": "EXPRESIÓN ORAL Y ESCRITA I",
         "orientation": "v",
         "showlegend": true,
         "textposition": "auto",
         "type": "bar",
         "x": [
          2001,
          2002,
          2003,
          2004,
          2005,
          2006,
          2007,
          2008,
          2009,
          2010
         ],
         "xaxis": "x",
         "y": [
          1,
          41,
          47,
          24,
          56,
          64,
          66,
          72,
          48,
          49
         ],
         "yaxis": "y"
        },
        {
         "alignmentgroup": "True",
         "hovertemplate": "Nombre=COMUNICACIÓN E IMAGEN<br>Año=%{x}<br>cant=%{y}<extra></extra>",
         "legendgroup": "COMUNICACIÓN E IMAGEN",
         "marker": {
          "color": "#ab63fa",
          "pattern": {
           "shape": ""
          }
         },
         "name": "COMUNICACIÓN E IMAGEN",
         "offsetgroup": "COMUNICACIÓN E IMAGEN",
         "orientation": "v",
         "showlegend": true,
         "textposition": "auto",
         "type": "bar",
         "x": [
          2001,
          2002,
          2003,
          2004,
          2005,
          2006,
          2007,
          2008,
          2009,
          2010
         ],
         "xaxis": "x",
         "y": [
          6,
          36,
          51,
          32,
          49,
          71,
          116,
          97,
          104,
          97
         ],
         "yaxis": "y"
        },
        {
         "alignmentgroup": "True",
         "hovertemplate": "Nombre=PSICOLOGÍA DE LAS ORGANIZACIONES<br>Año=%{x}<br>cant=%{y}<extra></extra>",
         "legendgroup": "PSICOLOGÍA DE LAS ORGANIZACIONES",
         "marker": {
          "color": "#FFA15A",
          "pattern": {
           "shape": ""
          }
         },
         "name": "PSICOLOGÍA DE LAS ORGANIZACIONES",
         "offsetgroup": "PSICOLOGÍA DE LAS ORGANIZACIONES",
         "orientation": "v",
         "showlegend": true,
         "textposition": "auto",
         "type": "bar",
         "x": [
          2002,
          2003,
          2004,
          2005,
          2006
         ],
         "xaxis": "x",
         "y": [
          36,
          69,
          111,
          126,
          86
         ],
         "yaxis": "y"
        },
        {
         "alignmentgroup": "True",
         "hovertemplate": "Nombre=TEORÍA Y PRACT. DE LAS RELACIONES PÚBLICAS E INSTITUCIONALES<br>Año=%{x}<br>cant=%{y}<extra></extra>",
         "legendgroup": "TEORÍA Y PRACT. DE LAS RELACIONES PÚBLICAS E INSTITUCIONALES",
         "marker": {
          "color": "#19d3f3",
          "pattern": {
           "shape": ""
          }
         },
         "name": "TEORÍA Y PRACT. DE LAS RELACIONES PÚBLICAS E INSTITUCIONALES",
         "offsetgroup": "TEORÍA Y PRACT. DE LAS RELACIONES PÚBLICAS E INSTITUCIONALES",
         "orientation": "v",
         "showlegend": true,
         "textposition": "auto",
         "type": "bar",
         "x": [
          2001,
          2002,
          2003,
          2004,
          2005,
          2006,
          2007,
          2008,
          2009,
          2010
         ],
         "xaxis": "x",
         "y": [
          2,
          28,
          46,
          23,
          42,
          63,
          83,
          57,
          71,
          61
         ],
         "yaxis": "y"
        },
        {
         "alignmentgroup": "True",
         "hovertemplate": "Nombre=EXPRESIÓN ORAL Y ESCRITA II<br>Año=%{x}<br>cant=%{y}<extra></extra>",
         "legendgroup": "EXPRESIÓN ORAL Y ESCRITA II",
         "marker": {
          "color": "#FF6692",
          "pattern": {
           "shape": ""
          }
         },
         "name": "EXPRESIÓN ORAL Y ESCRITA II",
         "offsetgroup": "EXPRESIÓN ORAL Y ESCRITA II",
         "orientation": "v",
         "showlegend": true,
         "textposition": "auto",
         "type": "bar",
         "x": [
          2001,
          2002,
          2003,
          2004,
          2005,
          2006,
          2007,
          2008,
          2009,
          2010
         ],
         "xaxis": "x",
         "y": [
          3,
          29,
          42,
          27,
          44,
          49,
          59,
          54,
          68,
          58
         ],
         "yaxis": "y"
        },
        {
         "alignmentgroup": "True",
         "hovertemplate": "Nombre=RELACIONES PÚBLICAS E INSTITUCIONALES APLICADAS<br>Año=%{x}<br>cant=%{y}<extra></extra>",
         "legendgroup": "RELACIONES PÚBLICAS E INSTITUCIONALES APLICADAS",
         "marker": {
          "color": "#B6E880",
          "pattern": {
           "shape": ""
          }
         },
         "name": "RELACIONES PÚBLICAS E INSTITUCIONALES APLICADAS",
         "offsetgroup": "RELACIONES PÚBLICAS E INSTITUCIONALES APLICADAS",
         "orientation": "v",
         "showlegend": true,
         "textposition": "auto",
         "type": "bar",
         "x": [
          2001,
          2002,
          2003,
          2004,
          2005,
          2006,
          2007,
          2008,
          2009,
          2010
         ],
         "xaxis": "x",
         "y": [
          4,
          3,
          25,
          28,
          20,
          47,
          40,
          52,
          44,
          43
         ],
         "yaxis": "y"
        },
        {
         "alignmentgroup": "True",
         "hovertemplate": "Nombre=ORGANIZACIÓN DE EVENTOS<br>Año=%{x}<br>cant=%{y}<extra></extra>",
         "legendgroup": "ORGANIZACIÓN DE EVENTOS",
         "marker": {
          "color": "#FF97FF",
          "pattern": {
           "shape": ""
          }
         },
         "name": "ORGANIZACIÓN DE EVENTOS",
         "offsetgroup": "ORGANIZACIÓN DE EVENTOS",
         "orientation": "v",
         "showlegend": true,
         "textposition": "auto",
         "type": "bar",
         "x": [
          2001,
          2002,
          2003,
          2004,
          2005,
          2006,
          2007,
          2008,
          2009,
          2010
         ],
         "xaxis": "x",
         "y": [
          1,
          6,
          21,
          31,
          22,
          39,
          38,
          48,
          30,
          37
         ],
         "yaxis": "y"
        },
        {
         "alignmentgroup": "True",
         "hovertemplate": "Nombre=MERCADOTECNIA<br>Año=%{x}<br>cant=%{y}<extra></extra>",
         "legendgroup": "MERCADOTECNIA",
         "marker": {
          "color": "#FECB52",
          "pattern": {
           "shape": ""
          }
         },
         "name": "MERCADOTECNIA",
         "offsetgroup": "MERCADOTECNIA",
         "orientation": "v",
         "showlegend": true,
         "textposition": "auto",
         "type": "bar",
         "x": [
          2001,
          2002,
          2003,
          2004,
          2005,
          2006,
          2007,
          2008,
          2009,
          2010
         ],
         "xaxis": "x",
         "y": [
          13,
          85,
          271,
          321,
          331,
          436,
          393,
          411,
          391,
          420
         ],
         "yaxis": "y"
        },
        {
         "alignmentgroup": "True",
         "hovertemplate": "Nombre=SEMINARIO DE RELACIONES PÚBLICAS E INSTITUCIONALES<br>Año=%{x}<br>cant=%{y}<extra></extra>",
         "legendgroup": "SEMINARIO DE RELACIONES PÚBLICAS E INSTITUCIONALES",
         "marker": {
          "color": "#636efa",
          "pattern": {
           "shape": ""
          }
         },
         "name": "SEMINARIO DE RELACIONES PÚBLICAS E INSTITUCIONALES",
         "offsetgroup": "SEMINARIO DE RELACIONES PÚBLICAS E INSTITUCIONALES",
         "orientation": "v",
         "showlegend": true,
         "textposition": "auto",
         "type": "bar",
         "x": [
          2001,
          2002,
          2003,
          2004,
          2005,
          2006,
          2007,
          2008,
          2009,
          2010
         ],
         "xaxis": "x",
         "y": [
          2,
          7,
          21,
          28,
          24,
          26,
          54,
          48,
          50,
          52
         ],
         "yaxis": "y"
        },
        {
         "alignmentgroup": "True",
         "hovertemplate": "Nombre=TÉCNICAS DE INVESTIGACIÓN SOCIAL<br>Año=%{x}<br>cant=%{y}<extra></extra>",
         "legendgroup": "TÉCNICAS DE INVESTIGACIÓN SOCIAL",
         "marker": {
          "color": "#EF553B",
          "pattern": {
           "shape": ""
          }
         },
         "name": "TÉCNICAS DE INVESTIGACIÓN SOCIAL",
         "offsetgroup": "TÉCNICAS DE INVESTIGACIÓN SOCIAL",
         "orientation": "v",
         "showlegend": true,
         "textposition": "auto",
         "type": "bar",
         "x": [
          2001,
          2002,
          2003,
          2004,
          2005,
          2006,
          2007,
          2008,
          2009,
          2010
         ],
         "xaxis": "x",
         "y": [
          74,
          104,
          101,
          189,
          233,
          225,
          214,
          191,
          179,
          137
         ],
         "yaxis": "y"
        },
        {
         "alignmentgroup": "True",
         "hovertemplate": "Nombre=PROGRAMACIÓN LÓGICA<br>Año=%{x}<br>cant=%{y}<extra></extra>",
         "legendgroup": "PROGRAMACIÓN LÓGICA",
         "marker": {
          "color": "#00cc96",
          "pattern": {
           "shape": ""
          }
         },
         "name": "PROGRAMACIÓN LÓGICA",
         "offsetgroup": "PROGRAMACIÓN LÓGICA",
         "orientation": "v",
         "showlegend": true,
         "textposition": "auto",
         "type": "bar",
         "x": [
          2001,
          2002,
          2003,
          2004,
          2005,
          2006,
          2007,
          2008,
          2009,
          2010
         ],
         "xaxis": "x",
         "y": [
          46,
          46,
          42,
          46,
          60,
          62,
          65,
          72,
          69,
          116
         ],
         "yaxis": "y"
        },
        {
         "alignmentgroup": "True",
         "hovertemplate": "Nombre=MATEMÁTICA I<br>Año=%{x}<br>cant=%{y}<extra></extra>",
         "legendgroup": "MATEMÁTICA I",
         "marker": {
          "color": "#ab63fa",
          "pattern": {
           "shape": ""
          }
         },
         "name": "MATEMÁTICA I",
         "offsetgroup": "MATEMÁTICA I",
         "orientation": "v",
         "showlegend": true,
         "textposition": "auto",
         "type": "bar",
         "x": [
          2001,
          2002
         ],
         "xaxis": "x",
         "y": [
          39,
          36
         ],
         "yaxis": "y"
        },
        {
         "alignmentgroup": "True",
         "hovertemplate": "Nombre=INGLÉS TÉCNICO I<br>Año=%{x}<br>cant=%{y}<extra></extra>",
         "legendgroup": "INGLÉS TÉCNICO I",
         "marker": {
          "color": "#FFA15A",
          "pattern": {
           "shape": ""
          }
         },
         "name": "INGLÉS TÉCNICO I",
         "offsetgroup": "INGLÉS TÉCNICO I",
         "orientation": "v",
         "showlegend": true,
         "textposition": "auto",
         "type": "bar",
         "x": [
          2001,
          2002
         ],
         "xaxis": "x",
         "y": [
          36,
          41
         ],
         "yaxis": "y"
        },
        {
         "alignmentgroup": "True",
         "hovertemplate": "Nombre=ANTROPOLOGÍA FILOSÓFICA<br>Año=%{x}<br>cant=%{y}<extra></extra>",
         "legendgroup": "ANTROPOLOGÍA FILOSÓFICA",
         "marker": {
          "color": "#19d3f3",
          "pattern": {
           "shape": ""
          }
         },
         "name": "ANTROPOLOGÍA FILOSÓFICA",
         "offsetgroup": "ANTROPOLOGÍA FILOSÓFICA",
         "orientation": "v",
         "showlegend": true,
         "textposition": "auto",
         "type": "bar",
         "x": [
          2001,
          2002,
          2003,
          2004,
          2005,
          2006,
          2007,
          2008,
          2009,
          2010
         ],
         "xaxis": "x",
         "y": [
          3,
          2,
          27,
          20,
          38,
          12,
          30,
          30,
          30,
          24
         ],
         "yaxis": "y"
        },
        {
         "alignmentgroup": "True",
         "hovertemplate": "Nombre=PROGRAMACIÓN I<br>Año=%{x}<br>cant=%{y}<extra></extra>",
         "legendgroup": "PROGRAMACIÓN I",
         "marker": {
          "color": "#FF6692",
          "pattern": {
           "shape": ""
          }
         },
         "name": "PROGRAMACIÓN I",
         "offsetgroup": "PROGRAMACIÓN I",
         "orientation": "v",
         "showlegend": true,
         "textposition": "auto",
         "type": "bar",
         "x": [
          2001,
          2002,
          2003,
          2004,
          2005,
          2006,
          2007,
          2008,
          2009,
          2010
         ],
         "xaxis": "x",
         "y": [
          32,
          31,
          36,
          27,
          49,
          64,
          59,
          43,
          53,
          82
         ],
         "yaxis": "y"
        },
        {
         "alignmentgroup": "True",
         "hovertemplate": "Nombre=MATEMÁTICA II<br>Año=%{x}<br>cant=%{y}<extra></extra>",
         "legendgroup": "MATEMÁTICA II",
         "marker": {
          "color": "#B6E880",
          "pattern": {
           "shape": ""
          }
         },
         "name": "MATEMÁTICA II",
         "offsetgroup": "MATEMÁTICA II",
         "orientation": "v",
         "showlegend": true,
         "textposition": "auto",
         "type": "bar",
         "x": [
          2001,
          2002
         ],
         "xaxis": "x",
         "y": [
          30,
          13
         ],
         "yaxis": "y"
        },
        {
         "alignmentgroup": "True",
         "hovertemplate": "Nombre=INGLÉS TÉCNICO II<br>Año=%{x}<br>cant=%{y}<extra></extra>",
         "legendgroup": "INGLÉS TÉCNICO II",
         "marker": {
          "color": "#FF97FF",
          "pattern": {
           "shape": ""
          }
         },
         "name": "INGLÉS TÉCNICO II",
         "offsetgroup": "INGLÉS TÉCNICO II",
         "orientation": "v",
         "showlegend": true,
         "textposition": "auto",
         "type": "bar",
         "x": [
          2001,
          2002
         ],
         "xaxis": "x",
         "y": [
          32,
          21
         ],
         "yaxis": "y"
        },
        {
         "alignmentgroup": "True",
         "hovertemplate": "Nombre=PROGRAMACIÓN II<br>Año=%{x}<br>cant=%{y}<extra></extra>",
         "legendgroup": "PROGRAMACIÓN II",
         "marker": {
          "color": "#FECB52",
          "pattern": {
           "shape": ""
          }
         },
         "name": "PROGRAMACIÓN II",
         "offsetgroup": "PROGRAMACIÓN II",
         "orientation": "v",
         "showlegend": true,
         "textposition": "auto",
         "type": "bar",
         "x": [
          2001,
          2002,
          2003,
          2004,
          2005,
          2006,
          2007,
          2008,
          2009,
          2010
         ],
         "xaxis": "x",
         "y": [
          2,
          20,
          26,
          30,
          34,
          39,
          38,
          33,
          43,
          43
         ],
         "yaxis": "y"
        },
        {
         "alignmentgroup": "True",
         "hovertemplate": "Nombre=MATEMÁTICA III<br>Año=%{x}<br>cant=%{y}<extra></extra>",
         "legendgroup": "MATEMÁTICA III",
         "marker": {
          "color": "#636efa",
          "pattern": {
           "shape": ""
          }
         },
         "name": "MATEMÁTICA III",
         "offsetgroup": "MATEMÁTICA III",
         "orientation": "v",
         "showlegend": true,
         "textposition": "auto",
         "type": "bar",
         "x": [
          2001,
          2002
         ],
         "xaxis": "x",
         "y": [
          2,
          20
         ],
         "yaxis": "y"
        },
        {
         "alignmentgroup": "True",
         "hovertemplate": "Nombre=ÉTICA GENERAL<br>Año=%{x}<br>cant=%{y}<extra></extra>",
         "legendgroup": "ÉTICA GENERAL",
         "marker": {
          "color": "#EF553B",
          "pattern": {
           "shape": ""
          }
         },
         "name": "ÉTICA GENERAL",
         "offsetgroup": "ÉTICA GENERAL",
         "orientation": "v",
         "showlegend": true,
         "textposition": "auto",
         "type": "bar",
         "x": [
          2001,
          2002,
          2003,
          2004,
          2005,
          2006,
          2007,
          2008,
          2009,
          2010
         ],
         "xaxis": "x",
         "y": [
          2,
          27,
          28,
          26,
          32,
          35,
          35,
          33,
          37,
          38
         ],
         "yaxis": "y"
        },
        {
         "alignmentgroup": "True",
         "hovertemplate": "Nombre=DEONTOLOGÍA PROFESIONAL<br>Año=%{x}<br>cant=%{y}<extra></extra>",
         "legendgroup": "DEONTOLOGÍA PROFESIONAL",
         "marker": {
          "color": "#00cc96",
          "pattern": {
           "shape": ""
          }
         },
         "name": "DEONTOLOGÍA PROFESIONAL",
         "offsetgroup": "DEONTOLOGÍA PROFESIONAL",
         "orientation": "v",
         "showlegend": true,
         "textposition": "auto",
         "type": "bar",
         "x": [
          2002,
          2003,
          2004,
          2005,
          2006,
          2007,
          2008,
          2009,
          2010
         ],
         "xaxis": "x",
         "y": [
          23,
          14,
          22,
          27,
          26,
          42,
          36,
          27,
          27
         ],
         "yaxis": "y"
        },
        {
         "alignmentgroup": "True",
         "hovertemplate": "Nombre=MATEMÁTICA APLICADA I<br>Año=%{x}<br>cant=%{y}<extra></extra>",
         "legendgroup": "MATEMÁTICA APLICADA I",
         "marker": {
          "color": "#ab63fa",
          "pattern": {
           "shape": ""
          }
         },
         "name": "MATEMÁTICA APLICADA I",
         "offsetgroup": "MATEMÁTICA APLICADA I",
         "orientation": "v",
         "showlegend": true,
         "textposition": "auto",
         "type": "bar",
         "x": [
          2001,
          2002
         ],
         "xaxis": "x",
         "y": [
          48,
          53
         ],
         "yaxis": "y"
        },
        {
         "alignmentgroup": "True",
         "hovertemplate": "Nombre=SEMINARIO II<br>Año=%{x}<br>cant=%{y}<extra></extra>",
         "legendgroup": "SEMINARIO II",
         "marker": {
          "color": "#FFA15A",
          "pattern": {
           "shape": ""
          }
         },
         "name": "SEMINARIO II",
         "offsetgroup": "SEMINARIO II",
         "orientation": "v",
         "showlegend": true,
         "textposition": "auto",
         "type": "bar",
         "x": [
          2001,
          2002,
          2003,
          2004,
          2005,
          2006,
          2007,
          2008,
          2009,
          2010
         ],
         "xaxis": "x",
         "y": [
          1,
          2,
          10,
          13,
          14,
          15,
          20,
          25,
          16,
          23
         ],
         "yaxis": "y"
        },
        {
         "alignmentgroup": "True",
         "hovertemplate": "Nombre=OFIMÁTICA<br>Año=%{x}<br>cant=%{y}<extra></extra>",
         "legendgroup": "OFIMÁTICA",
         "marker": {
          "color": "#19d3f3",
          "pattern": {
           "shape": ""
          }
         },
         "name": "OFIMÁTICA",
         "offsetgroup": "OFIMÁTICA",
         "orientation": "v",
         "showlegend": true,
         "textposition": "auto",
         "type": "bar",
         "x": [
          2001,
          2002,
          2003,
          2004,
          2005,
          2006,
          2007,
          2008,
          2009,
          2010
         ],
         "xaxis": "x",
         "y": [
          53,
          66,
          55,
          54,
          82,
          90,
          67,
          100,
          115,
          164
         ],
         "yaxis": "y"
        },
        {
         "alignmentgroup": "True",
         "hovertemplate": "Nombre=LÓGICA I<br>Año=%{x}<br>cant=%{y}<extra></extra>",
         "legendgroup": "LÓGICA I",
         "marker": {
          "color": "#FF6692",
          "pattern": {
           "shape": ""
          }
         },
         "name": "LÓGICA I",
         "offsetgroup": "LÓGICA I",
         "orientation": "v",
         "showlegend": true,
         "textposition": "auto",
         "type": "bar",
         "x": [
          2001,
          2002,
          2003,
          2004,
          2005,
          2006,
          2007,
          2008,
          2009,
          2010
         ],
         "xaxis": "x",
         "y": [
          38,
          50,
          33,
          33,
          54,
          51,
          55,
          63,
          62,
          102
         ],
         "yaxis": "y"
        },
        {
         "alignmentgroup": "True",
         "hovertemplate": "Nombre=HARDWARE<br>Año=%{x}<br>cant=%{y}<extra></extra>",
         "legendgroup": "HARDWARE",
         "marker": {
          "color": "#B6E880",
          "pattern": {
           "shape": ""
          }
         },
         "name": "HARDWARE",
         "offsetgroup": "HARDWARE",
         "orientation": "v",
         "showlegend": true,
         "textposition": "auto",
         "type": "bar",
         "x": [
          2001,
          2002,
          2003,
          2004,
          2005,
          2006,
          2007,
          2008,
          2009,
          2010
         ],
         "xaxis": "x",
         "y": [
          35,
          26,
          29,
          52,
          81,
          79,
          86,
          71,
          79,
          87
         ],
         "yaxis": "y"
        },
        {
         "alignmentgroup": "True",
         "hovertemplate": "Nombre=LÓGICA II<br>Año=%{x}<br>cant=%{y}<extra></extra>",
         "legendgroup": "LÓGICA II",
         "marker": {
          "color": "#FF97FF",
          "pattern": {
           "shape": ""
          }
         },
         "name": "LÓGICA II",
         "offsetgroup": "LÓGICA II",
         "orientation": "v",
         "showlegend": true,
         "textposition": "auto",
         "type": "bar",
         "x": [
          2001,
          2002,
          2003,
          2004,
          2005,
          2006,
          2007,
          2008,
          2009,
          2010
         ],
         "xaxis": "x",
         "y": [
          30,
          23,
          38,
          29,
          43,
          52,
          46,
          41,
          52,
          64
         ],
         "yaxis": "y"
        },
        {
         "alignmentgroup": "True",
         "hovertemplate": "Nombre=ESTRUCTURA DE DATOS<br>Año=%{x}<br>cant=%{y}<extra></extra>",
         "legendgroup": "ESTRUCTURA DE DATOS",
         "marker": {
          "color": "#FECB52",
          "pattern": {
           "shape": ""
          }
         },
         "name": "ESTRUCTURA DE DATOS",
         "offsetgroup": "ESTRUCTURA DE DATOS",
         "orientation": "v",
         "showlegend": true,
         "textposition": "auto",
         "type": "bar",
         "x": [
          2001,
          2002,
          2003,
          2004,
          2005,
          2006,
          2007,
          2008,
          2009,
          2010
         ],
         "xaxis": "x",
         "y": [
          2,
          20,
          27,
          29,
          33,
          46,
          51,
          40,
          47,
          42
         ],
         "yaxis": "y"
        },
        {
         "alignmentgroup": "True",
         "hovertemplate": "Nombre=APLICACIONES ADMINISTRATIVAS<br>Año=%{x}<br>cant=%{y}<extra></extra>",
         "legendgroup": "APLICACIONES ADMINISTRATIVAS",
         "marker": {
          "color": "#636efa",
          "pattern": {
           "shape": ""
          }
         },
         "name": "APLICACIONES ADMINISTRATIVAS",
         "offsetgroup": "APLICACIONES ADMINISTRATIVAS",
         "orientation": "v",
         "showlegend": true,
         "textposition": "auto",
         "type": "bar",
         "x": [
          2001,
          2002,
          2003,
          2004,
          2005,
          2006,
          2007,
          2008,
          2009,
          2010
         ],
         "xaxis": "x",
         "y": [
          2,
          29,
          37,
          34,
          38,
          46,
          49,
          47,
          42,
          53
         ],
         "yaxis": "y"
        },
        {
         "alignmentgroup": "True",
         "hovertemplate": "Nombre=TEORÍA DE BASE DE DATOS<br>Año=%{x}<br>cant=%{y}<extra></extra>",
         "legendgroup": "TEORÍA DE BASE DE DATOS",
         "marker": {
          "color": "#EF553B",
          "pattern": {
           "shape": ""
          }
         },
         "name": "TEORÍA DE BASE DE DATOS",
         "offsetgroup": "TEORÍA DE BASE DE DATOS",
         "orientation": "v",
         "showlegend": true,
         "textposition": "auto",
         "type": "bar",
         "x": [
          2001,
          2002,
          2003,
          2004,
          2005,
          2006,
          2007,
          2008,
          2009,
          2010
         ],
         "xaxis": "x",
         "y": [
          1,
          20,
          11,
          16,
          26,
          29,
          29,
          35,
          35,
          29
         ],
         "yaxis": "y"
        },
        {
         "alignmentgroup": "True",
         "hovertemplate": "Nombre=PRINCIPIOS DE ORGANIZ. Y ADMINISTRACIÓN<br>Año=%{x}<br>cant=%{y}<extra></extra>",
         "legendgroup": "PRINCIPIOS DE ORGANIZ. Y ADMINISTRACIÓN",
         "marker": {
          "color": "#00cc96",
          "pattern": {
           "shape": ""
          }
         },
         "name": "PRINCIPIOS DE ORGANIZ. Y ADMINISTRACIÓN",
         "offsetgroup": "PRINCIPIOS DE ORGANIZ. Y ADMINISTRACIÓN",
         "orientation": "v",
         "showlegend": true,
         "textposition": "auto",
         "type": "bar",
         "x": [
          2001,
          2002,
          2003
         ],
         "xaxis": "x",
         "y": [
          1,
          21,
          13
         ],
         "yaxis": "y"
        },
        {
         "alignmentgroup": "True",
         "hovertemplate": "Nombre=PROGRAMACIÓN DE PÁGINAS<br>Año=%{x}<br>cant=%{y}<extra></extra>",
         "legendgroup": "PROGRAMACIÓN DE PÁGINAS",
         "marker": {
          "color": "#ab63fa",
          "pattern": {
           "shape": ""
          }
         },
         "name": "PROGRAMACIÓN DE PÁGINAS",
         "offsetgroup": "PROGRAMACIÓN DE PÁGINAS",
         "orientation": "v",
         "showlegend": true,
         "textposition": "auto",
         "type": "bar",
         "x": [
          2001,
          2002,
          2003,
          2004,
          2005,
          2006,
          2007,
          2008,
          2009,
          2010
         ],
         "xaxis": "x",
         "y": [
          2,
          18,
          13,
          43,
          30,
          43,
          34,
          40,
          37,
          37
         ],
         "yaxis": "y"
        },
        {
         "alignmentgroup": "True",
         "hovertemplate": "Nombre=MATEMÁTICA APLICADA<br>Año=%{x}<br>cant=%{y}<extra></extra>",
         "legendgroup": "MATEMÁTICA APLICADA",
         "marker": {
          "color": "#FFA15A",
          "pattern": {
           "shape": ""
          }
         },
         "name": "MATEMÁTICA APLICADA",
         "offsetgroup": "MATEMÁTICA APLICADA",
         "orientation": "v",
         "showlegend": true,
         "textposition": "auto",
         "type": "bar",
         "x": [
          2001,
          2002
         ],
         "xaxis": "x",
         "y": [
          1,
          4
         ],
         "yaxis": "y"
        },
        {
         "alignmentgroup": "True",
         "hovertemplate": "Nombre=SISTEMAS OPERATIVOS<br>Año=%{x}<br>cant=%{y}<extra></extra>",
         "legendgroup": "SISTEMAS OPERATIVOS",
         "marker": {
          "color": "#19d3f3",
          "pattern": {
           "shape": ""
          }
         },
         "name": "SISTEMAS OPERATIVOS",
         "offsetgroup": "SISTEMAS OPERATIVOS",
         "orientation": "v",
         "showlegend": true,
         "textposition": "auto",
         "type": "bar",
         "x": [
          2002,
          2003,
          2004,
          2005,
          2006,
          2007,
          2008,
          2009,
          2010
         ],
         "xaxis": "x",
         "y": [
          1,
          19,
          21,
          20,
          26,
          26,
          32,
          26,
          35
         ],
         "yaxis": "y"
        },
        {
         "alignmentgroup": "True",
         "hovertemplate": "Nombre=SEMINARIO I<br>Año=%{x}<br>cant=%{y}<extra></extra>",
         "legendgroup": "SEMINARIO I",
         "marker": {
          "color": "#FF6692",
          "pattern": {
           "shape": ""
          }
         },
         "name": "SEMINARIO I",
         "offsetgroup": "SEMINARIO I",
         "orientation": "v",
         "showlegend": true,
         "textposition": "auto",
         "type": "bar",
         "x": [
          2001,
          2002,
          2003,
          2004,
          2005,
          2006,
          2007,
          2008,
          2009,
          2010
         ],
         "xaxis": "x",
         "y": [
          1,
          1,
          14,
          18,
          16,
          13,
          28,
          22,
          20,
          28
         ],
         "yaxis": "y"
        },
        {
         "alignmentgroup": "True",
         "hovertemplate": "Nombre=ANÁLISIS DE SISTEMAS<br>Año=%{x}<br>cant=%{y}<extra></extra>",
         "legendgroup": "ANÁLISIS DE SISTEMAS",
         "marker": {
          "color": "#B6E880",
          "pattern": {
           "shape": ""
          }
         },
         "name": "ANÁLISIS DE SISTEMAS",
         "offsetgroup": "ANÁLISIS DE SISTEMAS",
         "orientation": "v",
         "showlegend": true,
         "textposition": "auto",
         "type": "bar",
         "x": [
          2002,
          2003,
          2004,
          2005,
          2006,
          2007,
          2008,
          2009,
          2010
         ],
         "xaxis": "x",
         "y": [
          1,
          15,
          17,
          14,
          17,
          23,
          22,
          26,
          23
         ],
         "yaxis": "y"
        },
        {
         "alignmentgroup": "True",
         "hovertemplate": "Nombre=INTERFAZ GRÁFICA<br>Año=%{x}<br>cant=%{y}<extra></extra>",
         "legendgroup": "INTERFAZ GRÁFICA",
         "marker": {
          "color": "#FF97FF",
          "pattern": {
           "shape": ""
          }
         },
         "name": "INTERFAZ GRÁFICA",
         "offsetgroup": "INTERFAZ GRÁFICA",
         "orientation": "v",
         "showlegend": true,
         "textposition": "auto",
         "type": "bar",
         "x": [
          2002,
          2003,
          2004,
          2005,
          2006,
          2007,
          2008,
          2009,
          2010
         ],
         "xaxis": "x",
         "y": [
          1,
          11,
          14,
          13,
          15,
          17,
          22,
          23,
          26
         ],
         "yaxis": "y"
        },
        {
         "alignmentgroup": "True",
         "hovertemplate": "Nombre=COMERCIALIZACIÓN<br>Año=%{x}<br>cant=%{y}<extra></extra>",
         "legendgroup": "COMERCIALIZACIÓN",
         "marker": {
          "color": "#FECB52",
          "pattern": {
           "shape": ""
          }
         },
         "name": "COMERCIALIZACIÓN",
         "offsetgroup": "COMERCIALIZACIÓN",
         "orientation": "v",
         "showlegend": true,
         "textposition": "auto",
         "type": "bar",
         "x": [
          2002
         ],
         "xaxis": "x",
         "y": [
          1
         ],
         "yaxis": "y"
        },
        {
         "alignmentgroup": "True",
         "hovertemplate": "Nombre=MERCADOS TURÍSTICOS<br>Año=%{x}<br>cant=%{y}<extra></extra>",
         "legendgroup": "MERCADOS TURÍSTICOS",
         "marker": {
          "color": "#636efa",
          "pattern": {
           "shape": ""
          }
         },
         "name": "MERCADOS TURÍSTICOS",
         "offsetgroup": "MERCADOS TURÍSTICOS",
         "orientation": "v",
         "showlegend": true,
         "textposition": "auto",
         "type": "bar",
         "x": [
          2001,
          2002,
          2003,
          2004,
          2005,
          2006,
          2007,
          2008,
          2009,
          2010
         ],
         "xaxis": "x",
         "y": [
          18,
          14,
          23,
          20,
          19,
          19,
          25,
          37,
          45,
          46
         ],
         "yaxis": "y"
        },
        {
         "alignmentgroup": "True",
         "hovertemplate": "Nombre=SERVICIOS TURÍSTICOS<br>Año=%{x}<br>cant=%{y}<extra></extra>",
         "legendgroup": "SERVICIOS TURÍSTICOS",
         "marker": {
          "color": "#EF553B",
          "pattern": {
           "shape": ""
          }
         },
         "name": "SERVICIOS TURÍSTICOS",
         "offsetgroup": "SERVICIOS TURÍSTICOS",
         "orientation": "v",
         "showlegend": true,
         "textposition": "auto",
         "type": "bar",
         "x": [
          2001,
          2002,
          2003,
          2004,
          2005,
          2006,
          2007,
          2008,
          2009,
          2010
         ],
         "xaxis": "x",
         "y": [
          20,
          13,
          18,
          16,
          17,
          14,
          21,
          32,
          35,
          30
         ],
         "yaxis": "y"
        },
        {
         "alignmentgroup": "True",
         "hovertemplate": "Nombre=PRODUCTO  TURÍSTICO I<br>Año=%{x}<br>cant=%{y}<extra></extra>",
         "legendgroup": "PRODUCTO  TURÍSTICO I",
         "marker": {
          "color": "#00cc96",
          "pattern": {
           "shape": ""
          }
         },
         "name": "PRODUCTO  TURÍSTICO I",
         "offsetgroup": "PRODUCTO  TURÍSTICO I",
         "orientation": "v",
         "showlegend": true,
         "textposition": "auto",
         "type": "bar",
         "x": [
          2001,
          2002,
          2003,
          2004,
          2005,
          2006,
          2007,
          2008,
          2009,
          2010
         ],
         "xaxis": "x",
         "y": [
          1,
          14,
          8,
          18,
          12,
          15,
          9,
          16,
          25,
          36
         ],
         "yaxis": "y"
        },
        {
         "alignmentgroup": "True",
         "hovertemplate": "Nombre=SISTEMAS DE INFORMACIÓN PARA TURISMO<br>Año=%{x}<br>cant=%{y}<extra></extra>",
         "legendgroup": "SISTEMAS DE INFORMACIÓN PARA TURISMO",
         "marker": {
          "color": "#ab63fa",
          "pattern": {
           "shape": ""
          }
         },
         "name": "SISTEMAS DE INFORMACIÓN PARA TURISMO",
         "offsetgroup": "SISTEMAS DE INFORMACIÓN PARA TURISMO",
         "orientation": "v",
         "showlegend": true,
         "textposition": "auto",
         "type": "bar",
         "x": [
          2001,
          2002,
          2003,
          2004,
          2005,
          2006
         ],
         "xaxis": "x",
         "y": [
          1,
          13,
          9,
          18,
          13,
          12
         ],
         "yaxis": "y"
        },
        {
         "alignmentgroup": "True",
         "hovertemplate": "Nombre=INGLÉS III<br>Año=%{x}<br>cant=%{y}<extra></extra>",
         "legendgroup": "INGLÉS III",
         "marker": {
          "color": "#FFA15A",
          "pattern": {
           "shape": ""
          }
         },
         "name": "INGLÉS III",
         "offsetgroup": "INGLÉS III",
         "orientation": "v",
         "showlegend": true,
         "textposition": "auto",
         "type": "bar",
         "x": [
          2002,
          2003,
          2004,
          2005,
          2006,
          2007,
          2008,
          2009,
          2010
         ],
         "xaxis": "x",
         "y": [
          11,
          9,
          17,
          12,
          16,
          13,
          18,
          24,
          37
         ],
         "yaxis": "y"
        },
        {
         "alignmentgroup": "True",
         "hovertemplate": "Nombre=PRODUCTO TURÍSTICO II<br>Año=%{x}<br>cant=%{y}<extra></extra>",
         "legendgroup": "PRODUCTO TURÍSTICO II",
         "marker": {
          "color": "#19d3f3",
          "pattern": {
           "shape": ""
          }
         },
         "name": "PRODUCTO TURÍSTICO II",
         "offsetgroup": "PRODUCTO TURÍSTICO II",
         "orientation": "v",
         "showlegend": true,
         "textposition": "auto",
         "type": "bar",
         "x": [
          2002,
          2003,
          2004,
          2005,
          2006,
          2007,
          2008,
          2009,
          2010
         ],
         "xaxis": "x",
         "y": [
          14,
          12,
          15,
          12,
          13,
          10,
          15,
          22,
          31
         ],
         "yaxis": "y"
        },
        {
         "alignmentgroup": "True",
         "hovertemplate": "Nombre=ADMINISTRACIÓN HOTELERA<br>Año=%{x}<br>cant=%{y}<extra></extra>",
         "legendgroup": "ADMINISTRACIÓN HOTELERA",
         "marker": {
          "color": "#FF6692",
          "pattern": {
           "shape": ""
          }
         },
         "name": "ADMINISTRACIÓN HOTELERA",
         "offsetgroup": "ADMINISTRACIÓN HOTELERA",
         "orientation": "v",
         "showlegend": true,
         "textposition": "auto",
         "type": "bar",
         "x": [
          2002,
          2003,
          2004,
          2005,
          2006,
          2007,
          2008,
          2009,
          2010
         ],
         "xaxis": "x",
         "y": [
          13,
          11,
          16,
          11,
          10,
          11,
          15,
          24,
          28
         ],
         "yaxis": "y"
        },
        {
         "alignmentgroup": "True",
         "hovertemplate": "Nombre=PROCESOS HISTÓRICOS, MUNDIALES Y ARGENTINOS<br>Año=%{x}<br>cant=%{y}<extra></extra>",
         "legendgroup": "PROCESOS HISTÓRICOS, MUNDIALES Y ARGENTINOS",
         "marker": {
          "color": "#B6E880",
          "pattern": {
           "shape": ""
          }
         },
         "name": "PROCESOS HISTÓRICOS, MUNDIALES Y ARGENTINOS",
         "offsetgroup": "PROCESOS HISTÓRICOS, MUNDIALES Y ARGENTINOS",
         "orientation": "v",
         "showlegend": true,
         "textposition": "auto",
         "type": "bar",
         "x": [
          2002,
          2003,
          2004,
          2005,
          2006,
          2007,
          2008,
          2009,
          2010
         ],
         "xaxis": "x",
         "y": [
          1,
          12,
          11,
          15,
          9,
          11,
          9,
          18,
          21
         ],
         "yaxis": "y"
        },
        {
         "alignmentgroup": "True",
         "hovertemplate": "Nombre=VENTA DE SERVICIOS TURÍSTICOS I<br>Año=%{x}<br>cant=%{y}<extra></extra>",
         "legendgroup": "VENTA DE SERVICIOS TURÍSTICOS I",
         "marker": {
          "color": "#FF97FF",
          "pattern": {
           "shape": ""
          }
         },
         "name": "VENTA DE SERVICIOS TURÍSTICOS I",
         "offsetgroup": "VENTA DE SERVICIOS TURÍSTICOS I",
         "orientation": "v",
         "showlegend": true,
         "textposition": "auto",
         "type": "bar",
         "x": [
          2003,
          2004,
          2005,
          2006,
          2007,
          2008,
          2009,
          2010
         ],
         "xaxis": "x",
         "y": [
          13,
          10,
          13,
          10,
          9,
          11,
          18,
          22
         ],
         "yaxis": "y"
        },
        {
         "alignmentgroup": "True",
         "hovertemplate": "Nombre=PORTUGUÉS III<br>Año=%{x}<br>cant=%{y}<extra></extra>",
         "legendgroup": "PORTUGUÉS III",
         "marker": {
          "color": "#FECB52",
          "pattern": {
           "shape": ""
          }
         },
         "name": "PORTUGUÉS III",
         "offsetgroup": "PORTUGUÉS III",
         "orientation": "v",
         "showlegend": true,
         "textposition": "auto",
         "type": "bar",
         "x": [
          2003,
          2004,
          2005,
          2006,
          2007,
          2008,
          2009,
          2010
         ],
         "xaxis": "x",
         "y": [
          13,
          9,
          13,
          40,
          48,
          41,
          39,
          56
         ],
         "yaxis": "y"
        },
        {
         "alignmentgroup": "True",
         "hovertemplate": "Nombre=PROGRAMACIÓN TURÍSTICA<br>Año=%{x}<br>cant=%{y}<extra></extra>",
         "legendgroup": "PROGRAMACIÓN TURÍSTICA",
         "marker": {
          "color": "#636efa",
          "pattern": {
           "shape": ""
          }
         },
         "name": "PROGRAMACIÓN TURÍSTICA",
         "offsetgroup": "PROGRAMACIÓN TURÍSTICA",
         "orientation": "v",
         "showlegend": true,
         "textposition": "auto",
         "type": "bar",
         "x": [
          2003,
          2004,
          2005,
          2006,
          2007,
          2008,
          2009,
          2010
         ],
         "xaxis": "x",
         "y": [
          11,
          8,
          11,
          9,
          13,
          8,
          17,
          21
         ],
         "yaxis": "y"
        },
        {
         "alignmentgroup": "True",
         "hovertemplate": "Nombre=VENTA DE SERVICIOS TURÍSTICOS II<br>Año=%{x}<br>cant=%{y}<extra></extra>",
         "legendgroup": "VENTA DE SERVICIOS TURÍSTICOS II",
         "marker": {
          "color": "#EF553B",
          "pattern": {
           "shape": ""
          }
         },
         "name": "VENTA DE SERVICIOS TURÍSTICOS II",
         "offsetgroup": "VENTA DE SERVICIOS TURÍSTICOS II",
         "orientation": "v",
         "showlegend": true,
         "textposition": "auto",
         "type": "bar",
         "x": [
          2003,
          2004,
          2005,
          2006,
          2007,
          2008,
          2009,
          2010
         ],
         "xaxis": "x",
         "y": [
          11,
          8,
          10,
          12,
          10,
          5,
          18,
          19
         ],
         "yaxis": "y"
        },
        {
         "alignmentgroup": "True",
         "hovertemplate": "Nombre=TÉCNICAS Y ESTRATEGIAS DE COMERC.<br>Año=%{x}<br>cant=%{y}<extra></extra>",
         "legendgroup": "TÉCNICAS Y ESTRATEGIAS DE COMERC.",
         "marker": {
          "color": "#00cc96",
          "pattern": {
           "shape": ""
          }
         },
         "name": "TÉCNICAS Y ESTRATEGIAS DE COMERC.",
         "offsetgroup": "TÉCNICAS Y ESTRATEGIAS DE COMERC.",
         "orientation": "v",
         "showlegend": true,
         "textposition": "auto",
         "type": "bar",
         "x": [
          2001,
          2002,
          2003,
          2004,
          2005,
          2006,
          2007,
          2008,
          2009,
          2010
         ],
         "xaxis": "x",
         "y": [
          1,
          16,
          51,
          55,
          65,
          86,
          88,
          81,
          54,
          75
         ],
         "yaxis": "y"
        },
        {
         "alignmentgroup": "True",
         "hovertemplate": "Nombre=ADMINISTRACIÓN DE RECURSOS HUMANOS<br>Año=%{x}<br>cant=%{y}<extra></extra>",
         "legendgroup": "ADMINISTRACIÓN DE RECURSOS HUMANOS",
         "marker": {
          "color": "#ab63fa",
          "pattern": {
           "shape": ""
          }
         },
         "name": "ADMINISTRACIÓN DE RECURSOS HUMANOS",
         "offsetgroup": "ADMINISTRACIÓN DE RECURSOS HUMANOS",
         "orientation": "v",
         "showlegend": true,
         "textposition": "auto",
         "type": "bar",
         "x": [
          2001,
          2002,
          2003,
          2004,
          2005,
          2006,
          2007,
          2008,
          2009,
          2010
         ],
         "xaxis": "x",
         "y": [
          52,
          62,
          34,
          67,
          89,
          94,
          64,
          72,
          63,
          37
         ],
         "yaxis": "y"
        },
        {
         "alignmentgroup": "True",
         "hovertemplate": "Nombre=TÉCNICAS DE NEGOCIACIÓN<br>Año=%{x}<br>cant=%{y}<extra></extra>",
         "legendgroup": "TÉCNICAS DE NEGOCIACIÓN",
         "marker": {
          "color": "#FFA15A",
          "pattern": {
           "shape": ""
          }
         },
         "name": "TÉCNICAS DE NEGOCIACIÓN",
         "offsetgroup": "TÉCNICAS DE NEGOCIACIÓN",
         "orientation": "v",
         "showlegend": true,
         "textposition": "auto",
         "type": "bar",
         "x": [
          2001,
          2002,
          2003,
          2004,
          2005,
          2006,
          2007,
          2008,
          2009,
          2010
         ],
         "xaxis": "x",
         "y": [
          5,
          15,
          78,
          78,
          65,
          109,
          101,
          106,
          110,
          128
         ],
         "yaxis": "y"
        },
        {
         "alignmentgroup": "True",
         "hovertemplate": "Nombre=COMERCIO INTERNACIONAL I<br>Año=%{x}<br>cant=%{y}<extra></extra>",
         "legendgroup": "COMERCIO INTERNACIONAL I",
         "marker": {
          "color": "#19d3f3",
          "pattern": {
           "shape": ""
          }
         },
         "name": "COMERCIO INTERNACIONAL I",
         "offsetgroup": "COMERCIO INTERNACIONAL I",
         "orientation": "v",
         "showlegend": true,
         "textposition": "auto",
         "type": "bar",
         "x": [
          2001,
          2002,
          2003,
          2004,
          2005,
          2006,
          2007,
          2008,
          2009,
          2010
         ],
         "xaxis": "x",
         "y": [
          14,
          4,
          20,
          17,
          23,
          35,
          25,
          31,
          21,
          25
         ],
         "yaxis": "y"
        },
        {
         "alignmentgroup": "True",
         "hovertemplate": "Nombre=IDIOMA EXTRANJERO I<br>Año=%{x}<br>cant=%{y}<extra></extra>",
         "legendgroup": "IDIOMA EXTRANJERO I",
         "marker": {
          "color": "#FF6692",
          "pattern": {
           "shape": ""
          }
         },
         "name": "IDIOMA EXTRANJERO I",
         "offsetgroup": "IDIOMA EXTRANJERO I",
         "orientation": "v",
         "showlegend": true,
         "textposition": "auto",
         "type": "bar",
         "x": [
          2001,
          2002
         ],
         "xaxis": "x",
         "y": [
          16,
          2
         ],
         "yaxis": "y"
        },
        {
         "alignmentgroup": "True",
         "hovertemplate": "Nombre=IDIOMA EXTRANJERO II<br>Año=%{x}<br>cant=%{y}<extra></extra>",
         "legendgroup": "IDIOMA EXTRANJERO II",
         "marker": {
          "color": "#B6E880",
          "pattern": {
           "shape": ""
          }
         },
         "name": "IDIOMA EXTRANJERO II",
         "offsetgroup": "IDIOMA EXTRANJERO II",
         "orientation": "v",
         "showlegend": true,
         "textposition": "auto",
         "type": "bar",
         "x": [
          2001
         ],
         "xaxis": "x",
         "y": [
          10
         ],
         "yaxis": "y"
        },
        {
         "alignmentgroup": "True",
         "hovertemplate": "Nombre=COMERCIO INTERNACIONAL II<br>Año=%{x}<br>cant=%{y}<extra></extra>",
         "legendgroup": "COMERCIO INTERNACIONAL II",
         "marker": {
          "color": "#FF97FF",
          "pattern": {
           "shape": ""
          }
         },
         "name": "COMERCIO INTERNACIONAL II",
         "offsetgroup": "COMERCIO INTERNACIONAL II",
         "orientation": "v",
         "showlegend": true,
         "textposition": "auto",
         "type": "bar",
         "x": [
          2001,
          2002,
          2003,
          2004,
          2005,
          2006,
          2007,
          2008,
          2009,
          2010
         ],
         "xaxis": "x",
         "y": [
          12,
          6,
          17,
          17,
          15,
          27,
          23,
          32,
          28,
          20
         ],
         "yaxis": "y"
        },
        {
         "alignmentgroup": "True",
         "hovertemplate": "Nombre=GEOGRAFÍA ECONÓMICA<br>Año=%{x}<br>cant=%{y}<extra></extra>",
         "legendgroup": "GEOGRAFÍA ECONÓMICA",
         "marker": {
          "color": "#FECB52",
          "pattern": {
           "shape": ""
          }
         },
         "name": "GEOGRAFÍA ECONÓMICA",
         "offsetgroup": "GEOGRAFÍA ECONÓMICA",
         "orientation": "v",
         "showlegend": true,
         "textposition": "auto",
         "type": "bar",
         "x": [
          2001,
          2002,
          2003,
          2004,
          2005,
          2006,
          2007,
          2008,
          2009,
          2010
         ],
         "xaxis": "x",
         "y": [
          21,
          72,
          101,
          112,
          120,
          126,
          117,
          123,
          101,
          92
         ],
         "yaxis": "y"
        },
        {
         "alignmentgroup": "True",
         "hovertemplate": "Nombre=ANÁLISIS DE COSTOS<br>Año=%{x}<br>cant=%{y}<extra></extra>",
         "legendgroup": "ANÁLISIS DE COSTOS",
         "marker": {
          "color": "#636efa",
          "pattern": {
           "shape": ""
          }
         },
         "name": "ANÁLISIS DE COSTOS",
         "offsetgroup": "ANÁLISIS DE COSTOS",
         "orientation": "v",
         "showlegend": true,
         "textposition": "auto",
         "type": "bar",
         "x": [
          2001,
          2002,
          2003,
          2004,
          2005,
          2006,
          2007,
          2008,
          2009,
          2010
         ],
         "xaxis": "x",
         "y": [
          5,
          57,
          73,
          88,
          115,
          130,
          129,
          119,
          104,
          132
         ],
         "yaxis": "y"
        },
        {
         "alignmentgroup": "True",
         "hovertemplate": "Nombre=NEGOCIOS INTERNACIONALES<br>Año=%{x}<br>cant=%{y}<extra></extra>",
         "legendgroup": "NEGOCIOS INTERNACIONALES",
         "marker": {
          "color": "#EF553B",
          "pattern": {
           "shape": ""
          }
         },
         "name": "NEGOCIOS INTERNACIONALES",
         "offsetgroup": "NEGOCIOS INTERNACIONALES",
         "orientation": "v",
         "showlegend": true,
         "textposition": "auto",
         "type": "bar",
         "x": [
          2002,
          2003,
          2004,
          2005,
          2006,
          2007,
          2008,
          2009,
          2010
         ],
         "xaxis": "x",
         "y": [
          11,
          6,
          10,
          11,
          12,
          20,
          15,
          22,
          17
         ],
         "yaxis": "y"
        },
        {
         "alignmentgroup": "True",
         "hovertemplate": "Nombre=INFORMÁTICA II<br>Año=%{x}<br>cant=%{y}<extra></extra>",
         "legendgroup": "INFORMÁTICA II",
         "marker": {
          "color": "#00cc96",
          "pattern": {
           "shape": ""
          }
         },
         "name": "INFORMÁTICA II",
         "offsetgroup": "INFORMÁTICA II",
         "orientation": "v",
         "showlegend": true,
         "textposition": "auto",
         "type": "bar",
         "x": [
          2001,
          2002
         ],
         "xaxis": "x",
         "y": [
          1,
          1
         ],
         "yaxis": "y"
        },
        {
         "alignmentgroup": "True",
         "hovertemplate": "Nombre=SEMINARIO DE COMERCIALIZACIÓN I<br>Año=%{x}<br>cant=%{y}<extra></extra>",
         "legendgroup": "SEMINARIO DE COMERCIALIZACIÓN I",
         "marker": {
          "color": "#ab63fa",
          "pattern": {
           "shape": ""
          }
         },
         "name": "SEMINARIO DE COMERCIALIZACIÓN I",
         "offsetgroup": "SEMINARIO DE COMERCIALIZACIÓN I",
         "orientation": "v",
         "showlegend": true,
         "textposition": "auto",
         "type": "bar",
         "x": [
          2002,
          2003,
          2004,
          2005,
          2006,
          2007,
          2008,
          2009,
          2010
         ],
         "xaxis": "x",
         "y": [
          3,
          6,
          1,
          12,
          9,
          4,
          13,
          11,
          18
         ],
         "yaxis": "y"
        },
        {
         "alignmentgroup": "True",
         "hovertemplate": "Nombre=TRÁMITES ADUANEROS<br>Año=%{x}<br>cant=%{y}<extra></extra>",
         "legendgroup": "TRÁMITES ADUANEROS",
         "marker": {
          "color": "#FFA15A",
          "pattern": {
           "shape": ""
          }
         },
         "name": "TRÁMITES ADUANEROS",
         "offsetgroup": "TRÁMITES ADUANEROS",
         "orientation": "v",
         "showlegend": true,
         "textposition": "auto",
         "type": "bar",
         "x": [
          2001,
          2002,
          2003,
          2004,
          2005,
          2006,
          2007,
          2008,
          2009,
          2010
         ],
         "xaxis": "x",
         "y": [
          1,
          1,
          6,
          2,
          13,
          9,
          2,
          12,
          14,
          13
         ],
         "yaxis": "y"
        },
        {
         "alignmentgroup": "True",
         "hovertemplate": "Nombre=ELEMENTOS DE DERECHO COMERCIO INTERNACIONAL<br>Año=%{x}<br>cant=%{y}<extra></extra>",
         "legendgroup": "ELEMENTOS DE DERECHO COMERCIO INTERNACIONAL",
         "marker": {
          "color": "#19d3f3",
          "pattern": {
           "shape": ""
          }
         },
         "name": "ELEMENTOS DE DERECHO COMERCIO INTERNACIONAL",
         "offsetgroup": "ELEMENTOS DE DERECHO COMERCIO INTERNACIONAL",
         "orientation": "v",
         "showlegend": true,
         "textposition": "auto",
         "type": "bar",
         "x": [
          2001,
          2002,
          2003,
          2004,
          2005,
          2006,
          2007,
          2008,
          2009,
          2010
         ],
         "xaxis": "x",
         "y": [
          1,
          1,
          6,
          1,
          12,
          7,
          2,
          12,
          8,
          12
         ],
         "yaxis": "y"
        },
        {
         "alignmentgroup": "True",
         "hovertemplate": "Nombre=LOGÍSTICA<br>Año=%{x}<br>cant=%{y}<extra></extra>",
         "legendgroup": "LOGÍSTICA",
         "marker": {
          "color": "#FF6692",
          "pattern": {
           "shape": ""
          }
         },
         "name": "LOGÍSTICA",
         "offsetgroup": "LOGÍSTICA",
         "orientation": "v",
         "showlegend": true,
         "textposition": "auto",
         "type": "bar",
         "x": [
          2002,
          2003,
          2004,
          2005,
          2006,
          2007,
          2008,
          2009,
          2010
         ],
         "xaxis": "x",
         "y": [
          2,
          6,
          3,
          12,
          7,
          2,
          12,
          7,
          13
         ],
         "yaxis": "y"
        },
        {
         "alignmentgroup": "True",
         "hovertemplate": "Nombre=MARKETING DE COMERCIO INTERNACIONAL<br>Año=%{x}<br>cant=%{y}<extra></extra>",
         "legendgroup": "MARKETING DE COMERCIO INTERNACIONAL",
         "marker": {
          "color": "#B6E880",
          "pattern": {
           "shape": ""
          }
         },
         "name": "MARKETING DE COMERCIO INTERNACIONAL",
         "offsetgroup": "MARKETING DE COMERCIO INTERNACIONAL",
         "orientation": "v",
         "showlegend": true,
         "textposition": "auto",
         "type": "bar",
         "x": [
          2001,
          2002,
          2003,
          2004,
          2005,
          2006,
          2007,
          2008,
          2009,
          2010
         ],
         "xaxis": "x",
         "y": [
          1,
          1,
          6,
          1,
          12,
          7,
          2,
          13,
          7,
          11
         ],
         "yaxis": "y"
        },
        {
         "alignmentgroup": "True",
         "hovertemplate": "Nombre=SEMINARIO DE COMERCIALIZACIÓN II<br>Año=%{x}<br>cant=%{y}<extra></extra>",
         "legendgroup": "SEMINARIO DE COMERCIALIZACIÓN II",
         "marker": {
          "color": "#FF97FF",
          "pattern": {
           "shape": ""
          }
         },
         "name": "SEMINARIO DE COMERCIALIZACIÓN II",
         "offsetgroup": "SEMINARIO DE COMERCIALIZACIÓN II",
         "orientation": "v",
         "showlegend": true,
         "textposition": "auto",
         "type": "bar",
         "x": [
          2002,
          2003,
          2004,
          2005,
          2006,
          2007,
          2008,
          2009,
          2010
         ],
         "xaxis": "x",
         "y": [
          2,
          5,
          1,
          11,
          11,
          6,
          9,
          8,
          8
         ],
         "yaxis": "y"
        },
        {
         "alignmentgroup": "True",
         "hovertemplate": "Nombre=BIOLOGÍA Y MEDIO AMBIENTE <br>Año=%{x}<br>cant=%{y}<extra></extra>",
         "legendgroup": "BIOLOGÍA Y MEDIO AMBIENTE ",
         "marker": {
          "color": "#FECB52",
          "pattern": {
           "shape": ""
          }
         },
         "name": "BIOLOGÍA Y MEDIO AMBIENTE ",
         "offsetgroup": "BIOLOGÍA Y MEDIO AMBIENTE ",
         "orientation": "v",
         "showlegend": true,
         "textposition": "auto",
         "type": "bar",
         "x": [
          2001,
          2002,
          2003,
          2004,
          2005,
          2006,
          2007,
          2008,
          2009,
          2010
         ],
         "xaxis": "x",
         "y": [
          45,
          26,
          40,
          52,
          79,
          60,
          42,
          55,
          49,
          79
         ],
         "yaxis": "y"
        },
        {
         "alignmentgroup": "True",
         "hovertemplate": "Nombre=CLIMA Y SUELO<br>Año=%{x}<br>cant=%{y}<extra></extra>",
         "legendgroup": "CLIMA Y SUELO",
         "marker": {
          "color": "#636efa",
          "pattern": {
           "shape": ""
          }
         },
         "name": "CLIMA Y SUELO",
         "offsetgroup": "CLIMA Y SUELO",
         "orientation": "v",
         "showlegend": true,
         "textposition": "auto",
         "type": "bar",
         "x": [
          2001,
          2002,
          2003,
          2004,
          2005,
          2006,
          2007,
          2008,
          2009,
          2010
         ],
         "xaxis": "x",
         "y": [
          37,
          26,
          44,
          50,
          76,
          48,
          37,
          48,
          44,
          84
         ],
         "yaxis": "y"
        },
        {
         "alignmentgroup": "True",
         "hovertemplate": "Nombre=MANEJO DE SUELOS<br>Año=%{x}<br>cant=%{y}<extra></extra>",
         "legendgroup": "MANEJO DE SUELOS",
         "marker": {
          "color": "#EF553B",
          "pattern": {
           "shape": ""
          }
         },
         "name": "MANEJO DE SUELOS",
         "offsetgroup": "MANEJO DE SUELOS",
         "orientation": "v",
         "showlegend": true,
         "textposition": "auto",
         "type": "bar",
         "x": [
          2001,
          2002,
          2003,
          2004,
          2005,
          2006,
          2007,
          2008,
          2009,
          2010
         ],
         "xaxis": "x",
         "y": [
          20,
          36,
          34,
          52,
          53,
          50,
          42,
          43,
          44,
          54
         ],
         "yaxis": "y"
        },
        {
         "alignmentgroup": "True",
         "hovertemplate": "Nombre=PRINCIPIOS DE ADMINISTRACIÓN<br>Año=%{x}<br>cant=%{y}<extra></extra>",
         "legendgroup": "PRINCIPIOS DE ADMINISTRACIÓN",
         "marker": {
          "color": "#00cc96",
          "pattern": {
           "shape": ""
          }
         },
         "name": "PRINCIPIOS DE ADMINISTRACIÓN",
         "offsetgroup": "PRINCIPIOS DE ADMINISTRACIÓN",
         "orientation": "v",
         "showlegend": true,
         "textposition": "auto",
         "type": "bar",
         "x": [
          2001,
          2002,
          2003,
          2004,
          2005,
          2006,
          2007,
          2008,
          2009,
          2010
         ],
         "xaxis": "x",
         "y": [
          66,
          77,
          98,
          123,
          153,
          187,
          212,
          222,
          237,
          211
         ],
         "yaxis": "y"
        },
        {
         "alignmentgroup": "True",
         "hovertemplate": "Nombre=INTRODUCCIÓN A LA PRODUCCIÓN AGROPECUARIA<br>Año=%{x}<br>cant=%{y}<extra></extra>",
         "legendgroup": "INTRODUCCIÓN A LA PRODUCCIÓN AGROPECUARIA",
         "marker": {
          "color": "#ab63fa",
          "pattern": {
           "shape": ""
          }
         },
         "name": "INTRODUCCIÓN A LA PRODUCCIÓN AGROPECUARIA",
         "offsetgroup": "INTRODUCCIÓN A LA PRODUCCIÓN AGROPECUARIA",
         "orientation": "v",
         "showlegend": true,
         "textposition": "auto",
         "type": "bar",
         "x": [
          2001,
          2002,
          2003,
          2004,
          2005,
          2006,
          2007,
          2008,
          2009,
          2010
         ],
         "xaxis": "x",
         "y": [
          20,
          29,
          39,
          60,
          54,
          55,
          48,
          51,
          48,
          48
         ],
         "yaxis": "y"
        },
        {
         "alignmentgroup": "True",
         "hovertemplate": "Nombre=ENTORNO ECONÓMICO<br>Año=%{x}<br>cant=%{y}<extra></extra>",
         "legendgroup": "ENTORNO ECONÓMICO",
         "marker": {
          "color": "#FFA15A",
          "pattern": {
           "shape": ""
          }
         },
         "name": "ENTORNO ECONÓMICO",
         "offsetgroup": "ENTORNO ECONÓMICO",
         "orientation": "v",
         "showlegend": true,
         "textposition": "auto",
         "type": "bar",
         "x": [
          2001,
          2002
         ],
         "xaxis": "x",
         "y": [
          20,
          15
         ],
         "yaxis": "y"
        },
        {
         "alignmentgroup": "True",
         "hovertemplate": "Nombre=PRODUCCIÓN VEGETAL<br>Año=%{x}<br>cant=%{y}<extra></extra>",
         "legendgroup": "PRODUCCIÓN VEGETAL",
         "marker": {
          "color": "#19d3f3",
          "pattern": {
           "shape": ""
          }
         },
         "name": "PRODUCCIÓN VEGETAL",
         "offsetgroup": "PRODUCCIÓN VEGETAL",
         "orientation": "v",
         "showlegend": true,
         "textposition": "auto",
         "type": "bar",
         "x": [
          2002,
          2003,
          2004,
          2005,
          2006,
          2007,
          2008,
          2009,
          2010
         ],
         "xaxis": "x",
         "y": [
          24,
          24,
          31,
          50,
          55,
          32,
          23,
          30,
          39
         ],
         "yaxis": "y"
        },
        {
         "alignmentgroup": "True",
         "hovertemplate": "Nombre=ECONOMÍA DE EMPRESAS<br>Año=%{x}<br>cant=%{y}<extra></extra>",
         "legendgroup": "ECONOMÍA DE EMPRESAS",
         "marker": {
          "color": "#FF6692",
          "pattern": {
           "shape": ""
          }
         },
         "name": "ECONOMÍA DE EMPRESAS",
         "offsetgroup": "ECONOMÍA DE EMPRESAS",
         "orientation": "v",
         "showlegend": true,
         "textposition": "auto",
         "type": "bar",
         "x": [
          2001,
          2002
         ],
         "xaxis": "x",
         "y": [
          1,
          15
         ],
         "yaxis": "y"
        },
        {
         "alignmentgroup": "True",
         "hovertemplate": "Nombre=PRODUCCIÓN ANIMAL<br>Año=%{x}<br>cant=%{y}<extra></extra>",
         "legendgroup": "PRODUCCIÓN ANIMAL",
         "marker": {
          "color": "#B6E880",
          "pattern": {
           "shape": ""
          }
         },
         "name": "PRODUCCIÓN ANIMAL",
         "offsetgroup": "PRODUCCIÓN ANIMAL",
         "orientation": "v",
         "showlegend": true,
         "textposition": "auto",
         "type": "bar",
         "x": [
          2001,
          2002,
          2003,
          2004,
          2005,
          2006,
          2007,
          2008,
          2009,
          2010
         ],
         "xaxis": "x",
         "y": [
          1,
          11,
          27,
          24,
          39,
          37,
          33,
          34,
          30,
          36
         ],
         "yaxis": "y"
        },
        {
         "alignmentgroup": "True",
         "hovertemplate": "Nombre=TECNOLOGÍA AGROPECUARIA I<br>Año=%{x}<br>cant=%{y}<extra></extra>",
         "legendgroup": "TECNOLOGÍA AGROPECUARIA I",
         "marker": {
          "color": "#FF97FF",
          "pattern": {
           "shape": ""
          }
         },
         "name": "TECNOLOGÍA AGROPECUARIA I",
         "offsetgroup": "TECNOLOGÍA AGROPECUARIA I",
         "orientation": "v",
         "showlegend": true,
         "textposition": "auto",
         "type": "bar",
         "x": [
          2001
         ],
         "xaxis": "x",
         "y": [
          2
         ],
         "yaxis": "y"
        },
        {
         "alignmentgroup": "True",
         "hovertemplate": "Nombre=ELEMENTOS DE CONTABILIDAD<br>Año=%{x}<br>cant=%{y}<extra></extra>",
         "legendgroup": "ELEMENTOS DE CONTABILIDAD",
         "marker": {
          "color": "#FECB52",
          "pattern": {
           "shape": ""
          }
         },
         "name": "ELEMENTOS DE CONTABILIDAD",
         "offsetgroup": "ELEMENTOS DE CONTABILIDAD",
         "orientation": "v",
         "showlegend": true,
         "textposition": "auto",
         "type": "bar",
         "x": [
          2001,
          2002,
          2003,
          2004,
          2005,
          2006,
          2007,
          2008,
          2009,
          2010
         ],
         "xaxis": "x",
         "y": [
          88,
          92,
          95,
          121,
          133,
          127,
          107,
          131,
          106,
          116
         ],
         "yaxis": "y"
        },
        {
         "alignmentgroup": "True",
         "hovertemplate": "Nombre=TECNOLOGÍA AGROPECUARIA II<br>Año=%{x}<br>cant=%{y}<extra></extra>",
         "legendgroup": "TECNOLOGÍA AGROPECUARIA II",
         "marker": {
          "color": "#636efa",
          "pattern": {
           "shape": ""
          }
         },
         "name": "TECNOLOGÍA AGROPECUARIA II",
         "offsetgroup": "TECNOLOGÍA AGROPECUARIA II",
         "orientation": "v",
         "showlegend": true,
         "textposition": "auto",
         "type": "bar",
         "x": [
          2002
         ],
         "xaxis": "x",
         "y": [
          1
         ],
         "yaxis": "y"
        },
        {
         "alignmentgroup": "True",
         "hovertemplate": "Nombre=MERCADOTECNIA II<br>Año=%{x}<br>cant=%{y}<extra></extra>",
         "legendgroup": "MERCADOTECNIA II",
         "marker": {
          "color": "#EF553B",
          "pattern": {
           "shape": ""
          }
         },
         "name": "MERCADOTECNIA II",
         "offsetgroup": "MERCADOTECNIA II",
         "orientation": "v",
         "showlegend": true,
         "textposition": "auto",
         "type": "bar",
         "x": [
          2002
         ],
         "xaxis": "x",
         "y": [
          22
         ],
         "yaxis": "y"
        },
        {
         "alignmentgroup": "True",
         "hovertemplate": "Nombre=FORMACIÓN DE PRECIOS AGROPECUARIOS<br>Año=%{x}<br>cant=%{y}<extra></extra>",
         "legendgroup": "FORMACIÓN DE PRECIOS AGROPECUARIOS",
         "marker": {
          "color": "#00cc96",
          "pattern": {
           "shape": ""
          }
         },
         "name": "FORMACIÓN DE PRECIOS AGROPECUARIOS",
         "offsetgroup": "FORMACIÓN DE PRECIOS AGROPECUARIOS",
         "orientation": "v",
         "showlegend": true,
         "textposition": "auto",
         "type": "bar",
         "x": [
          2002,
          2003,
          2004,
          2005,
          2006,
          2007,
          2008,
          2009,
          2010
         ],
         "xaxis": "x",
         "y": [
          2,
          15,
          13,
          25,
          29,
          46,
          35,
          12,
          28
         ],
         "yaxis": "y"
        },
        {
         "alignmentgroup": "True",
         "hovertemplate": "Nombre=PRODUCCIÓN AGROINDUSTRIAL<br>Año=%{x}<br>cant=%{y}<extra></extra>",
         "legendgroup": "PRODUCCIÓN AGROINDUSTRIAL",
         "marker": {
          "color": "#ab63fa",
          "pattern": {
           "shape": ""
          }
         },
         "name": "PRODUCCIÓN AGROINDUSTRIAL",
         "offsetgroup": "PRODUCCIÓN AGROINDUSTRIAL",
         "orientation": "v",
         "showlegend": true,
         "textposition": "auto",
         "type": "bar",
         "x": [
          2002,
          2003,
          2004,
          2005,
          2006,
          2007,
          2008,
          2009,
          2010
         ],
         "xaxis": "x",
         "y": [
          2,
          14,
          9,
          27,
          27,
          36,
          24,
          12,
          24
         ],
         "yaxis": "y"
        },
        {
         "alignmentgroup": "True",
         "hovertemplate": "Nombre=SEMINARIO FINAL<br>Año=%{x}<br>cant=%{y}<extra></extra>",
         "legendgroup": "SEMINARIO FINAL",
         "marker": {
          "color": "#FFA15A",
          "pattern": {
           "shape": ""
          }
         },
         "name": "SEMINARIO FINAL",
         "offsetgroup": "SEMINARIO FINAL",
         "orientation": "v",
         "showlegend": true,
         "textposition": "auto",
         "type": "bar",
         "x": [
          2002,
          2003,
          2004,
          2005,
          2006,
          2007,
          2008,
          2009,
          2010
         ],
         "xaxis": "x",
         "y": [
          2,
          32,
          41,
          26,
          49,
          71,
          48,
          61,
          58
         ],
         "yaxis": "y"
        },
        {
         "alignmentgroup": "True",
         "hovertemplate": "Nombre=PRODUCCIONES NO TRADICIONALES<br>Año=%{x}<br>cant=%{y}<extra></extra>",
         "legendgroup": "PRODUCCIONES NO TRADICIONALES",
         "marker": {
          "color": "#19d3f3",
          "pattern": {
           "shape": ""
          }
         },
         "name": "PRODUCCIONES NO TRADICIONALES",
         "offsetgroup": "PRODUCCIONES NO TRADICIONALES",
         "orientation": "v",
         "showlegend": true,
         "textposition": "auto",
         "type": "bar",
         "x": [
          2002,
          2003,
          2004,
          2005,
          2006,
          2007,
          2008,
          2009,
          2010
         ],
         "xaxis": "x",
         "y": [
          3,
          9,
          15,
          20,
          30,
          34,
          20,
          23,
          18
         ],
         "yaxis": "y"
        },
        {
         "alignmentgroup": "True",
         "hovertemplate": "Nombre=ESTADÍSTICA APLICADA A LA PUBLICIDAD I<br>Año=%{x}<br>cant=%{y}<extra></extra>",
         "legendgroup": "ESTADÍSTICA APLICADA A LA PUBLICIDAD I",
         "marker": {
          "color": "#FF6692",
          "pattern": {
           "shape": ""
          }
         },
         "name": "ESTADÍSTICA APLICADA A LA PUBLICIDAD I",
         "offsetgroup": "ESTADÍSTICA APLICADA A LA PUBLICIDAD I",
         "orientation": "v",
         "showlegend": true,
         "textposition": "auto",
         "type": "bar",
         "x": [
          2001,
          2002
         ],
         "xaxis": "x",
         "y": [
          7,
          24
         ],
         "yaxis": "y"
        },
        {
         "alignmentgroup": "True",
         "hovertemplate": "Nombre=CREACIÓN PUBLICITARIA I<br>Año=%{x}<br>cant=%{y}<extra></extra>",
         "legendgroup": "CREACIÓN PUBLICITARIA I",
         "marker": {
          "color": "#B6E880",
          "pattern": {
           "shape": ""
          }
         },
         "name": "CREACIÓN PUBLICITARIA I",
         "offsetgroup": "CREACIÓN PUBLICITARIA I",
         "orientation": "v",
         "showlegend": true,
         "textposition": "auto",
         "type": "bar",
         "x": [
          2001,
          2002,
          2003,
          2004,
          2005,
          2006,
          2007,
          2008,
          2009,
          2010
         ],
         "xaxis": "x",
         "y": [
          1,
          28,
          29,
          27,
          31,
          31,
          33,
          38,
          38,
          31
         ],
         "yaxis": "y"
        },
        {
         "alignmentgroup": "True",
         "hovertemplate": "Nombre=ESTADÍSTICA APLICADA A LA PUBLICIDAD II<br>Año=%{x}<br>cant=%{y}<extra></extra>",
         "legendgroup": "ESTADÍSTICA APLICADA A LA PUBLICIDAD II",
         "marker": {
          "color": "#FF97FF",
          "pattern": {
           "shape": ""
          }
         },
         "name": "ESTADÍSTICA APLICADA A LA PUBLICIDAD II",
         "offsetgroup": "ESTADÍSTICA APLICADA A LA PUBLICIDAD II",
         "orientation": "v",
         "showlegend": true,
         "textposition": "auto",
         "type": "bar",
         "x": [
          2001,
          2002
         ],
         "xaxis": "x",
         "y": [
          4,
          10
         ],
         "yaxis": "y"
        },
        {
         "alignmentgroup": "True",
         "hovertemplate": "Nombre=CREACIÓN PUBLICITARIA II<br>Año=%{x}<br>cant=%{y}<extra></extra>",
         "legendgroup": "CREACIÓN PUBLICITARIA II",
         "marker": {
          "color": "#FECB52",
          "pattern": {
           "shape": ""
          }
         },
         "name": "CREACIÓN PUBLICITARIA II",
         "offsetgroup": "CREACIÓN PUBLICITARIA II",
         "orientation": "v",
         "showlegend": true,
         "textposition": "auto",
         "type": "bar",
         "x": [
          2001,
          2002,
          2003,
          2004,
          2005,
          2006,
          2007,
          2008,
          2009,
          2010
         ],
         "xaxis": "x",
         "y": [
          2,
          17,
          35,
          28,
          17,
          48,
          29,
          41,
          35,
          40
         ],
         "yaxis": "y"
        },
        {
         "alignmentgroup": "True",
         "hovertemplate": "Nombre=INVESTIGACIÓN EN PUBLICIDAD Y COMERC. I<br>Año=%{x}<br>cant=%{y}<extra></extra>",
         "legendgroup": "INVESTIGACIÓN EN PUBLICIDAD Y COMERC. I",
         "marker": {
          "color": "#636efa",
          "pattern": {
           "shape": ""
          }
         },
         "name": "INVESTIGACIÓN EN PUBLICIDAD Y COMERC. I",
         "offsetgroup": "INVESTIGACIÓN EN PUBLICIDAD Y COMERC. I",
         "orientation": "v",
         "showlegend": true,
         "textposition": "auto",
         "type": "bar",
         "x": [
          2001,
          2002,
          2003,
          2004
         ],
         "xaxis": "x",
         "y": [
          2,
          3,
          23,
          21
         ],
         "yaxis": "y"
        },
        {
         "alignmentgroup": "True",
         "hovertemplate": "Nombre=SEMINARIO DE PRÁCTICA PROFESIONAL I<br>Año=%{x}<br>cant=%{y}<extra></extra>",
         "legendgroup": "SEMINARIO DE PRÁCTICA PROFESIONAL I",
         "marker": {
          "color": "#EF553B",
          "pattern": {
           "shape": ""
          }
         },
         "name": "SEMINARIO DE PRÁCTICA PROFESIONAL I",
         "offsetgroup": "SEMINARIO DE PRÁCTICA PROFESIONAL I",
         "orientation": "v",
         "showlegend": true,
         "textposition": "auto",
         "type": "bar",
         "x": [
          2001,
          2002,
          2003,
          2004,
          2005,
          2006,
          2007,
          2008,
          2009,
          2010
         ],
         "xaxis": "x",
         "y": [
          4,
          3,
          26,
          23,
          27,
          28,
          28,
          41,
          25,
          33
         ],
         "yaxis": "y"
        },
        {
         "alignmentgroup": "True",
         "hovertemplate": "Nombre=IDIOMA EXTRANJERO<br>Año=%{x}<br>cant=%{y}<extra></extra>",
         "legendgroup": "IDIOMA EXTRANJERO",
         "marker": {
          "color": "#00cc96",
          "pattern": {
           "shape": ""
          }
         },
         "name": "IDIOMA EXTRANJERO",
         "offsetgroup": "IDIOMA EXTRANJERO",
         "orientation": "v",
         "showlegend": true,
         "textposition": "auto",
         "type": "bar",
         "x": [
          2002,
          2004
         ],
         "xaxis": "x",
         "y": [
          2,
          19
         ],
         "yaxis": "y"
        },
        {
         "alignmentgroup": "True",
         "hovertemplate": "Nombre=ÉTICA Y DEONTOLOGÍA PROFESIONAL<br>Año=%{x}<br>cant=%{y}<extra></extra>",
         "legendgroup": "ÉTICA Y DEONTOLOGÍA PROFESIONAL",
         "marker": {
          "color": "#ab63fa",
          "pattern": {
           "shape": ""
          }
         },
         "name": "ÉTICA Y DEONTOLOGÍA PROFESIONAL",
         "offsetgroup": "ÉTICA Y DEONTOLOGÍA PROFESIONAL",
         "orientation": "v",
         "showlegend": true,
         "textposition": "auto",
         "type": "bar",
         "x": [
          2001,
          2002,
          2003,
          2004,
          2005,
          2006,
          2007,
          2008,
          2009,
          2010
         ],
         "xaxis": "x",
         "y": [
          13,
          75,
          224,
          245,
          238,
          272,
          363,
          313,
          326,
          380
         ],
         "yaxis": "y"
        },
        {
         "alignmentgroup": "True",
         "hovertemplate": "Nombre=INVESTIGACIÓN EN PUBLICIDAD Y COMERC. II<br>Año=%{x}<br>cant=%{y}<extra></extra>",
         "legendgroup": "INVESTIGACIÓN EN PUBLICIDAD Y COMERC. II",
         "marker": {
          "color": "#FFA15A",
          "pattern": {
           "shape": ""
          }
         },
         "name": "INVESTIGACIÓN EN PUBLICIDAD Y COMERC. II",
         "offsetgroup": "INVESTIGACIÓN EN PUBLICIDAD Y COMERC. II",
         "orientation": "v",
         "showlegend": true,
         "textposition": "auto",
         "type": "bar",
         "x": [
          2001,
          2002
         ],
         "xaxis": "x",
         "y": [
          2,
          2
         ],
         "yaxis": "y"
        },
        {
         "alignmentgroup": "True",
         "hovertemplate": "Nombre=HISTORIA DE LA CULTURA<br>Año=%{x}<br>cant=%{y}<extra></extra>",
         "legendgroup": "HISTORIA DE LA CULTURA",
         "marker": {
          "color": "#19d3f3",
          "pattern": {
           "shape": ""
          }
         },
         "name": "HISTORIA DE LA CULTURA",
         "offsetgroup": "HISTORIA DE LA CULTURA",
         "orientation": "v",
         "showlegend": true,
         "textposition": "auto",
         "type": "bar",
         "x": [
          2001,
          2002,
          2003,
          2004,
          2005,
          2006,
          2007,
          2008,
          2009,
          2010
         ],
         "xaxis": "x",
         "y": [
          2,
          4,
          17,
          28,
          24,
          18,
          37,
          33,
          27,
          37
         ],
         "yaxis": "y"
        },
        {
         "alignmentgroup": "True",
         "hovertemplate": "Nombre=DISEÑOMÁTICA III<br>Año=%{x}<br>cant=%{y}<extra></extra>",
         "legendgroup": "DISEÑOMÁTICA III",
         "marker": {
          "color": "#FF6692",
          "pattern": {
           "shape": ""
          }
         },
         "name": "DISEÑOMÁTICA III",
         "offsetgroup": "DISEÑOMÁTICA III",
         "orientation": "v",
         "showlegend": true,
         "textposition": "auto",
         "type": "bar",
         "x": [
          2001,
          2002,
          2003,
          2004,
          2005,
          2006,
          2007,
          2008,
          2009,
          2010
         ],
         "xaxis": "x",
         "y": [
          6,
          65,
          94,
          84,
          77,
          79,
          104,
          121,
          108,
          127
         ],
         "yaxis": "y"
        },
        {
         "alignmentgroup": "True",
         "hovertemplate": "Nombre=PUBLICIDAD<br>Año=%{x}<br>cant=%{y}<extra></extra>",
         "legendgroup": "PUBLICIDAD",
         "marker": {
          "color": "#B6E880",
          "pattern": {
           "shape": ""
          }
         },
         "name": "PUBLICIDAD",
         "offsetgroup": "PUBLICIDAD",
         "orientation": "v",
         "showlegend": true,
         "textposition": "auto",
         "type": "bar",
         "x": [
          2001,
          2002,
          2003,
          2004,
          2005,
          2006,
          2007,
          2008,
          2009,
          2010
         ],
         "xaxis": "x",
         "y": [
          45,
          45,
          120,
          137,
          137,
          178,
          163,
          140,
          139,
          144
         ],
         "yaxis": "y"
        },
        {
         "alignmentgroup": "True",
         "hovertemplate": "Nombre=MARKETING I<br>Año=%{x}<br>cant=%{y}<extra></extra>",
         "legendgroup": "MARKETING I",
         "marker": {
          "color": "#FF97FF",
          "pattern": {
           "shape": ""
          }
         },
         "name": "MARKETING I",
         "offsetgroup": "MARKETING I",
         "orientation": "v",
         "showlegend": true,
         "textposition": "auto",
         "type": "bar",
         "x": [
          2001,
          2002
         ],
         "xaxis": "x",
         "y": [
          42,
          29
         ],
         "yaxis": "y"
        },
        {
         "alignmentgroup": "True",
         "hovertemplate": "Nombre=COMUNICACIÓN VISUAL<br>Año=%{x}<br>cant=%{y}<extra></extra>",
         "legendgroup": "COMUNICACIÓN VISUAL",
         "marker": {
          "color": "#FECB52",
          "pattern": {
           "shape": ""
          }
         },
         "name": "COMUNICACIÓN VISUAL",
         "offsetgroup": "COMUNICACIÓN VISUAL",
         "orientation": "v",
         "showlegend": true,
         "textposition": "auto",
         "type": "bar",
         "x": [
          2001,
          2002,
          2003,
          2004,
          2005,
          2006,
          2007,
          2008,
          2009,
          2010
         ],
         "xaxis": "x",
         "y": [
          149,
          134,
          89,
          182,
          188,
          200,
          213,
          204,
          242,
          167
         ],
         "yaxis": "y"
        },
        {
         "alignmentgroup": "True",
         "hovertemplate": "Nombre=ANÁLISIS DE LOS MEDIOS DE COMUNICACIÓN<br>Año=%{x}<br>cant=%{y}<extra></extra>",
         "legendgroup": "ANÁLISIS DE LOS MEDIOS DE COMUNICACIÓN",
         "marker": {
          "color": "#636efa",
          "pattern": {
           "shape": ""
          }
         },
         "name": "ANÁLISIS DE LOS MEDIOS DE COMUNICACIÓN",
         "offsetgroup": "ANÁLISIS DE LOS MEDIOS DE COMUNICACIÓN",
         "orientation": "v",
         "showlegend": true,
         "textposition": "auto",
         "type": "bar",
         "x": [
          2001,
          2002,
          2003,
          2004,
          2005,
          2006,
          2007,
          2008,
          2009,
          2010
         ],
         "xaxis": "x",
         "y": [
          30,
          40,
          57,
          65,
          70,
          82,
          91,
          89,
          76,
          86
         ],
         "yaxis": "y"
        },
        {
         "alignmentgroup": "True",
         "hovertemplate": "Nombre=PRODUCCIÓN TELEVISIVA I<br>Año=%{x}<br>cant=%{y}<extra></extra>",
         "legendgroup": "PRODUCCIÓN TELEVISIVA I",
         "marker": {
          "color": "#EF553B",
          "pattern": {
           "shape": ""
          }
         },
         "name": "PRODUCCIÓN TELEVISIVA I",
         "offsetgroup": "PRODUCCIÓN TELEVISIVA I",
         "orientation": "v",
         "showlegend": true,
         "textposition": "auto",
         "type": "bar",
         "x": [
          2001,
          2002,
          2004,
          2005,
          2006,
          2007,
          2008,
          2009,
          2010
         ],
         "xaxis": "x",
         "y": [
          30,
          39,
          30,
          38,
          35,
          41,
          41,
          35,
          36
         ],
         "yaxis": "y"
        },
        {
         "alignmentgroup": "True",
         "hovertemplate": "Nombre=COMPORTAMIENTO DEL CONSUMIDOR<br>Año=%{x}<br>cant=%{y}<extra></extra>",
         "legendgroup": "COMPORTAMIENTO DEL CONSUMIDOR",
         "marker": {
          "color": "#00cc96",
          "pattern": {
           "shape": ""
          }
         },
         "name": "COMPORTAMIENTO DEL CONSUMIDOR",
         "offsetgroup": "COMPORTAMIENTO DEL CONSUMIDOR",
         "orientation": "v",
         "showlegend": true,
         "textposition": "auto",
         "type": "bar",
         "x": [
          2001,
          2002,
          2003,
          2004,
          2005,
          2006,
          2007,
          2008,
          2009,
          2010
         ],
         "xaxis": "x",
         "y": [
          34,
          124,
          135,
          91,
          161,
          173,
          181,
          157,
          154,
          171
         ],
         "yaxis": "y"
        },
        {
         "alignmentgroup": "True",
         "hovertemplate": "Nombre=MARKETING II<br>Año=%{x}<br>cant=%{y}<extra></extra>",
         "legendgroup": "MARKETING II",
         "marker": {
          "color": "#ab63fa",
          "pattern": {
           "shape": ""
          }
         },
         "name": "MARKETING II",
         "offsetgroup": "MARKETING II",
         "orientation": "v",
         "showlegend": true,
         "textposition": "auto",
         "type": "bar",
         "x": [
          2001,
          2002
         ],
         "xaxis": "x",
         "y": [
          26,
          29
         ],
         "yaxis": "y"
        },
        {
         "alignmentgroup": "True",
         "hovertemplate": "Nombre=GRAMÁTICA APLICADA<br>Año=%{x}<br>cant=%{y}<extra></extra>",
         "legendgroup": "GRAMÁTICA APLICADA",
         "marker": {
          "color": "#FFA15A",
          "pattern": {
           "shape": ""
          }
         },
         "name": "GRAMÁTICA APLICADA",
         "offsetgroup": "GRAMÁTICA APLICADA",
         "orientation": "v",
         "showlegend": true,
         "textposition": "auto",
         "type": "bar",
         "x": [
          2001,
          2002,
          2003,
          2004,
          2005,
          2006,
          2007,
          2008,
          2009,
          2010
         ],
         "xaxis": "x",
         "y": [
          31,
          60,
          64,
          42,
          76,
          76,
          80,
          83,
          57,
          83
         ],
         "yaxis": "y"
        },
        {
         "alignmentgroup": "True",
         "hovertemplate": "Nombre=PLANEAMIENTO DE LA COMUNICACIÓN I<br>Año=%{x}<br>cant=%{y}<extra></extra>",
         "legendgroup": "PLANEAMIENTO DE LA COMUNICACIÓN I",
         "marker": {
          "color": "#19d3f3",
          "pattern": {
           "shape": ""
          }
         },
         "name": "PLANEAMIENTO DE LA COMUNICACIÓN I",
         "offsetgroup": "PLANEAMIENTO DE LA COMUNICACIÓN I",
         "orientation": "v",
         "showlegend": true,
         "textposition": "auto",
         "type": "bar",
         "x": [
          2001,
          2002,
          2003,
          2004,
          2005,
          2006,
          2007,
          2008,
          2009,
          2010
         ],
         "xaxis": "x",
         "y": [
          4,
          32,
          28,
          31,
          44,
          39,
          38,
          40,
          37,
          39
         ],
         "yaxis": "y"
        },
        {
         "alignmentgroup": "True",
         "hovertemplate": "Nombre=CULTURA ORGANIZACIONAL I<br>Año=%{x}<br>cant=%{y}<extra></extra>",
         "legendgroup": "CULTURA ORGANIZACIONAL I",
         "marker": {
          "color": "#FF6692",
          "pattern": {
           "shape": ""
          }
         },
         "name": "CULTURA ORGANIZACIONAL I",
         "offsetgroup": "CULTURA ORGANIZACIONAL I",
         "orientation": "v",
         "showlegend": true,
         "textposition": "auto",
         "type": "bar",
         "x": [
          2001,
          2002,
          2003,
          2004,
          2005,
          2006
         ],
         "xaxis": "x",
         "y": [
          4,
          35,
          28,
          28,
          31,
          27
         ],
         "yaxis": "y"
        },
        {
         "alignmentgroup": "True",
         "hovertemplate": "Nombre=PLANEAMIENTO DE LA COMUNICACIÓN II<br>Año=%{x}<br>cant=%{y}<extra></extra>",
         "legendgroup": "PLANEAMIENTO DE LA COMUNICACIÓN II",
         "marker": {
          "color": "#B6E880",
          "pattern": {
           "shape": ""
          }
         },
         "name": "PLANEAMIENTO DE LA COMUNICACIÓN II",
         "offsetgroup": "PLANEAMIENTO DE LA COMUNICACIÓN II",
         "orientation": "v",
         "showlegend": true,
         "textposition": "auto",
         "type": "bar",
         "x": [
          2001,
          2002,
          2003,
          2004,
          2005,
          2006,
          2007,
          2008,
          2009,
          2010
         ],
         "xaxis": "x",
         "y": [
          4,
          22,
          32,
          28,
          22,
          45,
          32,
          38,
          36,
          39
         ],
         "yaxis": "y"
        },
        {
         "alignmentgroup": "True",
         "hovertemplate": "Nombre=CULTURA ORGANIZACIONAL II<br>Año=%{x}<br>cant=%{y}<extra></extra>",
         "legendgroup": "CULTURA ORGANIZACIONAL II",
         "marker": {
          "color": "#FF97FF",
          "pattern": {
           "shape": ""
          }
         },
         "name": "CULTURA ORGANIZACIONAL II",
         "offsetgroup": "CULTURA ORGANIZACIONAL II",
         "orientation": "v",
         "showlegend": true,
         "textposition": "auto",
         "type": "bar",
         "x": [
          2001,
          2002,
          2003,
          2004,
          2005,
          2006
         ],
         "xaxis": "x",
         "y": [
          2,
          22,
          28,
          27,
          4,
          52
         ],
         "yaxis": "y"
        },
        {
         "alignmentgroup": "True",
         "hovertemplate": "Nombre=ADMINISTRACIÓN<br>Año=%{x}<br>cant=%{y}<extra></extra>",
         "legendgroup": "ADMINISTRACIÓN",
         "marker": {
          "color": "#FECB52",
          "pattern": {
           "shape": ""
          }
         },
         "name": "ADMINISTRACIÓN",
         "offsetgroup": "ADMINISTRACIÓN",
         "orientation": "v",
         "showlegend": true,
         "textposition": "auto",
         "type": "bar",
         "x": [
          2001,
          2002,
          2003,
          2004
         ],
         "xaxis": "x",
         "y": [
          2,
          2,
          21,
          22
         ],
         "yaxis": "y"
        },
        {
         "alignmentgroup": "True",
         "hovertemplate": "Nombre=PRODUCCIÓN TELEVISIVA II<br>Año=%{x}<br>cant=%{y}<extra></extra>",
         "legendgroup": "PRODUCCIÓN TELEVISIVA II",
         "marker": {
          "color": "#636efa",
          "pattern": {
           "shape": ""
          }
         },
         "name": "PRODUCCIÓN TELEVISIVA II",
         "offsetgroup": "PRODUCCIÓN TELEVISIVA II",
         "orientation": "v",
         "showlegend": true,
         "textposition": "auto",
         "type": "bar",
         "x": [
          2001,
          2002,
          2003,
          2004,
          2005,
          2006,
          2007,
          2008,
          2009,
          2010
         ],
         "xaxis": "x",
         "y": [
          1,
          2,
          8,
          24,
          28,
          17,
          36,
          24,
          24,
          17
         ],
         "yaxis": "y"
        },
        {
         "alignmentgroup": "True",
         "hovertemplate": "Nombre=SEMINARIO DE PRÁCTICA PROFESIONAL II<br>Año=%{x}<br>cant=%{y}<extra></extra>",
         "legendgroup": "SEMINARIO DE PRÁCTICA PROFESIONAL II",
         "marker": {
          "color": "#EF553B",
          "pattern": {
           "shape": ""
          }
         },
         "name": "SEMINARIO DE PRÁCTICA PROFESIONAL II",
         "offsetgroup": "SEMINARIO DE PRÁCTICA PROFESIONAL II",
         "orientation": "v",
         "showlegend": true,
         "textposition": "auto",
         "type": "bar",
         "x": [
          2001,
          2002,
          2003,
          2004,
          2005,
          2006,
          2007,
          2008,
          2009,
          2010
         ],
         "xaxis": "x",
         "y": [
          1,
          4,
          18,
          30,
          28,
          20,
          40,
          42,
          40,
          40
         ],
         "yaxis": "y"
        },
        {
         "alignmentgroup": "True",
         "hovertemplate": "Nombre=TEORÍA Y PRÁCTICA DEL COMERCIO INTERNACIONAL<br>Año=%{x}<br>cant=%{y}<extra></extra>",
         "legendgroup": "TEORÍA Y PRÁCTICA DEL COMERCIO INTERNACIONAL",
         "marker": {
          "color": "#00cc96",
          "pattern": {
           "shape": ""
          }
         },
         "name": "TEORÍA Y PRÁCTICA DEL COMERCIO INTERNACIONAL",
         "offsetgroup": "TEORÍA Y PRÁCTICA DEL COMERCIO INTERNACIONAL",
         "orientation": "v",
         "showlegend": true,
         "textposition": "auto",
         "type": "bar",
         "x": [
          2001,
          2002,
          2003,
          2004,
          2005,
          2006,
          2007,
          2008,
          2009,
          2010
         ],
         "xaxis": "x",
         "y": [
          1,
          7,
          7,
          14,
          13,
          10,
          16,
          14,
          23,
          25
         ],
         "yaxis": "y"
        },
        {
         "alignmentgroup": "True",
         "hovertemplate": "Nombre=DIGITALIZACIÓN<br>Año=%{x}<br>cant=%{y}<extra></extra>",
         "legendgroup": "DIGITALIZACIÓN",
         "marker": {
          "color": "#ab63fa",
          "pattern": {
           "shape": ""
          }
         },
         "name": "DIGITALIZACIÓN",
         "offsetgroup": "DIGITALIZACIÓN",
         "orientation": "v",
         "showlegend": true,
         "textposition": "auto",
         "type": "bar",
         "x": [
          2001,
          2002,
          2003,
          2004,
          2005,
          2006,
          2007,
          2008,
          2009,
          2010
         ],
         "xaxis": "x",
         "y": [
          40,
          29,
          19,
          34,
          42,
          33,
          47,
          31,
          47,
          26
         ],
         "yaxis": "y"
        },
        {
         "alignmentgroup": "True",
         "hovertemplate": "Nombre=ECOLOGÍA<br>Año=%{x}<br>cant=%{y}<extra></extra>",
         "legendgroup": "ECOLOGÍA",
         "marker": {
          "color": "#FFA15A",
          "pattern": {
           "shape": ""
          }
         },
         "name": "ECOLOGÍA",
         "offsetgroup": "ECOLOGÍA",
         "orientation": "v",
         "showlegend": true,
         "textposition": "auto",
         "type": "bar",
         "x": [
          2001,
          2006
         ],
         "xaxis": "x",
         "y": [
          10,
          2
         ],
         "yaxis": "y"
        },
        {
         "alignmentgroup": "True",
         "hovertemplate": "Nombre=GESTIÓN DEL RECURSO AGUA<br>Año=%{x}<br>cant=%{y}<extra></extra>",
         "legendgroup": "GESTIÓN DEL RECURSO AGUA",
         "marker": {
          "color": "#19d3f3",
          "pattern": {
           "shape": ""
          }
         },
         "name": "GESTIÓN DEL RECURSO AGUA",
         "offsetgroup": "GESTIÓN DEL RECURSO AGUA",
         "orientation": "v",
         "showlegend": true,
         "textposition": "auto",
         "type": "bar",
         "x": [
          2001,
          2006
         ],
         "xaxis": "x",
         "y": [
          9,
          2
         ],
         "yaxis": "y"
        },
        {
         "alignmentgroup": "True",
         "hovertemplate": "Nombre=SONIDO Y MUSICALIZACIÓN<br>Año=%{x}<br>cant=%{y}<extra></extra>",
         "legendgroup": "SONIDO Y MUSICALIZACIÓN",
         "marker": {
          "color": "#FF6692",
          "pattern": {
           "shape": ""
          }
         },
         "name": "SONIDO Y MUSICALIZACIÓN",
         "offsetgroup": "SONIDO Y MUSICALIZACIÓN",
         "orientation": "v",
         "showlegend": true,
         "textposition": "auto",
         "type": "bar",
         "x": [
          2001,
          2002,
          2003,
          2004,
          2005,
          2006,
          2007,
          2008,
          2009,
          2010
         ],
         "xaxis": "x",
         "y": [
          3,
          26,
          24,
          14,
          20,
          35,
          19,
          31,
          22,
          32
         ],
         "yaxis": "y"
        },
        {
         "alignmentgroup": "True",
         "hovertemplate": "Nombre=VIDEO I<br>Año=%{x}<br>cant=%{y}<extra></extra>",
         "legendgroup": "VIDEO I",
         "marker": {
          "color": "#B6E880",
          "pattern": {
           "shape": ""
          }
         },
         "name": "VIDEO I",
         "offsetgroup": "VIDEO I",
         "orientation": "v",
         "showlegend": true,
         "textposition": "auto",
         "type": "bar",
         "x": [
          2001,
          2002,
          2003,
          2004,
          2005,
          2006,
          2007,
          2008,
          2009,
          2010
         ],
         "xaxis": "x",
         "y": [
          2,
          28,
          24,
          13,
          19,
          29,
          25,
          29,
          20,
          30
         ],
         "yaxis": "y"
        },
        {
         "alignmentgroup": "True",
         "hovertemplate": "Nombre=ANIMACIÓN<br>Año=%{x}<br>cant=%{y}<extra></extra>",
         "legendgroup": "ANIMACIÓN",
         "marker": {
          "color": "#FF97FF",
          "pattern": {
           "shape": ""
          }
         },
         "name": "ANIMACIÓN",
         "offsetgroup": "ANIMACIÓN",
         "orientation": "v",
         "showlegend": true,
         "textposition": "auto",
         "type": "bar",
         "x": [
          2002,
          2003,
          2004,
          2005,
          2006,
          2007,
          2008,
          2009,
          2010
         ],
         "xaxis": "x",
         "y": [
          26,
          27,
          10,
          18,
          28,
          27,
          21,
          29,
          26
         ],
         "yaxis": "y"
        },
        {
         "alignmentgroup": "True",
         "hovertemplate": "Nombre=TALLER DE MULTIMEDIA<br>Año=%{x}<br>cant=%{y}<extra></extra>",
         "legendgroup": "TALLER DE MULTIMEDIA",
         "marker": {
          "color": "#FECB52",
          "pattern": {
           "shape": ""
          }
         },
         "name": "TALLER DE MULTIMEDIA",
         "offsetgroup": "TALLER DE MULTIMEDIA",
         "orientation": "v",
         "showlegend": true,
         "textposition": "auto",
         "type": "bar",
         "x": [
          2001,
          2002,
          2003,
          2004,
          2005,
          2006,
          2007,
          2008,
          2009,
          2010
         ],
         "xaxis": "x",
         "y": [
          1,
          24,
          23,
          12,
          21,
          27,
          22,
          23,
          26,
          33
         ],
         "yaxis": "y"
        },
        {
         "alignmentgroup": "True",
         "hovertemplate": "Nombre=VIDEO II<br>Año=%{x}<br>cant=%{y}<extra></extra>",
         "legendgroup": "VIDEO II",
         "marker": {
          "color": "#636efa",
          "pattern": {
           "shape": ""
          }
         },
         "name": "VIDEO II",
         "offsetgroup": "VIDEO II",
         "orientation": "v",
         "showlegend": true,
         "textposition": "auto",
         "type": "bar",
         "x": [
          2001,
          2002,
          2003,
          2004,
          2005,
          2006,
          2007,
          2008,
          2009,
          2010
         ],
         "xaxis": "x",
         "y": [
          1,
          26,
          21,
          12,
          20,
          24,
          25,
          22,
          28,
          26
         ],
         "yaxis": "y"
        },
        {
         "alignmentgroup": "True",
         "hovertemplate": "Nombre=NEGOCIOS Y MULTIMEDIA<br>Año=%{x}<br>cant=%{y}<extra></extra>",
         "legendgroup": "NEGOCIOS Y MULTIMEDIA",
         "marker": {
          "color": "#EF553B",
          "pattern": {
           "shape": ""
          }
         },
         "name": "NEGOCIOS Y MULTIMEDIA",
         "offsetgroup": "NEGOCIOS Y MULTIMEDIA",
         "orientation": "v",
         "showlegend": true,
         "textposition": "auto",
         "type": "bar",
         "x": [
          2003,
          2004,
          2005
         ],
         "xaxis": "x",
         "y": [
          19,
          18,
          10
         ],
         "yaxis": "y"
        },
        {
         "alignmentgroup": "True",
         "hovertemplate": "Nombre=GESTIÓN DE PROYECTOS MULTIMEDIA<br>Año=%{x}<br>cant=%{y}<extra></extra>",
         "legendgroup": "GESTIÓN DE PROYECTOS MULTIMEDIA",
         "marker": {
          "color": "#00cc96",
          "pattern": {
           "shape": ""
          }
         },
         "name": "GESTIÓN DE PROYECTOS MULTIMEDIA",
         "offsetgroup": "GESTIÓN DE PROYECTOS MULTIMEDIA",
         "orientation": "v",
         "showlegend": true,
         "textposition": "auto",
         "type": "bar",
         "x": [
          2003,
          2004,
          2005,
          2006,
          2007,
          2008,
          2009,
          2010
         ],
         "xaxis": "x",
         "y": [
          19,
          17,
          11,
          16,
          22,
          23,
          18,
          21
         ],
         "yaxis": "y"
        },
        {
         "alignmentgroup": "True",
         "hovertemplate": "Nombre=MULTIMEDIA Y REDES<br>Año=%{x}<br>cant=%{y}<extra></extra>",
         "legendgroup": "MULTIMEDIA Y REDES",
         "marker": {
          "color": "#ab63fa",
          "pattern": {
           "shape": ""
          }
         },
         "name": "MULTIMEDIA Y REDES",
         "offsetgroup": "MULTIMEDIA Y REDES",
         "orientation": "v",
         "showlegend": true,
         "textposition": "auto",
         "type": "bar",
         "x": [
          2003,
          2004,
          2005,
          2006,
          2007,
          2008,
          2009,
          2010
         ],
         "xaxis": "x",
         "y": [
          19,
          16,
          8,
          15,
          24,
          21,
          21,
          18
         ],
         "yaxis": "y"
        },
        {
         "alignmentgroup": "True",
         "hovertemplate": "Nombre=ELEMENTOS DE CONTABILIDAD  I<br>Año=%{x}<br>cant=%{y}<extra></extra>",
         "legendgroup": "ELEMENTOS DE CONTABILIDAD  I",
         "marker": {
          "color": "#FFA15A",
          "pattern": {
           "shape": ""
          }
         },
         "name": "ELEMENTOS DE CONTABILIDAD  I",
         "offsetgroup": "ELEMENTOS DE CONTABILIDAD  I",
         "orientation": "v",
         "showlegend": true,
         "textposition": "auto",
         "type": "bar",
         "x": [
          2002,
          2003,
          2004,
          2005,
          2006,
          2007,
          2008,
          2009,
          2010
         ],
         "xaxis": "x",
         "y": [
          1,
          4,
          2,
          14,
          18,
          10,
          13,
          21,
          19
         ],
         "yaxis": "y"
        },
        {
         "alignmentgroup": "True",
         "hovertemplate": "Nombre=MATEMÁTICA<br>Año=%{x}<br>cant=%{y}<extra></extra>",
         "legendgroup": "MATEMÁTICA",
         "marker": {
          "color": "#19d3f3",
          "pattern": {
           "shape": ""
          }
         },
         "name": "MATEMÁTICA",
         "offsetgroup": "MATEMÁTICA",
         "orientation": "v",
         "showlegend": true,
         "textposition": "auto",
         "type": "bar",
         "x": [
          2001,
          2002,
          2003,
          2004,
          2005,
          2006,
          2007,
          2008,
          2009,
          2010
         ],
         "xaxis": "x",
         "y": [
          33,
          44,
          121,
          120,
          150,
          179,
          148,
          147,
          153,
          140
         ],
         "yaxis": "y"
        },
        {
         "alignmentgroup": "True",
         "hovertemplate": "Nombre=OPERATORIA Y AUDITORÍA BANCARIA Y SERVIC<br>Año=%{x}<br>cant=%{y}<extra></extra>",
         "legendgroup": "OPERATORIA Y AUDITORÍA BANCARIA Y SERVIC",
         "marker": {
          "color": "#FF6692",
          "pattern": {
           "shape": ""
          }
         },
         "name": "OPERATORIA Y AUDITORÍA BANCARIA Y SERVIC",
         "offsetgroup": "OPERATORIA Y AUDITORÍA BANCARIA Y SERVIC",
         "orientation": "v",
         "showlegend": true,
         "textposition": "auto",
         "type": "bar",
         "x": [
          2002,
          2003
         ],
         "xaxis": "x",
         "y": [
          8,
          11
         ],
         "yaxis": "y"
        },
        {
         "alignmentgroup": "True",
         "hovertemplate": "Nombre=GESTIÓN FINANCIERA  I<br>Año=%{x}<br>cant=%{y}<extra></extra>",
         "legendgroup": "GESTIÓN FINANCIERA  I",
         "marker": {
          "color": "#B6E880",
          "pattern": {
           "shape": ""
          }
         },
         "name": "GESTIÓN FINANCIERA  I",
         "offsetgroup": "GESTIÓN FINANCIERA  I",
         "orientation": "v",
         "showlegend": true,
         "textposition": "auto",
         "type": "bar",
         "x": [
          2002,
          2003,
          2004,
          2006,
          2007,
          2008,
          2009,
          2010
         ],
         "xaxis": "x",
         "y": [
          8,
          7,
          2,
          10,
          12,
          6,
          9,
          12
         ],
         "yaxis": "y"
        },
        {
         "alignmentgroup": "True",
         "hovertemplate": "Nombre=ELEMENTOS DE CONTABILIDAD  II<br>Año=%{x}<br>cant=%{y}<extra></extra>",
         "legendgroup": "ELEMENTOS DE CONTABILIDAD  II",
         "marker": {
          "color": "#FF97FF",
          "pattern": {
           "shape": ""
          }
         },
         "name": "ELEMENTOS DE CONTABILIDAD  II",
         "offsetgroup": "ELEMENTOS DE CONTABILIDAD  II",
         "orientation": "v",
         "showlegend": true,
         "textposition": "auto",
         "type": "bar",
         "x": [
          2003,
          2004,
          2005,
          2007,
          2008,
          2009,
          2010
         ],
         "xaxis": "x",
         "y": [
          7,
          6,
          2,
          9,
          7,
          5,
          5
         ],
         "yaxis": "y"
        },
        {
         "alignmentgroup": "True",
         "hovertemplate": "Nombre=AUDITORÍA OPERATIVA<br>Año=%{x}<br>cant=%{y}<extra></extra>",
         "legendgroup": "AUDITORÍA OPERATIVA",
         "marker": {
          "color": "#FECB52",
          "pattern": {
           "shape": ""
          }
         },
         "name": "AUDITORÍA OPERATIVA",
         "offsetgroup": "AUDITORÍA OPERATIVA",
         "orientation": "v",
         "showlegend": true,
         "textposition": "auto",
         "type": "bar",
         "x": [
          2003,
          2004,
          2005,
          2006,
          2007,
          2008,
          2009,
          2010
         ],
         "xaxis": "x",
         "y": [
          7,
          6,
          34,
          54,
          55,
          54,
          55,
          48
         ],
         "yaxis": "y"
        },
        {
         "alignmentgroup": "True",
         "hovertemplate": "Nombre=GESTIÓN FINANCIERA  II<br>Año=%{x}<br>cant=%{y}<extra></extra>",
         "legendgroup": "GESTIÓN FINANCIERA  II",
         "marker": {
          "color": "#636efa",
          "pattern": {
           "shape": ""
          }
         },
         "name": "GESTIÓN FINANCIERA  II",
         "offsetgroup": "GESTIÓN FINANCIERA  II",
         "orientation": "v",
         "showlegend": true,
         "textposition": "auto",
         "type": "bar",
         "x": [
          2003,
          2004,
          2005,
          2006,
          2007,
          2008,
          2009,
          2010
         ],
         "xaxis": "x",
         "y": [
          7,
          6,
          2,
          1,
          10,
          7,
          5,
          5
         ],
         "yaxis": "y"
        },
        {
         "alignmentgroup": "True",
         "hovertemplate": "Nombre=DIRECCIÓN GENERAL<br>Año=%{x}<br>cant=%{y}<extra></extra>",
         "legendgroup": "DIRECCIÓN GENERAL",
         "marker": {
          "color": "#EF553B",
          "pattern": {
           "shape": ""
          }
         },
         "name": "DIRECCIÓN GENERAL",
         "offsetgroup": "DIRECCIÓN GENERAL",
         "orientation": "v",
         "showlegend": true,
         "textposition": "auto",
         "type": "bar",
         "x": [
          2003,
          2004,
          2005,
          2006,
          2007,
          2008,
          2009,
          2010
         ],
         "xaxis": "x",
         "y": [
          7,
          7,
          3,
          2,
          9,
          7,
          4,
          6
         ],
         "yaxis": "y"
        },
        {
         "alignmentgroup": "True",
         "hovertemplate": "Nombre=ANÁLISIS CONTABLE Y FINANCIERO<br>Año=%{x}<br>cant=%{y}<extra></extra>",
         "legendgroup": "ANÁLISIS CONTABLE Y FINANCIERO",
         "marker": {
          "color": "#00cc96",
          "pattern": {
           "shape": ""
          }
         },
         "name": "ANÁLISIS CONTABLE Y FINANCIERO",
         "offsetgroup": "ANÁLISIS CONTABLE Y FINANCIERO",
         "orientation": "v",
         "showlegend": true,
         "textposition": "auto",
         "type": "bar",
         "x": [
          2003,
          2004,
          2005,
          2007,
          2008,
          2009,
          2010
         ],
         "xaxis": "x",
         "y": [
          7,
          6,
          2,
          10,
          6,
          4,
          4
         ],
         "yaxis": "y"
        },
        {
         "alignmentgroup": "True",
         "hovertemplate": "Nombre=AUDITORÍA DE SISTEMAS<br>Año=%{x}<br>cant=%{y}<extra></extra>",
         "legendgroup": "AUDITORÍA DE SISTEMAS",
         "marker": {
          "color": "#ab63fa",
          "pattern": {
           "shape": ""
          }
         },
         "name": "AUDITORÍA DE SISTEMAS",
         "offsetgroup": "AUDITORÍA DE SISTEMAS",
         "orientation": "v",
         "showlegend": true,
         "textposition": "auto",
         "type": "bar",
         "x": [
          2003
         ],
         "xaxis": "x",
         "y": [
          7
         ],
         "yaxis": "y"
        },
        {
         "alignmentgroup": "True",
         "hovertemplate": "Nombre=GESTIÓN DEL RECURSO AIRE<br>Año=%{x}<br>cant=%{y}<extra></extra>",
         "legendgroup": "GESTIÓN DEL RECURSO AIRE",
         "marker": {
          "color": "#FFA15A",
          "pattern": {
           "shape": ""
          }
         },
         "name": "GESTIÓN DEL RECURSO AIRE",
         "offsetgroup": "GESTIÓN DEL RECURSO AIRE",
         "orientation": "v",
         "showlegend": true,
         "textposition": "auto",
         "type": "bar",
         "x": [
          2002,
          2004,
          2007
         ],
         "xaxis": "x",
         "y": [
          7,
          1,
          1
         ],
         "yaxis": "y"
        },
        {
         "alignmentgroup": "True",
         "hovertemplate": "Nombre=USO Y GESTIÓN DE RECURSOS NATURALES<br>Año=%{x}<br>cant=%{y}<extra></extra>",
         "legendgroup": "USO Y GESTIÓN DE RECURSOS NATURALES",
         "marker": {
          "color": "#19d3f3",
          "pattern": {
           "shape": ""
          }
         },
         "name": "USO Y GESTIÓN DE RECURSOS NATURALES",
         "offsetgroup": "USO Y GESTIÓN DE RECURSOS NATURALES",
         "orientation": "v",
         "showlegend": true,
         "textposition": "auto",
         "type": "bar",
         "x": [
          2002,
          2004,
          2008
         ],
         "xaxis": "x",
         "y": [
          7,
          1,
          1
         ],
         "yaxis": "y"
        },
        {
         "alignmentgroup": "True",
         "hovertemplate": "Nombre=RÉGIMEN TRIBUTARIO<br>Año=%{x}<br>cant=%{y}<extra></extra>",
         "legendgroup": "RÉGIMEN TRIBUTARIO",
         "marker": {
          "color": "#FF6692",
          "pattern": {
           "shape": ""
          }
         },
         "name": "RÉGIMEN TRIBUTARIO",
         "offsetgroup": "RÉGIMEN TRIBUTARIO",
         "orientation": "v",
         "showlegend": true,
         "textposition": "auto",
         "type": "bar",
         "x": [
          2002,
          2003
         ],
         "xaxis": "x",
         "y": [
          7,
          3
         ],
         "yaxis": "y"
        },
        {
         "alignmentgroup": "True",
         "hovertemplate": "Nombre=GESTIÓN DEL RECURSO SUELO<br>Año=%{x}<br>cant=%{y}<extra></extra>",
         "legendgroup": "GESTIÓN DEL RECURSO SUELO",
         "marker": {
          "color": "#B6E880",
          "pattern": {
           "shape": ""
          }
         },
         "name": "GESTIÓN DEL RECURSO SUELO",
         "offsetgroup": "GESTIÓN DEL RECURSO SUELO",
         "orientation": "v",
         "showlegend": true,
         "textposition": "auto",
         "type": "bar",
         "x": [
          2002,
          2003,
          2006,
          2007
         ],
         "xaxis": "x",
         "y": [
          3,
          1,
          1,
          1
         ],
         "yaxis": "y"
        },
        {
         "alignmentgroup": "True",
         "hovertemplate": "Nombre=TRATAMIENTO DE RESIDUOS<br>Año=%{x}<br>cant=%{y}<extra></extra>",
         "legendgroup": "TRATAMIENTO DE RESIDUOS",
         "marker": {
          "color": "#FF97FF",
          "pattern": {
           "shape": ""
          }
         },
         "name": "TRATAMIENTO DE RESIDUOS",
         "offsetgroup": "TRATAMIENTO DE RESIDUOS",
         "orientation": "v",
         "showlegend": true,
         "textposition": "auto",
         "type": "bar",
         "x": [
          2002,
          2007
         ],
         "xaxis": "x",
         "y": [
          4,
          1
         ],
         "yaxis": "y"
        },
        {
         "alignmentgroup": "True",
         "hovertemplate": "Nombre=EVALUACIÓN DE IMPACTO AMBIENTAL I<br>Año=%{x}<br>cant=%{y}<extra></extra>",
         "legendgroup": "EVALUACIÓN DE IMPACTO AMBIENTAL I",
         "marker": {
          "color": "#FECB52",
          "pattern": {
           "shape": ""
          }
         },
         "name": "EVALUACIÓN DE IMPACTO AMBIENTAL I",
         "offsetgroup": "EVALUACIÓN DE IMPACTO AMBIENTAL I",
         "orientation": "v",
         "showlegend": true,
         "textposition": "auto",
         "type": "bar",
         "x": [
          2003,
          2004,
          2005,
          2008,
          2010
         ],
         "xaxis": "x",
         "y": [
          3,
          1,
          1,
          1,
          7
         ],
         "yaxis": "y"
        },
        {
         "alignmentgroup": "True",
         "hovertemplate": "Nombre=DERECHO Y LEGISLACIÓN AMBIENTAL<br>Año=%{x}<br>cant=%{y}<extra></extra>",
         "legendgroup": "DERECHO Y LEGISLACIÓN AMBIENTAL",
         "marker": {
          "color": "#636efa",
          "pattern": {
           "shape": ""
          }
         },
         "name": "DERECHO Y LEGISLACIÓN AMBIENTAL",
         "offsetgroup": "DERECHO Y LEGISLACIÓN AMBIENTAL",
         "orientation": "v",
         "showlegend": true,
         "textposition": "auto",
         "type": "bar",
         "x": [
          2003,
          2005,
          2007
         ],
         "xaxis": "x",
         "y": [
          3,
          2,
          1
         ],
         "yaxis": "y"
        },
        {
         "alignmentgroup": "True",
         "hovertemplate": "Nombre=TEORÍA Y PRÁCTICA DE LA COMUNICACIÓN<br>Año=%{x}<br>cant=%{y}<extra></extra>",
         "legendgroup": "TEORÍA Y PRÁCTICA DE LA COMUNICACIÓN",
         "marker": {
          "color": "#EF553B",
          "pattern": {
           "shape": ""
          }
         },
         "name": "TEORÍA Y PRÁCTICA DE LA COMUNICACIÓN",
         "offsetgroup": "TEORÍA Y PRÁCTICA DE LA COMUNICACIÓN",
         "orientation": "v",
         "showlegend": true,
         "textposition": "auto",
         "type": "bar",
         "x": [
          2001,
          2002,
          2003,
          2004,
          2005,
          2006,
          2007,
          2008,
          2009,
          2010
         ],
         "xaxis": "x",
         "y": [
          6,
          18,
          158,
          164,
          212,
          230,
          231,
          223,
          192,
          158
         ],
         "yaxis": "y"
        },
        {
         "alignmentgroup": "True",
         "hovertemplate": "Nombre=INVESTIGACIÓN DE MERCADO<br>Año=%{x}<br>cant=%{y}<extra></extra>",
         "legendgroup": "INVESTIGACIÓN DE MERCADO",
         "marker": {
          "color": "#00cc96",
          "pattern": {
           "shape": ""
          }
         },
         "name": "INVESTIGACIÓN DE MERCADO",
         "offsetgroup": "INVESTIGACIÓN DE MERCADO",
         "orientation": "v",
         "showlegend": true,
         "textposition": "auto",
         "type": "bar",
         "x": [
          2001,
          2002,
          2003,
          2004,
          2005,
          2006,
          2007,
          2008,
          2009,
          2010
         ],
         "xaxis": "x",
         "y": [
          2,
          35,
          106,
          67,
          132,
          183,
          178,
          226,
          172,
          175
         ],
         "yaxis": "y"
        },
        {
         "alignmentgroup": "True",
         "hovertemplate": "Nombre=SIST. DE INFORMACIÓN<br>Año=%{x}<br>cant=%{y}<extra></extra>",
         "legendgroup": "SIST. DE INFORMACIÓN",
         "marker": {
          "color": "#ab63fa",
          "pattern": {
           "shape": ""
          }
         },
         "name": "SIST. DE INFORMACIÓN",
         "offsetgroup": "SIST. DE INFORMACIÓN",
         "orientation": "v",
         "showlegend": true,
         "textposition": "auto",
         "type": "bar",
         "x": [
          2002,
          2003,
          2004
         ],
         "xaxis": "x",
         "y": [
          46,
          38,
          2
         ],
         "yaxis": "y"
        },
        {
         "alignmentgroup": "True",
         "hovertemplate": "Nombre=TECNOLOGÍA AGROPECUARIA<br>Año=%{x}<br>cant=%{y}<extra></extra>",
         "legendgroup": "TECNOLOGÍA AGROPECUARIA",
         "marker": {
          "color": "#FFA15A",
          "pattern": {
           "shape": ""
          }
         },
         "name": "TECNOLOGÍA AGROPECUARIA",
         "offsetgroup": "TECNOLOGÍA AGROPECUARIA",
         "orientation": "v",
         "showlegend": true,
         "textposition": "auto",
         "type": "bar",
         "x": [
          2002,
          2003,
          2004,
          2005,
          2006,
          2007,
          2008,
          2009,
          2010
         ],
         "xaxis": "x",
         "y": [
          13,
          25,
          26,
          39,
          42,
          22,
          25,
          28,
          34
         ],
         "yaxis": "y"
        },
        {
         "alignmentgroup": "True",
         "hovertemplate": "Nombre=MERCADOS AGROALIMENTARIOS<br>Año=%{x}<br>cant=%{y}<extra></extra>",
         "legendgroup": "MERCADOS AGROALIMENTARIOS",
         "marker": {
          "color": "#19d3f3",
          "pattern": {
           "shape": ""
          }
         },
         "name": "MERCADOS AGROALIMENTARIOS",
         "offsetgroup": "MERCADOS AGROALIMENTARIOS",
         "orientation": "v",
         "showlegend": true,
         "textposition": "auto",
         "type": "bar",
         "x": [
          2002,
          2003,
          2004,
          2005,
          2006,
          2007,
          2008,
          2009,
          2010
         ],
         "xaxis": "x",
         "y": [
          1,
          11,
          17,
          19,
          27,
          34,
          19,
          23,
          17
         ],
         "yaxis": "y"
        },
        {
         "alignmentgroup": "True",
         "hovertemplate": "Nombre=ÁLGEBRA<br>Año=%{x}<br>cant=%{y}<extra></extra>",
         "legendgroup": "ÁLGEBRA",
         "marker": {
          "color": "#FF6692",
          "pattern": {
           "shape": ""
          }
         },
         "name": "ÁLGEBRA",
         "offsetgroup": "ÁLGEBRA",
         "orientation": "v",
         "showlegend": true,
         "textposition": "auto",
         "type": "bar",
         "x": [
          2001,
          2002,
          2003,
          2004,
          2005,
          2006,
          2007,
          2008,
          2009,
          2010
         ],
         "xaxis": "x",
         "y": [
          1,
          8,
          34,
          42,
          58,
          59,
          60,
          69,
          86,
          157
         ],
         "yaxis": "y"
        },
        {
         "alignmentgroup": "True",
         "hovertemplate": "Nombre=MEDICIONES DEL MEDIO AMBIENTAL<br>Año=%{x}<br>cant=%{y}<extra></extra>",
         "legendgroup": "MEDICIONES DEL MEDIO AMBIENTAL",
         "marker": {
          "color": "#B6E880",
          "pattern": {
           "shape": ""
          }
         },
         "name": "MEDICIONES DEL MEDIO AMBIENTAL",
         "offsetgroup": "MEDICIONES DEL MEDIO AMBIENTAL",
         "orientation": "v",
         "showlegend": true,
         "textposition": "auto",
         "type": "bar",
         "x": [
          2002,
          2005,
          2007
         ],
         "xaxis": "x",
         "y": [
          3,
          1,
          1
         ],
         "yaxis": "y"
        },
        {
         "alignmentgroup": "True",
         "hovertemplate": "Nombre=SISTEMAS DE CONTROL DE GESTIÓN AMBIENTAL<br>Año=%{x}<br>cant=%{y}<extra></extra>",
         "legendgroup": "SISTEMAS DE CONTROL DE GESTIÓN AMBIENTAL",
         "marker": {
          "color": "#FF97FF",
          "pattern": {
           "shape": ""
          }
         },
         "name": "SISTEMAS DE CONTROL DE GESTIÓN AMBIENTAL",
         "offsetgroup": "SISTEMAS DE CONTROL DE GESTIÓN AMBIENTAL",
         "orientation": "v",
         "showlegend": true,
         "textposition": "auto",
         "type": "bar",
         "x": [
          2003,
          2004,
          2008
         ],
         "xaxis": "x",
         "y": [
          1,
          2,
          1
         ],
         "yaxis": "y"
        },
        {
         "alignmentgroup": "True",
         "hovertemplate": "Nombre=EVALUACIÓN DE IMPACTO AMBIENTAL II<br>Año=%{x}<br>cant=%{y}<extra></extra>",
         "legendgroup": "EVALUACIÓN DE IMPACTO AMBIENTAL II",
         "marker": {
          "color": "#FECB52",
          "pattern": {
           "shape": ""
          }
         },
         "name": "EVALUACIÓN DE IMPACTO AMBIENTAL II",
         "offsetgroup": "EVALUACIÓN DE IMPACTO AMBIENTAL II",
         "orientation": "v",
         "showlegend": true,
         "textposition": "auto",
         "type": "bar",
         "x": [
          2003,
          2005,
          2008
         ],
         "xaxis": "x",
         "y": [
          2,
          1,
          1
         ],
         "yaxis": "y"
        },
        {
         "alignmentgroup": "True",
         "hovertemplate": "Nombre=CÁLCULO NUMÉRICO<br>Año=%{x}<br>cant=%{y}<extra></extra>",
         "legendgroup": "CÁLCULO NUMÉRICO",
         "marker": {
          "color": "#636efa",
          "pattern": {
           "shape": ""
          }
         },
         "name": "CÁLCULO NUMÉRICO",
         "offsetgroup": "CÁLCULO NUMÉRICO",
         "orientation": "v",
         "showlegend": true,
         "textposition": "auto",
         "type": "bar",
         "x": [
          2002,
          2003,
          2004,
          2005,
          2006,
          2007,
          2008,
          2009,
          2010
         ],
         "xaxis": "x",
         "y": [
          6,
          25,
          29,
          27,
          39,
          47,
          30,
          36,
          43
         ],
         "yaxis": "y"
        },
        {
         "alignmentgroup": "True",
         "hovertemplate": "Nombre=NUEVAS TENDENCIAS DE MERCADOTECNIA<br>Año=%{x}<br>cant=%{y}<extra></extra>",
         "legendgroup": "NUEVAS TENDENCIAS DE MERCADOTECNIA",
         "marker": {
          "color": "#EF553B",
          "pattern": {
           "shape": ""
          }
         },
         "name": "NUEVAS TENDENCIAS DE MERCADOTECNIA",
         "offsetgroup": "NUEVAS TENDENCIAS DE MERCADOTECNIA",
         "orientation": "v",
         "showlegend": true,
         "textposition": "auto",
         "type": "bar",
         "x": [
          2002,
          2003,
          2004,
          2005,
          2006,
          2007,
          2008,
          2009,
          2010
         ],
         "xaxis": "x",
         "y": [
          3,
          42,
          33,
          34,
          28,
          28,
          41,
          33,
          26
         ],
         "yaxis": "y"
        },
        {
         "alignmentgroup": "True",
         "hovertemplate": "Nombre=GESTIÓN Y EVALUACIÓN DEL PLAN DE MARKETING<br>Año=%{x}<br>cant=%{y}<extra></extra>",
         "legendgroup": "GESTIÓN Y EVALUACIÓN DEL PLAN DE MARKETING",
         "marker": {
          "color": "#00cc96",
          "pattern": {
           "shape": ""
          }
         },
         "name": "GESTIÓN Y EVALUACIÓN DEL PLAN DE MARKETING",
         "offsetgroup": "GESTIÓN Y EVALUACIÓN DEL PLAN DE MARKETING",
         "orientation": "v",
         "showlegend": true,
         "textposition": "auto",
         "type": "bar",
         "x": [
          2004,
          2005,
          2006,
          2007,
          2008,
          2009,
          2010
         ],
         "xaxis": "x",
         "y": [
          16,
          24,
          19,
          24,
          31,
          37,
          23
         ],
         "yaxis": "y"
        },
        {
         "alignmentgroup": "True",
         "hovertemplate": "Nombre=ESTADISTÍCA APLICADA A LA PUBLICIDAD<br>Año=%{x}<br>cant=%{y}<extra></extra>",
         "legendgroup": "ESTADISTÍCA APLICADA A LA PUBLICIDAD",
         "marker": {
          "color": "#ab63fa",
          "pattern": {
           "shape": ""
          }
         },
         "name": "ESTADISTÍCA APLICADA A LA PUBLICIDAD",
         "offsetgroup": "ESTADISTÍCA APLICADA A LA PUBLICIDAD",
         "orientation": "v",
         "showlegend": true,
         "textposition": "auto",
         "type": "bar",
         "x": [
          2002,
          2003
         ],
         "xaxis": "x",
         "y": [
          4,
          25
         ],
         "yaxis": "y"
        },
        {
         "alignmentgroup": "True",
         "hovertemplate": "Nombre=PRODUCCIÓN RADIAL<br>Año=%{x}<br>cant=%{y}<extra></extra>",
         "legendgroup": "PRODUCCIÓN RADIAL",
         "marker": {
          "color": "#FFA15A",
          "pattern": {
           "shape": ""
          }
         },
         "name": "PRODUCCIÓN RADIAL",
         "offsetgroup": "PRODUCCIÓN RADIAL",
         "orientation": "v",
         "showlegend": true,
         "textposition": "auto",
         "type": "bar",
         "x": [
          2001,
          2002,
          2003,
          2004,
          2005,
          2006,
          2007,
          2008,
          2009,
          2010
         ],
         "xaxis": "x",
         "y": [
          1,
          2,
          10,
          28,
          27,
          28,
          27,
          35,
          23,
          36
         ],
         "yaxis": "y"
        },
        {
         "alignmentgroup": "True",
         "hovertemplate": "Nombre=COMERCIO INTERNACIONAL<br>Año=%{x}<br>cant=%{y}<extra></extra>",
         "legendgroup": "COMERCIO INTERNACIONAL",
         "marker": {
          "color": "#19d3f3",
          "pattern": {
           "shape": ""
          }
         },
         "name": "COMERCIO INTERNACIONAL",
         "offsetgroup": "COMERCIO INTERNACIONAL",
         "orientation": "v",
         "showlegend": true,
         "textposition": "auto",
         "type": "bar",
         "x": [
          2002,
          2003,
          2004,
          2005,
          2006,
          2007,
          2008,
          2009,
          2010
         ],
         "xaxis": "x",
         "y": [
          14,
          47,
          40,
          40,
          63,
          51,
          47,
          44,
          40
         ],
         "yaxis": "y"
        },
        {
         "alignmentgroup": "True",
         "hovertemplate": "Nombre=TOMA DE DECISIÓN<br>Año=%{x}<br>cant=%{y}<extra></extra>",
         "legendgroup": "TOMA DE DECISIÓN",
         "marker": {
          "color": "#FF6692",
          "pattern": {
           "shape": ""
          }
         },
         "name": "TOMA DE DECISIÓN",
         "offsetgroup": "TOMA DE DECISIÓN",
         "orientation": "v",
         "showlegend": true,
         "textposition": "auto",
         "type": "bar",
         "x": [
          2002,
          2003,
          2004,
          2005,
          2006,
          2007,
          2008,
          2009,
          2010
         ],
         "xaxis": "x",
         "y": [
          1,
          8,
          25,
          26,
          30,
          39,
          34,
          28,
          31
         ],
         "yaxis": "y"
        },
        {
         "alignmentgroup": "True",
         "hovertemplate": "Nombre=DIAGNÓSTICO ORGANIZACIONAL<br>Año=%{x}<br>cant=%{y}<extra></extra>",
         "legendgroup": "DIAGNÓSTICO ORGANIZACIONAL",
         "marker": {
          "color": "#B6E880",
          "pattern": {
           "shape": ""
          }
         },
         "name": "DIAGNÓSTICO ORGANIZACIONAL",
         "offsetgroup": "DIAGNÓSTICO ORGANIZACIONAL",
         "orientation": "v",
         "showlegend": true,
         "textposition": "auto",
         "type": "bar",
         "x": [
          2003,
          2004,
          2005,
          2006,
          2007,
          2008,
          2009,
          2010
         ],
         "xaxis": "x",
         "y": [
          38,
          38,
          28,
          111,
          180,
          162,
          160,
          101
         ],
         "yaxis": "y"
        },
        {
         "alignmentgroup": "True",
         "hovertemplate": "Nombre=EVALUACIÓN Y DISEÑO DE PUESTOS<br>Año=%{x}<br>cant=%{y}<extra></extra>",
         "legendgroup": "EVALUACIÓN Y DISEÑO DE PUESTOS",
         "marker": {
          "color": "#FF97FF",
          "pattern": {
           "shape": ""
          }
         },
         "name": "EVALUACIÓN Y DISEÑO DE PUESTOS",
         "offsetgroup": "EVALUACIÓN Y DISEÑO DE PUESTOS",
         "orientation": "v",
         "showlegend": true,
         "textposition": "auto",
         "type": "bar",
         "x": [
          2002,
          2003,
          2004,
          2005,
          2006,
          2007,
          2008,
          2009,
          2010
         ],
         "xaxis": "x",
         "y": [
          14,
          30,
          53,
          34,
          50,
          75,
          77,
          101,
          93
         ],
         "yaxis": "y"
        },
        {
         "alignmentgroup": "True",
         "hovertemplate": "Nombre=IMPACTO AMBIENTAL Y EMPRESA<br>Año=%{x}<br>cant=%{y}<extra></extra>",
         "legendgroup": "IMPACTO AMBIENTAL Y EMPRESA",
         "marker": {
          "color": "#FECB52",
          "pattern": {
           "shape": ""
          }
         },
         "name": "IMPACTO AMBIENTAL Y EMPRESA",
         "offsetgroup": "IMPACTO AMBIENTAL Y EMPRESA",
         "orientation": "v",
         "showlegend": true,
         "textposition": "auto",
         "type": "bar",
         "x": [
          2002,
          2003,
          2004,
          2005,
          2006,
          2007,
          2008,
          2009,
          2010
         ],
         "xaxis": "x",
         "y": [
          5,
          15,
          22,
          27,
          21,
          28,
          32,
          40,
          61
         ],
         "yaxis": "y"
        },
        {
         "alignmentgroup": "True",
         "hovertemplate": "Nombre=DERECHO CIV. Y COM.<br>Año=%{x}<br>cant=%{y}<extra></extra>",
         "legendgroup": "DERECHO CIV. Y COM.",
         "marker": {
          "color": "#636efa",
          "pattern": {
           "shape": ""
          }
         },
         "name": "DERECHO CIV. Y COM.",
         "offsetgroup": "DERECHO CIV. Y COM.",
         "orientation": "v",
         "showlegend": true,
         "textposition": "auto",
         "type": "bar",
         "x": [
          2003
         ],
         "xaxis": "x",
         "y": [
          16
         ],
         "yaxis": "y"
        },
        {
         "alignmentgroup": "True",
         "hovertemplate": "Nombre=PRODUCCIÓN TV II<br>Año=%{x}<br>cant=%{y}<extra></extra>",
         "legendgroup": "PRODUCCIÓN TV II",
         "marker": {
          "color": "#EF553B",
          "pattern": {
           "shape": ""
          }
         },
         "name": "PRODUCCIÓN TV II",
         "offsetgroup": "PRODUCCIÓN TV II",
         "orientation": "v",
         "showlegend": true,
         "textposition": "auto",
         "type": "bar",
         "x": [
          2001,
          2003
         ],
         "xaxis": "x",
         "y": [
          2,
          19
         ],
         "yaxis": "y"
        },
        {
         "alignmentgroup": "True",
         "hovertemplate": "Nombre=PROD. RADIAL<br>Año=%{x}<br>cant=%{y}<extra></extra>",
         "legendgroup": "PROD. RADIAL",
         "marker": {
          "color": "#00cc96",
          "pattern": {
           "shape": ""
          }
         },
         "name": "PROD. RADIAL",
         "offsetgroup": "PROD. RADIAL",
         "orientation": "v",
         "showlegend": true,
         "textposition": "auto",
         "type": "bar",
         "x": [
          2003
         ],
         "xaxis": "x",
         "y": [
          8
         ],
         "yaxis": "y"
        },
        {
         "alignmentgroup": "True",
         "hovertemplate": "Nombre=REDES Y COMUNICACIONES<br>Año=%{x}<br>cant=%{y}<extra></extra>",
         "legendgroup": "REDES Y COMUNICACIONES",
         "marker": {
          "color": "#ab63fa",
          "pattern": {
           "shape": ""
          }
         },
         "name": "REDES Y COMUNICACIONES",
         "offsetgroup": "REDES Y COMUNICACIONES",
         "orientation": "v",
         "showlegend": true,
         "textposition": "auto",
         "type": "bar",
         "x": [
          2002,
          2003,
          2004,
          2005,
          2006,
          2007,
          2008,
          2009,
          2010
         ],
         "xaxis": "x",
         "y": [
          16,
          15,
          25,
          27,
          33,
          32,
          42,
          38,
          28
         ],
         "yaxis": "y"
        },
        {
         "alignmentgroup": "True",
         "hovertemplate": "Nombre=COMUNICACIÓN INSTITUCIONAL<br>Año=%{x}<br>cant=%{y}<extra></extra>",
         "legendgroup": "COMUNICACIÓN INSTITUCIONAL",
         "marker": {
          "color": "#FFA15A",
          "pattern": {
           "shape": ""
          }
         },
         "name": "COMUNICACIÓN INSTITUCIONAL",
         "offsetgroup": "COMUNICACIÓN INSTITUCIONAL",
         "orientation": "v",
         "showlegend": true,
         "textposition": "auto",
         "type": "bar",
         "x": [
          2003,
          2004,
          2005,
          2006,
          2007,
          2008,
          2009,
          2010
         ],
         "xaxis": "x",
         "y": [
          7,
          35,
          26,
          62,
          38,
          74,
          79,
          60
         ],
         "yaxis": "y"
        },
        {
         "alignmentgroup": "True",
         "hovertemplate": "Nombre=PRÁCTICA CONTABLE<br>Año=%{x}<br>cant=%{y}<extra></extra>",
         "legendgroup": "PRÁCTICA CONTABLE",
         "marker": {
          "color": "#19d3f3",
          "pattern": {
           "shape": ""
          }
         },
         "name": "PRÁCTICA CONTABLE",
         "offsetgroup": "PRÁCTICA CONTABLE",
         "orientation": "v",
         "showlegend": true,
         "textposition": "auto",
         "type": "bar",
         "x": [
          2005,
          2006,
          2007,
          2008,
          2009,
          2010
         ],
         "xaxis": "x",
         "y": [
          8,
          18,
          10,
          15,
          19,
          16
         ],
         "yaxis": "y"
        },
        {
         "alignmentgroup": "True",
         "hovertemplate": "Nombre=RÉGIMEN TRIBUTARIO I<br>Año=%{x}<br>cant=%{y}<extra></extra>",
         "legendgroup": "RÉGIMEN TRIBUTARIO I",
         "marker": {
          "color": "#FF6692",
          "pattern": {
           "shape": ""
          }
         },
         "name": "RÉGIMEN TRIBUTARIO I",
         "offsetgroup": "RÉGIMEN TRIBUTARIO I",
         "orientation": "v",
         "showlegend": true,
         "textposition": "auto",
         "type": "bar",
         "x": [
          2002,
          2003,
          2004,
          2005,
          2006,
          2007,
          2008,
          2009,
          2010
         ],
         "xaxis": "x",
         "y": [
          1,
          4,
          2,
          1,
          10,
          17,
          7,
          10,
          12
         ],
         "yaxis": "y"
        },
        {
         "alignmentgroup": "True",
         "hovertemplate": "Nombre=RÉGIMEN TRIBUTARIO II<br>Año=%{x}<br>cant=%{y}<extra></extra>",
         "legendgroup": "RÉGIMEN TRIBUTARIO II",
         "marker": {
          "color": "#B6E880",
          "pattern": {
           "shape": ""
          }
         },
         "name": "RÉGIMEN TRIBUTARIO II",
         "offsetgroup": "RÉGIMEN TRIBUTARIO II",
         "orientation": "v",
         "showlegend": true,
         "textposition": "auto",
         "type": "bar",
         "x": [
          2004,
          2005,
          2006,
          2007,
          2008,
          2009,
          2010
         ],
         "xaxis": "x",
         "y": [
          2,
          1,
          9,
          11,
          6,
          11,
          9
         ],
         "yaxis": "y"
        },
        {
         "alignmentgroup": "True",
         "hovertemplate": "Nombre=TÉCNICAS DE INVESTIGACIÓN SOCIAL I<br>Año=%{x}<br>cant=%{y}<extra></extra>",
         "legendgroup": "TÉCNICAS DE INVESTIGACIÓN SOCIAL I",
         "marker": {
          "color": "#FF97FF",
          "pattern": {
           "shape": ""
          }
         },
         "name": "TÉCNICAS DE INVESTIGACIÓN SOCIAL I",
         "offsetgroup": "TÉCNICAS DE INVESTIGACIÓN SOCIAL I",
         "orientation": "v",
         "showlegend": true,
         "textposition": "auto",
         "type": "bar",
         "x": [
          2001,
          2003,
          2004,
          2005,
          2006,
          2007,
          2008,
          2009,
          2010
         ],
         "xaxis": "x",
         "y": [
          1,
          9,
          18,
          18,
          25,
          24,
          31,
          21,
          15
         ],
         "yaxis": "y"
        },
        {
         "alignmentgroup": "True",
         "hovertemplate": "Nombre=DISEÑOMÁTICA MULTIMEDIAL I<br>Año=%{x}<br>cant=%{y}<extra></extra>",
         "legendgroup": "DISEÑOMÁTICA MULTIMEDIAL I",
         "marker": {
          "color": "#FECB52",
          "pattern": {
           "shape": ""
          }
         },
         "name": "DISEÑOMÁTICA MULTIMEDIAL I",
         "offsetgroup": "DISEÑOMÁTICA MULTIMEDIAL I",
         "orientation": "v",
         "showlegend": true,
         "textposition": "auto",
         "type": "bar",
         "x": [
          2005,
          2006,
          2007,
          2008,
          2009,
          2010
         ],
         "xaxis": "x",
         "y": [
          17,
          38,
          26,
          32,
          27,
          33
         ],
         "yaxis": "y"
        },
        {
         "alignmentgroup": "True",
         "hovertemplate": "Nombre=DISEÑOMÁTICA MULTIMEDIAL II<br>Año=%{x}<br>cant=%{y}<extra></extra>",
         "legendgroup": "DISEÑOMÁTICA MULTIMEDIAL II",
         "marker": {
          "color": "#636efa",
          "pattern": {
           "shape": ""
          }
         },
         "name": "DISEÑOMÁTICA MULTIMEDIAL II",
         "offsetgroup": "DISEÑOMÁTICA MULTIMEDIAL II",
         "orientation": "v",
         "showlegend": true,
         "textposition": "auto",
         "type": "bar",
         "x": [
          2005,
          2006,
          2007,
          2008,
          2009,
          2010
         ],
         "xaxis": "x",
         "y": [
          23,
          30,
          26,
          26,
          23,
          30
         ],
         "yaxis": "y"
        },
        {
         "alignmentgroup": "True",
         "hovertemplate": "Nombre=DISEÑOMÁTICA MULTIMEDIAL III<br>Año=%{x}<br>cant=%{y}<extra></extra>",
         "legendgroup": "DISEÑOMÁTICA MULTIMEDIAL III",
         "marker": {
          "color": "#EF553B",
          "pattern": {
           "shape": ""
          }
         },
         "name": "DISEÑOMÁTICA MULTIMEDIAL III",
         "offsetgroup": "DISEÑOMÁTICA MULTIMEDIAL III",
         "orientation": "v",
         "showlegend": true,
         "textposition": "auto",
         "type": "bar",
         "x": [
          2005,
          2006,
          2007,
          2008,
          2009,
          2010
         ],
         "xaxis": "x",
         "y": [
          13,
          15,
          26,
          18,
          30,
          21
         ],
         "yaxis": "y"
        },
        {
         "alignmentgroup": "True",
         "hovertemplate": "Nombre=HIGIENE Y SEGURIDAD EN EL TRABAJO<br>Año=%{x}<br>cant=%{y}<extra></extra>",
         "legendgroup": "HIGIENE Y SEGURIDAD EN EL TRABAJO",
         "marker": {
          "color": "#00cc96",
          "pattern": {
           "shape": ""
          }
         },
         "name": "HIGIENE Y SEGURIDAD EN EL TRABAJO",
         "offsetgroup": "HIGIENE Y SEGURIDAD EN EL TRABAJO",
         "orientation": "v",
         "showlegend": true,
         "textposition": "auto",
         "type": "bar",
         "x": [
          2006,
          2007
         ],
         "xaxis": "x",
         "y": [
          1,
          1
         ],
         "yaxis": "y"
        },
        {
         "alignmentgroup": "True",
         "hovertemplate": "Nombre=TERRITORIO Y PLANIFICACIÓN AMBIENTAL<br>Año=%{x}<br>cant=%{y}<extra></extra>",
         "legendgroup": "TERRITORIO Y PLANIFICACIÓN AMBIENTAL",
         "marker": {
          "color": "#ab63fa",
          "pattern": {
           "shape": ""
          }
         },
         "name": "TERRITORIO Y PLANIFICACIÓN AMBIENTAL",
         "offsetgroup": "TERRITORIO Y PLANIFICACIÓN AMBIENTAL",
         "orientation": "v",
         "showlegend": true,
         "textposition": "auto",
         "type": "bar",
         "x": [
          2008,
          2010
         ],
         "xaxis": "x",
         "y": [
          1,
          7
         ],
         "yaxis": "y"
        },
        {
         "alignmentgroup": "True",
         "hovertemplate": "Nombre=EXPRESIÓN ORAL Y ESCRITA<br>Año=%{x}<br>cant=%{y}<extra></extra>",
         "legendgroup": "EXPRESIÓN ORAL Y ESCRITA",
         "marker": {
          "color": "#FFA15A",
          "pattern": {
           "shape": ""
          }
         },
         "name": "EXPRESIÓN ORAL Y ESCRITA",
         "offsetgroup": "EXPRESIÓN ORAL Y ESCRITA",
         "orientation": "v",
         "showlegend": true,
         "textposition": "auto",
         "type": "bar",
         "x": [
          2001,
          2002,
          2003,
          2004,
          2005,
          2006,
          2007,
          2008,
          2009,
          2010
         ],
         "xaxis": "x",
         "y": [
          1,
          2,
          26,
          60,
          73,
          85,
          33,
          95,
          93,
          92
         ],
         "yaxis": "y"
        },
        {
         "alignmentgroup": "True",
         "hovertemplate": "Nombre=PROGRAMACIÓN WEB<br>Año=%{x}<br>cant=%{y}<extra></extra>",
         "legendgroup": "PROGRAMACIÓN WEB",
         "marker": {
          "color": "#19d3f3",
          "pattern": {
           "shape": ""
          }
         },
         "name": "PROGRAMACIÓN WEB",
         "offsetgroup": "PROGRAMACIÓN WEB",
         "orientation": "v",
         "showlegend": true,
         "textposition": "auto",
         "type": "bar",
         "x": [
          2006,
          2007,
          2008,
          2009,
          2010
         ],
         "xaxis": "x",
         "y": [
          2,
          32,
          25,
          30,
          25
         ],
         "yaxis": "y"
        },
        {
         "alignmentgroup": "True",
         "hovertemplate": "Nombre=SISTEMAS ECOLÓGICOS<br>Año=%{x}<br>cant=%{y}<extra></extra>",
         "legendgroup": "SISTEMAS ECOLÓGICOS",
         "marker": {
          "color": "#FF6692",
          "pattern": {
           "shape": ""
          }
         },
         "name": "SISTEMAS ECOLÓGICOS",
         "offsetgroup": "SISTEMAS ECOLÓGICOS",
         "orientation": "v",
         "showlegend": true,
         "textposition": "auto",
         "type": "bar",
         "x": [
          2009,
          2010
         ],
         "xaxis": "x",
         "y": [
          12,
          27
         ],
         "yaxis": "y"
        },
        {
         "alignmentgroup": "True",
         "hovertemplate": "Nombre=PROCESOS AMBIENTALES<br>Año=%{x}<br>cant=%{y}<extra></extra>",
         "legendgroup": "PROCESOS AMBIENTALES",
         "marker": {
          "color": "#B6E880",
          "pattern": {
           "shape": ""
          }
         },
         "name": "PROCESOS AMBIENTALES",
         "offsetgroup": "PROCESOS AMBIENTALES",
         "orientation": "v",
         "showlegend": true,
         "textposition": "auto",
         "type": "bar",
         "x": [
          2009,
          2010
         ],
         "xaxis": "x",
         "y": [
          13,
          23
         ],
         "yaxis": "y"
        },
        {
         "alignmentgroup": "True",
         "hovertemplate": "Nombre=SEMINARIO EN PRÁCTICA EN SISTEMAS ECOLÓGICOS<br>Año=%{x}<br>cant=%{y}<extra></extra>",
         "legendgroup": "SEMINARIO EN PRÁCTICA EN SISTEMAS ECOLÓGICOS",
         "marker": {
          "color": "#FF97FF",
          "pattern": {
           "shape": ""
          }
         },
         "name": "SEMINARIO EN PRÁCTICA EN SISTEMAS ECOLÓGICOS",
         "offsetgroup": "SEMINARIO EN PRÁCTICA EN SISTEMAS ECOLÓGICOS",
         "orientation": "v",
         "showlegend": true,
         "textposition": "auto",
         "type": "bar",
         "x": [
          2009,
          2010
         ],
         "xaxis": "x",
         "y": [
          8,
          20
         ],
         "yaxis": "y"
        },
        {
         "alignmentgroup": "True",
         "hovertemplate": "Nombre=MONITOREO AMBIENTAL<br>Año=%{x}<br>cant=%{y}<extra></extra>",
         "legendgroup": "MONITOREO AMBIENTAL",
         "marker": {
          "color": "#FECB52",
          "pattern": {
           "shape": ""
          }
         },
         "name": "MONITOREO AMBIENTAL",
         "offsetgroup": "MONITOREO AMBIENTAL",
         "orientation": "v",
         "showlegend": true,
         "textposition": "auto",
         "type": "bar",
         "x": [
          2010
         ],
         "xaxis": "x",
         "y": [
          7
         ],
         "yaxis": "y"
        },
        {
         "alignmentgroup": "True",
         "hovertemplate": "Nombre=RESIDUOS SÓLIDOS<br>Año=%{x}<br>cant=%{y}<extra></extra>",
         "legendgroup": "RESIDUOS SÓLIDOS",
         "marker": {
          "color": "#636efa",
          "pattern": {
           "shape": ""
          }
         },
         "name": "RESIDUOS SÓLIDOS",
         "offsetgroup": "RESIDUOS SÓLIDOS",
         "orientation": "v",
         "showlegend": true,
         "textposition": "auto",
         "type": "bar",
         "x": [
          2010
         ],
         "xaxis": "x",
         "y": [
          7
         ],
         "yaxis": "y"
        },
        {
         "alignmentgroup": "True",
         "hovertemplate": "Nombre=SISTEMA DE GESTIÓN AMBIENTAL I<br>Año=%{x}<br>cant=%{y}<extra></extra>",
         "legendgroup": "SISTEMA DE GESTIÓN AMBIENTAL I",
         "marker": {
          "color": "#EF553B",
          "pattern": {
           "shape": ""
          }
         },
         "name": "SISTEMA DE GESTIÓN AMBIENTAL I",
         "offsetgroup": "SISTEMA DE GESTIÓN AMBIENTAL I",
         "orientation": "v",
         "showlegend": true,
         "textposition": "auto",
         "type": "bar",
         "x": [
          2010
         ],
         "xaxis": "x",
         "y": [
          7
         ],
         "yaxis": "y"
        },
        {
         "alignmentgroup": "True",
         "hovertemplate": "Nombre=SEMINARIO DE PRÁCTICA DE PLANIFICACIÓN<br>Año=%{x}<br>cant=%{y}<extra></extra>",
         "legendgroup": "SEMINARIO DE PRÁCTICA DE PLANIFICACIÓN",
         "marker": {
          "color": "#00cc96",
          "pattern": {
           "shape": ""
          }
         },
         "name": "SEMINARIO DE PRÁCTICA DE PLANIFICACIÓN",
         "offsetgroup": "SEMINARIO DE PRÁCTICA DE PLANIFICACIÓN",
         "orientation": "v",
         "showlegend": true,
         "textposition": "auto",
         "type": "bar",
         "x": [
          2010
         ],
         "xaxis": "x",
         "y": [
          5
         ],
         "yaxis": "y"
        },
        {
         "alignmentgroup": "True",
         "hovertemplate": "Nombre=GESTIÓN DE LOS RECURSOS NATURALES<br>Año=%{x}<br>cant=%{y}<extra></extra>",
         "legendgroup": "GESTIÓN DE LOS RECURSOS NATURALES",
         "marker": {
          "color": "#ab63fa",
          "pattern": {
           "shape": ""
          }
         },
         "name": "GESTIÓN DE LOS RECURSOS NATURALES",
         "offsetgroup": "GESTIÓN DE LOS RECURSOS NATURALES",
         "orientation": "v",
         "showlegend": true,
         "textposition": "auto",
         "type": "bar",
         "x": [
          2009,
          2010
         ],
         "xaxis": "x",
         "y": [
          13,
          29
         ],
         "yaxis": "y"
        },
        {
         "alignmentgroup": "True",
         "hovertemplate": "Nombre=PRODUCCIÓN AUDIOVISUAL I<br>Año=%{x}<br>cant=%{y}<extra></extra>",
         "legendgroup": "PRODUCCIÓN AUDIOVISUAL I",
         "marker": {
          "color": "#FFA15A",
          "pattern": {
           "shape": ""
          }
         },
         "name": "PRODUCCIÓN AUDIOVISUAL I",
         "offsetgroup": "PRODUCCIÓN AUDIOVISUAL I",
         "orientation": "v",
         "showlegend": true,
         "textposition": "auto",
         "type": "bar",
         "x": [
          2009,
          2010
         ],
         "xaxis": "x",
         "y": [
          1,
          8
         ],
         "yaxis": "y"
        },
        {
         "alignmentgroup": "True",
         "hovertemplate": "Nombre=PRODUCCIÓN AUDIOVISUAL II<br>Año=%{x}<br>cant=%{y}<extra></extra>",
         "legendgroup": "PRODUCCIÓN AUDIOVISUAL II",
         "marker": {
          "color": "#19d3f3",
          "pattern": {
           "shape": ""
          }
         },
         "name": "PRODUCCIÓN AUDIOVISUAL II",
         "offsetgroup": "PRODUCCIÓN AUDIOVISUAL II",
         "orientation": "v",
         "showlegend": true,
         "textposition": "auto",
         "type": "bar",
         "x": [
          2007,
          2008,
          2009,
          2010
         ],
         "xaxis": "x",
         "y": [
          2,
          3,
          3,
          20
         ],
         "yaxis": "y"
        },
        {
         "alignmentgroup": "True",
         "hovertemplate": "Nombre=REDACCIÓN PUBLICITARIA<br>Año=%{x}<br>cant=%{y}<extra></extra>",
         "legendgroup": "REDACCIÓN PUBLICITARIA",
         "marker": {
          "color": "#FF6692",
          "pattern": {
           "shape": ""
          }
         },
         "name": "REDACCIÓN PUBLICITARIA",
         "offsetgroup": "REDACCIÓN PUBLICITARIA",
         "orientation": "v",
         "showlegend": true,
         "textposition": "auto",
         "type": "bar",
         "x": [
          2010
         ],
         "xaxis": "x",
         "y": [
          7
         ],
         "yaxis": "y"
        },
        {
         "alignmentgroup": "True",
         "hovertemplate": "Nombre=DIRECCIÓN DE CUENTAS<br>Año=%{x}<br>cant=%{y}<extra></extra>",
         "legendgroup": "DIRECCIÓN DE CUENTAS",
         "marker": {
          "color": "#B6E880",
          "pattern": {
           "shape": ""
          }
         },
         "name": "DIRECCIÓN DE CUENTAS",
         "offsetgroup": "DIRECCIÓN DE CUENTAS",
         "orientation": "v",
         "showlegend": true,
         "textposition": "auto",
         "type": "bar",
         "x": [
          2009,
          2010
         ],
         "xaxis": "x",
         "y": [
          1,
          10
         ],
         "yaxis": "y"
        }
       ],
       "layout": {
        "barmode": "relative",
        "legend": {
         "title": {
          "text": "Nombre"
         },
         "tracegroupgap": 0
        },
        "template": {
         "data": {
          "bar": [
           {
            "error_x": {
             "color": "#2a3f5f"
            },
            "error_y": {
             "color": "#2a3f5f"
            },
            "marker": {
             "line": {
              "color": "#E5ECF6",
              "width": 0.5
             },
             "pattern": {
              "fillmode": "overlay",
              "size": 10,
              "solidity": 0.2
             }
            },
            "type": "bar"
           }
          ],
          "barpolar": [
           {
            "marker": {
             "line": {
              "color": "#E5ECF6",
              "width": 0.5
             },
             "pattern": {
              "fillmode": "overlay",
              "size": 10,
              "solidity": 0.2
             }
            },
            "type": "barpolar"
           }
          ],
          "carpet": [
           {
            "aaxis": {
             "endlinecolor": "#2a3f5f",
             "gridcolor": "white",
             "linecolor": "white",
             "minorgridcolor": "white",
             "startlinecolor": "#2a3f5f"
            },
            "baxis": {
             "endlinecolor": "#2a3f5f",
             "gridcolor": "white",
             "linecolor": "white",
             "minorgridcolor": "white",
             "startlinecolor": "#2a3f5f"
            },
            "type": "carpet"
           }
          ],
          "choropleth": [
           {
            "colorbar": {
             "outlinewidth": 0,
             "ticks": ""
            },
            "type": "choropleth"
           }
          ],
          "contour": [
           {
            "colorbar": {
             "outlinewidth": 0,
             "ticks": ""
            },
            "colorscale": [
             [
              0,
              "#0d0887"
             ],
             [
              0.1111111111111111,
              "#46039f"
             ],
             [
              0.2222222222222222,
              "#7201a8"
             ],
             [
              0.3333333333333333,
              "#9c179e"
             ],
             [
              0.4444444444444444,
              "#bd3786"
             ],
             [
              0.5555555555555556,
              "#d8576b"
             ],
             [
              0.6666666666666666,
              "#ed7953"
             ],
             [
              0.7777777777777778,
              "#fb9f3a"
             ],
             [
              0.8888888888888888,
              "#fdca26"
             ],
             [
              1,
              "#f0f921"
             ]
            ],
            "type": "contour"
           }
          ],
          "contourcarpet": [
           {
            "colorbar": {
             "outlinewidth": 0,
             "ticks": ""
            },
            "type": "contourcarpet"
           }
          ],
          "heatmap": [
           {
            "colorbar": {
             "outlinewidth": 0,
             "ticks": ""
            },
            "colorscale": [
             [
              0,
              "#0d0887"
             ],
             [
              0.1111111111111111,
              "#46039f"
             ],
             [
              0.2222222222222222,
              "#7201a8"
             ],
             [
              0.3333333333333333,
              "#9c179e"
             ],
             [
              0.4444444444444444,
              "#bd3786"
             ],
             [
              0.5555555555555556,
              "#d8576b"
             ],
             [
              0.6666666666666666,
              "#ed7953"
             ],
             [
              0.7777777777777778,
              "#fb9f3a"
             ],
             [
              0.8888888888888888,
              "#fdca26"
             ],
             [
              1,
              "#f0f921"
             ]
            ],
            "type": "heatmap"
           }
          ],
          "heatmapgl": [
           {
            "colorbar": {
             "outlinewidth": 0,
             "ticks": ""
            },
            "colorscale": [
             [
              0,
              "#0d0887"
             ],
             [
              0.1111111111111111,
              "#46039f"
             ],
             [
              0.2222222222222222,
              "#7201a8"
             ],
             [
              0.3333333333333333,
              "#9c179e"
             ],
             [
              0.4444444444444444,
              "#bd3786"
             ],
             [
              0.5555555555555556,
              "#d8576b"
             ],
             [
              0.6666666666666666,
              "#ed7953"
             ],
             [
              0.7777777777777778,
              "#fb9f3a"
             ],
             [
              0.8888888888888888,
              "#fdca26"
             ],
             [
              1,
              "#f0f921"
             ]
            ],
            "type": "heatmapgl"
           }
          ],
          "histogram": [
           {
            "marker": {
             "pattern": {
              "fillmode": "overlay",
              "size": 10,
              "solidity": 0.2
             }
            },
            "type": "histogram"
           }
          ],
          "histogram2d": [
           {
            "colorbar": {
             "outlinewidth": 0,
             "ticks": ""
            },
            "colorscale": [
             [
              0,
              "#0d0887"
             ],
             [
              0.1111111111111111,
              "#46039f"
             ],
             [
              0.2222222222222222,
              "#7201a8"
             ],
             [
              0.3333333333333333,
              "#9c179e"
             ],
             [
              0.4444444444444444,
              "#bd3786"
             ],
             [
              0.5555555555555556,
              "#d8576b"
             ],
             [
              0.6666666666666666,
              "#ed7953"
             ],
             [
              0.7777777777777778,
              "#fb9f3a"
             ],
             [
              0.8888888888888888,
              "#fdca26"
             ],
             [
              1,
              "#f0f921"
             ]
            ],
            "type": "histogram2d"
           }
          ],
          "histogram2dcontour": [
           {
            "colorbar": {
             "outlinewidth": 0,
             "ticks": ""
            },
            "colorscale": [
             [
              0,
              "#0d0887"
             ],
             [
              0.1111111111111111,
              "#46039f"
             ],
             [
              0.2222222222222222,
              "#7201a8"
             ],
             [
              0.3333333333333333,
              "#9c179e"
             ],
             [
              0.4444444444444444,
              "#bd3786"
             ],
             [
              0.5555555555555556,
              "#d8576b"
             ],
             [
              0.6666666666666666,
              "#ed7953"
             ],
             [
              0.7777777777777778,
              "#fb9f3a"
             ],
             [
              0.8888888888888888,
              "#fdca26"
             ],
             [
              1,
              "#f0f921"
             ]
            ],
            "type": "histogram2dcontour"
           }
          ],
          "mesh3d": [
           {
            "colorbar": {
             "outlinewidth": 0,
             "ticks": ""
            },
            "type": "mesh3d"
           }
          ],
          "parcoords": [
           {
            "line": {
             "colorbar": {
              "outlinewidth": 0,
              "ticks": ""
             }
            },
            "type": "parcoords"
           }
          ],
          "pie": [
           {
            "automargin": true,
            "type": "pie"
           }
          ],
          "scatter": [
           {
            "fillpattern": {
             "fillmode": "overlay",
             "size": 10,
             "solidity": 0.2
            },
            "type": "scatter"
           }
          ],
          "scatter3d": [
           {
            "line": {
             "colorbar": {
              "outlinewidth": 0,
              "ticks": ""
             }
            },
            "marker": {
             "colorbar": {
              "outlinewidth": 0,
              "ticks": ""
             }
            },
            "type": "scatter3d"
           }
          ],
          "scattercarpet": [
           {
            "marker": {
             "colorbar": {
              "outlinewidth": 0,
              "ticks": ""
             }
            },
            "type": "scattercarpet"
           }
          ],
          "scattergeo": [
           {
            "marker": {
             "colorbar": {
              "outlinewidth": 0,
              "ticks": ""
             }
            },
            "type": "scattergeo"
           }
          ],
          "scattergl": [
           {
            "marker": {
             "colorbar": {
              "outlinewidth": 0,
              "ticks": ""
             }
            },
            "type": "scattergl"
           }
          ],
          "scattermapbox": [
           {
            "marker": {
             "colorbar": {
              "outlinewidth": 0,
              "ticks": ""
             }
            },
            "type": "scattermapbox"
           }
          ],
          "scatterpolar": [
           {
            "marker": {
             "colorbar": {
              "outlinewidth": 0,
              "ticks": ""
             }
            },
            "type": "scatterpolar"
           }
          ],
          "scatterpolargl": [
           {
            "marker": {
             "colorbar": {
              "outlinewidth": 0,
              "ticks": ""
             }
            },
            "type": "scatterpolargl"
           }
          ],
          "scatterternary": [
           {
            "marker": {
             "colorbar": {
              "outlinewidth": 0,
              "ticks": ""
             }
            },
            "type": "scatterternary"
           }
          ],
          "surface": [
           {
            "colorbar": {
             "outlinewidth": 0,
             "ticks": ""
            },
            "colorscale": [
             [
              0,
              "#0d0887"
             ],
             [
              0.1111111111111111,
              "#46039f"
             ],
             [
              0.2222222222222222,
              "#7201a8"
             ],
             [
              0.3333333333333333,
              "#9c179e"
             ],
             [
              0.4444444444444444,
              "#bd3786"
             ],
             [
              0.5555555555555556,
              "#d8576b"
             ],
             [
              0.6666666666666666,
              "#ed7953"
             ],
             [
              0.7777777777777778,
              "#fb9f3a"
             ],
             [
              0.8888888888888888,
              "#fdca26"
             ],
             [
              1,
              "#f0f921"
             ]
            ],
            "type": "surface"
           }
          ],
          "table": [
           {
            "cells": {
             "fill": {
              "color": "#EBF0F8"
             },
             "line": {
              "color": "white"
             }
            },
            "header": {
             "fill": {
              "color": "#C8D4E3"
             },
             "line": {
              "color": "white"
             }
            },
            "type": "table"
           }
          ]
         },
         "layout": {
          "annotationdefaults": {
           "arrowcolor": "#2a3f5f",
           "arrowhead": 0,
           "arrowwidth": 1
          },
          "autotypenumbers": "strict",
          "coloraxis": {
           "colorbar": {
            "outlinewidth": 0,
            "ticks": ""
           }
          },
          "colorscale": {
           "diverging": [
            [
             0,
             "#8e0152"
            ],
            [
             0.1,
             "#c51b7d"
            ],
            [
             0.2,
             "#de77ae"
            ],
            [
             0.3,
             "#f1b6da"
            ],
            [
             0.4,
             "#fde0ef"
            ],
            [
             0.5,
             "#f7f7f7"
            ],
            [
             0.6,
             "#e6f5d0"
            ],
            [
             0.7,
             "#b8e186"
            ],
            [
             0.8,
             "#7fbc41"
            ],
            [
             0.9,
             "#4d9221"
            ],
            [
             1,
             "#276419"
            ]
           ],
           "sequential": [
            [
             0,
             "#0d0887"
            ],
            [
             0.1111111111111111,
             "#46039f"
            ],
            [
             0.2222222222222222,
             "#7201a8"
            ],
            [
             0.3333333333333333,
             "#9c179e"
            ],
            [
             0.4444444444444444,
             "#bd3786"
            ],
            [
             0.5555555555555556,
             "#d8576b"
            ],
            [
             0.6666666666666666,
             "#ed7953"
            ],
            [
             0.7777777777777778,
             "#fb9f3a"
            ],
            [
             0.8888888888888888,
             "#fdca26"
            ],
            [
             1,
             "#f0f921"
            ]
           ],
           "sequentialminus": [
            [
             0,
             "#0d0887"
            ],
            [
             0.1111111111111111,
             "#46039f"
            ],
            [
             0.2222222222222222,
             "#7201a8"
            ],
            [
             0.3333333333333333,
             "#9c179e"
            ],
            [
             0.4444444444444444,
             "#bd3786"
            ],
            [
             0.5555555555555556,
             "#d8576b"
            ],
            [
             0.6666666666666666,
             "#ed7953"
            ],
            [
             0.7777777777777778,
             "#fb9f3a"
            ],
            [
             0.8888888888888888,
             "#fdca26"
            ],
            [
             1,
             "#f0f921"
            ]
           ]
          },
          "colorway": [
           "#636efa",
           "#EF553B",
           "#00cc96",
           "#ab63fa",
           "#FFA15A",
           "#19d3f3",
           "#FF6692",
           "#B6E880",
           "#FF97FF",
           "#FECB52"
          ],
          "font": {
           "color": "#2a3f5f"
          },
          "geo": {
           "bgcolor": "white",
           "lakecolor": "white",
           "landcolor": "#E5ECF6",
           "showlakes": true,
           "showland": true,
           "subunitcolor": "white"
          },
          "hoverlabel": {
           "align": "left"
          },
          "hovermode": "closest",
          "mapbox": {
           "style": "light"
          },
          "paper_bgcolor": "white",
          "plot_bgcolor": "#E5ECF6",
          "polar": {
           "angularaxis": {
            "gridcolor": "white",
            "linecolor": "white",
            "ticks": ""
           },
           "bgcolor": "#E5ECF6",
           "radialaxis": {
            "gridcolor": "white",
            "linecolor": "white",
            "ticks": ""
           }
          },
          "scene": {
           "xaxis": {
            "backgroundcolor": "#E5ECF6",
            "gridcolor": "white",
            "gridwidth": 2,
            "linecolor": "white",
            "showbackground": true,
            "ticks": "",
            "zerolinecolor": "white"
           },
           "yaxis": {
            "backgroundcolor": "#E5ECF6",
            "gridcolor": "white",
            "gridwidth": 2,
            "linecolor": "white",
            "showbackground": true,
            "ticks": "",
            "zerolinecolor": "white"
           },
           "zaxis": {
            "backgroundcolor": "#E5ECF6",
            "gridcolor": "white",
            "gridwidth": 2,
            "linecolor": "white",
            "showbackground": true,
            "ticks": "",
            "zerolinecolor": "white"
           }
          },
          "shapedefaults": {
           "line": {
            "color": "#2a3f5f"
           }
          },
          "ternary": {
           "aaxis": {
            "gridcolor": "white",
            "linecolor": "white",
            "ticks": ""
           },
           "baxis": {
            "gridcolor": "white",
            "linecolor": "white",
            "ticks": ""
           },
           "bgcolor": "#E5ECF6",
           "caxis": {
            "gridcolor": "white",
            "linecolor": "white",
            "ticks": ""
           }
          },
          "title": {
           "x": 0.05
          },
          "xaxis": {
           "automargin": true,
           "gridcolor": "white",
           "linecolor": "white",
           "ticks": "",
           "title": {
            "standoff": 15
           },
           "zerolinecolor": "white",
           "zerolinewidth": 2
          },
          "yaxis": {
           "automargin": true,
           "gridcolor": "white",
           "linecolor": "white",
           "ticks": "",
           "title": {
            "standoff": 15
           },
           "zerolinecolor": "white",
           "zerolinewidth": 2
          }
         }
        },
        "title": {
         "text": "Total Alumnos x Materia"
        },
        "xaxis": {
         "anchor": "y",
         "domain": [
          0,
          1
         ],
         "title": {
          "text": "Año"
         }
        },
        "yaxis": {
         "anchor": "x",
         "domain": [
          0,
          1
         ],
         "title": {
          "text": "cant"
         }
        }
       }
      }
     },
     "metadata": {},
     "output_type": "display_data"
    }
   ],
   "source": [
    "Graf_R = df_AluMateria_R.groupby(['Id_Materia','Año'])['Tipo'].count().reset_index(name='cant')\n",
    "Graf_R = pd.merge(Graf_R,\n",
    "                df_Materias[['Id_Materia','Nombre']],\n",
    "                how='inner',\n",
    "                on=['Id_Materia'])\n",
    "px.bar(Graf_R, x='Año',y='cant', color='Nombre', \n",
    "        title='Total Alumnos x Materia')\n"
   ]
  },
  {
   "attachments": {},
   "cell_type": "markdown",
   "metadata": {},
   "source": [
    "#### Aca buscaba determinar si habia una materia en especifico que haga que los alumnos deserten, pero no supe como hacerlo."
   ]
  },
  {
   "attachments": {},
   "cell_type": "markdown",
   "metadata": {},
   "source": [
    "# ML"
   ]
  },
  {
   "attachments": {},
   "cell_type": "markdown",
   "metadata": {},
   "source": [
    "### Creo los DF que voy a usar en el modelo"
   ]
  },
  {
   "cell_type": "code",
   "execution_count": 29,
   "metadata": {},
   "outputs": [],
   "source": [
    "#Separo en semestre 1 y 2 el Data set\n",
    "df_AluMateria_1D = df_AluMateria[(df_AluMateria['Semestre']==1) & (df_AluMateria['Estado']=='Desertor')]\n",
    "df_AluMateria_2D = df_AluMateria[(df_AluMateria['Semestre']==2) & (df_AluMateria['Estado']=='Desertor')]\n",
    "df_AluMateria_1E = df_AluMateria[(df_AluMateria['Semestre']==1) & (df_AluMateria['Estado']=='Egresado')]\n",
    "df_AluMateria_2E = df_AluMateria[(df_AluMateria['Semestre']==2) & (df_AluMateria['Estado']=='Egresado')]\n",
    "df_AluMateria_TE = df_AluMateria[(df_AluMateria['Estado']=='Egresado')]\n",
    "df_AluMateria_TD = df_AluMateria[(df_AluMateria['Estado']=='Desertor')]"
   ]
  },
  {
   "cell_type": "code",
   "execution_count": 30,
   "metadata": {},
   "outputs": [],
   "source": [
    "#Elimino las columnas que no me sirven de los Data Sets\n",
    "df_AluMateria_2D = df_AluMateria_2D.drop(['Id_Materia','Fecha_Inscrip','Ctro_Ext','Id_Modalidad','Id_Comision','Nota_1p','Fecha_2p','Fecha_1p','Nota_2p','Fecha_Recup','Cuatrimestres','Nota_TP','Fecha_TP','Nota_Recup','Cuatrimestre','Tipo','Condicion','Estado','Semestre'],axis=1)\n",
    "df_AluMateria_1D = df_AluMateria_1D.drop(['Id_Materia','Fecha_Inscrip','Ctro_Ext','Id_Modalidad','Id_Comision','Nota_1p','Fecha_2p','Fecha_1p','Nota_2p','Fecha_Recup','Cuatrimestres','Nota_TP','Fecha_TP','Nota_Recup','Cuatrimestre','Tipo','Condicion','Estado','Semestre'],axis=1)\n",
    "df_AluMateria_1E = df_AluMateria_1E.drop(['Id_Materia','Fecha_Inscrip','Ctro_Ext','Id_Modalidad','Id_Comision','Nota_1p','Fecha_2p','Fecha_1p','Nota_2p','Fecha_Recup','Cuatrimestres','Nota_TP','Fecha_TP','Nota_Recup','Cuatrimestre','Tipo','Condicion','Estado','Semestre'],axis=1)\n",
    "df_AluMateria_2E = df_AluMateria_2E.drop(['Id_Materia','Fecha_Inscrip','Ctro_Ext','Id_Modalidad','Id_Comision','Nota_1p','Fecha_2p','Fecha_1p','Nota_2p','Fecha_Recup','Cuatrimestres','Nota_TP','Fecha_TP','Nota_Recup','Cuatrimestre','Tipo','Condicion','Estado','Semestre'],axis=1)\n",
    "df_AluMateria_TE = df_AluMateria_TE.drop(['Id_Materia','Fecha_Inscrip','Ctro_Ext','Id_Modalidad','Id_Comision','Nota_1p','Fecha_2p','Fecha_1p','Nota_2p','Fecha_Recup','Cuatrimestres','Nota_TP','Fecha_TP','Nota_Recup','Cuatrimestre','Tipo','Condicion','Estado','Semestre','Id_Carrera'],axis=1)\n",
    "df_AluMateria_TD = df_AluMateria_TD.drop(['Id_Materia','Fecha_Inscrip','Ctro_Ext','Id_Modalidad','Id_Comision','Nota_1p','Fecha_2p','Fecha_1p','Nota_2p','Fecha_Recup','Cuatrimestres','Nota_TP','Fecha_TP','Nota_Recup','Cuatrimestre','Tipo','Condicion','Estado','Semestre','Id_Carrera'],axis=1)"
   ]
  },
  {
   "cell_type": "code",
   "execution_count": 31,
   "metadata": {},
   "outputs": [],
   "source": [
    "#Finalmente Creo los Data set que me van a servir para entrenar el modelo los diferencie entre semestre y egresado o desertor\n",
    "df_ML1D = df_AluMateria_1D.groupby(['Id_Carrera','Año'])['Id_Alumno'].count().reset_index(name='Cantidad')\n",
    "df_ML2D = df_AluMateria_2D.groupby(['Id_Carrera','Año'])['Id_Alumno'].count().reset_index(name='Cantidad')\n",
    "df_ML1E = df_AluMateria_1E.groupby(['Id_Carrera','Año'])['Id_Alumno'].count().reset_index(name='Cantidad')\n",
    "df_ML2E = df_AluMateria_2E.groupby(['Id_Carrera','Año'])['Id_Alumno'].count().reset_index(name='Cantidad')\n",
    "df_MLTE = df_AluMateria_TE.groupby(['Año'])['Id_Alumno'].count().reset_index(name='Cantidad')\n",
    "df_MLTD = df_AluMateria_TD.groupby(['Año'])['Id_Alumno'].count().reset_index(name='Cantidad')"
   ]
  },
  {
   "attachments": {},
   "cell_type": "markdown",
   "metadata": {},
   "source": [
    "### Modelo"
   ]
  },
  {
   "cell_type": "code",
   "execution_count": 33,
   "metadata": {},
   "outputs": [
    {
     "name": "stdout",
     "output_type": "stream",
     "text": [
      "-------------------------------------------------------------------------------------------------------\n",
      "Este es un modelo de ML que te permite pronosticar cuantos Egresados y Desertores tendras en cierto año\n",
      "-------------------------------------------------------------------------------------------------------\n",
      "Ingrese '1' si desea saber sobre Carrera o '2' sobre la Institucion\n",
      "Las Carreras que tenemos son: \n",
      "-----------------------------------------------------------------------\n",
      "    Id_Carrera                   Nombre_Corto\n",
      "0            9                   AGRONEGOCIOS\n",
      "1            3                     PUBLICIDAD\n",
      "3            6            RELACIONES PÚBLICAS\n",
      "4            7               RECURSOS HUMANOS\n",
      "5            1           ANALISTA DE SISTEMAS\n",
      "7           10                        TURISMO\n",
      "9            4     ADMINISTRACIÓN DE EMPRESAS\n",
      "10          13                    MULTIMEDIOS\n",
      "11           5                 DISEÑO GRÁFICO\n",
      "15           2                      MARKETING\n",
      "16          17  GESTIÓN CONTABLE Y FINANCIERA\n",
      "20          14              GESTIÓN AMBIENTAL\n",
      "21           8         COMERCIO INTERNACIONAL\n",
      "-----------------------------------------------------------------------\n",
      "Ingrese el 'Id_Carrera' de la Carrera que desea conocer\n",
      "-----------------------------------------------------------------------\n",
      "Ingrese el semestre que desea Conocer\n",
      "-------------------------------------------------------------------------------------------------------\n",
      "Ingrese el año que desea pronosticar\n",
      "-------------------------------------------------------------------------------------------------------\n",
      "Ingrese '1' si quiere saber sobre los Egresado o '2' sobre los 'Desertores'\n",
      "-----------------------------------------------------------------------\n",
      "La estimacion es de 56 Egresados para el Año 2015 en la carrera 5    ANALISTA DE SISTEMAS\n",
      "Name: Nombre_Corto, dtype: object\n"
     ]
    }
   ],
   "source": [
    "print('-------------------------------------------------------------------------------------------------------')\n",
    "print('Este es un modelo de ML que te permite pronosticar cuantos Egresados y Desertores tendras en cierto año')\n",
    "print('-------------------------------------------------------------------------------------------------------')\n",
    "\n",
    "print(\"Ingrese '1' si desea saber sobre Carrera o '2' sobre la Institucion\")\n",
    "Tipo = int(input(\"Ingrese '1' si desea saber sobre los alumnos de una Carrera en especifico o '2' sobre todos los alumnos de Institución: \"))\n",
    "\n",
    "if (Tipo == 2):\n",
    "    print('-------------------------------------------------------------------------------------------------------')\n",
    "    print('Ingrese el año que desea pronosticar')\n",
    "    Año = int(input('Ingrese el año que desea pronosticar: '))\n",
    "\n",
    "    print('-------------------------------------------------------------------------------------------------------')\n",
    "    print(\"Ingrese '1' si quiere saber sobre los Egresado o '2' sobre los 'Desertores'\")\n",
    "    Estado = int(input(\"Ingrese '1' si quiere saber sobre los Egresado o '2' sobre los 'Desertores': \"))\n",
    "    \n",
    "    if (Estado == 1):\n",
    "\n",
    "        #Genero las variables para entrenar el modelo\n",
    "        x = df_MLTE.drop(['Cantidad'],axis=1)\n",
    "        y = df_MLTE['Cantidad']\n",
    "\n",
    "        #Creo el modelo\n",
    "        LR = linear_model.LinearRegression()\n",
    "        LR.fit(x,y)\n",
    "        y_pred = LR.intercept_ + LR.coef_* Año\n",
    "\n",
    "        print('La estimacion es de {} Egresados para el Año {}'.format(str(int(y_pred)),Año))\n",
    "\n",
    "    elif (Estado == 2):\n",
    "\n",
    "        #Genero las variables para entrenar el modelo\n",
    "        x = df_MLTD.drop(['Cantidad'],axis=1)\n",
    "        y = df_MLTD['Cantidad']\n",
    "\n",
    "        #Creo el modelo\n",
    "        LR = linear_model.LinearRegression()\n",
    "        LR.fit(x,y)\n",
    "        y_pred = LR.intercept_ + LR.coef_* Año\n",
    "\n",
    "        print('La estimacion es de {} Desertores para el Año {}'.format(str(int(y_pred)),Año))\n",
    "\n",
    "    else:\n",
    "        print('El Estado que ingresaste no es correcto')\n",
    "elif (Tipo == 1):\n",
    "\n",
    "    print('Las Carreras que tenemos son: ') \n",
    "    print('-----------------------------------------------------------------------')\n",
    "    print(df_Carreras[['Id_Carrera','Nombre_Corto']])\n",
    "\n",
    "    print('-----------------------------------------------------------------------')\n",
    "    print(\"Ingrese el 'Id_Carrera' de la Carrera que desea conocer\")\n",
    "    Carrera = int(input(\"Ingrese el 'Id_Carrera' de la Carrera que desea conocer: \"))\n",
    "\n",
    "    print('-----------------------------------------------------------------------')\n",
    "    print('Ingrese el semestre que desea Conocer')\n",
    "    Semestre = int(input('Ingrese el semestre que desea Conocer: '))\n",
    "\n",
    "    if (Semestre == 1):\n",
    "\n",
    "        print('-------------------------------------------------------------------------------------------------------')\n",
    "        print('Ingrese el año que desea pronosticar')\n",
    "        Año = int(input('Ingrese el año que desea pronosticar: '))\n",
    "\n",
    "        print('-------------------------------------------------------------------------------------------------------')\n",
    "        print(\"Ingrese '1' si quiere saber sobre los Egresado o '2' sobre los 'Desertores'\")\n",
    "        Estado = int(input(\"Ingrese '1' si quiere saber sobre los Egresado o '2' sobre los 'Desertores': \"))\n",
    "\n",
    "        if (Estado == 1):\n",
    "\n",
    "            #Genero las variables para entrenar el modelo\n",
    "            x = df_ML1E[df_ML1E['Id_Carrera']== Carrera].drop(['Cantidad','Id_Carrera'],axis=1)\n",
    "            y = df_ML1E[df_ML1E['Id_Carrera']== Carrera]['Cantidad']\n",
    "\n",
    "            #Creo el modelo\n",
    "            LR = linear_model.LinearRegression()\n",
    "            LR.fit(x,y)\n",
    "            y_pred = LR.intercept_ + LR.coef_* Año\n",
    "            print('-----------------------------------------------------------------------')\n",
    "            x = df_Carreras[df_Carreras['Id_Carrera']==Carrera]['Nombre_Corto']\n",
    "\n",
    "            print('La estimacion es de {} Egresados para el Año {} en la carrera {}'.format(str(int(y_pred)),Año,str(x)))\n",
    "        elif (Estado == 2):\n",
    "\n",
    "            #Genero las variables para entrenar el modelo\n",
    "            x = df_ML1D[df_ML1D['Id_Carrera']== Carrera].drop(['Cantidad','Id_Carrera'],axis=1)\n",
    "            y = df_ML1D[df_ML1D['Id_Carrera']== Carrera]['Cantidad']\n",
    "\n",
    "            #Creo el modelo\n",
    "            LR = linear_model.LinearRegression()\n",
    "            LR.fit(x,y)\n",
    "            y_pred = LR.intercept_ + LR.coef_* Año\n",
    "\n",
    "            print('-----------------------------------------------------------------------')\n",
    "            x = df_Carreras[df_Carreras['Id_Carrera']==Carrera]['Nombre_Corto']\n",
    "            print('La estimacion es de {} Egresados para el Año {} en la carrera {}'.format(str(int(y_pred)),Año,str(x)))\n",
    "        else: \n",
    "            print('El estado Ingresado es Incorrecto')\n",
    "\n",
    "    elif (Semestre == 2):\n",
    "        print('-------------------------------------------------------------------------------------------------------')\n",
    "        print('Ingrese el año que desea pronosticar')\n",
    "        Año = int(input('Ingrese el año que desea pronosticar: '))\n",
    "        \n",
    "        print('-------------------------------------------------------------------------------------------------------')\n",
    "        print(\"Ingrese '1' si quiere saber sobre los Egresado o '2' sobre los 'Desertores'\")\n",
    "        Estado = int(input(\"Ingrese '1' si quiere saber sobre los Egresado o '2' sobre los 'Desertores': \"))\n",
    "        if (Estado == 1):\n",
    "            #Genero las variables para entrenar el modelo\n",
    "            x = df_ML2E[df_ML2E['Id_Carrera']== Carrera].drop(['Cantidad','Id_Carrera'],axis=1)\n",
    "            y = df_ML2E[df_ML2E['Id_Carrera']== Carrera]['Cantidad']\n",
    "            LR = linear_model.LinearRegression()\n",
    "            #Creo el modelo\n",
    "            LR.fit(x,y)\n",
    "            y_pred = LR.intercept_ + LR.coef_* Año\n",
    "            print('-----------------------------------------------------------------------')\n",
    "            x = df_Carreras[df_Carreras['Id_Carrera']==Carrera]['Nombre_Corto']\n",
    "            print('La estimacion es de {} Egresados para el Año {} en la carrera {}'.format(str(int(y_pred)),Año,str(x)))\n",
    "        elif (Estado == 2):\n",
    "            #Genero las variables para entrenar el modelo\n",
    "            x = df_ML2D[df_ML2D['Id_Carrera']== Carrera].drop(['Cantidad','Id_Carrera'],axis=1)\n",
    "            y = df_ML2D[df_ML2D['Id_Carrera']== Carrera]['Cantidad']\n",
    "            LR = linear_model.LinearRegression()\n",
    "            #Creo el modelo\n",
    "            LR.fit(x,y)\n",
    "            y_pred = LR.intercept_ + LR.coef_* Año\n",
    "            print('-----------------------------------------------------------------------')\n",
    "            x = df_Carreras[df_Carreras['Id_Carrera']==Carrera]['Nombre_Corto']\n",
    "            print('La estimacion es de {} Egresados para el Año {} en la carrera {}'.format(str(int(y_pred)),Año,str(x)))\n",
    "        else: \n",
    "            print('El estado Ingresado es Incorrecto')\n",
    "    else:\n",
    "        print('El semestre ingreso es incorrecto')\n",
    "else:\n",
    "    print('El numero ingresado no se reconoce como carrera o institucion')\n"
   ]
  }
 ],
 "metadata": {
  "interpreter": {
   "hash": "83c53c63e2e32ecbd28de34b36754a1340503bb91ad70a548ae9d35b36353933"
  },
  "kernelspec": {
   "display_name": "Python 3.9.7 ('base')",
   "language": "python",
   "name": "python3"
  },
  "language_info": {
   "codemirror_mode": {
    "name": "ipython",
    "version": 3
   },
   "file_extension": ".py",
   "mimetype": "text/x-python",
   "name": "python",
   "nbconvert_exporter": "python",
   "pygments_lexer": "ipython3",
   "version": "3.11.0"
  },
  "orig_nbformat": 4,
  "vscode": {
   "interpreter": {
    "hash": "88744579adc14a61e21c3f51bc4b5ff6a643479ea59fadd54470663c88e72b44"
   }
  }
 },
 "nbformat": 4,
 "nbformat_minor": 2
}
