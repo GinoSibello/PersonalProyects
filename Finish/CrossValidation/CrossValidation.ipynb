{
 "cells": [
  {
   "cell_type": "code",
   "execution_count": 38,
   "metadata": {},
   "outputs": [],
   "source": [
    "import warnings\n",
    "warnings.simplefilter(action='ignore', category=FutureWarning)\n",
    "import pandas as pd\n",
    "from sklearn.model_selection import cross_validate\n",
    "from sklearn.tree import DecisionTreeClassifier\n",
    "from sklearn.model_selection import train_test_split\n",
    "from sklearn.model_selection import cross_val_score"
   ]
  },
  {
   "cell_type": "code",
   "execution_count": 39,
   "metadata": {},
   "outputs": [],
   "source": [
    "df=pd.read_csv('data/datos1.csv') #traigo el Data Set"
   ]
  },
  {
   "cell_type": "code",
   "execution_count": 40,
   "metadata": {},
   "outputs": [],
   "source": [
    "X = df.drop('y',axis=1)#Separo el Data Set\n",
    "y = df['y']\n",
    "arbol = DecisionTreeClassifier(max_depth=4, random_state=123) #Creo el modelo"
   ]
  },
  {
   "attachments": {},
   "cell_type": "markdown",
   "metadata": {},
   "source": [
    "# Probando con Score Val"
   ]
  },
  {
   "cell_type": "code",
   "execution_count": 47,
   "metadata": {},
   "outputs": [
    {
     "name": "stdout",
     "output_type": "stream",
     "text": [
      "tenes un acuracy de: 0.9 con un desvio: +/- 0.17888543819998315 Del 95%\n"
     ]
    }
   ],
   "source": [
    "Score_Val = cross_val_score(arbol,X,y,cv=5)#Meto el modelo en Cross validation y los datos X e Y \n",
    "print('tenes un accuracy de: ' +str(Score_Val.mean()) + ' con un desvio: +/- '+ str(2*Score_Val.std()) +' Del 95%') #Muestro los resultados\n"
   ]
  },
  {
   "attachments": {},
   "cell_type": "markdown",
   "metadata": {},
   "source": [
    "Arriba lo que hice fue sacar la media del accuracy de los 5 fold (Las particiones que le hice al data set que di en la primera linea) para asi tener un medicion mas precisa de lo preciso que es mi modelo"
   ]
  },
  {
   "attachments": {},
   "cell_type": "markdown",
   "metadata": {},
   "source": [
    "# Probando Cross_Validatie Siendo este mas capaz y desciptivo que val score"
   ]
  },
  {
   "cell_type": "code",
   "execution_count": 43,
   "metadata": {},
   "outputs": [
    {
     "data": {
      "text/plain": [
       "{'fit_time': array([0.00200248, 0.00200009, 0.00199842, 0.00199652, 0.00199819]),\n",
       " 'score_time': array([0.00199747, 0.00199986, 0.00200462, 0.00299954, 0.00399995]),\n",
       " 'test_accuracy': array([0.8, 0.8, 1. , 1. , 0.9]),\n",
       " 'test_f1': array([0.8       , 0.8       , 1.        , 1.        , 0.88888889]),\n",
       " 'test_precision': array([0.8, 0.8, 1. , 1. , 1. ]),\n",
       " 'test_recall': array([0.8, 0.8, 1. , 1. , 0.8])}"
      ]
     },
     "execution_count": 43,
     "metadata": {},
     "output_type": "execute_result"
    }
   ],
   "source": [
    "score_Cros = cross_validate(arbol,X,y,cv=5,scoring=['accuracy','f1','precision', 'recall'])\n",
    "score_Cros"
   ]
  },
  {
   "attachments": {},
   "cell_type": "markdown",
   "metadata": {},
   "source": [
    "Como dije en el titulo cross_validate es lo mismo que val_score solo que este te permite conocer mas datos sobre la precision de tu modelo y tambien te permite calcular su precision con diferentes medidas."
   ]
  },
  {
   "cell_type": "code",
   "execution_count": 48,
   "metadata": {},
   "outputs": [],
   "source": [
    "media_ac = score_Cros['test_accuracy'].mean()#obtengo la media de cada medida de los arrays que me dio el dicionario de Cross_validate\n",
    "media_f1 = score_Cros['test_f1'].mean()\n",
    "media_precision = score_Cros['test_precision'].mean()\n",
    "media_recall = score_Cros['test_recall'].mean()\n",
    "\n",
    "desvio_ac = 2*score_Cros['test_accuracy'].std()#obtengo el devio standar de cada medida de los arrays que me dio el dicionario de Cross_validate\n",
    "desvio_f1 = 2*score_Cros['test_f1'].std()\n",
    "desvio_precision = 2*score_Cros['test_precision'].std()\n",
    "desvio_recall = 2*score_Cros['test_recall'].std()"
   ]
  },
  {
   "cell_type": "code",
   "execution_count": 53,
   "metadata": {},
   "outputs": [
    {
     "name": "stdout",
     "output_type": "stream",
     "text": [
      "Acurracy: tienes una media de accuracy de 0.9 con un desvio de 0.17888543819998315Del 95%\n",
      "----------------------------------------------------------------------------------------------------\n",
      "F1: tienes una media de F1 de 0.897777777777778 con un desvio de 0.17910614826319884Del 95%\n",
      "----------------------------------------------------------------------------------------------------\n",
      "Precision: tienes una media de Precision de 0.9199999999999999 con un desvio de 0.19595917942265417Del 95%\n",
      "----------------------------------------------------------------------------------------------------\n",
      "Recall: tienes una media de Recall de 0.8800000000000001 con un desvio de 0.1959591794226542Del 95%\n"
     ]
    }
   ],
   "source": [
    "print('Acurracy: tienes una media de accuracy de ' + str(media_ac) + ' con un desvio de '+ str(desvio_ac) +'Del 95%')\n",
    "print('----------------------------------------------------------------------------------------------------')\n",
    "print('F1: tienes una media de F1 de ' + str(media_f1) + ' con un desvio de '+ str(desvio_f1) +'Del 95%')\n",
    "print('----------------------------------------------------------------------------------------------------')\n",
    "print('Precision: tienes una media de Precision de ' + str(media_precision) + ' con un desvio de '+ str(desvio_precision) +'Del 95%')\n",
    "print('----------------------------------------------------------------------------------------------------')\n",
    "print('Recall: tienes una media de Recall de ' + str(media_recall) + ' con un desvio de '+ str(desvio_recall) +'Del 95%')"
   ]
  }
 ],
 "metadata": {
  "kernelspec": {
   "display_name": "Python 3.10.7 64-bit (microsoft store)",
   "language": "python",
   "name": "python3"
  },
  "language_info": {
   "codemirror_mode": {
    "name": "ipython",
    "version": 3
   },
   "file_extension": ".py",
   "mimetype": "text/x-python",
   "name": "python",
   "nbconvert_exporter": "python",
   "pygments_lexer": "ipython3",
   "version": "3.10.7"
  },
  "orig_nbformat": 4,
  "vscode": {
   "interpreter": {
    "hash": "7c5922f9b9335c6ca5c529fc860691ca69e4fd8df581d2f8afad393205cde563"
   }
  }
 },
 "nbformat": 4,
 "nbformat_minor": 2
}
