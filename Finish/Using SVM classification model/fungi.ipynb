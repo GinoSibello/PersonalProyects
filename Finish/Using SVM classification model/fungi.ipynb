{
 "cells": [
  {
   "cell_type": "code",
   "execution_count": 2,
   "metadata": {},
   "outputs": [],
   "source": [
    "import warnings\n",
    "warnings.simplefilter(action='ignore', category=FutureWarning)\n",
    "import pandas as pd\n",
    "import numpy as np\n",
    "# function that separates the Df into train and test\n",
    "from sklearn.model_selection import train_test_split\n",
    "# the grid that make the cross validation and test the hyperparameters\n",
    "from sklearn.model_selection import GridSearchCV \n",
    "# the model of classification\n",
    "from sklearn.svm import SVC "
   ]
  },
  {
   "cell_type": "code",
   "execution_count": 3,
   "metadata": {},
   "outputs": [],
   "source": [
    "df = pd.read_csv('Data/fungi.csv')# Load the CSV\n",
    "x = df.drop('target',axis=1) # separate the data into X\n",
    "y = df['target'] # separate the data into Y"
   ]
  },
  {
   "cell_type": "code",
   "execution_count": 3,
   "metadata": {},
   "outputs": [],
   "source": [
    "X_train, X_test, y_train, y_test = train_test_split(x, y, test_size=0.33, random_state=42)# separate the data into train and test"
   ]
  },
  {
   "cell_type": "code",
   "execution_count": 4,
   "metadata": {},
   "outputs": [
    {
     "name": "stdout",
     "output_type": "stream",
     "text": [
      "Fitting 5 folds for each of 9 candidates, totalling 45 fits\n"
     ]
    }
   ],
   "source": [
    "Svc_Model = SVC(random_state=123)# Build the model\n",
    "parametros_Svc = {'C':np.arange(0.5,5,0.5)} # Select the parameters to put it into the grid\n",
    "grid_svc = GridSearchCV(estimator = Svc_Model,param_grid = parametros_Svc,scoring = ['accuracy','f1_macro'], cv = 5, verbose = 1,refit=\"accuracy\")\n",
    "grid_svc.fit(X_train, y_train)# train the grid\n",
    "svc = pd.DataFrame(grid_svc.cv_results_)# Make a df whit the results to test it"
   ]
  },
  {
   "cell_type": "code",
   "execution_count": 7,
   "metadata": {},
   "outputs": [
    {
     "data": {
      "text/html": [
       "<div>\n",
       "<style scoped>\n",
       "    .dataframe tbody tr th:only-of-type {\n",
       "        vertical-align: middle;\n",
       "    }\n",
       "\n",
       "    .dataframe tbody tr th {\n",
       "        vertical-align: top;\n",
       "    }\n",
       "\n",
       "    .dataframe thead th {\n",
       "        text-align: right;\n",
       "    }\n",
       "</style>\n",
       "<table border=\"1\" class=\"dataframe\">\n",
       "  <thead>\n",
       "    <tr style=\"text-align: right;\">\n",
       "      <th></th>\n",
       "      <th>mean_fit_time</th>\n",
       "      <th>std_fit_time</th>\n",
       "      <th>mean_score_time</th>\n",
       "      <th>std_score_time</th>\n",
       "      <th>param_C</th>\n",
       "      <th>params</th>\n",
       "      <th>split0_test_accuracy</th>\n",
       "      <th>split1_test_accuracy</th>\n",
       "      <th>split2_test_accuracy</th>\n",
       "      <th>split3_test_accuracy</th>\n",
       "      <th>...</th>\n",
       "      <th>std_test_accuracy</th>\n",
       "      <th>rank_test_accuracy</th>\n",
       "      <th>split0_test_f1_macro</th>\n",
       "      <th>split1_test_f1_macro</th>\n",
       "      <th>split2_test_f1_macro</th>\n",
       "      <th>split3_test_f1_macro</th>\n",
       "      <th>split4_test_f1_macro</th>\n",
       "      <th>mean_test_f1_macro</th>\n",
       "      <th>std_test_f1_macro</th>\n",
       "      <th>rank_test_f1_macro</th>\n",
       "    </tr>\n",
       "  </thead>\n",
       "  <tbody>\n",
       "    <tr>\n",
       "      <th>8</th>\n",
       "      <td>0.258597</td>\n",
       "      <td>0.008306</td>\n",
       "      <td>0.131806</td>\n",
       "      <td>0.006015</td>\n",
       "      <td>4.5</td>\n",
       "      <td>{'C': 4.5}</td>\n",
       "      <td>0.987156</td>\n",
       "      <td>0.987132</td>\n",
       "      <td>0.987132</td>\n",
       "      <td>0.996324</td>\n",
       "      <td>...</td>\n",
       "      <td>0.003562</td>\n",
       "      <td>1</td>\n",
       "      <td>0.987153</td>\n",
       "      <td>0.987125</td>\n",
       "      <td>0.987125</td>\n",
       "      <td>0.996323</td>\n",
       "      <td>0.988967</td>\n",
       "      <td>0.989339</td>\n",
       "      <td>0.003564</td>\n",
       "      <td>1</td>\n",
       "    </tr>\n",
       "    <tr>\n",
       "      <th>7</th>\n",
       "      <td>0.261408</td>\n",
       "      <td>0.010140</td>\n",
       "      <td>0.130783</td>\n",
       "      <td>0.003479</td>\n",
       "      <td>4.0</td>\n",
       "      <td>{'C': 4.0}</td>\n",
       "      <td>0.985321</td>\n",
       "      <td>0.987132</td>\n",
       "      <td>0.987132</td>\n",
       "      <td>0.994485</td>\n",
       "      <td>...</td>\n",
       "      <td>0.003746</td>\n",
       "      <td>2</td>\n",
       "      <td>0.985317</td>\n",
       "      <td>0.987125</td>\n",
       "      <td>0.987125</td>\n",
       "      <td>0.994484</td>\n",
       "      <td>0.983446</td>\n",
       "      <td>0.987500</td>\n",
       "      <td>0.003749</td>\n",
       "      <td>2</td>\n",
       "    </tr>\n",
       "    <tr>\n",
       "      <th>6</th>\n",
       "      <td>0.264409</td>\n",
       "      <td>0.008782</td>\n",
       "      <td>0.136191</td>\n",
       "      <td>0.004071</td>\n",
       "      <td>3.5</td>\n",
       "      <td>{'C': 3.5}</td>\n",
       "      <td>0.983486</td>\n",
       "      <td>0.985294</td>\n",
       "      <td>0.985294</td>\n",
       "      <td>0.994485</td>\n",
       "      <td>...</td>\n",
       "      <td>0.004123</td>\n",
       "      <td>3</td>\n",
       "      <td>0.983481</td>\n",
       "      <td>0.985284</td>\n",
       "      <td>0.985284</td>\n",
       "      <td>0.994484</td>\n",
       "      <td>0.983446</td>\n",
       "      <td>0.986396</td>\n",
       "      <td>0.004125</td>\n",
       "      <td>3</td>\n",
       "    </tr>\n",
       "    <tr>\n",
       "      <th>5</th>\n",
       "      <td>0.275397</td>\n",
       "      <td>0.008142</td>\n",
       "      <td>0.143402</td>\n",
       "      <td>0.003275</td>\n",
       "      <td>3.0</td>\n",
       "      <td>{'C': 3.0}</td>\n",
       "      <td>0.981651</td>\n",
       "      <td>0.983456</td>\n",
       "      <td>0.983456</td>\n",
       "      <td>0.994485</td>\n",
       "      <td>...</td>\n",
       "      <td>0.004845</td>\n",
       "      <td>4</td>\n",
       "      <td>0.981644</td>\n",
       "      <td>0.983446</td>\n",
       "      <td>0.983443</td>\n",
       "      <td>0.994484</td>\n",
       "      <td>0.981605</td>\n",
       "      <td>0.984925</td>\n",
       "      <td>0.004849</td>\n",
       "      <td>4</td>\n",
       "    </tr>\n",
       "    <tr>\n",
       "      <th>4</th>\n",
       "      <td>0.293408</td>\n",
       "      <td>0.007491</td>\n",
       "      <td>0.154391</td>\n",
       "      <td>0.010681</td>\n",
       "      <td>2.5</td>\n",
       "      <td>{'C': 2.5}</td>\n",
       "      <td>0.983486</td>\n",
       "      <td>0.983456</td>\n",
       "      <td>0.981618</td>\n",
       "      <td>0.990809</td>\n",
       "      <td>...</td>\n",
       "      <td>0.003749</td>\n",
       "      <td>5</td>\n",
       "      <td>0.983481</td>\n",
       "      <td>0.983446</td>\n",
       "      <td>0.981602</td>\n",
       "      <td>0.990806</td>\n",
       "      <td>0.979764</td>\n",
       "      <td>0.983820</td>\n",
       "      <td>0.003753</td>\n",
       "      <td>5</td>\n",
       "    </tr>\n",
       "    <tr>\n",
       "      <th>3</th>\n",
       "      <td>0.301800</td>\n",
       "      <td>0.006635</td>\n",
       "      <td>0.163395</td>\n",
       "      <td>0.003725</td>\n",
       "      <td>2.0</td>\n",
       "      <td>{'C': 2.0}</td>\n",
       "      <td>0.981651</td>\n",
       "      <td>0.981618</td>\n",
       "      <td>0.979779</td>\n",
       "      <td>0.979779</td>\n",
       "      <td>...</td>\n",
       "      <td>0.001383</td>\n",
       "      <td>6</td>\n",
       "      <td>0.981644</td>\n",
       "      <td>0.981605</td>\n",
       "      <td>0.979760</td>\n",
       "      <td>0.979768</td>\n",
       "      <td>0.977922</td>\n",
       "      <td>0.980140</td>\n",
       "      <td>0.001386</td>\n",
       "      <td>6</td>\n",
       "    </tr>\n",
       "    <tr>\n",
       "      <th>2</th>\n",
       "      <td>0.313006</td>\n",
       "      <td>0.014917</td>\n",
       "      <td>0.170996</td>\n",
       "      <td>0.006346</td>\n",
       "      <td>1.5</td>\n",
       "      <td>{'C': 1.5}</td>\n",
       "      <td>0.981651</td>\n",
       "      <td>0.979779</td>\n",
       "      <td>0.972426</td>\n",
       "      <td>0.974265</td>\n",
       "      <td>...</td>\n",
       "      <td>0.004265</td>\n",
       "      <td>7</td>\n",
       "      <td>0.981644</td>\n",
       "      <td>0.979764</td>\n",
       "      <td>0.972385</td>\n",
       "      <td>0.974242</td>\n",
       "      <td>0.970548</td>\n",
       "      <td>0.975717</td>\n",
       "      <td>0.004278</td>\n",
       "      <td>7</td>\n",
       "    </tr>\n",
       "    <tr>\n",
       "      <th>1</th>\n",
       "      <td>0.352601</td>\n",
       "      <td>0.024893</td>\n",
       "      <td>0.206011</td>\n",
       "      <td>0.019606</td>\n",
       "      <td>1.0</td>\n",
       "      <td>{'C': 1.0}</td>\n",
       "      <td>0.976147</td>\n",
       "      <td>0.976103</td>\n",
       "      <td>0.965074</td>\n",
       "      <td>0.963235</td>\n",
       "      <td>...</td>\n",
       "      <td>0.006849</td>\n",
       "      <td>8</td>\n",
       "      <td>0.976131</td>\n",
       "      <td>0.976085</td>\n",
       "      <td>0.965000</td>\n",
       "      <td>0.963175</td>\n",
       "      <td>0.959466</td>\n",
       "      <td>0.967971</td>\n",
       "      <td>0.006879</td>\n",
       "      <td>8</td>\n",
       "    </tr>\n",
       "    <tr>\n",
       "      <th>0</th>\n",
       "      <td>0.418996</td>\n",
       "      <td>0.007927</td>\n",
       "      <td>0.246407</td>\n",
       "      <td>0.017658</td>\n",
       "      <td>0.5</td>\n",
       "      <td>{'C': 0.5}</td>\n",
       "      <td>0.968807</td>\n",
       "      <td>0.957721</td>\n",
       "      <td>0.952206</td>\n",
       "      <td>0.939338</td>\n",
       "      <td>...</td>\n",
       "      <td>0.010887</td>\n",
       "      <td>9</td>\n",
       "      <td>0.968756</td>\n",
       "      <td>0.957645</td>\n",
       "      <td>0.952060</td>\n",
       "      <td>0.939086</td>\n",
       "      <td>0.940946</td>\n",
       "      <td>0.951699</td>\n",
       "      <td>0.010965</td>\n",
       "      <td>9</td>\n",
       "    </tr>\n",
       "  </tbody>\n",
       "</table>\n",
       "<p>9 rows × 22 columns</p>\n",
       "</div>"
      ],
      "text/plain": [
       "   mean_fit_time  std_fit_time  mean_score_time  std_score_time param_C  \\\n",
       "8       0.258597      0.008306         0.131806        0.006015     4.5   \n",
       "7       0.261408      0.010140         0.130783        0.003479     4.0   \n",
       "6       0.264409      0.008782         0.136191        0.004071     3.5   \n",
       "5       0.275397      0.008142         0.143402        0.003275     3.0   \n",
       "4       0.293408      0.007491         0.154391        0.010681     2.5   \n",
       "3       0.301800      0.006635         0.163395        0.003725     2.0   \n",
       "2       0.313006      0.014917         0.170996        0.006346     1.5   \n",
       "1       0.352601      0.024893         0.206011        0.019606     1.0   \n",
       "0       0.418996      0.007927         0.246407        0.017658     0.5   \n",
       "\n",
       "       params  split0_test_accuracy  split1_test_accuracy  \\\n",
       "8  {'C': 4.5}              0.987156              0.987132   \n",
       "7  {'C': 4.0}              0.985321              0.987132   \n",
       "6  {'C': 3.5}              0.983486              0.985294   \n",
       "5  {'C': 3.0}              0.981651              0.983456   \n",
       "4  {'C': 2.5}              0.983486              0.983456   \n",
       "3  {'C': 2.0}              0.981651              0.981618   \n",
       "2  {'C': 1.5}              0.981651              0.979779   \n",
       "1  {'C': 1.0}              0.976147              0.976103   \n",
       "0  {'C': 0.5}              0.968807              0.957721   \n",
       "\n",
       "   split2_test_accuracy  split3_test_accuracy  ...  std_test_accuracy  \\\n",
       "8              0.987132              0.996324  ...           0.003562   \n",
       "7              0.987132              0.994485  ...           0.003746   \n",
       "6              0.985294              0.994485  ...           0.004123   \n",
       "5              0.983456              0.994485  ...           0.004845   \n",
       "4              0.981618              0.990809  ...           0.003749   \n",
       "3              0.979779              0.979779  ...           0.001383   \n",
       "2              0.972426              0.974265  ...           0.004265   \n",
       "1              0.965074              0.963235  ...           0.006849   \n",
       "0              0.952206              0.939338  ...           0.010887   \n",
       "\n",
       "   rank_test_accuracy  split0_test_f1_macro  split1_test_f1_macro  \\\n",
       "8                   1              0.987153              0.987125   \n",
       "7                   2              0.985317              0.987125   \n",
       "6                   3              0.983481              0.985284   \n",
       "5                   4              0.981644              0.983446   \n",
       "4                   5              0.983481              0.983446   \n",
       "3                   6              0.981644              0.981605   \n",
       "2                   7              0.981644              0.979764   \n",
       "1                   8              0.976131              0.976085   \n",
       "0                   9              0.968756              0.957645   \n",
       "\n",
       "   split2_test_f1_macro  split3_test_f1_macro  split4_test_f1_macro  \\\n",
       "8              0.987125              0.996323              0.988967   \n",
       "7              0.987125              0.994484              0.983446   \n",
       "6              0.985284              0.994484              0.983446   \n",
       "5              0.983443              0.994484              0.981605   \n",
       "4              0.981602              0.990806              0.979764   \n",
       "3              0.979760              0.979768              0.977922   \n",
       "2              0.972385              0.974242              0.970548   \n",
       "1              0.965000              0.963175              0.959466   \n",
       "0              0.952060              0.939086              0.940946   \n",
       "\n",
       "   mean_test_f1_macro  std_test_f1_macro  rank_test_f1_macro  \n",
       "8            0.989339           0.003564                   1  \n",
       "7            0.987500           0.003749                   2  \n",
       "6            0.986396           0.004125                   3  \n",
       "5            0.984925           0.004849                   4  \n",
       "4            0.983820           0.003753                   5  \n",
       "3            0.980140           0.001386                   6  \n",
       "2            0.975717           0.004278                   7  \n",
       "1            0.967971           0.006879                   8  \n",
       "0            0.951699           0.010965                   9  \n",
       "\n",
       "[9 rows x 22 columns]"
      ]
     },
     "execution_count": 7,
     "metadata": {},
     "output_type": "execute_result"
    }
   ],
   "source": [
    "svc.sort_values('rank_test_accuracy')# sort it to the the best accuracy"
   ]
  },
  {
   "cell_type": "code",
   "execution_count": 13,
   "metadata": {},
   "outputs": [],
   "source": [
    "mejor_Modelo = grid_svc.best_estimator_# save the model that best accuracy has\n",
    "# the function best_estimator makes the work for to select the model that has the bests parameters that you try"
   ]
  },
  {
   "attachments": {},
   "cell_type": "markdown",
   "metadata": {},
   "source": [
    "# How to show the accuracy and his deviation using statistics"
   ]
  },
  {
   "cell_type": "code",
   "execution_count": 14,
   "metadata": {},
   "outputs": [],
   "source": [
    "# save the media of the standard deviation\n",
    "# Guardo todos los datos de la media de los desvios estandares \n",
    "desvio_svc_Acc = grid_svc.cv_results_['std_test_accuracy']\n",
    "# save the media of the accuracy\n",
    "# Guardo todos los datos de la media de los accuracy\n",
    "Accuracy_svc = grid_svc.cv_results_['mean_test_accuracy']\n",
    "# get the index of the best_estimator_\n",
    "# determino cuales es el indice del mejor modelo\n",
    "Indice = grid_svc.best_index_\n",
    "# with the index of the best_estimator take his standard deviation\n",
    "# Con el indice del mejor modelo saco el desvio estandar del mismo\n",
    "svc_mejor_desvio_Acc = desvio_svc_Acc[Indice] \n",
    "# whit the index of the best model, take the accuracy of the best_estimator\n",
    "# con el indice del mejor modelo saco el accuracy\n",
    "svc_mejor_accuracy = Accuracy_svc[Indice]"
   ]
  },
  {
   "cell_type": "code",
   "execution_count": 15,
   "metadata": {},
   "outputs": [],
   "source": [
    "# Guardo todos los datos de la media de los desvios estandares \n",
    "# Save the data \n",
    "desvio_svc_f1 = grid_svc.cv_results_['std_test_f1_macro'] \n",
    "# Save the data of the mean from F1 scoring\n",
    "# Guardo todos los datos de la media de F1\n",
    "f1_svc = grid_svc.cv_results_['mean_test_f1_macro']\n",
    "# Set the index of the best F1 parameters\n",
    "# Determino el Indice del mejor F1 con sus parametros\n",
    "Indice = grid_svc.best_index_\n",
    "# Whit the index, take his deviation\n",
    "# Con el indice del mejor modelo saco el desvio\n",
    "svc_mejor_desvio_f1 = desvio_svc_f1[Indice] \n",
    "# con el indice del mejor modelo saco el accuracy de F1\n",
    "# whit the index, take the best accuracy of F1\n",
    "svc_mejor_f1 = f1_svc[Indice]"
   ]
  },
  {
   "cell_type": "code",
   "execution_count": 16,
   "metadata": {},
   "outputs": [
    {
     "name": "stdout",
     "output_type": "stream",
     "text": [
      "Mejor Accuracy:  0.989342957366433  +/-  0.007123119077167994 ( 95% )\n",
      "Mejor Accuracy:  0.9893386276370704  +/-  0.007127255934396039 ( 95% )\n"
     ]
    }
   ],
   "source": [
    "print(\"Mejor Accuracy: \",svc_mejor_accuracy,' +/- ', 2*svc_mejor_desvio_Acc, '( 95% )') # hago que me muestre el Accuracy y el desvio del mismo\n",
    "print(\"Mejor Accuracy: \",svc_mejor_f1,' +/- ', 2*svc_mejor_desvio_f1, '( 95% )') # hago que me muestre el F1 y su desvio"
   ]
  },
  {
   "attachments": {},
   "cell_type": "markdown",
   "metadata": {},
   "source": [
    "### Como se puede ver arriba son muy similares ambas mediciones pero Accuracy es levemente mejor.\n",
    "### Both are quite similar but Accuracy is slightly better."
   ]
  },
  {
   "attachments": {},
   "cell_type": "markdown",
   "metadata": {},
   "source": [
    "## Entreno con X_train e Y_train para poder ver el accurracy con una mayor cantidad de datos\n",
    "## Train whit X_train and Y_train to see the accuracy whit more data"
   ]
  },
  {
   "cell_type": "code",
   "execution_count": null,
   "metadata": {},
   "outputs": [
    {
     "data": {
      "text/plain": [
       "SVC(C=0.5, random_state=123)"
      ]
     },
     "execution_count": 62,
     "metadata": {},
     "output_type": "execute_result"
    }
   ],
   "source": [
    "# veo cual es el mejor modelo\n",
    "# see the best model\n",
    "mejor_Modelo "
   ]
  },
  {
   "cell_type": "code",
   "execution_count": null,
   "metadata": {},
   "outputs": [
    {
     "data": {
      "text/plain": [
       "0.9627143922445935"
      ]
     },
     "execution_count": 64,
     "metadata": {},
     "output_type": "execute_result"
    }
   ],
   "source": [
    "Svc_Model_XeY = SVC(C=0.5, random_state=123) #Creo el modelo en base al mejor de mi grid\n",
    "Svc_Model_XeY.fit(X_train,y_train)# lo entreno\n",
    "Svc_Model_XeY.predict(X_train) # hago que prediga\n",
    "Svc_Model_XeY.score(X_test,y_test)"
   ]
  },
  {
   "attachments": {},
   "cell_type": "markdown",
   "metadata": {},
   "source": [
    "## Creo el Modelo De produccion\n",
    "## Make the production Model"
   ]
  },
  {
   "cell_type": "code",
   "execution_count": null,
   "metadata": {},
   "outputs": [
    {
     "data": {
      "text/plain": [
       "SVC(C=0.5, random_state=123)"
      ]
     },
     "execution_count": 65,
     "metadata": {},
     "output_type": "execute_result"
    }
   ],
   "source": [
    "# elijo el mejor modelo\n",
    "# choose the best model\n",
    "Svc_Model_Final = mejor_Modelo \n",
    "# lo entreno con todos los datos\n",
    "# train whit all data\n",
    "Svc_Model_Final.fit(x,y)"
   ]
  },
  {
   "cell_type": "code",
   "execution_count": null,
   "metadata": {},
   "outputs": [],
   "source": [
    "# save the parameters of the model to use it again when i want whithout have to train again\n",
    "import pickle\n",
    "archivo = 'modelo_svc.sav'#determino el nombre del archivo\n",
    "pickle.dump(Svc_Model_Final, open(archivo, 'wb')) #Guardo el modelo"
   ]
  }
 ],
 "metadata": {
  "interpreter": {
   "hash": "83c53c63e2e32ecbd28de34b36754a1340503bb91ad70a548ae9d35b36353933"
  },
  "kernelspec": {
   "display_name": "Python 3.9.7 ('base')",
   "language": "python",
   "name": "python3"
  },
  "language_info": {
   "codemirror_mode": {
    "name": "ipython",
    "version": 3
   },
   "file_extension": ".py",
   "mimetype": "text/x-python",
   "name": "python",
   "nbconvert_exporter": "python",
   "pygments_lexer": "ipython3",
   "version": "3.11.0"
  },
  "orig_nbformat": 4
 },
 "nbformat": 4,
 "nbformat_minor": 2
}
